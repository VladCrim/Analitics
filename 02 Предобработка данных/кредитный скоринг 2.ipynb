{
 "cells": [
  {
   "cell_type": "markdown",
   "id": "5b8c81e5",
   "metadata": {
    "deletable": false,
    "editable": false,
    "id": "c81daeeb"
   },
   "source": [
    "# Исследование надежности заемщиков\n"
   ]
  },
  {
   "cell_type": "markdown",
   "id": "c204c71d",
   "metadata": {
    "deletable": false,
    "editable": false,
    "id": "827c20bf"
   },
   "source": [
    "Во второй части проекта вы выполните шаги 3 и 4. Их вручную проверит ревьюер.\n",
    "Чтобы вам не пришлось писать код заново для шагов 1 и 2, мы добавили авторские решения в ячейки с кодом. \n",
    "\n"
   ]
  },
  {
   "cell_type": "markdown",
   "id": "7de71075",
   "metadata": {
    "deletable": false,
    "editable": false,
    "id": "744d7639"
   },
   "source": [
    "## Откройте таблицу и изучите общую информацию о данных"
   ]
  },
  {
   "cell_type": "markdown",
   "id": "82563527",
   "metadata": {
    "deletable": false,
    "editable": false,
    "id": "e7a14c31"
   },
   "source": [
    "**Задание 1. Импортируйте библиотеку pandas. Считайте данные из csv-файла в датафрейм и сохраните в переменную `data`. Путь к файлу:**\n",
    "\n",
    "`/datasets/data.csv`"
   ]
  },
  {
   "cell_type": "code",
   "execution_count": 1,
   "id": "ee1696eb",
   "metadata": {
    "deletable": false,
    "id": "7bcf75c9"
   },
   "outputs": [],
   "source": [
    "import pandas as pd\n",
    "\n",
    "try:\n",
    "    data = pd.read_csv('/datasets/data.csv')\n",
    "except:\n",
    "    data = pd.read_csv('https://code.s3.yandex.net/datasets/data.csv')"
   ]
  },
  {
   "cell_type": "markdown",
   "id": "7ce9a813",
   "metadata": {
    "deletable": false,
    "editable": false,
    "id": "b8038fe3"
   },
   "source": [
    "**Задание 2. Выведите первые 20 строчек датафрейма `data` на экран.**"
   ]
  },
  {
   "cell_type": "code",
   "execution_count": 2,
   "id": "1cabc3bc",
   "metadata": {
    "deletable": false,
    "id": "2a7cab99",
    "outputId": "1a8f3ef2-d323-4ec2-ddf7-89670b5944c4"
   },
   "outputs": [
    {
     "data": {
      "text/html": [
       "<div>\n",
       "<style scoped>\n",
       "    .dataframe tbody tr th:only-of-type {\n",
       "        vertical-align: middle;\n",
       "    }\n",
       "\n",
       "    .dataframe tbody tr th {\n",
       "        vertical-align: top;\n",
       "    }\n",
       "\n",
       "    .dataframe thead th {\n",
       "        text-align: right;\n",
       "    }\n",
       "</style>\n",
       "<table border=\"1\" class=\"dataframe\">\n",
       "  <thead>\n",
       "    <tr style=\"text-align: right;\">\n",
       "      <th></th>\n",
       "      <th>children</th>\n",
       "      <th>days_employed</th>\n",
       "      <th>dob_years</th>\n",
       "      <th>education</th>\n",
       "      <th>education_id</th>\n",
       "      <th>family_status</th>\n",
       "      <th>family_status_id</th>\n",
       "      <th>gender</th>\n",
       "      <th>income_type</th>\n",
       "      <th>debt</th>\n",
       "      <th>total_income</th>\n",
       "      <th>purpose</th>\n",
       "    </tr>\n",
       "  </thead>\n",
       "  <tbody>\n",
       "    <tr>\n",
       "      <th>0</th>\n",
       "      <td>1</td>\n",
       "      <td>-8437.673028</td>\n",
       "      <td>42</td>\n",
       "      <td>высшее</td>\n",
       "      <td>0</td>\n",
       "      <td>женат / замужем</td>\n",
       "      <td>0</td>\n",
       "      <td>F</td>\n",
       "      <td>сотрудник</td>\n",
       "      <td>0</td>\n",
       "      <td>253875.639453</td>\n",
       "      <td>покупка жилья</td>\n",
       "    </tr>\n",
       "    <tr>\n",
       "      <th>1</th>\n",
       "      <td>1</td>\n",
       "      <td>-4024.803754</td>\n",
       "      <td>36</td>\n",
       "      <td>среднее</td>\n",
       "      <td>1</td>\n",
       "      <td>женат / замужем</td>\n",
       "      <td>0</td>\n",
       "      <td>F</td>\n",
       "      <td>сотрудник</td>\n",
       "      <td>0</td>\n",
       "      <td>112080.014102</td>\n",
       "      <td>приобретение автомобиля</td>\n",
       "    </tr>\n",
       "    <tr>\n",
       "      <th>2</th>\n",
       "      <td>0</td>\n",
       "      <td>-5623.422610</td>\n",
       "      <td>33</td>\n",
       "      <td>Среднее</td>\n",
       "      <td>1</td>\n",
       "      <td>женат / замужем</td>\n",
       "      <td>0</td>\n",
       "      <td>M</td>\n",
       "      <td>сотрудник</td>\n",
       "      <td>0</td>\n",
       "      <td>145885.952297</td>\n",
       "      <td>покупка жилья</td>\n",
       "    </tr>\n",
       "    <tr>\n",
       "      <th>3</th>\n",
       "      <td>3</td>\n",
       "      <td>-4124.747207</td>\n",
       "      <td>32</td>\n",
       "      <td>среднее</td>\n",
       "      <td>1</td>\n",
       "      <td>женат / замужем</td>\n",
       "      <td>0</td>\n",
       "      <td>M</td>\n",
       "      <td>сотрудник</td>\n",
       "      <td>0</td>\n",
       "      <td>267628.550329</td>\n",
       "      <td>дополнительное образование</td>\n",
       "    </tr>\n",
       "    <tr>\n",
       "      <th>4</th>\n",
       "      <td>0</td>\n",
       "      <td>340266.072047</td>\n",
       "      <td>53</td>\n",
       "      <td>среднее</td>\n",
       "      <td>1</td>\n",
       "      <td>гражданский брак</td>\n",
       "      <td>1</td>\n",
       "      <td>F</td>\n",
       "      <td>пенсионер</td>\n",
       "      <td>0</td>\n",
       "      <td>158616.077870</td>\n",
       "      <td>сыграть свадьбу</td>\n",
       "    </tr>\n",
       "    <tr>\n",
       "      <th>5</th>\n",
       "      <td>0</td>\n",
       "      <td>-926.185831</td>\n",
       "      <td>27</td>\n",
       "      <td>высшее</td>\n",
       "      <td>0</td>\n",
       "      <td>гражданский брак</td>\n",
       "      <td>1</td>\n",
       "      <td>M</td>\n",
       "      <td>компаньон</td>\n",
       "      <td>0</td>\n",
       "      <td>255763.565419</td>\n",
       "      <td>покупка жилья</td>\n",
       "    </tr>\n",
       "    <tr>\n",
       "      <th>6</th>\n",
       "      <td>0</td>\n",
       "      <td>-2879.202052</td>\n",
       "      <td>43</td>\n",
       "      <td>высшее</td>\n",
       "      <td>0</td>\n",
       "      <td>женат / замужем</td>\n",
       "      <td>0</td>\n",
       "      <td>F</td>\n",
       "      <td>компаньон</td>\n",
       "      <td>0</td>\n",
       "      <td>240525.971920</td>\n",
       "      <td>операции с жильем</td>\n",
       "    </tr>\n",
       "    <tr>\n",
       "      <th>7</th>\n",
       "      <td>0</td>\n",
       "      <td>-152.779569</td>\n",
       "      <td>50</td>\n",
       "      <td>СРЕДНЕЕ</td>\n",
       "      <td>1</td>\n",
       "      <td>женат / замужем</td>\n",
       "      <td>0</td>\n",
       "      <td>M</td>\n",
       "      <td>сотрудник</td>\n",
       "      <td>0</td>\n",
       "      <td>135823.934197</td>\n",
       "      <td>образование</td>\n",
       "    </tr>\n",
       "    <tr>\n",
       "      <th>8</th>\n",
       "      <td>2</td>\n",
       "      <td>-6929.865299</td>\n",
       "      <td>35</td>\n",
       "      <td>ВЫСШЕЕ</td>\n",
       "      <td>0</td>\n",
       "      <td>гражданский брак</td>\n",
       "      <td>1</td>\n",
       "      <td>F</td>\n",
       "      <td>сотрудник</td>\n",
       "      <td>0</td>\n",
       "      <td>95856.832424</td>\n",
       "      <td>на проведение свадьбы</td>\n",
       "    </tr>\n",
       "    <tr>\n",
       "      <th>9</th>\n",
       "      <td>0</td>\n",
       "      <td>-2188.756445</td>\n",
       "      <td>41</td>\n",
       "      <td>среднее</td>\n",
       "      <td>1</td>\n",
       "      <td>женат / замужем</td>\n",
       "      <td>0</td>\n",
       "      <td>M</td>\n",
       "      <td>сотрудник</td>\n",
       "      <td>0</td>\n",
       "      <td>144425.938277</td>\n",
       "      <td>покупка жилья для семьи</td>\n",
       "    </tr>\n",
       "    <tr>\n",
       "      <th>10</th>\n",
       "      <td>2</td>\n",
       "      <td>-4171.483647</td>\n",
       "      <td>36</td>\n",
       "      <td>высшее</td>\n",
       "      <td>0</td>\n",
       "      <td>женат / замужем</td>\n",
       "      <td>0</td>\n",
       "      <td>M</td>\n",
       "      <td>компаньон</td>\n",
       "      <td>0</td>\n",
       "      <td>113943.491460</td>\n",
       "      <td>покупка недвижимости</td>\n",
       "    </tr>\n",
       "    <tr>\n",
       "      <th>11</th>\n",
       "      <td>0</td>\n",
       "      <td>-792.701887</td>\n",
       "      <td>40</td>\n",
       "      <td>среднее</td>\n",
       "      <td>1</td>\n",
       "      <td>женат / замужем</td>\n",
       "      <td>0</td>\n",
       "      <td>F</td>\n",
       "      <td>сотрудник</td>\n",
       "      <td>0</td>\n",
       "      <td>77069.234271</td>\n",
       "      <td>покупка коммерческой недвижимости</td>\n",
       "    </tr>\n",
       "    <tr>\n",
       "      <th>12</th>\n",
       "      <td>0</td>\n",
       "      <td>NaN</td>\n",
       "      <td>65</td>\n",
       "      <td>среднее</td>\n",
       "      <td>1</td>\n",
       "      <td>гражданский брак</td>\n",
       "      <td>1</td>\n",
       "      <td>M</td>\n",
       "      <td>пенсионер</td>\n",
       "      <td>0</td>\n",
       "      <td>NaN</td>\n",
       "      <td>сыграть свадьбу</td>\n",
       "    </tr>\n",
       "    <tr>\n",
       "      <th>13</th>\n",
       "      <td>0</td>\n",
       "      <td>-1846.641941</td>\n",
       "      <td>54</td>\n",
       "      <td>неоконченное высшее</td>\n",
       "      <td>2</td>\n",
       "      <td>женат / замужем</td>\n",
       "      <td>0</td>\n",
       "      <td>F</td>\n",
       "      <td>сотрудник</td>\n",
       "      <td>0</td>\n",
       "      <td>130458.228857</td>\n",
       "      <td>приобретение автомобиля</td>\n",
       "    </tr>\n",
       "    <tr>\n",
       "      <th>14</th>\n",
       "      <td>0</td>\n",
       "      <td>-1844.956182</td>\n",
       "      <td>56</td>\n",
       "      <td>высшее</td>\n",
       "      <td>0</td>\n",
       "      <td>гражданский брак</td>\n",
       "      <td>1</td>\n",
       "      <td>F</td>\n",
       "      <td>компаньон</td>\n",
       "      <td>1</td>\n",
       "      <td>165127.911772</td>\n",
       "      <td>покупка жилой недвижимости</td>\n",
       "    </tr>\n",
       "    <tr>\n",
       "      <th>15</th>\n",
       "      <td>1</td>\n",
       "      <td>-972.364419</td>\n",
       "      <td>26</td>\n",
       "      <td>среднее</td>\n",
       "      <td>1</td>\n",
       "      <td>женат / замужем</td>\n",
       "      <td>0</td>\n",
       "      <td>F</td>\n",
       "      <td>сотрудник</td>\n",
       "      <td>0</td>\n",
       "      <td>116820.904450</td>\n",
       "      <td>строительство собственной недвижимости</td>\n",
       "    </tr>\n",
       "    <tr>\n",
       "      <th>16</th>\n",
       "      <td>0</td>\n",
       "      <td>-1719.934226</td>\n",
       "      <td>35</td>\n",
       "      <td>среднее</td>\n",
       "      <td>1</td>\n",
       "      <td>женат / замужем</td>\n",
       "      <td>0</td>\n",
       "      <td>F</td>\n",
       "      <td>сотрудник</td>\n",
       "      <td>0</td>\n",
       "      <td>289202.704229</td>\n",
       "      <td>недвижимость</td>\n",
       "    </tr>\n",
       "    <tr>\n",
       "      <th>17</th>\n",
       "      <td>0</td>\n",
       "      <td>-2369.999720</td>\n",
       "      <td>33</td>\n",
       "      <td>высшее</td>\n",
       "      <td>0</td>\n",
       "      <td>гражданский брак</td>\n",
       "      <td>1</td>\n",
       "      <td>M</td>\n",
       "      <td>сотрудник</td>\n",
       "      <td>0</td>\n",
       "      <td>90410.586745</td>\n",
       "      <td>строительство недвижимости</td>\n",
       "    </tr>\n",
       "    <tr>\n",
       "      <th>18</th>\n",
       "      <td>0</td>\n",
       "      <td>400281.136913</td>\n",
       "      <td>53</td>\n",
       "      <td>среднее</td>\n",
       "      <td>1</td>\n",
       "      <td>вдовец / вдова</td>\n",
       "      <td>2</td>\n",
       "      <td>F</td>\n",
       "      <td>пенсионер</td>\n",
       "      <td>0</td>\n",
       "      <td>56823.777243</td>\n",
       "      <td>на покупку подержанного автомобиля</td>\n",
       "    </tr>\n",
       "    <tr>\n",
       "      <th>19</th>\n",
       "      <td>0</td>\n",
       "      <td>-10038.818549</td>\n",
       "      <td>48</td>\n",
       "      <td>СРЕДНЕЕ</td>\n",
       "      <td>1</td>\n",
       "      <td>в разводе</td>\n",
       "      <td>3</td>\n",
       "      <td>F</td>\n",
       "      <td>сотрудник</td>\n",
       "      <td>0</td>\n",
       "      <td>242831.107982</td>\n",
       "      <td>на покупку своего автомобиля</td>\n",
       "    </tr>\n",
       "  </tbody>\n",
       "</table>\n",
       "</div>"
      ],
      "text/plain": [
       "    children  days_employed  dob_years            education  education_id  \\\n",
       "0          1   -8437.673028         42               высшее             0   \n",
       "1          1   -4024.803754         36              среднее             1   \n",
       "2          0   -5623.422610         33              Среднее             1   \n",
       "3          3   -4124.747207         32              среднее             1   \n",
       "4          0  340266.072047         53              среднее             1   \n",
       "5          0    -926.185831         27               высшее             0   \n",
       "6          0   -2879.202052         43               высшее             0   \n",
       "7          0    -152.779569         50              СРЕДНЕЕ             1   \n",
       "8          2   -6929.865299         35               ВЫСШЕЕ             0   \n",
       "9          0   -2188.756445         41              среднее             1   \n",
       "10         2   -4171.483647         36               высшее             0   \n",
       "11         0    -792.701887         40              среднее             1   \n",
       "12         0            NaN         65              среднее             1   \n",
       "13         0   -1846.641941         54  неоконченное высшее             2   \n",
       "14         0   -1844.956182         56               высшее             0   \n",
       "15         1    -972.364419         26              среднее             1   \n",
       "16         0   -1719.934226         35              среднее             1   \n",
       "17         0   -2369.999720         33               высшее             0   \n",
       "18         0  400281.136913         53              среднее             1   \n",
       "19         0  -10038.818549         48              СРЕДНЕЕ             1   \n",
       "\n",
       "       family_status  family_status_id gender income_type  debt  \\\n",
       "0    женат / замужем                 0      F   сотрудник     0   \n",
       "1    женат / замужем                 0      F   сотрудник     0   \n",
       "2    женат / замужем                 0      M   сотрудник     0   \n",
       "3    женат / замужем                 0      M   сотрудник     0   \n",
       "4   гражданский брак                 1      F   пенсионер     0   \n",
       "5   гражданский брак                 1      M   компаньон     0   \n",
       "6    женат / замужем                 0      F   компаньон     0   \n",
       "7    женат / замужем                 0      M   сотрудник     0   \n",
       "8   гражданский брак                 1      F   сотрудник     0   \n",
       "9    женат / замужем                 0      M   сотрудник     0   \n",
       "10   женат / замужем                 0      M   компаньон     0   \n",
       "11   женат / замужем                 0      F   сотрудник     0   \n",
       "12  гражданский брак                 1      M   пенсионер     0   \n",
       "13   женат / замужем                 0      F   сотрудник     0   \n",
       "14  гражданский брак                 1      F   компаньон     1   \n",
       "15   женат / замужем                 0      F   сотрудник     0   \n",
       "16   женат / замужем                 0      F   сотрудник     0   \n",
       "17  гражданский брак                 1      M   сотрудник     0   \n",
       "18    вдовец / вдова                 2      F   пенсионер     0   \n",
       "19         в разводе                 3      F   сотрудник     0   \n",
       "\n",
       "     total_income                                 purpose  \n",
       "0   253875.639453                           покупка жилья  \n",
       "1   112080.014102                 приобретение автомобиля  \n",
       "2   145885.952297                           покупка жилья  \n",
       "3   267628.550329              дополнительное образование  \n",
       "4   158616.077870                         сыграть свадьбу  \n",
       "5   255763.565419                           покупка жилья  \n",
       "6   240525.971920                       операции с жильем  \n",
       "7   135823.934197                             образование  \n",
       "8    95856.832424                   на проведение свадьбы  \n",
       "9   144425.938277                 покупка жилья для семьи  \n",
       "10  113943.491460                    покупка недвижимости  \n",
       "11   77069.234271       покупка коммерческой недвижимости  \n",
       "12            NaN                         сыграть свадьбу  \n",
       "13  130458.228857                 приобретение автомобиля  \n",
       "14  165127.911772              покупка жилой недвижимости  \n",
       "15  116820.904450  строительство собственной недвижимости  \n",
       "16  289202.704229                            недвижимость  \n",
       "17   90410.586745              строительство недвижимости  \n",
       "18   56823.777243      на покупку подержанного автомобиля  \n",
       "19  242831.107982            на покупку своего автомобиля  "
      ]
     },
     "execution_count": 2,
     "metadata": {},
     "output_type": "execute_result"
    }
   ],
   "source": [
    "data.head(20)"
   ]
  },
  {
   "cell_type": "markdown",
   "id": "21481ec3",
   "metadata": {
    "deletable": false,
    "editable": false,
    "id": "1c12e233"
   },
   "source": [
    "**Задание 3. Выведите основную информацию о датафрейме с помощью метода `info()`.**"
   ]
  },
  {
   "cell_type": "code",
   "execution_count": 3,
   "id": "1743aefa",
   "metadata": {
    "deletable": false,
    "id": "2b757bca",
    "outputId": "15376089-8dad-46c9-b520-c05248d43158"
   },
   "outputs": [
    {
     "name": "stdout",
     "output_type": "stream",
     "text": [
      "<class 'pandas.core.frame.DataFrame'>\n",
      "RangeIndex: 21525 entries, 0 to 21524\n",
      "Data columns (total 12 columns):\n",
      " #   Column            Non-Null Count  Dtype  \n",
      "---  ------            --------------  -----  \n",
      " 0   children          21525 non-null  int64  \n",
      " 1   days_employed     19351 non-null  float64\n",
      " 2   dob_years         21525 non-null  int64  \n",
      " 3   education         21525 non-null  object \n",
      " 4   education_id      21525 non-null  int64  \n",
      " 5   family_status     21525 non-null  object \n",
      " 6   family_status_id  21525 non-null  int64  \n",
      " 7   gender            21525 non-null  object \n",
      " 8   income_type       21525 non-null  object \n",
      " 9   debt              21525 non-null  int64  \n",
      " 10  total_income      19351 non-null  float64\n",
      " 11  purpose           21525 non-null  object \n",
      "dtypes: float64(2), int64(5), object(5)\n",
      "memory usage: 2.0+ MB\n"
     ]
    }
   ],
   "source": [
    "data.info()"
   ]
  },
  {
   "cell_type": "markdown",
   "id": "4c0485fb",
   "metadata": {
    "deletable": false,
    "editable": false,
    "id": "333ec665"
   },
   "source": [
    "## Предобработка данных"
   ]
  },
  {
   "cell_type": "markdown",
   "id": "c6c9b9ee",
   "metadata": {
    "deletable": false,
    "editable": false,
    "id": "02d92d53"
   },
   "source": [
    "### Удаление пропусков"
   ]
  },
  {
   "cell_type": "markdown",
   "id": "a4141041",
   "metadata": {
    "deletable": false,
    "editable": false,
    "id": "cd84967c"
   },
   "source": [
    "**Задание 4. Выведите количество пропущенных значений для каждого столбца. Используйте комбинацию двух методов.**"
   ]
  },
  {
   "cell_type": "code",
   "execution_count": 4,
   "id": "ccbffdc1",
   "metadata": {
    "deletable": false,
    "id": "7f9b2309",
    "outputId": "81f4d817-781c-465c-ed15-91ce4446810d"
   },
   "outputs": [
    {
     "data": {
      "text/plain": [
       "children               0\n",
       "days_employed       2174\n",
       "dob_years              0\n",
       "education              0\n",
       "education_id           0\n",
       "family_status          0\n",
       "family_status_id       0\n",
       "gender                 0\n",
       "income_type            0\n",
       "debt                   0\n",
       "total_income        2174\n",
       "purpose                0\n",
       "dtype: int64"
      ]
     },
     "execution_count": 4,
     "metadata": {},
     "output_type": "execute_result"
    }
   ],
   "source": [
    "data.isna().sum()"
   ]
  },
  {
   "cell_type": "markdown",
   "id": "54895881",
   "metadata": {
    "deletable": false,
    "editable": false,
    "id": "db86e27b"
   },
   "source": [
    "**Задание 5. В двух столбцах есть пропущенные значения. Один из них — `days_employed`. Пропуски в этом столбце вы обработаете на следующем этапе. Другой столбец с пропущенными значениями — `total_income` — хранит данные о доходах. На сумму дохода сильнее всего влияет тип занятости, поэтому заполнить пропуски в этом столбце нужно медианным значением по каждому типу из столбца `income_type`. Например, у человека с типом занятости `сотрудник` пропуск в столбце `total_income` должен быть заполнен медианным доходом среди всех записей с тем же типом.**"
   ]
  },
  {
   "cell_type": "code",
   "execution_count": 5,
   "id": "5bfaea78",
   "metadata": {
    "deletable": false,
    "id": "42006a93"
   },
   "outputs": [],
   "source": [
    "for t in data['income_type'].unique():\n",
    "    data.loc[(data['income_type'] == t) & (data['total_income'].isna()), 'total_income'] = \\\n",
    "    data.loc[(data['income_type'] == t), 'total_income'].median()"
   ]
  },
  {
   "cell_type": "markdown",
   "id": "aefa71c2",
   "metadata": {
    "deletable": false,
    "editable": false,
    "id": "89da5ece"
   },
   "source": [
    "### Обработка аномальных значений"
   ]
  },
  {
   "cell_type": "markdown",
   "id": "244731b9",
   "metadata": {
    "deletable": false,
    "editable": false,
    "id": "57964554"
   },
   "source": [
    "**Задание 6. В данных могут встречаться артефакты (аномалии) — значения, которые не отражают действительность и появились по какой-то ошибке. таким артефактом будет отрицательное количество дней трудового стажа в столбце `days_employed`. Для реальных данных это нормально. Обработайте значения в этом столбце: замените все отрицательные значения положительными с помощью метода `abs()`.**"
   ]
  },
  {
   "cell_type": "code",
   "execution_count": 6,
   "id": "1c7aa646",
   "metadata": {
    "deletable": false,
    "id": "f6f055bf"
   },
   "outputs": [],
   "source": [
    "data['days_employed'] = data['days_employed'].abs()"
   ]
  },
  {
   "cell_type": "markdown",
   "id": "a0787723",
   "metadata": {
    "deletable": false,
    "editable": false,
    "id": "6107dd2f"
   },
   "source": [
    "**Задание 7. Для каждого типа занятости выведите медианное значение трудового стажа `days_employed` в днях.**"
   ]
  },
  {
   "cell_type": "code",
   "execution_count": 7,
   "id": "093beaef",
   "metadata": {
    "deletable": false,
    "id": "85a5faf6",
    "outputId": "801ef80e-522b-4668-f34e-565af7432bcf"
   },
   "outputs": [
    {
     "data": {
      "text/plain": [
       "income_type\n",
       "безработный        366413.652744\n",
       "в декрете            3296.759962\n",
       "госслужащий          2689.368353\n",
       "компаньон            1547.382223\n",
       "пенсионер          365213.306266\n",
       "предприниматель       520.848083\n",
       "сотрудник            1574.202821\n",
       "студент               578.751554\n",
       "Name: days_employed, dtype: float64"
      ]
     },
     "execution_count": 7,
     "metadata": {},
     "output_type": "execute_result"
    }
   ],
   "source": [
    "data.groupby('income_type')['days_employed'].agg('median')"
   ]
  },
  {
   "cell_type": "markdown",
   "id": "e12937d6",
   "metadata": {
    "deletable": false,
    "editable": false,
    "id": "38d1a030"
   },
   "source": [
    "У двух типов (безработные и пенсионеры) получатся аномально большие значения. Исправить такие значения сложно, поэтому оставьте их как есть. Тем более этот столбец не понадобится вам для исследования."
   ]
  },
  {
   "cell_type": "markdown",
   "id": "9f44faf4",
   "metadata": {
    "deletable": false,
    "editable": false,
    "id": "d8a9f147"
   },
   "source": [
    "**Задание 8. Выведите перечень уникальных значений столбца `children`.**"
   ]
  },
  {
   "cell_type": "code",
   "execution_count": 8,
   "id": "d40ea445",
   "metadata": {
    "deletable": false,
    "id": "ef5056eb",
    "outputId": "6975b15c-7f95-4697-d16d-a0c79b657b03"
   },
   "outputs": [
    {
     "data": {
      "text/plain": [
       "array([ 1,  0,  3,  2, -1,  4, 20,  5])"
      ]
     },
     "execution_count": 8,
     "metadata": {},
     "output_type": "execute_result"
    }
   ],
   "source": [
    "data['children'].unique()"
   ]
  },
  {
   "cell_type": "markdown",
   "id": "077a773e",
   "metadata": {
    "deletable": false,
    "editable": false,
    "id": "40b9ebf2"
   },
   "source": [
    "**Задание 9. В столбце `children` есть два аномальных значения. Удалите строки, в которых встречаются такие аномальные значения из датафрейма `data`.**"
   ]
  },
  {
   "cell_type": "code",
   "execution_count": 9,
   "id": "625c78fc",
   "metadata": {
    "deletable": false,
    "id": "3ff9801d"
   },
   "outputs": [],
   "source": [
    "data = data[(data['children'] != -1) & (data['children'] != 20)]"
   ]
  },
  {
   "cell_type": "markdown",
   "id": "f49d7403",
   "metadata": {
    "deletable": false,
    "editable": false,
    "id": "bbc4d0ce"
   },
   "source": [
    "**Задание 10. Ещё раз выведите перечень уникальных значений столбца `children`, чтобы убедиться, что артефакты удалены.**"
   ]
  },
  {
   "cell_type": "code",
   "execution_count": 10,
   "id": "5ed764d1",
   "metadata": {
    "deletable": false,
    "id": "ad4fa8b7",
    "outputId": "b2097101-d49d-44d9-901b-32a65c9463d1"
   },
   "outputs": [
    {
     "data": {
      "text/plain": [
       "array([1, 0, 3, 2, 4, 5])"
      ]
     },
     "execution_count": 10,
     "metadata": {},
     "output_type": "execute_result"
    }
   ],
   "source": [
    "data['children'].unique()"
   ]
  },
  {
   "cell_type": "markdown",
   "id": "e55644d4",
   "metadata": {
    "deletable": false,
    "editable": false,
    "id": "75440b63"
   },
   "source": [
    "### Удаление пропусков (продолжение)"
   ]
  },
  {
   "cell_type": "markdown",
   "id": "3af83c6a",
   "metadata": {
    "deletable": false,
    "editable": false,
    "id": "f4ea573f"
   },
   "source": [
    "**Задание 11. Заполните пропуски в столбце `days_employed` медианными значениями по каждого типа занятости `income_type`.**"
   ]
  },
  {
   "cell_type": "code",
   "execution_count": 11,
   "id": "39bf2bcd",
   "metadata": {
    "deletable": false,
    "id": "af6b1a7e"
   },
   "outputs": [],
   "source": [
    "for t in data['income_type'].unique():\n",
    "    data.loc[(data['income_type'] == t) & (data['days_employed'].isna()), 'days_employed'] = \\\n",
    "    data.loc[(data['income_type'] == t), 'days_employed'].median()"
   ]
  },
  {
   "cell_type": "markdown",
   "id": "41f900bd",
   "metadata": {
    "deletable": false,
    "editable": false,
    "id": "2753f40d"
   },
   "source": [
    "**Задание 12. Убедитесь, что все пропуски заполнены. Проверьте себя и ещё раз выведите количество пропущенных значений для каждого столбца с помощью двух методов.**"
   ]
  },
  {
   "cell_type": "code",
   "execution_count": 12,
   "id": "c6a8d1c8",
   "metadata": {
    "deletable": false,
    "id": "55f78bc2",
    "outputId": "8da1e4e1-358e-4e87-98c9-f261bce0a7b2"
   },
   "outputs": [
    {
     "data": {
      "text/plain": [
       "children            0\n",
       "days_employed       0\n",
       "dob_years           0\n",
       "education           0\n",
       "education_id        0\n",
       "family_status       0\n",
       "family_status_id    0\n",
       "gender              0\n",
       "income_type         0\n",
       "debt                0\n",
       "total_income        0\n",
       "purpose             0\n",
       "dtype: int64"
      ]
     },
     "execution_count": 12,
     "metadata": {},
     "output_type": "execute_result"
    }
   ],
   "source": [
    "data.isna().sum()"
   ]
  },
  {
   "cell_type": "markdown",
   "id": "16eb6e2d",
   "metadata": {
    "deletable": false,
    "editable": false,
    "id": "ddc81e43"
   },
   "source": [
    "### Изменение типов данных"
   ]
  },
  {
   "cell_type": "markdown",
   "id": "85090c85",
   "metadata": {
    "deletable": false,
    "editable": false,
    "id": "42d19d24"
   },
   "source": [
    "**Задание 13. Замените вещественный тип данных в столбце `total_income` на целочисленный с помощью метода `astype()`.**"
   ]
  },
  {
   "cell_type": "code",
   "execution_count": 13,
   "id": "22b08fcb",
   "metadata": {
    "deletable": false,
    "id": "920b65ad"
   },
   "outputs": [],
   "source": [
    "data['total_income'] = data['total_income'].astype(int)"
   ]
  },
  {
   "cell_type": "markdown",
   "id": "42f281ef",
   "metadata": {
    "deletable": false,
    "editable": false,
    "id": "80c420ba"
   },
   "source": [
    "### Обработка дубликатов"
   ]
  },
  {
   "cell_type": "markdown",
   "id": "2eaee4ec",
   "metadata": {
    "deletable": false,
    "editable": false
   },
   "source": [
    "**Задание 14. Обработайте неявные дубликаты в столбце `education`. В этом столбце есть одни и те же значения, но записанные по-разному: с использованием заглавных и строчных букв. Приведите их к нижнему регистру. Проверьте остальные столбцы.**"
   ]
  },
  {
   "cell_type": "code",
   "execution_count": 14,
   "id": "9e0932c7",
   "metadata": {
    "deletable": false
   },
   "outputs": [],
   "source": [
    "data['education'] = data['education'].str.lower()"
   ]
  },
  {
   "cell_type": "markdown",
   "id": "b2ba735f",
   "metadata": {
    "deletable": false,
    "editable": false,
    "id": "dc587695"
   },
   "source": [
    "**Задание 15. Выведите на экран количество строк-дубликатов в данных. Если такие строки присутствуют, удалите их.**"
   ]
  },
  {
   "cell_type": "code",
   "execution_count": 15,
   "id": "bab16829",
   "metadata": {
    "deletable": false,
    "id": "3ee445e4",
    "outputId": "9684deba-1934-42d1-99e1-cda61740f822"
   },
   "outputs": [
    {
     "data": {
      "text/plain": [
       "71"
      ]
     },
     "execution_count": 15,
     "metadata": {},
     "output_type": "execute_result"
    }
   ],
   "source": [
    "data.duplicated().sum()"
   ]
  },
  {
   "cell_type": "code",
   "execution_count": 16,
   "id": "6351f02a",
   "metadata": {
    "deletable": false,
    "id": "8575fe05"
   },
   "outputs": [],
   "source": [
    "data = data.drop_duplicates()"
   ]
  },
  {
   "cell_type": "markdown",
   "id": "0aadbcec",
   "metadata": {
    "deletable": false,
    "editable": false,
    "id": "9904cf55"
   },
   "source": [
    "### Категоризация данных"
   ]
  },
  {
   "cell_type": "markdown",
   "id": "3d3e79f3",
   "metadata": {
    "deletable": false,
    "editable": false,
    "id": "72fcc8a2"
   },
   "source": [
    "**Задание 16. На основании диапазонов, указанных ниже, создайте в датафрейме `data` столбец `total_income_category` с категориями:**\n",
    "\n",
    "- 0–30000 — `'E'`;\n",
    "- 30001–50000 — `'D'`;\n",
    "- 50001–200000 — `'C'`;\n",
    "- 200001–1000000 — `'B'`;\n",
    "- 1000001 и выше — `'A'`.\n",
    "\n",
    "\n",
    "**Например, кредитополучателю с доходом 25000 нужно назначить категорию `'E'`, а клиенту, получающему 235000, — `'B'`. Используйте собственную функцию с именем `categorize_income()` и метод `apply()`.**"
   ]
  },
  {
   "cell_type": "code",
   "execution_count": 17,
   "id": "de31cf9c",
   "metadata": {
    "deletable": false,
    "id": "e1771346"
   },
   "outputs": [],
   "source": [
    "def categorize_income(income):\n",
    "    try:\n",
    "        if 0 <= income <= 30000:\n",
    "            return 'E'\n",
    "        elif 30001 <= income <= 50000:\n",
    "            return 'D'\n",
    "        elif 50001 <= income <= 200000:\n",
    "            return 'C'\n",
    "        elif 200001 <= income <= 1000000:\n",
    "            return 'B'\n",
    "        elif income >= 1000001:\n",
    "            return 'A'\n",
    "    except:\n",
    "        pass"
   ]
  },
  {
   "cell_type": "code",
   "execution_count": 18,
   "id": "0f135f95",
   "metadata": {
    "deletable": false,
    "id": "d5f3586d"
   },
   "outputs": [],
   "source": [
    "data['total_income_category'] = data['total_income'].apply(categorize_income)"
   ]
  },
  {
   "cell_type": "markdown",
   "id": "a1729c3a",
   "metadata": {
    "deletable": false,
    "editable": false,
    "id": "dde49b5c"
   },
   "source": [
    "**Задание 17. Выведите на экран перечень уникальных целей взятия кредита из столбца `purpose`.**"
   ]
  },
  {
   "cell_type": "code",
   "execution_count": 19,
   "id": "1d6f05b0",
   "metadata": {
    "deletable": false,
    "id": "f67ce9b3",
    "outputId": "673c12d9-7d7e-4ae0-9812-c622c89dd244"
   },
   "outputs": [
    {
     "data": {
      "text/plain": [
       "array(['покупка жилья', 'приобретение автомобиля',\n",
       "       'дополнительное образование', 'сыграть свадьбу',\n",
       "       'операции с жильем', 'образование', 'на проведение свадьбы',\n",
       "       'покупка жилья для семьи', 'покупка недвижимости',\n",
       "       'покупка коммерческой недвижимости', 'покупка жилой недвижимости',\n",
       "       'строительство собственной недвижимости', 'недвижимость',\n",
       "       'строительство недвижимости', 'на покупку подержанного автомобиля',\n",
       "       'на покупку своего автомобиля',\n",
       "       'операции с коммерческой недвижимостью',\n",
       "       'строительство жилой недвижимости', 'жилье',\n",
       "       'операции со своей недвижимостью', 'автомобили',\n",
       "       'заняться образованием', 'сделка с подержанным автомобилем',\n",
       "       'получение образования', 'автомобиль', 'свадьба',\n",
       "       'получение дополнительного образования', 'покупка своего жилья',\n",
       "       'операции с недвижимостью', 'получение высшего образования',\n",
       "       'свой автомобиль', 'сделка с автомобилем',\n",
       "       'профильное образование', 'высшее образование',\n",
       "       'покупка жилья для сдачи', 'на покупку автомобиля', 'ремонт жилью',\n",
       "       'заняться высшим образованием'], dtype=object)"
      ]
     },
     "execution_count": 19,
     "metadata": {},
     "output_type": "execute_result"
    }
   ],
   "source": [
    "data['purpose'].unique()"
   ]
  },
  {
   "cell_type": "markdown",
   "id": "25cd07a8",
   "metadata": {
    "deletable": false,
    "editable": false,
    "id": "85d0aef0"
   },
   "source": [
    "**Задание 18. Создайте функцию, которая на основании данных из столбца `purpose` сформирует новый столбец `purpose_category`, в который войдут следующие категории:**\n",
    "\n",
    "- `'операции с автомобилем'`,\n",
    "- `'операции с недвижимостью'`,\n",
    "- `'проведение свадьбы'`,\n",
    "- `'получение образования'`.\n",
    "\n",
    "**Например, если в столбце `purpose` находится подстрока `'на покупку автомобиля'`, то в столбце `purpose_category` должна появиться строка `'операции с автомобилем'`.**\n",
    "\n",
    "**Используйте собственную функцию с именем `categorize_purpose()` и метод `apply()`. Изучите данные в столбце `purpose` и определите, какие подстроки помогут вам правильно определить категорию.**"
   ]
  },
  {
   "cell_type": "code",
   "execution_count": 20,
   "id": "88e8eb8b",
   "metadata": {
    "deletable": false,
    "id": "e149fab4"
   },
   "outputs": [],
   "source": [
    "def categorize_purpose(row):\n",
    "    try:\n",
    "        if 'автом' in row:\n",
    "            return 'операции с автомобилем'\n",
    "        elif 'жил' in row or 'недвиж' in row:\n",
    "            return 'операции с недвижимостью'\n",
    "        elif 'свад' in row:\n",
    "            return 'проведение свадьбы'\n",
    "        elif 'образов' in row:\n",
    "            return 'получение образования'\n",
    "    except:\n",
    "        return 'нет категории'"
   ]
  },
  {
   "cell_type": "code",
   "execution_count": 21,
   "id": "837bdb58",
   "metadata": {
    "deletable": false,
    "id": "bf36e69b"
   },
   "outputs": [],
   "source": [
    "data['purpose_category'] = data['purpose'].apply(categorize_purpose)"
   ]
  },
  {
   "cell_type": "markdown",
   "id": "1323a2ee",
   "metadata": {
    "deletable": false,
    "editable": false,
    "id": "09b242bf"
   },
   "source": [
    "### Шаг 3. Исследуйте данные и ответьте на вопросы"
   ]
  },
  {
   "cell_type": "markdown",
   "id": "da5c1072",
   "metadata": {
    "deletable": false,
    "editable": false,
    "id": "c5d66278"
   },
   "source": [
    "#### 3.1 Есть ли зависимость между количеством детей и возвратом кредита в срок?"
   ]
  },
  {
   "cell_type": "code",
   "execution_count": 22,
   "id": "58fb4f30",
   "metadata": {
    "deletable": false,
    "id": "2cacfc4a"
   },
   "outputs": [
    {
     "data": {
      "text/html": [
       "<div>\n",
       "<style scoped>\n",
       "    .dataframe tbody tr th:only-of-type {\n",
       "        vertical-align: middle;\n",
       "    }\n",
       "\n",
       "    .dataframe tbody tr th {\n",
       "        vertical-align: top;\n",
       "    }\n",
       "\n",
       "    .dataframe thead tr th {\n",
       "        text-align: left;\n",
       "    }\n",
       "\n",
       "    .dataframe thead tr:last-of-type th {\n",
       "        text-align: right;\n",
       "    }\n",
       "</style>\n",
       "<table border=\"1\" class=\"dataframe\">\n",
       "  <thead>\n",
       "    <tr>\n",
       "      <th></th>\n",
       "      <th>sum</th>\n",
       "      <th>count</th>\n",
       "      <th>children_debt</th>\n",
       "    </tr>\n",
       "    <tr>\n",
       "      <th></th>\n",
       "      <th>debt</th>\n",
       "      <th>debt</th>\n",
       "      <th></th>\n",
       "    </tr>\n",
       "    <tr>\n",
       "      <th>children</th>\n",
       "      <th></th>\n",
       "      <th></th>\n",
       "      <th></th>\n",
       "    </tr>\n",
       "  </thead>\n",
       "  <tbody>\n",
       "    <tr>\n",
       "      <th>5</th>\n",
       "      <td>0</td>\n",
       "      <td>9</td>\n",
       "      <td>0.000000</td>\n",
       "    </tr>\n",
       "    <tr>\n",
       "      <th>0</th>\n",
       "      <td>1063</td>\n",
       "      <td>14091</td>\n",
       "      <td>7.543822</td>\n",
       "    </tr>\n",
       "    <tr>\n",
       "      <th>3</th>\n",
       "      <td>27</td>\n",
       "      <td>330</td>\n",
       "      <td>8.181818</td>\n",
       "    </tr>\n",
       "    <tr>\n",
       "      <th>1</th>\n",
       "      <td>444</td>\n",
       "      <td>4808</td>\n",
       "      <td>9.234609</td>\n",
       "    </tr>\n",
       "    <tr>\n",
       "      <th>2</th>\n",
       "      <td>194</td>\n",
       "      <td>2052</td>\n",
       "      <td>9.454191</td>\n",
       "    </tr>\n",
       "    <tr>\n",
       "      <th>4</th>\n",
       "      <td>4</td>\n",
       "      <td>41</td>\n",
       "      <td>9.756098</td>\n",
       "    </tr>\n",
       "  </tbody>\n",
       "</table>\n",
       "</div>"
      ],
      "text/plain": [
       "           sum  count children_debt\n",
       "          debt   debt              \n",
       "children                           \n",
       "5            0      9      0.000000\n",
       "0         1063  14091      7.543822\n",
       "3           27    330      8.181818\n",
       "1          444   4808      9.234609\n",
       "2          194   2052      9.454191\n",
       "4            4     41      9.756098"
      ]
     },
     "execution_count": 22,
     "metadata": {},
     "output_type": "execute_result"
    }
   ],
   "source": [
    "data_pivot = data.pivot_table(index=['children'], values=[\"debt\"],aggfunc=['sum', 'count'])  # сформируем сводную таблицу \n",
    "\n",
    "data_pivot['children_debt'] = (data_pivot['sum']/data_pivot['count'])*100  #определим долю просрочек кредитов в зависимости от кол-ва детей\n",
    "data_pivot = data_pivot.sort_values(by=('children_debt')) # сортируем данные для анализа\n",
    "data_pivot\n",
    "\n",
    "# Ваш код будет здесь. Вы можете создавать новые ячейки."
   ]
  },
  {
   "cell_type": "markdown",
   "id": "eba880c2",
   "metadata": {
    "deletable": false,
    "id": "3a6b99ec"
   },
   "source": [
    "**Вывод:** В целом какой-то строгой зависимости не наблюдается, кроме того, что наименьшая доля просрочек у заемщиком без детей, а наибольшая - у многодетных семей с 4-я детьми. Отсутствие просрочек у семей с 5-ю детьми возможно объясняется слишком малым количеством заемщиков\n",
    "Таким образом, однозначный вывод о связи между количеством детей и возвратом кредита в срок по этим данным я бы не делал"
   ]
  },
  {
   "cell_type": "markdown",
   "id": "ccd7303b",
   "metadata": {
    "deletable": false,
    "editable": false,
    "id": "97be82ca"
   },
   "source": [
    "#### 3.2 Есть ли зависимость между семейным положением и возвратом кредита в срок?"
   ]
  },
  {
   "cell_type": "code",
   "execution_count": 23,
   "id": "5da3938d",
   "metadata": {
    "deletable": false,
    "id": "dc3f7ee8"
   },
   "outputs": [
    {
     "data": {
      "text/html": [
       "<div>\n",
       "<style scoped>\n",
       "    .dataframe tbody tr th:only-of-type {\n",
       "        vertical-align: middle;\n",
       "    }\n",
       "\n",
       "    .dataframe tbody tr th {\n",
       "        vertical-align: top;\n",
       "    }\n",
       "\n",
       "    .dataframe thead tr th {\n",
       "        text-align: left;\n",
       "    }\n",
       "\n",
       "    .dataframe thead tr:last-of-type th {\n",
       "        text-align: right;\n",
       "    }\n",
       "</style>\n",
       "<table border=\"1\" class=\"dataframe\">\n",
       "  <thead>\n",
       "    <tr>\n",
       "      <th></th>\n",
       "      <th>sum</th>\n",
       "      <th>count</th>\n",
       "      <th>status_debt</th>\n",
       "    </tr>\n",
       "    <tr>\n",
       "      <th></th>\n",
       "      <th>debt</th>\n",
       "      <th>debt</th>\n",
       "      <th></th>\n",
       "    </tr>\n",
       "    <tr>\n",
       "      <th>family_status</th>\n",
       "      <th></th>\n",
       "      <th></th>\n",
       "      <th></th>\n",
       "    </tr>\n",
       "  </thead>\n",
       "  <tbody>\n",
       "    <tr>\n",
       "      <th>вдовец / вдова</th>\n",
       "      <td>63</td>\n",
       "      <td>951</td>\n",
       "      <td>6.624606</td>\n",
       "    </tr>\n",
       "    <tr>\n",
       "      <th>в разводе</th>\n",
       "      <td>84</td>\n",
       "      <td>1189</td>\n",
       "      <td>7.064760</td>\n",
       "    </tr>\n",
       "    <tr>\n",
       "      <th>женат / замужем</th>\n",
       "      <td>927</td>\n",
       "      <td>12261</td>\n",
       "      <td>7.560558</td>\n",
       "    </tr>\n",
       "    <tr>\n",
       "      <th>гражданский брак</th>\n",
       "      <td>385</td>\n",
       "      <td>4134</td>\n",
       "      <td>9.313014</td>\n",
       "    </tr>\n",
       "    <tr>\n",
       "      <th>Не женат / не замужем</th>\n",
       "      <td>273</td>\n",
       "      <td>2796</td>\n",
       "      <td>9.763948</td>\n",
       "    </tr>\n",
       "  </tbody>\n",
       "</table>\n",
       "</div>"
      ],
      "text/plain": [
       "                       sum  count status_debt\n",
       "                      debt   debt            \n",
       "family_status                                \n",
       "вдовец / вдова          63    951    6.624606\n",
       "в разводе               84   1189    7.064760\n",
       "женат / замужем        927  12261    7.560558\n",
       "гражданский брак       385   4134    9.313014\n",
       "Не женат / не замужем  273   2796    9.763948"
      ]
     },
     "execution_count": 23,
     "metadata": {},
     "output_type": "execute_result"
    }
   ],
   "source": [
    "data_pivot = data.pivot_table(index=['family_status'], values=[\"debt\"],aggfunc=['sum', 'count'])  # сформируем сводную таблицу \n",
    "data_pivot['status_debt'] = (data_pivot['sum']/data_pivot['count'])*100  #определим долю просрочек кредитов в зависимости от семейного положения\n",
    "data_pivot = data_pivot.sort_values(by=('status_debt')) # сортируем данные для анализа\n",
    "data_pivot# Ваш код будет здесь. Вы можете создавать новые ячейки.\n"
   ]
  },
  {
   "cell_type": "markdown",
   "id": "c08b49a3",
   "metadata": {
    "deletable": false,
    "id": "1cef7837"
   },
   "source": [
    "**Вывод:** По данным выборки можно сделать следующие выводы:\n",
    "- заемщики, имеющие(-вшие) семейные отношения, меньше склонны к допускать просрочки по кредитам. И из этой группы людей, бывшие (по разным причинам) женатыми/замужем, но на момент исследования одинокие, являются наиболее доборосовестными заемщиками\n",
    "- наибольшая доля просрочек наблюдается у заемщиком, не состоящих в браке или состоящих формально "
   ]
  },
  {
   "cell_type": "markdown",
   "id": "60ecf8f8",
   "metadata": {
    "deletable": false,
    "editable": false,
    "id": "1e8b2fca"
   },
   "source": [
    "#### 3.3 Есть ли зависимость между уровнем дохода и возвратом кредита в срок?"
   ]
  },
  {
   "cell_type": "code",
   "execution_count": 24,
   "id": "6f372b64",
   "metadata": {
    "deletable": false,
    "id": "cd7e3720"
   },
   "outputs": [
    {
     "data": {
      "text/html": [
       "<div>\n",
       "<style scoped>\n",
       "    .dataframe tbody tr th:only-of-type {\n",
       "        vertical-align: middle;\n",
       "    }\n",
       "\n",
       "    .dataframe tbody tr th {\n",
       "        vertical-align: top;\n",
       "    }\n",
       "\n",
       "    .dataframe thead tr th {\n",
       "        text-align: left;\n",
       "    }\n",
       "\n",
       "    .dataframe thead tr:last-of-type th {\n",
       "        text-align: right;\n",
       "    }\n",
       "</style>\n",
       "<table border=\"1\" class=\"dataframe\">\n",
       "  <thead>\n",
       "    <tr>\n",
       "      <th></th>\n",
       "      <th>sum</th>\n",
       "      <th>count</th>\n",
       "      <th>income_debt</th>\n",
       "    </tr>\n",
       "    <tr>\n",
       "      <th></th>\n",
       "      <th>debt</th>\n",
       "      <th>debt</th>\n",
       "      <th></th>\n",
       "    </tr>\n",
       "    <tr>\n",
       "      <th>total_income_category</th>\n",
       "      <th></th>\n",
       "      <th></th>\n",
       "      <th></th>\n",
       "    </tr>\n",
       "  </thead>\n",
       "  <tbody>\n",
       "    <tr>\n",
       "      <th>D</th>\n",
       "      <td>21</td>\n",
       "      <td>349</td>\n",
       "      <td>6.017192</td>\n",
       "    </tr>\n",
       "    <tr>\n",
       "      <th>B</th>\n",
       "      <td>354</td>\n",
       "      <td>5014</td>\n",
       "      <td>7.060231</td>\n",
       "    </tr>\n",
       "    <tr>\n",
       "      <th>A</th>\n",
       "      <td>2</td>\n",
       "      <td>25</td>\n",
       "      <td>8.000000</td>\n",
       "    </tr>\n",
       "    <tr>\n",
       "      <th>C</th>\n",
       "      <td>1353</td>\n",
       "      <td>15921</td>\n",
       "      <td>8.498210</td>\n",
       "    </tr>\n",
       "    <tr>\n",
       "      <th>E</th>\n",
       "      <td>2</td>\n",
       "      <td>22</td>\n",
       "      <td>9.090909</td>\n",
       "    </tr>\n",
       "  </tbody>\n",
       "</table>\n",
       "</div>"
      ],
      "text/plain": [
       "                        sum  count income_debt\n",
       "                       debt   debt            \n",
       "total_income_category                         \n",
       "D                        21    349    6.017192\n",
       "B                       354   5014    7.060231\n",
       "A                         2     25    8.000000\n",
       "C                      1353  15921    8.498210\n",
       "E                         2     22    9.090909"
      ]
     },
     "execution_count": 24,
     "metadata": {},
     "output_type": "execute_result"
    }
   ],
   "source": [
    "data_pivot = data.pivot_table(index=['total_income_category'], values=[\"debt\"],aggfunc=['sum', 'count'])  # сформируем сводную таблицу \n",
    "data_pivot['income_debt'] = (data_pivot['sum']/data_pivot['count'])*100  #определим долю просрочек кредитов в зависимости от уровня доходов\n",
    "data_pivot = data_pivot.sort_values(by=('income_debt')) # сортируем данные для анализа\n",
    "data_pivot# Ваш код будет здесь. Вы можете создавать новые ячейки."
   ]
  },
  {
   "cell_type": "markdown",
   "id": "98617b18",
   "metadata": {
    "deletable": false,
    "id": "e8593def"
   },
   "source": [
    "**Вывод:** По данным выборки наихудшая кредитная история у заещиков с наименьшими общими доходами (категория \"Е\"), хотя таких заемщиков немного. Можно предположить, что их отсеивают уже на момент рассмотрения кредитов.\n",
    "Наименьшую долю просрочек допустили заемщики с условным \"средненизким\" уровнем дохода (категория \"D\")"
   ]
  },
  {
   "cell_type": "markdown",
   "id": "7ed5c43d",
   "metadata": {
    "deletable": false,
    "editable": false,
    "id": "99ecbd1f"
   },
   "source": [
    "#### 3.4 Как разные цели кредита влияют на его возврат в срок?"
   ]
  },
  {
   "cell_type": "code",
   "execution_count": 25,
   "id": "a0bc7bf9",
   "metadata": {
    "deletable": false,
    "id": "2b687290"
   },
   "outputs": [
    {
     "data": {
      "text/html": [
       "<div>\n",
       "<style scoped>\n",
       "    .dataframe tbody tr th:only-of-type {\n",
       "        vertical-align: middle;\n",
       "    }\n",
       "\n",
       "    .dataframe tbody tr th {\n",
       "        vertical-align: top;\n",
       "    }\n",
       "\n",
       "    .dataframe thead tr th {\n",
       "        text-align: left;\n",
       "    }\n",
       "\n",
       "    .dataframe thead tr:last-of-type th {\n",
       "        text-align: right;\n",
       "    }\n",
       "</style>\n",
       "<table border=\"1\" class=\"dataframe\">\n",
       "  <thead>\n",
       "    <tr>\n",
       "      <th></th>\n",
       "      <th>sum</th>\n",
       "      <th>count</th>\n",
       "      <th>purpose_debt</th>\n",
       "    </tr>\n",
       "    <tr>\n",
       "      <th></th>\n",
       "      <th>debt</th>\n",
       "      <th>debt</th>\n",
       "      <th></th>\n",
       "    </tr>\n",
       "    <tr>\n",
       "      <th>purpose_category</th>\n",
       "      <th></th>\n",
       "      <th></th>\n",
       "      <th></th>\n",
       "    </tr>\n",
       "  </thead>\n",
       "  <tbody>\n",
       "    <tr>\n",
       "      <th>операции с недвижимостью</th>\n",
       "      <td>780</td>\n",
       "      <td>10751</td>\n",
       "      <td>7.255139</td>\n",
       "    </tr>\n",
       "    <tr>\n",
       "      <th>проведение свадьбы</th>\n",
       "      <td>183</td>\n",
       "      <td>2313</td>\n",
       "      <td>7.911803</td>\n",
       "    </tr>\n",
       "    <tr>\n",
       "      <th>получение образования</th>\n",
       "      <td>369</td>\n",
       "      <td>3988</td>\n",
       "      <td>9.252758</td>\n",
       "    </tr>\n",
       "    <tr>\n",
       "      <th>операции с автомобилем</th>\n",
       "      <td>400</td>\n",
       "      <td>4279</td>\n",
       "      <td>9.347978</td>\n",
       "    </tr>\n",
       "  </tbody>\n",
       "</table>\n",
       "</div>"
      ],
      "text/plain": [
       "                          sum  count purpose_debt\n",
       "                         debt   debt             \n",
       "purpose_category                                 \n",
       "операции с недвижимостью  780  10751     7.255139\n",
       "проведение свадьбы        183   2313     7.911803\n",
       "получение образования     369   3988     9.252758\n",
       "операции с автомобилем    400   4279     9.347978"
      ]
     },
     "execution_count": 25,
     "metadata": {},
     "output_type": "execute_result"
    }
   ],
   "source": [
    "data_pivot = data.pivot_table(index=['purpose_category'], values=[\"debt\"],aggfunc=['sum', 'count'])  # сформируем сводную таблицу \n",
    "data_pivot['purpose_debt'] = (data_pivot['sum']/data_pivot['count'])*100  #определим долю просрочек кредитов в зависимости от уровня доходов\n",
    "data_pivot = data_pivot.sort_values(by=('purpose_debt')) # сортируем данные для анализа\n",
    "data_pivot# Ваш код будет здесь. Вы можете создавать новые ячейки."
   ]
  },
  {
   "cell_type": "markdown",
   "id": "6370868a",
   "metadata": {
    "deletable": false,
    "id": "b4bb2ce6"
   },
   "source": [
    "**Вывод:** По данным этой выборки менее рисковая выдача кредитов на приобретение недвижимости, наиболее рисковая - на авто и образование.\n",
    "скорее всего это связано с нежеланием терять уже свою недвижимость и большую сумму первоначального взноса при обращении банка взыскания на заложенное имущество при возникновении проблем с погашением долга. и наоборот, суммы кредитов на образование и авто не такие значительные. хотя по авто вопрос требует более глубокого исследования"
   ]
  },
  {
   "cell_type": "markdown",
   "id": "f7dbc25d",
   "metadata": {
    "deletable": false,
    "editable": false,
    "id": "09c3ac4c"
   },
   "source": [
    "#### 3.5 Приведите возможные причины появления пропусков в исходных данных."
   ]
  },
  {
   "cell_type": "markdown",
   "id": "d46e189c",
   "metadata": {
    "deletable": false,
    "id": "9da2ceda"
   },
   "source": [
    "*Ответ:* человеческий фактор (осознанный и неосознанный) и машинный фактор"
   ]
  },
  {
   "cell_type": "markdown",
   "id": "ca84677f",
   "metadata": {
    "deletable": false,
    "editable": false,
    "id": "7b0487d6"
   },
   "source": [
    "#### 3.6 Объясните, почему заполнить пропуски медианным значением — лучшее решение для количественных переменных."
   ]
  },
  {
   "cell_type": "markdown",
   "id": "837c5882",
   "metadata": {
    "deletable": false,
    "id": "7ecf2b8e"
   },
   "source": [
    "*Ответ:* Медиана будет лучше среднего, если известно, что выборка имеет некоторые экстремальные значения (высокие или низкие). В таких случаях медиана дает более реалистичную оценку центрального значения. Среднее значение считается лучшей оценкой центрального значения, если данные распределены симметрично."
   ]
  },
  {
   "cell_type": "markdown",
   "id": "d14b3bd5",
   "metadata": {
    "deletable": false,
    "editable": false,
    "id": "6db5255a"
   },
   "source": [
    "### Шаг 4: общий вывод."
   ]
  },
  {
   "cell_type": "markdown",
   "id": "3dbba80c",
   "metadata": {
    "deletable": false,
    "id": "bad65432"
   },
   "source": [
    "Напишите ваш общий вывод.\n",
    "Исходя из проведенного исследования можно сделать следующий вывод: наименьший риск достигнут при выдаче ипотечного кредита бездетному заемщику уже побывавшему в браке с условным \"средненизким\" уровнем дохода (категория \"D\").\n",
    "И наоборот, наиболее рискована выдача кредита на авто не состоящим в браке заемщикам с низким уровнем доходов. \n",
    "Необходимо также сказать, что, по моему мнению, выборка в 21,5 тыс. заемщиков не репрезентативна и делать окончательные выводы по ней не стоит\n",
    "Например, при ухудшении материального положения заемщика свободные денежные средства будут в первую очередь направляться на удовлетворение базовых потребностей, к которым безусловно в первую очередь относятся также и дети. Т.е. увеличение кол-ва детей у заемщика должно было показать увеличение риска просрочки по кредиту. Однако здесь такой явной связи не наблюдается\n"
   ]
  }
 ],
 "metadata": {
  "ExecuteTimeLog": [
   {
    "duration": 773,
    "start_time": "2022-11-23T14:49:35.141Z"
   },
   {
    "duration": 28,
    "start_time": "2022-11-23T14:49:40.764Z"
   },
   {
    "duration": 31,
    "start_time": "2022-11-23T14:50:15.191Z"
   },
   {
    "duration": 17,
    "start_time": "2022-11-23T14:51:11.455Z"
   },
   {
    "duration": 66,
    "start_time": "2022-11-23T14:51:58.154Z"
   },
   {
    "duration": 10,
    "start_time": "2022-11-23T14:52:19.929Z"
   },
   {
    "duration": 3,
    "start_time": "2022-11-23T14:52:59.755Z"
   },
   {
    "duration": 8,
    "start_time": "2022-11-23T14:53:50.998Z"
   },
   {
    "duration": 7,
    "start_time": "2022-11-23T14:56:35.809Z"
   },
   {
    "duration": 81,
    "start_time": "2022-11-23T14:56:44.854Z"
   },
   {
    "duration": 19,
    "start_time": "2022-11-23T14:56:44.937Z"
   },
   {
    "duration": 33,
    "start_time": "2022-11-23T14:56:44.957Z"
   },
   {
    "duration": 9,
    "start_time": "2022-11-23T14:56:44.994Z"
   },
   {
    "duration": 54,
    "start_time": "2022-11-23T14:56:45.004Z"
   },
   {
    "duration": 3,
    "start_time": "2022-11-23T14:56:45.060Z"
   },
   {
    "duration": 23,
    "start_time": "2022-11-23T14:56:45.064Z"
   },
   {
    "duration": 5,
    "start_time": "2022-11-23T14:56:45.089Z"
   },
   {
    "duration": 10,
    "start_time": "2022-11-23T14:56:45.095Z"
   },
   {
    "duration": 4,
    "start_time": "2022-11-23T14:56:45.107Z"
   },
   {
    "duration": 32,
    "start_time": "2022-11-23T14:56:45.112Z"
   },
   {
    "duration": 11,
    "start_time": "2022-11-23T14:56:45.145Z"
   },
   {
    "duration": 4,
    "start_time": "2022-11-23T14:56:45.177Z"
   },
   {
    "duration": 12,
    "start_time": "2022-11-23T14:56:45.182Z"
   },
   {
    "duration": 18,
    "start_time": "2022-11-23T14:56:45.196Z"
   },
   {
    "duration": 18,
    "start_time": "2022-11-23T14:56:45.215Z"
   },
   {
    "duration": 5,
    "start_time": "2022-11-23T14:56:45.234Z"
   },
   {
    "duration": 42,
    "start_time": "2022-11-23T14:56:45.240Z"
   },
   {
    "duration": 7,
    "start_time": "2022-11-23T14:56:45.284Z"
   },
   {
    "duration": 14,
    "start_time": "2022-11-23T14:56:45.292Z"
   },
   {
    "duration": 18,
    "start_time": "2022-11-23T14:56:45.308Z"
   },
   {
    "duration": 12,
    "start_time": "2022-11-23T14:56:45.327Z"
   },
   {
    "duration": 0,
    "start_time": "2022-11-23T14:56:45.340Z"
   },
   {
    "duration": 0,
    "start_time": "2022-11-23T14:56:45.341Z"
   },
   {
    "duration": 0,
    "start_time": "2022-11-23T14:56:45.342Z"
   },
   {
    "duration": 16,
    "start_time": "2022-11-23T14:57:06.541Z"
   },
   {
    "duration": 12,
    "start_time": "2022-11-23T14:57:13.973Z"
   },
   {
    "duration": 33,
    "start_time": "2022-11-23T14:57:20.359Z"
   },
   {
    "duration": 5,
    "start_time": "2022-11-23T14:57:24.385Z"
   },
   {
    "duration": 3,
    "start_time": "2022-11-23T14:57:33.227Z"
   },
   {
    "duration": 8,
    "start_time": "2022-11-23T14:57:38.516Z"
   },
   {
    "duration": 5,
    "start_time": "2022-11-23T14:57:49.101Z"
   },
   {
    "duration": 13,
    "start_time": "2022-11-23T14:57:53.999Z"
   },
   {
    "duration": 5,
    "start_time": "2022-11-23T14:57:57.504Z"
   },
   {
    "duration": 30,
    "start_time": "2022-11-23T14:58:05.076Z"
   },
   {
    "duration": 12,
    "start_time": "2022-11-23T14:58:08.341Z"
   },
   {
    "duration": 3,
    "start_time": "2022-11-23T14:58:17.755Z"
   },
   {
    "duration": 11,
    "start_time": "2022-11-23T14:58:21.424Z"
   },
   {
    "duration": 21,
    "start_time": "2022-11-23T14:58:27.390Z"
   },
   {
    "duration": 24,
    "start_time": "2022-11-23T14:58:33.504Z"
   },
   {
    "duration": 3,
    "start_time": "2022-11-23T14:58:42.298Z"
   },
   {
    "duration": 9,
    "start_time": "2022-11-23T14:58:45.857Z"
   },
   {
    "duration": 6,
    "start_time": "2022-11-23T14:58:51.672Z"
   },
   {
    "duration": 3,
    "start_time": "2022-11-23T14:58:59.684Z"
   },
   {
    "duration": 8,
    "start_time": "2022-11-23T14:59:02.610Z"
   },
   {
    "duration": 8,
    "start_time": "2022-11-23T14:59:10.106Z"
   },
   {
    "duration": 16,
    "start_time": "2022-11-23T15:15:27.268Z"
   },
   {
    "duration": 67,
    "start_time": "2022-11-23T18:25:56.539Z"
   },
   {
    "duration": 15,
    "start_time": "2022-11-23T18:25:56.607Z"
   },
   {
    "duration": 18,
    "start_time": "2022-11-23T18:25:56.623Z"
   },
   {
    "duration": 11,
    "start_time": "2022-11-23T18:25:56.643Z"
   },
   {
    "duration": 49,
    "start_time": "2022-11-23T18:25:56.655Z"
   },
   {
    "duration": 3,
    "start_time": "2022-11-23T18:25:56.706Z"
   },
   {
    "duration": 28,
    "start_time": "2022-11-23T18:25:56.710Z"
   },
   {
    "duration": 14,
    "start_time": "2022-11-23T18:25:56.740Z"
   },
   {
    "duration": 22,
    "start_time": "2022-11-23T18:25:56.756Z"
   },
   {
    "duration": 28,
    "start_time": "2022-11-23T18:25:56.781Z"
   },
   {
    "duration": 46,
    "start_time": "2022-11-23T18:25:56.811Z"
   },
   {
    "duration": 10,
    "start_time": "2022-11-23T18:25:56.859Z"
   },
   {
    "duration": 7,
    "start_time": "2022-11-23T18:25:56.871Z"
   },
   {
    "duration": 19,
    "start_time": "2022-11-23T18:25:56.880Z"
   },
   {
    "duration": 28,
    "start_time": "2022-11-23T18:25:56.900Z"
   },
   {
    "duration": 18,
    "start_time": "2022-11-23T18:25:56.929Z"
   },
   {
    "duration": 4,
    "start_time": "2022-11-23T18:25:56.949Z"
   },
   {
    "duration": 21,
    "start_time": "2022-11-23T18:25:56.954Z"
   },
   {
    "duration": 30,
    "start_time": "2022-11-23T18:25:56.976Z"
   },
   {
    "duration": 21,
    "start_time": "2022-11-23T18:25:57.007Z"
   },
   {
    "duration": 11,
    "start_time": "2022-11-23T18:25:57.030Z"
   },
   {
    "duration": 47,
    "start_time": "2022-11-23T18:25:57.043Z"
   },
   {
    "duration": 0,
    "start_time": "2022-11-23T18:25:57.092Z"
   },
   {
    "duration": 0,
    "start_time": "2022-11-23T18:25:57.093Z"
   },
   {
    "duration": 0,
    "start_time": "2022-11-23T18:25:57.094Z"
   },
   {
    "duration": 12,
    "start_time": "2022-11-23T18:38:46.321Z"
   },
   {
    "duration": 10,
    "start_time": "2022-11-23T18:39:03.658Z"
   },
   {
    "duration": 13,
    "start_time": "2022-11-23T18:39:08.627Z"
   },
   {
    "duration": 8,
    "start_time": "2022-11-23T18:48:03.937Z"
   },
   {
    "duration": 24,
    "start_time": "2022-11-23T18:48:22.662Z"
   },
   {
    "duration": 19,
    "start_time": "2022-11-23T18:48:41.121Z"
   },
   {
    "duration": 13,
    "start_time": "2022-11-23T18:50:01.650Z"
   },
   {
    "duration": 16,
    "start_time": "2022-11-23T18:50:50.065Z"
   },
   {
    "duration": 73,
    "start_time": "2022-11-23T18:51:08.575Z"
   },
   {
    "duration": 15,
    "start_time": "2022-11-23T18:51:08.651Z"
   },
   {
    "duration": 21,
    "start_time": "2022-11-23T18:51:08.668Z"
   },
   {
    "duration": 10,
    "start_time": "2022-11-23T18:51:08.690Z"
   },
   {
    "duration": 41,
    "start_time": "2022-11-23T18:51:08.703Z"
   },
   {
    "duration": 4,
    "start_time": "2022-11-23T18:51:08.745Z"
   },
   {
    "duration": 30,
    "start_time": "2022-11-23T18:51:08.751Z"
   },
   {
    "duration": 5,
    "start_time": "2022-11-23T18:51:08.782Z"
   },
   {
    "duration": 10,
    "start_time": "2022-11-23T18:51:08.789Z"
   },
   {
    "duration": 10,
    "start_time": "2022-11-23T18:51:08.801Z"
   },
   {
    "duration": 39,
    "start_time": "2022-11-23T18:51:08.812Z"
   },
   {
    "duration": 26,
    "start_time": "2022-11-23T18:51:08.852Z"
   },
   {
    "duration": 12,
    "start_time": "2022-11-23T18:51:08.879Z"
   },
   {
    "duration": 14,
    "start_time": "2022-11-23T18:51:08.893Z"
   },
   {
    "duration": 29,
    "start_time": "2022-11-23T18:51:08.908Z"
   },
   {
    "duration": 18,
    "start_time": "2022-11-23T18:51:08.938Z"
   },
   {
    "duration": 4,
    "start_time": "2022-11-23T18:51:08.957Z"
   },
   {
    "duration": 24,
    "start_time": "2022-11-23T18:51:08.962Z"
   },
   {
    "duration": 8,
    "start_time": "2022-11-23T18:51:08.987Z"
   },
   {
    "duration": 9,
    "start_time": "2022-11-23T18:51:08.997Z"
   },
   {
    "duration": 14,
    "start_time": "2022-11-23T18:51:09.008Z"
   },
   {
    "duration": 17,
    "start_time": "2022-11-23T18:51:09.023Z"
   },
   {
    "duration": 3,
    "start_time": "2022-11-23T18:51:09.041Z"
   },
   {
    "duration": 9,
    "start_time": "2022-11-23T18:51:09.045Z"
   },
   {
    "duration": 9,
    "start_time": "2022-11-23T18:51:09.055Z"
   },
   {
    "duration": 13,
    "start_time": "2022-11-23T18:52:56.017Z"
   },
   {
    "duration": 16,
    "start_time": "2022-11-23T18:54:32.656Z"
   },
   {
    "duration": 11,
    "start_time": "2022-11-23T18:56:00.276Z"
   },
   {
    "duration": 16,
    "start_time": "2022-11-23T18:56:16.688Z"
   },
   {
    "duration": 21,
    "start_time": "2022-11-23T18:57:08.262Z"
   },
   {
    "duration": 9,
    "start_time": "2022-11-23T18:57:32.387Z"
   },
   {
    "duration": 13,
    "start_time": "2022-11-23T18:58:02.127Z"
   },
   {
    "duration": 13,
    "start_time": "2022-11-23T18:58:12.393Z"
   },
   {
    "duration": 16,
    "start_time": "2022-11-23T18:58:25.986Z"
   },
   {
    "duration": 9,
    "start_time": "2022-11-23T18:58:54.117Z"
   },
   {
    "duration": 13,
    "start_time": "2022-11-23T18:59:17.885Z"
   },
   {
    "duration": 11,
    "start_time": "2022-11-23T19:00:54.835Z"
   },
   {
    "duration": 17,
    "start_time": "2022-11-23T19:01:31.153Z"
   },
   {
    "duration": 21,
    "start_time": "2022-11-23T20:28:36.757Z"
   },
   {
    "duration": 29,
    "start_time": "2022-11-23T20:29:36.557Z"
   },
   {
    "duration": 14,
    "start_time": "2022-11-23T20:36:12.072Z"
   },
   {
    "duration": 709,
    "start_time": "2022-11-23T20:36:31.021Z"
   },
   {
    "duration": 124,
    "start_time": "2022-11-23T20:36:42.816Z"
   },
   {
    "duration": 16,
    "start_time": "2022-11-23T20:36:42.942Z"
   },
   {
    "duration": 26,
    "start_time": "2022-11-23T20:36:42.960Z"
   },
   {
    "duration": 15,
    "start_time": "2022-11-23T20:36:42.989Z"
   },
   {
    "duration": 53,
    "start_time": "2022-11-23T20:36:43.005Z"
   },
   {
    "duration": 17,
    "start_time": "2022-11-23T20:36:43.060Z"
   },
   {
    "duration": 14,
    "start_time": "2022-11-23T20:36:43.079Z"
   },
   {
    "duration": 5,
    "start_time": "2022-11-23T20:36:43.094Z"
   },
   {
    "duration": 8,
    "start_time": "2022-11-23T20:36:43.101Z"
   },
   {
    "duration": 8,
    "start_time": "2022-11-23T20:36:43.111Z"
   },
   {
    "duration": 32,
    "start_time": "2022-11-23T20:36:43.121Z"
   },
   {
    "duration": 34,
    "start_time": "2022-11-23T20:36:43.155Z"
   },
   {
    "duration": 4,
    "start_time": "2022-11-23T20:36:43.191Z"
   },
   {
    "duration": 27,
    "start_time": "2022-11-23T20:36:43.197Z"
   },
   {
    "duration": 34,
    "start_time": "2022-11-23T20:36:43.226Z"
   },
   {
    "duration": 32,
    "start_time": "2022-11-23T20:36:43.262Z"
   },
   {
    "duration": 4,
    "start_time": "2022-11-23T20:36:43.296Z"
   },
   {
    "duration": 23,
    "start_time": "2022-11-23T20:36:43.302Z"
   },
   {
    "duration": 21,
    "start_time": "2022-11-23T20:36:43.327Z"
   },
   {
    "duration": 5,
    "start_time": "2022-11-23T20:36:43.350Z"
   },
   {
    "duration": 24,
    "start_time": "2022-11-23T20:36:43.357Z"
   },
   {
    "duration": 694,
    "start_time": "2022-11-23T20:36:43.383Z"
   },
   {
    "duration": 1,
    "start_time": "2022-11-23T20:36:44.079Z"
   },
   {
    "duration": 0,
    "start_time": "2022-11-23T20:36:44.081Z"
   },
   {
    "duration": 0,
    "start_time": "2022-11-23T20:36:44.082Z"
   },
   {
    "duration": 716,
    "start_time": "2022-11-23T20:37:38.804Z"
   },
   {
    "duration": 55,
    "start_time": "2022-11-23T20:38:23.664Z"
   },
   {
    "duration": 49,
    "start_time": "2022-11-23T20:38:54.471Z"
   },
   {
    "duration": 1013,
    "start_time": "2022-11-23T20:39:13.121Z"
   },
   {
    "duration": 680,
    "start_time": "2022-11-23T20:40:45.736Z"
   },
   {
    "duration": 19,
    "start_time": "2022-11-23T20:41:09.347Z"
   },
   {
    "duration": 26,
    "start_time": "2022-11-23T20:41:26.222Z"
   },
   {
    "duration": 836,
    "start_time": "2022-11-23T20:42:09.576Z"
   },
   {
    "duration": 27,
    "start_time": "2022-11-23T20:42:34.652Z"
   },
   {
    "duration": 16,
    "start_time": "2022-11-23T20:43:13.234Z"
   },
   {
    "duration": 731,
    "start_time": "2022-11-23T20:46:36.562Z"
   },
   {
    "duration": 18,
    "start_time": "2022-11-23T20:47:31.764Z"
   },
   {
    "duration": 23,
    "start_time": "2022-11-23T20:47:49.685Z"
   },
   {
    "duration": 40,
    "start_time": "2022-11-23T20:49:00.003Z"
   },
   {
    "duration": 29,
    "start_time": "2022-11-23T20:49:06.591Z"
   },
   {
    "duration": 24,
    "start_time": "2022-11-23T20:49:47.543Z"
   },
   {
    "duration": 30,
    "start_time": "2022-11-23T20:51:03.942Z"
   },
   {
    "duration": 46,
    "start_time": "2022-11-24T06:05:29.957Z"
   },
   {
    "duration": 714,
    "start_time": "2022-11-24T06:05:47.142Z"
   },
   {
    "duration": 23,
    "start_time": "2022-11-24T06:05:47.858Z"
   },
   {
    "duration": 15,
    "start_time": "2022-11-24T06:05:47.883Z"
   },
   {
    "duration": 10,
    "start_time": "2022-11-24T06:05:47.900Z"
   },
   {
    "duration": 53,
    "start_time": "2022-11-24T06:05:47.911Z"
   },
   {
    "duration": 4,
    "start_time": "2022-11-24T06:05:47.966Z"
   },
   {
    "duration": 10,
    "start_time": "2022-11-24T06:05:47.971Z"
   },
   {
    "duration": 6,
    "start_time": "2022-11-24T06:05:47.983Z"
   },
   {
    "duration": 8,
    "start_time": "2022-11-24T06:05:47.990Z"
   },
   {
    "duration": 5,
    "start_time": "2022-11-24T06:05:48.002Z"
   },
   {
    "duration": 57,
    "start_time": "2022-11-24T06:05:48.009Z"
   },
   {
    "duration": 10,
    "start_time": "2022-11-24T06:05:48.067Z"
   },
   {
    "duration": 8,
    "start_time": "2022-11-24T06:05:48.078Z"
   },
   {
    "duration": 12,
    "start_time": "2022-11-24T06:05:48.088Z"
   },
   {
    "duration": 22,
    "start_time": "2022-11-24T06:05:48.101Z"
   },
   {
    "duration": 34,
    "start_time": "2022-11-24T06:05:48.125Z"
   },
   {
    "duration": 3,
    "start_time": "2022-11-24T06:05:48.161Z"
   },
   {
    "duration": 18,
    "start_time": "2022-11-24T06:05:48.166Z"
   },
   {
    "duration": 6,
    "start_time": "2022-11-24T06:05:48.186Z"
   },
   {
    "duration": 8,
    "start_time": "2022-11-24T06:05:48.193Z"
   },
   {
    "duration": 14,
    "start_time": "2022-11-24T06:05:48.202Z"
   },
   {
    "duration": 41,
    "start_time": "2022-11-24T06:05:48.218Z"
   },
   {
    "duration": 20,
    "start_time": "2022-11-24T06:05:48.260Z"
   },
   {
    "duration": 79,
    "start_time": "2022-11-24T06:05:48.282Z"
   },
   {
    "duration": 0,
    "start_time": "2022-11-24T06:05:48.363Z"
   },
   {
    "duration": 27,
    "start_time": "2022-11-24T06:07:15.634Z"
   },
   {
    "duration": 37,
    "start_time": "2022-11-24T06:22:26.545Z"
   },
   {
    "duration": 25,
    "start_time": "2022-11-24T06:30:47.811Z"
   },
   {
    "duration": 39,
    "start_time": "2022-11-24T06:49:10.106Z"
   },
   {
    "duration": 46,
    "start_time": "2022-11-24T15:30:58.368Z"
   },
   {
    "duration": 521,
    "start_time": "2022-11-24T15:31:34.324Z"
   },
   {
    "duration": 22,
    "start_time": "2022-11-24T15:31:34.847Z"
   },
   {
    "duration": 16,
    "start_time": "2022-11-24T15:31:34.870Z"
   },
   {
    "duration": 9,
    "start_time": "2022-11-24T15:31:34.889Z"
   },
   {
    "duration": 41,
    "start_time": "2022-11-24T15:31:34.900Z"
   },
   {
    "duration": 5,
    "start_time": "2022-11-24T15:31:34.942Z"
   },
   {
    "duration": 19,
    "start_time": "2022-11-24T15:31:34.949Z"
   },
   {
    "duration": 7,
    "start_time": "2022-11-24T15:31:34.970Z"
   },
   {
    "duration": 9,
    "start_time": "2022-11-24T15:31:34.979Z"
   },
   {
    "duration": 23,
    "start_time": "2022-11-24T15:31:34.991Z"
   },
   {
    "duration": 33,
    "start_time": "2022-11-24T15:31:35.015Z"
   },
   {
    "duration": 8,
    "start_time": "2022-11-24T15:31:35.050Z"
   },
   {
    "duration": 4,
    "start_time": "2022-11-24T15:31:35.060Z"
   },
   {
    "duration": 21,
    "start_time": "2022-11-24T15:31:35.066Z"
   },
   {
    "duration": 36,
    "start_time": "2022-11-24T15:31:35.095Z"
   },
   {
    "duration": 20,
    "start_time": "2022-11-24T15:31:35.133Z"
   },
   {
    "duration": 3,
    "start_time": "2022-11-24T15:31:35.155Z"
   },
   {
    "duration": 15,
    "start_time": "2022-11-24T15:31:35.160Z"
   },
   {
    "duration": 6,
    "start_time": "2022-11-24T15:31:35.177Z"
   },
   {
    "duration": 29,
    "start_time": "2022-11-24T15:31:35.185Z"
   },
   {
    "duration": 15,
    "start_time": "2022-11-24T15:31:35.216Z"
   },
   {
    "duration": 35,
    "start_time": "2022-11-24T15:31:35.233Z"
   },
   {
    "duration": 47,
    "start_time": "2022-11-24T15:31:35.270Z"
   },
   {
    "duration": 26,
    "start_time": "2022-11-24T15:31:35.318Z"
   },
   {
    "duration": 29,
    "start_time": "2022-11-24T15:31:35.345Z"
   },
   {
    "duration": 48,
    "start_time": "2022-11-25T17:00:33.611Z"
   },
   {
    "duration": 531,
    "start_time": "2022-11-25T17:00:43.686Z"
   },
   {
    "duration": 27,
    "start_time": "2022-11-25T17:00:44.219Z"
   },
   {
    "duration": 20,
    "start_time": "2022-11-25T17:00:44.247Z"
   },
   {
    "duration": 40,
    "start_time": "2022-11-25T17:00:44.270Z"
   },
   {
    "duration": 0,
    "start_time": "2022-11-25T17:00:44.313Z"
   },
   {
    "duration": 0,
    "start_time": "2022-11-25T17:00:44.314Z"
   },
   {
    "duration": 0,
    "start_time": "2022-11-25T17:00:44.338Z"
   },
   {
    "duration": 0,
    "start_time": "2022-11-25T17:00:44.340Z"
   },
   {
    "duration": 0,
    "start_time": "2022-11-25T17:00:44.341Z"
   },
   {
    "duration": 0,
    "start_time": "2022-11-25T17:00:44.343Z"
   },
   {
    "duration": 0,
    "start_time": "2022-11-25T17:00:44.344Z"
   },
   {
    "duration": 0,
    "start_time": "2022-11-25T17:00:44.346Z"
   },
   {
    "duration": 0,
    "start_time": "2022-11-25T17:00:44.347Z"
   },
   {
    "duration": 1,
    "start_time": "2022-11-25T17:00:44.348Z"
   },
   {
    "duration": 0,
    "start_time": "2022-11-25T17:00:44.352Z"
   },
   {
    "duration": 0,
    "start_time": "2022-11-25T17:00:44.353Z"
   },
   {
    "duration": 0,
    "start_time": "2022-11-25T17:00:44.354Z"
   },
   {
    "duration": 0,
    "start_time": "2022-11-25T17:00:44.355Z"
   },
   {
    "duration": 0,
    "start_time": "2022-11-25T17:00:44.356Z"
   },
   {
    "duration": 0,
    "start_time": "2022-11-25T17:00:44.357Z"
   },
   {
    "duration": 0,
    "start_time": "2022-11-25T17:00:44.358Z"
   },
   {
    "duration": 0,
    "start_time": "2022-11-25T17:00:44.360Z"
   },
   {
    "duration": 0,
    "start_time": "2022-11-25T17:00:44.361Z"
   },
   {
    "duration": 0,
    "start_time": "2022-11-25T17:00:44.361Z"
   },
   {
    "duration": 0,
    "start_time": "2022-11-25T17:00:44.363Z"
   },
   {
    "duration": 0,
    "start_time": "2022-11-25T17:00:44.364Z"
   },
   {
    "duration": 7,
    "start_time": "2022-11-25T17:00:54.029Z"
   },
   {
    "duration": 31,
    "start_time": "2022-11-25T17:01:40.298Z"
   },
   {
    "duration": 1080,
    "start_time": "2023-08-15T18:53:12.955Z"
   },
   {
    "duration": 23,
    "start_time": "2023-08-15T18:53:14.037Z"
   },
   {
    "duration": 13,
    "start_time": "2023-08-15T18:53:14.062Z"
   },
   {
    "duration": 18,
    "start_time": "2023-08-15T18:53:14.076Z"
   },
   {
    "duration": 48,
    "start_time": "2023-08-15T18:53:14.096Z"
   },
   {
    "duration": 3,
    "start_time": "2023-08-15T18:53:14.145Z"
   },
   {
    "duration": 9,
    "start_time": "2023-08-15T18:53:14.150Z"
   },
   {
    "duration": 6,
    "start_time": "2023-08-15T18:53:14.160Z"
   },
   {
    "duration": 27,
    "start_time": "2023-08-15T18:53:14.167Z"
   },
   {
    "duration": 5,
    "start_time": "2023-08-15T18:53:14.196Z"
   },
   {
    "duration": 43,
    "start_time": "2023-08-15T18:53:14.202Z"
   },
   {
    "duration": 10,
    "start_time": "2023-08-15T18:53:14.247Z"
   },
   {
    "duration": 10,
    "start_time": "2023-08-15T18:53:14.258Z"
   },
   {
    "duration": 17,
    "start_time": "2023-08-15T18:53:14.271Z"
   },
   {
    "duration": 22,
    "start_time": "2023-08-15T18:53:14.289Z"
   },
   {
    "duration": 30,
    "start_time": "2023-08-15T18:53:14.313Z"
   },
   {
    "duration": 4,
    "start_time": "2023-08-15T18:53:14.344Z"
   },
   {
    "duration": 12,
    "start_time": "2023-08-15T18:53:14.349Z"
   },
   {
    "duration": 9,
    "start_time": "2023-08-15T18:53:14.362Z"
   },
   {
    "duration": 5,
    "start_time": "2023-08-15T18:53:14.373Z"
   },
   {
    "duration": 24,
    "start_time": "2023-08-15T18:53:14.380Z"
   },
   {
    "duration": 52,
    "start_time": "2023-08-15T18:53:14.406Z"
   },
   {
    "duration": 39,
    "start_time": "2023-08-15T18:53:14.460Z"
   },
   {
    "duration": 47,
    "start_time": "2023-08-15T18:53:14.501Z"
   },
   {
    "duration": 36,
    "start_time": "2023-08-15T18:53:14.550Z"
   }
  ],
  "colab": {
   "name": "dpp_template_part2.ipynb",
   "provenance": []
  },
  "kernelspec": {
   "display_name": "Python 3 (ipykernel)",
   "language": "python",
   "name": "python3"
  },
  "language_info": {
   "codemirror_mode": {
    "name": "ipython",
    "version": 3
   },
   "file_extension": ".py",
   "mimetype": "text/x-python",
   "name": "python",
   "nbconvert_exporter": "python",
   "pygments_lexer": "ipython3",
   "version": "3.9.5"
  },
  "toc": {
   "base_numbering": 1,
   "nav_menu": {},
   "number_sections": true,
   "sideBar": true,
   "skip_h1_title": true,
   "title_cell": "Table of Contents",
   "title_sidebar": "Contents",
   "toc_cell": false,
   "toc_position": {},
   "toc_section_display": true,
   "toc_window_display": false
  }
 },
 "nbformat": 4,
 "nbformat_minor": 5
}

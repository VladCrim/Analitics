{
 "cells": [
  {
   "cell_type": "markdown",
   "metadata": {},
   "source": [
    "## Опиcание цели исследования\n",
    "\n",
    "Коронавирус застал мир врасплох, изменив привычный порядок вещей. В свободное время жители городов больше не выходят на улицу, не посещают кафе и торговые центры. Зато стало больше времени для книг. Это заметили стартаперы — и бросились создавать приложения для тех, кто любит читать.\n",
    "\n",
    "Ваша компания решила быть на волне и купила крупный сервис для чтения книг по подписке. Ваша первая задача как аналитика — проанализировать базу данных. В ней — информация о книгах, издательствах, авторах, а также пользовательские обзоры книг. Эти данные помогут сформулировать ценностное предложение для нового продукта.\n",
    "\n",
    "## Задачи исследования\n",
    "\n",
    "Для того, чтобы проанализировать базу данных вы полним следующие задачи:\n",
    "\n",
    "- Посчитать, сколько книг вышло после 1 января 2000 года;\n",
    "- Для каждой книги посчитайть количество обзоров и среднюю оценку;\n",
    "- Определить издательство, которое выпустило наибольшее число книг толще 50 страниц — так мы исключим из анализа брошюры;\n",
    "- Определить автора с самой высокой средней оценкой книг — учитывать только книги с 50 и более оценками;\n",
    "- Посчитайть среднее количество обзоров от пользователей, которые поставили больше 48 оценок.\n",
    "\n",
    "\n",
    "## Описание данных\n",
    "\n",
    "Таблица books\n",
    "\n",
    "Содержит данные о книгах:\n",
    "\n",
    "* book_id — идентификатор книги;\n",
    "* author_id — идентификатор автора;\n",
    "* title — название книги;\n",
    "* num_pages — количество страниц;\n",
    "* publication_date — дата публикации книги;\n",
    "* publisher_id — идентификатор издателя.\n",
    "\n",
    "Таблица authors\n",
    "\n",
    "Содержит данные об авторах:\n",
    "\n",
    "* author_id — идентификатор автора;\n",
    "* author — имя автора.\n",
    "\n",
    "Таблица publishers\n",
    "\n",
    "Содержит данные об издательствах:\n",
    "\n",
    "* publisher_id — идентификатор издательства;\n",
    "* publisher — название издательства;\n",
    "\n",
    "Таблица ratings\n",
    "\n",
    "Содержит данные о пользовательских оценках книг:\n",
    "\n",
    "* rating_id — идентификатор оценки;\n",
    "* book_id — идентификатор книги;\n",
    "* username — имя пользователя, оставившего оценку;\n",
    "* rating — оценка книги.\n",
    "\n",
    "Таблица reviews\n",
    "\n",
    "Содержит данные о пользовательских обзорах на книги:\n",
    "\n",
    "* review_id — идентификатор обзора;\n",
    "* book_id — идентификатор книги;\n",
    "* username — имя пользователя, написавшего обзор;\n",
    "* text — текст обзора.\n",
    "\n",
    "## Структура базы данных:"
   ]
  },
  {
   "cell_type": "code",
   "execution_count": 1,
   "metadata": {},
   "outputs": [],
   "source": [
    "# импортируем библиотеки\n",
    "import pandas as pd\n",
    "from sqlalchemy import text, create_engine\n",
    "import datetime as dt\n"
   ]
  },
  {
   "cell_type": "code",
   "execution_count": 2,
   "metadata": {},
   "outputs": [],
   "source": [
    "# устанавливаем параметры\n",
    "db_config = {'user': 'praktikum_student', # имя пользователя\n",
    "'pwd': 'Sdf4$2;d-d30pp', # пароль\n",
    "'host': 'rc1b-wcoijxj3yxfsf3fs.mdb.yandexcloud.net',\n",
    "'port': 6432, # порт подключения\n",
    "'db': 'data-analyst-final-project-db'} # название базы данных\n",
    "connection_string = 'postgresql://{user}:{pwd}@{host}:{port}/{db}'.format(**db_config)\n",
    "# сохраняем коннектор\n",
    "engine = create_engine(connection_string, connect_args={'sslmode':'require'})\n"
   ]
  },
  {
   "cell_type": "code",
   "execution_count": 3,
   "metadata": {},
   "outputs": [],
   "source": [
    "# создадим функцию для запросов к данным\n",
    "def select(sql):\n",
    "    return pd.io.sql.read_sql(sql, con = engine)"
   ]
  },
  {
   "cell_type": "code",
   "execution_count": 4,
   "metadata": {},
   "outputs": [],
   "source": [
    "# получаем сырые данные\n",
    "query = '''\n",
    "            SELECT * FROM books\n",
    "        '''"
   ]
  },
  {
   "cell_type": "code",
   "execution_count": 5,
   "metadata": {},
   "outputs": [
    {
     "data": {
      "text/html": [
       "<div>\n",
       "<style scoped>\n",
       "    .dataframe tbody tr th:only-of-type {\n",
       "        vertical-align: middle;\n",
       "    }\n",
       "\n",
       "    .dataframe tbody tr th {\n",
       "        vertical-align: top;\n",
       "    }\n",
       "\n",
       "    .dataframe thead th {\n",
       "        text-align: right;\n",
       "    }\n",
       "</style>\n",
       "<table border=\"1\" class=\"dataframe\">\n",
       "  <thead>\n",
       "    <tr style=\"text-align: right;\">\n",
       "      <th></th>\n",
       "      <th>book_id</th>\n",
       "      <th>author_id</th>\n",
       "      <th>title</th>\n",
       "      <th>num_pages</th>\n",
       "      <th>publication_date</th>\n",
       "      <th>publisher_id</th>\n",
       "    </tr>\n",
       "  </thead>\n",
       "  <tbody>\n",
       "    <tr>\n",
       "      <th>0</th>\n",
       "      <td>1</td>\n",
       "      <td>546</td>\n",
       "      <td>'Salem's Lot</td>\n",
       "      <td>594</td>\n",
       "      <td>2005-11-01</td>\n",
       "      <td>93</td>\n",
       "    </tr>\n",
       "    <tr>\n",
       "      <th>1</th>\n",
       "      <td>2</td>\n",
       "      <td>465</td>\n",
       "      <td>1 000 Places to See Before You Die</td>\n",
       "      <td>992</td>\n",
       "      <td>2003-05-22</td>\n",
       "      <td>336</td>\n",
       "    </tr>\n",
       "    <tr>\n",
       "      <th>2</th>\n",
       "      <td>3</td>\n",
       "      <td>407</td>\n",
       "      <td>13 Little Blue Envelopes (Little Blue Envelope...</td>\n",
       "      <td>322</td>\n",
       "      <td>2010-12-21</td>\n",
       "      <td>135</td>\n",
       "    </tr>\n",
       "    <tr>\n",
       "      <th>3</th>\n",
       "      <td>4</td>\n",
       "      <td>82</td>\n",
       "      <td>1491: New Revelations of the Americas Before C...</td>\n",
       "      <td>541</td>\n",
       "      <td>2006-10-10</td>\n",
       "      <td>309</td>\n",
       "    </tr>\n",
       "    <tr>\n",
       "      <th>4</th>\n",
       "      <td>5</td>\n",
       "      <td>125</td>\n",
       "      <td>1776</td>\n",
       "      <td>386</td>\n",
       "      <td>2006-07-04</td>\n",
       "      <td>268</td>\n",
       "    </tr>\n",
       "    <tr>\n",
       "      <th>...</th>\n",
       "      <td>...</td>\n",
       "      <td>...</td>\n",
       "      <td>...</td>\n",
       "      <td>...</td>\n",
       "      <td>...</td>\n",
       "      <td>...</td>\n",
       "    </tr>\n",
       "    <tr>\n",
       "      <th>995</th>\n",
       "      <td>996</td>\n",
       "      <td>571</td>\n",
       "      <td>Wyrd Sisters (Discworld  #6; Witches #2)</td>\n",
       "      <td>265</td>\n",
       "      <td>2001-02-06</td>\n",
       "      <td>147</td>\n",
       "    </tr>\n",
       "    <tr>\n",
       "      <th>996</th>\n",
       "      <td>997</td>\n",
       "      <td>454</td>\n",
       "      <td>Xenocide (Ender's Saga  #3)</td>\n",
       "      <td>592</td>\n",
       "      <td>1996-07-15</td>\n",
       "      <td>297</td>\n",
       "    </tr>\n",
       "    <tr>\n",
       "      <th>997</th>\n",
       "      <td>998</td>\n",
       "      <td>201</td>\n",
       "      <td>Year of Wonders</td>\n",
       "      <td>358</td>\n",
       "      <td>2002-04-30</td>\n",
       "      <td>212</td>\n",
       "    </tr>\n",
       "    <tr>\n",
       "      <th>998</th>\n",
       "      <td>999</td>\n",
       "      <td>94</td>\n",
       "      <td>You Suck (A Love Story  #2)</td>\n",
       "      <td>328</td>\n",
       "      <td>2007-01-16</td>\n",
       "      <td>331</td>\n",
       "    </tr>\n",
       "    <tr>\n",
       "      <th>999</th>\n",
       "      <td>1000</td>\n",
       "      <td>509</td>\n",
       "      <td>Zen and the Art of Motorcycle Maintenance: An ...</td>\n",
       "      <td>540</td>\n",
       "      <td>2006-04-25</td>\n",
       "      <td>143</td>\n",
       "    </tr>\n",
       "  </tbody>\n",
       "</table>\n",
       "<p>1000 rows × 6 columns</p>\n",
       "</div>"
      ],
      "text/plain": [
       "     book_id  author_id                                              title  \\\n",
       "0          1        546                                       'Salem's Lot   \n",
       "1          2        465                 1 000 Places to See Before You Die   \n",
       "2          3        407  13 Little Blue Envelopes (Little Blue Envelope...   \n",
       "3          4         82  1491: New Revelations of the Americas Before C...   \n",
       "4          5        125                                               1776   \n",
       "..       ...        ...                                                ...   \n",
       "995      996        571           Wyrd Sisters (Discworld  #6; Witches #2)   \n",
       "996      997        454                        Xenocide (Ender's Saga  #3)   \n",
       "997      998        201                                    Year of Wonders   \n",
       "998      999         94                        You Suck (A Love Story  #2)   \n",
       "999     1000        509  Zen and the Art of Motorcycle Maintenance: An ...   \n",
       "\n",
       "     num_pages publication_date  publisher_id  \n",
       "0          594       2005-11-01            93  \n",
       "1          992       2003-05-22           336  \n",
       "2          322       2010-12-21           135  \n",
       "3          541       2006-10-10           309  \n",
       "4          386       2006-07-04           268  \n",
       "..         ...              ...           ...  \n",
       "995        265       2001-02-06           147  \n",
       "996        592       1996-07-15           297  \n",
       "997        358       2002-04-30           212  \n",
       "998        328       2007-01-16           331  \n",
       "999        540       2006-04-25           143  \n",
       "\n",
       "[1000 rows x 6 columns]"
      ]
     },
     "execution_count": 5,
     "metadata": {},
     "output_type": "execute_result"
    }
   ],
   "source": [
    "books = pd.io.sql.read_sql('SELECT * FROM books', con = engine)\n",
    "books"
   ]
  },
  {
   "cell_type": "code",
   "execution_count": 6,
   "metadata": {},
   "outputs": [],
   "source": [
    "# получаем сырые данные\n",
    "query = '''\n",
    "            SELECT * FROM authors\n",
    "        '''"
   ]
  },
  {
   "cell_type": "code",
   "execution_count": 7,
   "metadata": {},
   "outputs": [
    {
     "data": {
      "text/html": [
       "<div>\n",
       "<style scoped>\n",
       "    .dataframe tbody tr th:only-of-type {\n",
       "        vertical-align: middle;\n",
       "    }\n",
       "\n",
       "    .dataframe tbody tr th {\n",
       "        vertical-align: top;\n",
       "    }\n",
       "\n",
       "    .dataframe thead th {\n",
       "        text-align: right;\n",
       "    }\n",
       "</style>\n",
       "<table border=\"1\" class=\"dataframe\">\n",
       "  <thead>\n",
       "    <tr style=\"text-align: right;\">\n",
       "      <th></th>\n",
       "      <th>author_id</th>\n",
       "      <th>author</th>\n",
       "    </tr>\n",
       "  </thead>\n",
       "  <tbody>\n",
       "    <tr>\n",
       "      <th>0</th>\n",
       "      <td>1</td>\n",
       "      <td>A.S. Byatt</td>\n",
       "    </tr>\n",
       "    <tr>\n",
       "      <th>1</th>\n",
       "      <td>2</td>\n",
       "      <td>Aesop/Laura Harris/Laura Gibbs</td>\n",
       "    </tr>\n",
       "    <tr>\n",
       "      <th>2</th>\n",
       "      <td>3</td>\n",
       "      <td>Agatha Christie</td>\n",
       "    </tr>\n",
       "    <tr>\n",
       "      <th>3</th>\n",
       "      <td>4</td>\n",
       "      <td>Alan Brennert</td>\n",
       "    </tr>\n",
       "    <tr>\n",
       "      <th>4</th>\n",
       "      <td>5</td>\n",
       "      <td>Alan Moore/David   Lloyd</td>\n",
       "    </tr>\n",
       "    <tr>\n",
       "      <th>...</th>\n",
       "      <td>...</td>\n",
       "      <td>...</td>\n",
       "    </tr>\n",
       "    <tr>\n",
       "      <th>631</th>\n",
       "      <td>632</td>\n",
       "      <td>William Strunk Jr./E.B. White</td>\n",
       "    </tr>\n",
       "    <tr>\n",
       "      <th>632</th>\n",
       "      <td>633</td>\n",
       "      <td>Zadie Smith</td>\n",
       "    </tr>\n",
       "    <tr>\n",
       "      <th>633</th>\n",
       "      <td>634</td>\n",
       "      <td>Zilpha Keatley Snyder</td>\n",
       "    </tr>\n",
       "    <tr>\n",
       "      <th>634</th>\n",
       "      <td>635</td>\n",
       "      <td>Zora Neale Hurston</td>\n",
       "    </tr>\n",
       "    <tr>\n",
       "      <th>635</th>\n",
       "      <td>636</td>\n",
       "      <td>Åsne Seierstad/Ingrid Christopherson</td>\n",
       "    </tr>\n",
       "  </tbody>\n",
       "</table>\n",
       "<p>636 rows × 2 columns</p>\n",
       "</div>"
      ],
      "text/plain": [
       "     author_id                                author\n",
       "0            1                            A.S. Byatt\n",
       "1            2        Aesop/Laura Harris/Laura Gibbs\n",
       "2            3                       Agatha Christie\n",
       "3            4                         Alan Brennert\n",
       "4            5              Alan Moore/David   Lloyd\n",
       "..         ...                                   ...\n",
       "631        632         William Strunk Jr./E.B. White\n",
       "632        633                           Zadie Smith\n",
       "633        634                 Zilpha Keatley Snyder\n",
       "634        635                    Zora Neale Hurston\n",
       "635        636  Åsne Seierstad/Ingrid Christopherson\n",
       "\n",
       "[636 rows x 2 columns]"
      ]
     },
     "execution_count": 7,
     "metadata": {},
     "output_type": "execute_result"
    }
   ],
   "source": [
    "authors = pd.io.sql.read_sql('SELECT * FROM authors', con = engine)\n",
    "authors"
   ]
  },
  {
   "cell_type": "code",
   "execution_count": 8,
   "metadata": {},
   "outputs": [],
   "source": [
    "# получаем сырые данные\n",
    "query = '''\n",
    "            SELECT * FROM publishers\n",
    "        '''"
   ]
  },
  {
   "cell_type": "code",
   "execution_count": 9,
   "metadata": {},
   "outputs": [
    {
     "data": {
      "text/html": [
       "<div>\n",
       "<style scoped>\n",
       "    .dataframe tbody tr th:only-of-type {\n",
       "        vertical-align: middle;\n",
       "    }\n",
       "\n",
       "    .dataframe tbody tr th {\n",
       "        vertical-align: top;\n",
       "    }\n",
       "\n",
       "    .dataframe thead th {\n",
       "        text-align: right;\n",
       "    }\n",
       "</style>\n",
       "<table border=\"1\" class=\"dataframe\">\n",
       "  <thead>\n",
       "    <tr style=\"text-align: right;\">\n",
       "      <th></th>\n",
       "      <th>publisher_id</th>\n",
       "      <th>publisher</th>\n",
       "    </tr>\n",
       "  </thead>\n",
       "  <tbody>\n",
       "    <tr>\n",
       "      <th>0</th>\n",
       "      <td>1</td>\n",
       "      <td>Ace</td>\n",
       "    </tr>\n",
       "    <tr>\n",
       "      <th>1</th>\n",
       "      <td>2</td>\n",
       "      <td>Ace Book</td>\n",
       "    </tr>\n",
       "    <tr>\n",
       "      <th>2</th>\n",
       "      <td>3</td>\n",
       "      <td>Ace Books</td>\n",
       "    </tr>\n",
       "    <tr>\n",
       "      <th>3</th>\n",
       "      <td>4</td>\n",
       "      <td>Ace Hardcover</td>\n",
       "    </tr>\n",
       "    <tr>\n",
       "      <th>4</th>\n",
       "      <td>5</td>\n",
       "      <td>Addison Wesley Publishing Company</td>\n",
       "    </tr>\n",
       "    <tr>\n",
       "      <th>...</th>\n",
       "      <td>...</td>\n",
       "      <td>...</td>\n",
       "    </tr>\n",
       "    <tr>\n",
       "      <th>335</th>\n",
       "      <td>336</td>\n",
       "      <td>Workman Publishing Company</td>\n",
       "    </tr>\n",
       "    <tr>\n",
       "      <th>336</th>\n",
       "      <td>337</td>\n",
       "      <td>Wyatt Book</td>\n",
       "    </tr>\n",
       "    <tr>\n",
       "      <th>337</th>\n",
       "      <td>338</td>\n",
       "      <td>Yale University Press</td>\n",
       "    </tr>\n",
       "    <tr>\n",
       "      <th>338</th>\n",
       "      <td>339</td>\n",
       "      <td>Yearling</td>\n",
       "    </tr>\n",
       "    <tr>\n",
       "      <th>339</th>\n",
       "      <td>340</td>\n",
       "      <td>Yearling Books</td>\n",
       "    </tr>\n",
       "  </tbody>\n",
       "</table>\n",
       "<p>340 rows × 2 columns</p>\n",
       "</div>"
      ],
      "text/plain": [
       "     publisher_id                          publisher\n",
       "0               1                                Ace\n",
       "1               2                           Ace Book\n",
       "2               3                          Ace Books\n",
       "3               4                      Ace Hardcover\n",
       "4               5  Addison Wesley Publishing Company\n",
       "..            ...                                ...\n",
       "335           336         Workman Publishing Company\n",
       "336           337                         Wyatt Book\n",
       "337           338              Yale University Press\n",
       "338           339                           Yearling\n",
       "339           340                     Yearling Books\n",
       "\n",
       "[340 rows x 2 columns]"
      ]
     },
     "execution_count": 9,
     "metadata": {},
     "output_type": "execute_result"
    }
   ],
   "source": [
    "publishers = pd.io.sql.read_sql('SELECT * FROM publishers', con = engine)\n",
    "publishers"
   ]
  },
  {
   "cell_type": "code",
   "execution_count": 10,
   "metadata": {},
   "outputs": [],
   "source": [
    "# получаем сырые данные\n",
    "query = '''\n",
    "            SELECT * FROM ratings\n",
    "        '''"
   ]
  },
  {
   "cell_type": "code",
   "execution_count": 11,
   "metadata": {},
   "outputs": [
    {
     "data": {
      "text/html": [
       "<div>\n",
       "<style scoped>\n",
       "    .dataframe tbody tr th:only-of-type {\n",
       "        vertical-align: middle;\n",
       "    }\n",
       "\n",
       "    .dataframe tbody tr th {\n",
       "        vertical-align: top;\n",
       "    }\n",
       "\n",
       "    .dataframe thead th {\n",
       "        text-align: right;\n",
       "    }\n",
       "</style>\n",
       "<table border=\"1\" class=\"dataframe\">\n",
       "  <thead>\n",
       "    <tr style=\"text-align: right;\">\n",
       "      <th></th>\n",
       "      <th>rating_id</th>\n",
       "      <th>book_id</th>\n",
       "      <th>username</th>\n",
       "      <th>rating</th>\n",
       "    </tr>\n",
       "  </thead>\n",
       "  <tbody>\n",
       "    <tr>\n",
       "      <th>0</th>\n",
       "      <td>1</td>\n",
       "      <td>1</td>\n",
       "      <td>ryanfranco</td>\n",
       "      <td>4</td>\n",
       "    </tr>\n",
       "    <tr>\n",
       "      <th>1</th>\n",
       "      <td>2</td>\n",
       "      <td>1</td>\n",
       "      <td>grantpatricia</td>\n",
       "      <td>2</td>\n",
       "    </tr>\n",
       "    <tr>\n",
       "      <th>2</th>\n",
       "      <td>3</td>\n",
       "      <td>1</td>\n",
       "      <td>brandtandrea</td>\n",
       "      <td>5</td>\n",
       "    </tr>\n",
       "    <tr>\n",
       "      <th>3</th>\n",
       "      <td>4</td>\n",
       "      <td>2</td>\n",
       "      <td>lorichen</td>\n",
       "      <td>3</td>\n",
       "    </tr>\n",
       "    <tr>\n",
       "      <th>4</th>\n",
       "      <td>5</td>\n",
       "      <td>2</td>\n",
       "      <td>mariokeller</td>\n",
       "      <td>2</td>\n",
       "    </tr>\n",
       "    <tr>\n",
       "      <th>...</th>\n",
       "      <td>...</td>\n",
       "      <td>...</td>\n",
       "      <td>...</td>\n",
       "      <td>...</td>\n",
       "    </tr>\n",
       "    <tr>\n",
       "      <th>6451</th>\n",
       "      <td>6452</td>\n",
       "      <td>1000</td>\n",
       "      <td>carolrodriguez</td>\n",
       "      <td>4</td>\n",
       "    </tr>\n",
       "    <tr>\n",
       "      <th>6452</th>\n",
       "      <td>6453</td>\n",
       "      <td>1000</td>\n",
       "      <td>wendy18</td>\n",
       "      <td>4</td>\n",
       "    </tr>\n",
       "    <tr>\n",
       "      <th>6453</th>\n",
       "      <td>6454</td>\n",
       "      <td>1000</td>\n",
       "      <td>jarvispaul</td>\n",
       "      <td>5</td>\n",
       "    </tr>\n",
       "    <tr>\n",
       "      <th>6454</th>\n",
       "      <td>6455</td>\n",
       "      <td>1000</td>\n",
       "      <td>zross</td>\n",
       "      <td>2</td>\n",
       "    </tr>\n",
       "    <tr>\n",
       "      <th>6455</th>\n",
       "      <td>6456</td>\n",
       "      <td>1000</td>\n",
       "      <td>fharris</td>\n",
       "      <td>5</td>\n",
       "    </tr>\n",
       "  </tbody>\n",
       "</table>\n",
       "<p>6456 rows × 4 columns</p>\n",
       "</div>"
      ],
      "text/plain": [
       "      rating_id  book_id        username  rating\n",
       "0             1        1      ryanfranco       4\n",
       "1             2        1   grantpatricia       2\n",
       "2             3        1    brandtandrea       5\n",
       "3             4        2        lorichen       3\n",
       "4             5        2     mariokeller       2\n",
       "...         ...      ...             ...     ...\n",
       "6451       6452     1000  carolrodriguez       4\n",
       "6452       6453     1000         wendy18       4\n",
       "6453       6454     1000      jarvispaul       5\n",
       "6454       6455     1000           zross       2\n",
       "6455       6456     1000         fharris       5\n",
       "\n",
       "[6456 rows x 4 columns]"
      ]
     },
     "execution_count": 11,
     "metadata": {},
     "output_type": "execute_result"
    }
   ],
   "source": [
    "ratings = pd.io.sql.read_sql('SELECT * FROM ratings', con = engine)\n",
    "ratings"
   ]
  },
  {
   "cell_type": "code",
   "execution_count": 12,
   "metadata": {},
   "outputs": [],
   "source": [
    "# получаем сырые данные\n",
    "query = '''\n",
    "            SELECT * FROM reviews\n",
    "        '''"
   ]
  },
  {
   "cell_type": "code",
   "execution_count": 13,
   "metadata": {},
   "outputs": [
    {
     "data": {
      "text/html": [
       "<div>\n",
       "<style scoped>\n",
       "    .dataframe tbody tr th:only-of-type {\n",
       "        vertical-align: middle;\n",
       "    }\n",
       "\n",
       "    .dataframe tbody tr th {\n",
       "        vertical-align: top;\n",
       "    }\n",
       "\n",
       "    .dataframe thead th {\n",
       "        text-align: right;\n",
       "    }\n",
       "</style>\n",
       "<table border=\"1\" class=\"dataframe\">\n",
       "  <thead>\n",
       "    <tr style=\"text-align: right;\">\n",
       "      <th></th>\n",
       "      <th>review_id</th>\n",
       "      <th>book_id</th>\n",
       "      <th>username</th>\n",
       "      <th>text</th>\n",
       "    </tr>\n",
       "  </thead>\n",
       "  <tbody>\n",
       "    <tr>\n",
       "      <th>0</th>\n",
       "      <td>1</td>\n",
       "      <td>1</td>\n",
       "      <td>brandtandrea</td>\n",
       "      <td>Mention society tell send professor analysis. ...</td>\n",
       "    </tr>\n",
       "    <tr>\n",
       "      <th>1</th>\n",
       "      <td>2</td>\n",
       "      <td>1</td>\n",
       "      <td>ryanfranco</td>\n",
       "      <td>Foot glass pretty audience hit themselves. Amo...</td>\n",
       "    </tr>\n",
       "    <tr>\n",
       "      <th>2</th>\n",
       "      <td>3</td>\n",
       "      <td>2</td>\n",
       "      <td>lorichen</td>\n",
       "      <td>Listen treat keep worry. Miss husband tax but ...</td>\n",
       "    </tr>\n",
       "    <tr>\n",
       "      <th>3</th>\n",
       "      <td>4</td>\n",
       "      <td>3</td>\n",
       "      <td>johnsonamanda</td>\n",
       "      <td>Finally month interesting blue could nature cu...</td>\n",
       "    </tr>\n",
       "    <tr>\n",
       "      <th>4</th>\n",
       "      <td>5</td>\n",
       "      <td>3</td>\n",
       "      <td>scotttamara</td>\n",
       "      <td>Nation purpose heavy give wait song will. List...</td>\n",
       "    </tr>\n",
       "    <tr>\n",
       "      <th>...</th>\n",
       "      <td>...</td>\n",
       "      <td>...</td>\n",
       "      <td>...</td>\n",
       "      <td>...</td>\n",
       "    </tr>\n",
       "    <tr>\n",
       "      <th>2788</th>\n",
       "      <td>2789</td>\n",
       "      <td>999</td>\n",
       "      <td>martinadam</td>\n",
       "      <td>Later hospital turn easy community. Fact same ...</td>\n",
       "    </tr>\n",
       "    <tr>\n",
       "      <th>2789</th>\n",
       "      <td>2790</td>\n",
       "      <td>1000</td>\n",
       "      <td>wknight</td>\n",
       "      <td>Change lose answer close pressure. Spend so now.</td>\n",
       "    </tr>\n",
       "    <tr>\n",
       "      <th>2790</th>\n",
       "      <td>2791</td>\n",
       "      <td>1000</td>\n",
       "      <td>carolrodriguez</td>\n",
       "      <td>Authority go who television entire hair guy po...</td>\n",
       "    </tr>\n",
       "    <tr>\n",
       "      <th>2791</th>\n",
       "      <td>2792</td>\n",
       "      <td>1000</td>\n",
       "      <td>wendy18</td>\n",
       "      <td>Or western offer wonder ask. More hear phone f...</td>\n",
       "    </tr>\n",
       "    <tr>\n",
       "      <th>2792</th>\n",
       "      <td>2793</td>\n",
       "      <td>1000</td>\n",
       "      <td>jarvispaul</td>\n",
       "      <td>Republican staff bit eat material measure plan...</td>\n",
       "    </tr>\n",
       "  </tbody>\n",
       "</table>\n",
       "<p>2793 rows × 4 columns</p>\n",
       "</div>"
      ],
      "text/plain": [
       "      review_id  book_id        username  \\\n",
       "0             1        1    brandtandrea   \n",
       "1             2        1      ryanfranco   \n",
       "2             3        2        lorichen   \n",
       "3             4        3   johnsonamanda   \n",
       "4             5        3     scotttamara   \n",
       "...         ...      ...             ...   \n",
       "2788       2789      999      martinadam   \n",
       "2789       2790     1000         wknight   \n",
       "2790       2791     1000  carolrodriguez   \n",
       "2791       2792     1000         wendy18   \n",
       "2792       2793     1000      jarvispaul   \n",
       "\n",
       "                                                   text  \n",
       "0     Mention society tell send professor analysis. ...  \n",
       "1     Foot glass pretty audience hit themselves. Amo...  \n",
       "2     Listen treat keep worry. Miss husband tax but ...  \n",
       "3     Finally month interesting blue could nature cu...  \n",
       "4     Nation purpose heavy give wait song will. List...  \n",
       "...                                                 ...  \n",
       "2788  Later hospital turn easy community. Fact same ...  \n",
       "2789   Change lose answer close pressure. Spend so now.  \n",
       "2790  Authority go who television entire hair guy po...  \n",
       "2791  Or western offer wonder ask. More hear phone f...  \n",
       "2792  Republican staff bit eat material measure plan...  \n",
       "\n",
       "[2793 rows x 4 columns]"
      ]
     },
     "execution_count": 13,
     "metadata": {},
     "output_type": "execute_result"
    }
   ],
   "source": [
    "reviews = pd.io.sql.read_sql('SELECT * FROM reviews', con = engine)\n",
    "reviews"
   ]
  },
  {
   "cell_type": "code",
   "execution_count": 14,
   "metadata": {},
   "outputs": [
    {
     "name": "stdout",
     "output_type": "stream",
     "text": [
      "\u001b[31m______________info_____________________\u001b[0m\n",
      "<class 'pandas.core.frame.DataFrame'>\n",
      "RangeIndex: 1000 entries, 0 to 999\n",
      "Data columns (total 6 columns):\n",
      " #   Column            Non-Null Count  Dtype \n",
      "---  ------            --------------  ----- \n",
      " 0   book_id           1000 non-null   int64 \n",
      " 1   author_id         1000 non-null   int64 \n",
      " 2   title             1000 non-null   object\n",
      " 3   num_pages         1000 non-null   int64 \n",
      " 4   publication_date  1000 non-null   object\n",
      " 5   publisher_id      1000 non-null   int64 \n",
      "dtypes: int64(4), object(2)\n",
      "memory usage: 47.0+ KB\n"
     ]
    },
    {
     "data": {
      "text/plain": [
       "None"
      ]
     },
     "metadata": {},
     "output_type": "display_data"
    },
    {
     "name": "stdout",
     "output_type": "stream",
     "text": [
      "\u001b[31m______________describe_________________\u001b[0m\n"
     ]
    },
    {
     "data": {
      "text/html": [
       "<div>\n",
       "<style scoped>\n",
       "    .dataframe tbody tr th:only-of-type {\n",
       "        vertical-align: middle;\n",
       "    }\n",
       "\n",
       "    .dataframe tbody tr th {\n",
       "        vertical-align: top;\n",
       "    }\n",
       "\n",
       "    .dataframe thead th {\n",
       "        text-align: right;\n",
       "    }\n",
       "</style>\n",
       "<table border=\"1\" class=\"dataframe\">\n",
       "  <thead>\n",
       "    <tr style=\"text-align: right;\">\n",
       "      <th></th>\n",
       "      <th>count</th>\n",
       "      <th>mean</th>\n",
       "      <th>std</th>\n",
       "      <th>min</th>\n",
       "      <th>25%</th>\n",
       "      <th>50%</th>\n",
       "      <th>75%</th>\n",
       "      <th>max</th>\n",
       "    </tr>\n",
       "  </thead>\n",
       "  <tbody>\n",
       "    <tr>\n",
       "      <th>book_id</th>\n",
       "      <td>1000.0</td>\n",
       "      <td>500.500</td>\n",
       "      <td>288.819436</td>\n",
       "      <td>1.0</td>\n",
       "      <td>250.75</td>\n",
       "      <td>500.5</td>\n",
       "      <td>750.25</td>\n",
       "      <td>1000.0</td>\n",
       "    </tr>\n",
       "    <tr>\n",
       "      <th>author_id</th>\n",
       "      <td>1000.0</td>\n",
       "      <td>320.417</td>\n",
       "      <td>181.620172</td>\n",
       "      <td>1.0</td>\n",
       "      <td>162.75</td>\n",
       "      <td>316.5</td>\n",
       "      <td>481.00</td>\n",
       "      <td>636.0</td>\n",
       "    </tr>\n",
       "    <tr>\n",
       "      <th>num_pages</th>\n",
       "      <td>1000.0</td>\n",
       "      <td>389.111</td>\n",
       "      <td>229.390140</td>\n",
       "      <td>14.0</td>\n",
       "      <td>249.00</td>\n",
       "      <td>352.0</td>\n",
       "      <td>453.00</td>\n",
       "      <td>2690.0</td>\n",
       "    </tr>\n",
       "    <tr>\n",
       "      <th>publisher_id</th>\n",
       "      <td>1000.0</td>\n",
       "      <td>171.270</td>\n",
       "      <td>99.082685</td>\n",
       "      <td>1.0</td>\n",
       "      <td>83.00</td>\n",
       "      <td>177.5</td>\n",
       "      <td>258.00</td>\n",
       "      <td>340.0</td>\n",
       "    </tr>\n",
       "  </tbody>\n",
       "</table>\n",
       "</div>"
      ],
      "text/plain": [
       "               count     mean         std   min     25%    50%     75%     max\n",
       "book_id       1000.0  500.500  288.819436   1.0  250.75  500.5  750.25  1000.0\n",
       "author_id     1000.0  320.417  181.620172   1.0  162.75  316.5  481.00   636.0\n",
       "num_pages     1000.0  389.111  229.390140  14.0  249.00  352.0  453.00  2690.0\n",
       "publisher_id  1000.0  171.270   99.082685   1.0   83.00  177.5  258.00   340.0"
      ]
     },
     "metadata": {},
     "output_type": "display_data"
    },
    {
     "name": "stdout",
     "output_type": "stream",
     "text": [
      "\u001b[31m_____________isna______________________\u001b[0m\n"
     ]
    },
    {
     "data": {
      "text/html": [
       "<div>\n",
       "<style scoped>\n",
       "    .dataframe tbody tr th:only-of-type {\n",
       "        vertical-align: middle;\n",
       "    }\n",
       "\n",
       "    .dataframe tbody tr th {\n",
       "        vertical-align: top;\n",
       "    }\n",
       "\n",
       "    .dataframe thead th {\n",
       "        text-align: right;\n",
       "    }\n",
       "</style>\n",
       "<table border=\"1\" class=\"dataframe\">\n",
       "  <thead>\n",
       "    <tr style=\"text-align: right;\">\n",
       "      <th></th>\n",
       "      <th>index</th>\n",
       "      <th>0</th>\n",
       "    </tr>\n",
       "  </thead>\n",
       "  <tbody>\n",
       "    <tr>\n",
       "      <th>0</th>\n",
       "      <td>book_id</td>\n",
       "      <td>0</td>\n",
       "    </tr>\n",
       "    <tr>\n",
       "      <th>1</th>\n",
       "      <td>author_id</td>\n",
       "      <td>0</td>\n",
       "    </tr>\n",
       "    <tr>\n",
       "      <th>2</th>\n",
       "      <td>title</td>\n",
       "      <td>0</td>\n",
       "    </tr>\n",
       "    <tr>\n",
       "      <th>3</th>\n",
       "      <td>num_pages</td>\n",
       "      <td>0</td>\n",
       "    </tr>\n",
       "    <tr>\n",
       "      <th>4</th>\n",
       "      <td>publication_date</td>\n",
       "      <td>0</td>\n",
       "    </tr>\n",
       "    <tr>\n",
       "      <th>5</th>\n",
       "      <td>publisher_id</td>\n",
       "      <td>0</td>\n",
       "    </tr>\n",
       "  </tbody>\n",
       "</table>\n",
       "</div>"
      ],
      "text/plain": [
       "              index  0\n",
       "0           book_id  0\n",
       "1         author_id  0\n",
       "2             title  0\n",
       "3         num_pages  0\n",
       "4  publication_date  0\n",
       "5      publisher_id  0"
      ]
     },
     "metadata": {},
     "output_type": "display_data"
    },
    {
     "name": "stdout",
     "output_type": "stream",
     "text": [
      "\u001b[31m_______Поиск дубликатов________________\u001b[0m\n"
     ]
    },
    {
     "data": {
      "text/plain": [
       "0"
      ]
     },
     "metadata": {},
     "output_type": "display_data"
    },
    {
     "name": "stdout",
     "output_type": "stream",
     "text": [
      "\u001b[31m__количество пропущенных значений по каждому из столбцов__\u001b[0m\n"
     ]
    },
    {
     "data": {
      "text/html": [
       "<div>\n",
       "<style scoped>\n",
       "    .dataframe tbody tr th:only-of-type {\n",
       "        vertical-align: middle;\n",
       "    }\n",
       "\n",
       "    .dataframe tbody tr th {\n",
       "        vertical-align: top;\n",
       "    }\n",
       "\n",
       "    .dataframe thead th {\n",
       "        text-align: right;\n",
       "    }\n",
       "</style>\n",
       "<table border=\"1\" class=\"dataframe\">\n",
       "  <thead>\n",
       "    <tr style=\"text-align: right;\">\n",
       "      <th></th>\n",
       "      <th>index</th>\n",
       "      <th>0</th>\n",
       "    </tr>\n",
       "  </thead>\n",
       "  <tbody>\n",
       "    <tr>\n",
       "      <th>0</th>\n",
       "      <td>book_id</td>\n",
       "      <td>0.0</td>\n",
       "    </tr>\n",
       "    <tr>\n",
       "      <th>1</th>\n",
       "      <td>author_id</td>\n",
       "      <td>0.0</td>\n",
       "    </tr>\n",
       "    <tr>\n",
       "      <th>2</th>\n",
       "      <td>title</td>\n",
       "      <td>0.0</td>\n",
       "    </tr>\n",
       "    <tr>\n",
       "      <th>3</th>\n",
       "      <td>num_pages</td>\n",
       "      <td>0.0</td>\n",
       "    </tr>\n",
       "    <tr>\n",
       "      <th>4</th>\n",
       "      <td>publication_date</td>\n",
       "      <td>0.0</td>\n",
       "    </tr>\n",
       "    <tr>\n",
       "      <th>5</th>\n",
       "      <td>publisher_id</td>\n",
       "      <td>0.0</td>\n",
       "    </tr>\n",
       "  </tbody>\n",
       "</table>\n",
       "</div>"
      ],
      "text/plain": [
       "              index    0\n",
       "0           book_id  0.0\n",
       "1         author_id  0.0\n",
       "2             title  0.0\n",
       "3         num_pages  0.0\n",
       "4  publication_date  0.0\n",
       "5      publisher_id  0.0"
      ]
     },
     "metadata": {},
     "output_type": "display_data"
    },
    {
     "name": "stdout",
     "output_type": "stream",
     "text": [
      "\u001b[34m_________________________конец изучения файла____________________________________\u001b[0m\n",
      "\n",
      "\u001b[31m______________info_____________________\u001b[0m\n",
      "<class 'pandas.core.frame.DataFrame'>\n",
      "RangeIndex: 636 entries, 0 to 635\n",
      "Data columns (total 2 columns):\n",
      " #   Column     Non-Null Count  Dtype \n",
      "---  ------     --------------  ----- \n",
      " 0   author_id  636 non-null    int64 \n",
      " 1   author     636 non-null    object\n",
      "dtypes: int64(1), object(1)\n",
      "memory usage: 10.1+ KB\n"
     ]
    },
    {
     "data": {
      "text/plain": [
       "None"
      ]
     },
     "metadata": {},
     "output_type": "display_data"
    },
    {
     "name": "stdout",
     "output_type": "stream",
     "text": [
      "\u001b[31m______________describe_________________\u001b[0m\n"
     ]
    },
    {
     "data": {
      "text/html": [
       "<div>\n",
       "<style scoped>\n",
       "    .dataframe tbody tr th:only-of-type {\n",
       "        vertical-align: middle;\n",
       "    }\n",
       "\n",
       "    .dataframe tbody tr th {\n",
       "        vertical-align: top;\n",
       "    }\n",
       "\n",
       "    .dataframe thead th {\n",
       "        text-align: right;\n",
       "    }\n",
       "</style>\n",
       "<table border=\"1\" class=\"dataframe\">\n",
       "  <thead>\n",
       "    <tr style=\"text-align: right;\">\n",
       "      <th></th>\n",
       "      <th>count</th>\n",
       "      <th>mean</th>\n",
       "      <th>std</th>\n",
       "      <th>min</th>\n",
       "      <th>25%</th>\n",
       "      <th>50%</th>\n",
       "      <th>75%</th>\n",
       "      <th>max</th>\n",
       "    </tr>\n",
       "  </thead>\n",
       "  <tbody>\n",
       "    <tr>\n",
       "      <th>author_id</th>\n",
       "      <td>636.0</td>\n",
       "      <td>318.5</td>\n",
       "      <td>183.741666</td>\n",
       "      <td>1.0</td>\n",
       "      <td>159.75</td>\n",
       "      <td>318.5</td>\n",
       "      <td>477.25</td>\n",
       "      <td>636.0</td>\n",
       "    </tr>\n",
       "  </tbody>\n",
       "</table>\n",
       "</div>"
      ],
      "text/plain": [
       "           count   mean         std  min     25%    50%     75%    max\n",
       "author_id  636.0  318.5  183.741666  1.0  159.75  318.5  477.25  636.0"
      ]
     },
     "metadata": {},
     "output_type": "display_data"
    },
    {
     "name": "stdout",
     "output_type": "stream",
     "text": [
      "\u001b[31m_____________isna______________________\u001b[0m\n"
     ]
    },
    {
     "data": {
      "text/html": [
       "<div>\n",
       "<style scoped>\n",
       "    .dataframe tbody tr th:only-of-type {\n",
       "        vertical-align: middle;\n",
       "    }\n",
       "\n",
       "    .dataframe tbody tr th {\n",
       "        vertical-align: top;\n",
       "    }\n",
       "\n",
       "    .dataframe thead th {\n",
       "        text-align: right;\n",
       "    }\n",
       "</style>\n",
       "<table border=\"1\" class=\"dataframe\">\n",
       "  <thead>\n",
       "    <tr style=\"text-align: right;\">\n",
       "      <th></th>\n",
       "      <th>index</th>\n",
       "      <th>0</th>\n",
       "    </tr>\n",
       "  </thead>\n",
       "  <tbody>\n",
       "    <tr>\n",
       "      <th>0</th>\n",
       "      <td>author_id</td>\n",
       "      <td>0</td>\n",
       "    </tr>\n",
       "    <tr>\n",
       "      <th>1</th>\n",
       "      <td>author</td>\n",
       "      <td>0</td>\n",
       "    </tr>\n",
       "  </tbody>\n",
       "</table>\n",
       "</div>"
      ],
      "text/plain": [
       "       index  0\n",
       "0  author_id  0\n",
       "1     author  0"
      ]
     },
     "metadata": {},
     "output_type": "display_data"
    },
    {
     "name": "stdout",
     "output_type": "stream",
     "text": [
      "\u001b[31m_______Поиск дубликатов________________\u001b[0m\n"
     ]
    },
    {
     "data": {
      "text/plain": [
       "0"
      ]
     },
     "metadata": {},
     "output_type": "display_data"
    },
    {
     "name": "stdout",
     "output_type": "stream",
     "text": [
      "\u001b[31m__количество пропущенных значений по каждому из столбцов__\u001b[0m\n"
     ]
    },
    {
     "data": {
      "text/html": [
       "<div>\n",
       "<style scoped>\n",
       "    .dataframe tbody tr th:only-of-type {\n",
       "        vertical-align: middle;\n",
       "    }\n",
       "\n",
       "    .dataframe tbody tr th {\n",
       "        vertical-align: top;\n",
       "    }\n",
       "\n",
       "    .dataframe thead th {\n",
       "        text-align: right;\n",
       "    }\n",
       "</style>\n",
       "<table border=\"1\" class=\"dataframe\">\n",
       "  <thead>\n",
       "    <tr style=\"text-align: right;\">\n",
       "      <th></th>\n",
       "      <th>index</th>\n",
       "      <th>0</th>\n",
       "    </tr>\n",
       "  </thead>\n",
       "  <tbody>\n",
       "    <tr>\n",
       "      <th>0</th>\n",
       "      <td>author_id</td>\n",
       "      <td>0.0</td>\n",
       "    </tr>\n",
       "    <tr>\n",
       "      <th>1</th>\n",
       "      <td>author</td>\n",
       "      <td>0.0</td>\n",
       "    </tr>\n",
       "  </tbody>\n",
       "</table>\n",
       "</div>"
      ],
      "text/plain": [
       "       index    0\n",
       "0  author_id  0.0\n",
       "1     author  0.0"
      ]
     },
     "metadata": {},
     "output_type": "display_data"
    },
    {
     "name": "stdout",
     "output_type": "stream",
     "text": [
      "\u001b[34m_________________________конец изучения файла____________________________________\u001b[0m\n",
      "\n",
      "\u001b[31m______________info_____________________\u001b[0m\n",
      "<class 'pandas.core.frame.DataFrame'>\n",
      "RangeIndex: 340 entries, 0 to 339\n",
      "Data columns (total 2 columns):\n",
      " #   Column        Non-Null Count  Dtype \n",
      "---  ------        --------------  ----- \n",
      " 0   publisher_id  340 non-null    int64 \n",
      " 1   publisher     340 non-null    object\n",
      "dtypes: int64(1), object(1)\n",
      "memory usage: 5.4+ KB\n"
     ]
    },
    {
     "data": {
      "text/plain": [
       "None"
      ]
     },
     "metadata": {},
     "output_type": "display_data"
    },
    {
     "name": "stdout",
     "output_type": "stream",
     "text": [
      "\u001b[31m______________describe_________________\u001b[0m\n"
     ]
    },
    {
     "data": {
      "text/html": [
       "<div>\n",
       "<style scoped>\n",
       "    .dataframe tbody tr th:only-of-type {\n",
       "        vertical-align: middle;\n",
       "    }\n",
       "\n",
       "    .dataframe tbody tr th {\n",
       "        vertical-align: top;\n",
       "    }\n",
       "\n",
       "    .dataframe thead th {\n",
       "        text-align: right;\n",
       "    }\n",
       "</style>\n",
       "<table border=\"1\" class=\"dataframe\">\n",
       "  <thead>\n",
       "    <tr style=\"text-align: right;\">\n",
       "      <th></th>\n",
       "      <th>count</th>\n",
       "      <th>mean</th>\n",
       "      <th>std</th>\n",
       "      <th>min</th>\n",
       "      <th>25%</th>\n",
       "      <th>50%</th>\n",
       "      <th>75%</th>\n",
       "      <th>max</th>\n",
       "    </tr>\n",
       "  </thead>\n",
       "  <tbody>\n",
       "    <tr>\n",
       "      <th>publisher_id</th>\n",
       "      <td>340.0</td>\n",
       "      <td>170.5</td>\n",
       "      <td>98.293777</td>\n",
       "      <td>1.0</td>\n",
       "      <td>85.75</td>\n",
       "      <td>170.5</td>\n",
       "      <td>255.25</td>\n",
       "      <td>340.0</td>\n",
       "    </tr>\n",
       "  </tbody>\n",
       "</table>\n",
       "</div>"
      ],
      "text/plain": [
       "              count   mean        std  min    25%    50%     75%    max\n",
       "publisher_id  340.0  170.5  98.293777  1.0  85.75  170.5  255.25  340.0"
      ]
     },
     "metadata": {},
     "output_type": "display_data"
    },
    {
     "name": "stdout",
     "output_type": "stream",
     "text": [
      "\u001b[31m_____________isna______________________\u001b[0m\n"
     ]
    },
    {
     "data": {
      "text/html": [
       "<div>\n",
       "<style scoped>\n",
       "    .dataframe tbody tr th:only-of-type {\n",
       "        vertical-align: middle;\n",
       "    }\n",
       "\n",
       "    .dataframe tbody tr th {\n",
       "        vertical-align: top;\n",
       "    }\n",
       "\n",
       "    .dataframe thead th {\n",
       "        text-align: right;\n",
       "    }\n",
       "</style>\n",
       "<table border=\"1\" class=\"dataframe\">\n",
       "  <thead>\n",
       "    <tr style=\"text-align: right;\">\n",
       "      <th></th>\n",
       "      <th>index</th>\n",
       "      <th>0</th>\n",
       "    </tr>\n",
       "  </thead>\n",
       "  <tbody>\n",
       "    <tr>\n",
       "      <th>0</th>\n",
       "      <td>publisher_id</td>\n",
       "      <td>0</td>\n",
       "    </tr>\n",
       "    <tr>\n",
       "      <th>1</th>\n",
       "      <td>publisher</td>\n",
       "      <td>0</td>\n",
       "    </tr>\n",
       "  </tbody>\n",
       "</table>\n",
       "</div>"
      ],
      "text/plain": [
       "          index  0\n",
       "0  publisher_id  0\n",
       "1     publisher  0"
      ]
     },
     "metadata": {},
     "output_type": "display_data"
    },
    {
     "name": "stdout",
     "output_type": "stream",
     "text": [
      "\u001b[31m_______Поиск дубликатов________________\u001b[0m\n"
     ]
    },
    {
     "data": {
      "text/plain": [
       "0"
      ]
     },
     "metadata": {},
     "output_type": "display_data"
    },
    {
     "name": "stdout",
     "output_type": "stream",
     "text": [
      "\u001b[31m__количество пропущенных значений по каждому из столбцов__\u001b[0m\n"
     ]
    },
    {
     "data": {
      "text/html": [
       "<div>\n",
       "<style scoped>\n",
       "    .dataframe tbody tr th:only-of-type {\n",
       "        vertical-align: middle;\n",
       "    }\n",
       "\n",
       "    .dataframe tbody tr th {\n",
       "        vertical-align: top;\n",
       "    }\n",
       "\n",
       "    .dataframe thead th {\n",
       "        text-align: right;\n",
       "    }\n",
       "</style>\n",
       "<table border=\"1\" class=\"dataframe\">\n",
       "  <thead>\n",
       "    <tr style=\"text-align: right;\">\n",
       "      <th></th>\n",
       "      <th>index</th>\n",
       "      <th>0</th>\n",
       "    </tr>\n",
       "  </thead>\n",
       "  <tbody>\n",
       "    <tr>\n",
       "      <th>0</th>\n",
       "      <td>publisher_id</td>\n",
       "      <td>0.0</td>\n",
       "    </tr>\n",
       "    <tr>\n",
       "      <th>1</th>\n",
       "      <td>publisher</td>\n",
       "      <td>0.0</td>\n",
       "    </tr>\n",
       "  </tbody>\n",
       "</table>\n",
       "</div>"
      ],
      "text/plain": [
       "          index    0\n",
       "0  publisher_id  0.0\n",
       "1     publisher  0.0"
      ]
     },
     "metadata": {},
     "output_type": "display_data"
    },
    {
     "name": "stdout",
     "output_type": "stream",
     "text": [
      "\u001b[34m_________________________конец изучения файла____________________________________\u001b[0m\n",
      "\n",
      "\u001b[31m______________info_____________________\u001b[0m\n",
      "<class 'pandas.core.frame.DataFrame'>\n",
      "RangeIndex: 6456 entries, 0 to 6455\n",
      "Data columns (total 4 columns):\n",
      " #   Column     Non-Null Count  Dtype \n",
      "---  ------     --------------  ----- \n",
      " 0   rating_id  6456 non-null   int64 \n",
      " 1   book_id    6456 non-null   int64 \n",
      " 2   username   6456 non-null   object\n",
      " 3   rating     6456 non-null   int64 \n",
      "dtypes: int64(3), object(1)\n",
      "memory usage: 201.9+ KB\n"
     ]
    },
    {
     "data": {
      "text/plain": [
       "None"
      ]
     },
     "metadata": {},
     "output_type": "display_data"
    },
    {
     "name": "stdout",
     "output_type": "stream",
     "text": [
      "\u001b[31m______________describe_________________\u001b[0m\n"
     ]
    },
    {
     "data": {
      "text/html": [
       "<div>\n",
       "<style scoped>\n",
       "    .dataframe tbody tr th:only-of-type {\n",
       "        vertical-align: middle;\n",
       "    }\n",
       "\n",
       "    .dataframe tbody tr th {\n",
       "        vertical-align: top;\n",
       "    }\n",
       "\n",
       "    .dataframe thead th {\n",
       "        text-align: right;\n",
       "    }\n",
       "</style>\n",
       "<table border=\"1\" class=\"dataframe\">\n",
       "  <thead>\n",
       "    <tr style=\"text-align: right;\">\n",
       "      <th></th>\n",
       "      <th>count</th>\n",
       "      <th>mean</th>\n",
       "      <th>std</th>\n",
       "      <th>min</th>\n",
       "      <th>25%</th>\n",
       "      <th>50%</th>\n",
       "      <th>75%</th>\n",
       "      <th>max</th>\n",
       "    </tr>\n",
       "  </thead>\n",
       "  <tbody>\n",
       "    <tr>\n",
       "      <th>rating_id</th>\n",
       "      <td>6456.0</td>\n",
       "      <td>3228.500000</td>\n",
       "      <td>1863.831001</td>\n",
       "      <td>1.0</td>\n",
       "      <td>1614.75</td>\n",
       "      <td>3228.5</td>\n",
       "      <td>4842.25</td>\n",
       "      <td>6456.0</td>\n",
       "    </tr>\n",
       "    <tr>\n",
       "      <th>book_id</th>\n",
       "      <td>6456.0</td>\n",
       "      <td>510.574195</td>\n",
       "      <td>284.141636</td>\n",
       "      <td>1.0</td>\n",
       "      <td>291.00</td>\n",
       "      <td>506.0</td>\n",
       "      <td>750.00</td>\n",
       "      <td>1000.0</td>\n",
       "    </tr>\n",
       "    <tr>\n",
       "      <th>rating</th>\n",
       "      <td>6456.0</td>\n",
       "      <td>3.928284</td>\n",
       "      <td>0.943303</td>\n",
       "      <td>1.0</td>\n",
       "      <td>3.00</td>\n",
       "      <td>4.0</td>\n",
       "      <td>5.00</td>\n",
       "      <td>5.0</td>\n",
       "    </tr>\n",
       "  </tbody>\n",
       "</table>\n",
       "</div>"
      ],
      "text/plain": [
       "            count         mean          std  min      25%     50%      75%  \\\n",
       "rating_id  6456.0  3228.500000  1863.831001  1.0  1614.75  3228.5  4842.25   \n",
       "book_id    6456.0   510.574195   284.141636  1.0   291.00   506.0   750.00   \n",
       "rating     6456.0     3.928284     0.943303  1.0     3.00     4.0     5.00   \n",
       "\n",
       "              max  \n",
       "rating_id  6456.0  \n",
       "book_id    1000.0  \n",
       "rating        5.0  "
      ]
     },
     "metadata": {},
     "output_type": "display_data"
    },
    {
     "name": "stdout",
     "output_type": "stream",
     "text": [
      "\u001b[31m_____________isna______________________\u001b[0m\n"
     ]
    },
    {
     "data": {
      "text/html": [
       "<div>\n",
       "<style scoped>\n",
       "    .dataframe tbody tr th:only-of-type {\n",
       "        vertical-align: middle;\n",
       "    }\n",
       "\n",
       "    .dataframe tbody tr th {\n",
       "        vertical-align: top;\n",
       "    }\n",
       "\n",
       "    .dataframe thead th {\n",
       "        text-align: right;\n",
       "    }\n",
       "</style>\n",
       "<table border=\"1\" class=\"dataframe\">\n",
       "  <thead>\n",
       "    <tr style=\"text-align: right;\">\n",
       "      <th></th>\n",
       "      <th>index</th>\n",
       "      <th>0</th>\n",
       "    </tr>\n",
       "  </thead>\n",
       "  <tbody>\n",
       "    <tr>\n",
       "      <th>0</th>\n",
       "      <td>rating_id</td>\n",
       "      <td>0</td>\n",
       "    </tr>\n",
       "    <tr>\n",
       "      <th>1</th>\n",
       "      <td>book_id</td>\n",
       "      <td>0</td>\n",
       "    </tr>\n",
       "    <tr>\n",
       "      <th>2</th>\n",
       "      <td>username</td>\n",
       "      <td>0</td>\n",
       "    </tr>\n",
       "    <tr>\n",
       "      <th>3</th>\n",
       "      <td>rating</td>\n",
       "      <td>0</td>\n",
       "    </tr>\n",
       "  </tbody>\n",
       "</table>\n",
       "</div>"
      ],
      "text/plain": [
       "       index  0\n",
       "0  rating_id  0\n",
       "1    book_id  0\n",
       "2   username  0\n",
       "3     rating  0"
      ]
     },
     "metadata": {},
     "output_type": "display_data"
    },
    {
     "name": "stdout",
     "output_type": "stream",
     "text": [
      "\u001b[31m_______Поиск дубликатов________________\u001b[0m\n"
     ]
    },
    {
     "data": {
      "text/plain": [
       "0"
      ]
     },
     "metadata": {},
     "output_type": "display_data"
    },
    {
     "name": "stdout",
     "output_type": "stream",
     "text": [
      "\u001b[31m__количество пропущенных значений по каждому из столбцов__\u001b[0m\n"
     ]
    },
    {
     "data": {
      "text/html": [
       "<div>\n",
       "<style scoped>\n",
       "    .dataframe tbody tr th:only-of-type {\n",
       "        vertical-align: middle;\n",
       "    }\n",
       "\n",
       "    .dataframe tbody tr th {\n",
       "        vertical-align: top;\n",
       "    }\n",
       "\n",
       "    .dataframe thead th {\n",
       "        text-align: right;\n",
       "    }\n",
       "</style>\n",
       "<table border=\"1\" class=\"dataframe\">\n",
       "  <thead>\n",
       "    <tr style=\"text-align: right;\">\n",
       "      <th></th>\n",
       "      <th>index</th>\n",
       "      <th>0</th>\n",
       "    </tr>\n",
       "  </thead>\n",
       "  <tbody>\n",
       "    <tr>\n",
       "      <th>0</th>\n",
       "      <td>rating_id</td>\n",
       "      <td>0.0</td>\n",
       "    </tr>\n",
       "    <tr>\n",
       "      <th>1</th>\n",
       "      <td>book_id</td>\n",
       "      <td>0.0</td>\n",
       "    </tr>\n",
       "    <tr>\n",
       "      <th>2</th>\n",
       "      <td>username</td>\n",
       "      <td>0.0</td>\n",
       "    </tr>\n",
       "    <tr>\n",
       "      <th>3</th>\n",
       "      <td>rating</td>\n",
       "      <td>0.0</td>\n",
       "    </tr>\n",
       "  </tbody>\n",
       "</table>\n",
       "</div>"
      ],
      "text/plain": [
       "       index    0\n",
       "0  rating_id  0.0\n",
       "1    book_id  0.0\n",
       "2   username  0.0\n",
       "3     rating  0.0"
      ]
     },
     "metadata": {},
     "output_type": "display_data"
    },
    {
     "name": "stdout",
     "output_type": "stream",
     "text": [
      "\u001b[34m_________________________конец изучения файла____________________________________\u001b[0m\n",
      "\n",
      "\u001b[31m______________info_____________________\u001b[0m\n",
      "<class 'pandas.core.frame.DataFrame'>\n",
      "RangeIndex: 2793 entries, 0 to 2792\n",
      "Data columns (total 4 columns):\n",
      " #   Column     Non-Null Count  Dtype \n",
      "---  ------     --------------  ----- \n",
      " 0   review_id  2793 non-null   int64 \n",
      " 1   book_id    2793 non-null   int64 \n",
      " 2   username   2793 non-null   object\n",
      " 3   text       2793 non-null   object\n",
      "dtypes: int64(2), object(2)\n",
      "memory usage: 87.4+ KB\n"
     ]
    },
    {
     "data": {
      "text/plain": [
       "None"
      ]
     },
     "metadata": {},
     "output_type": "display_data"
    },
    {
     "name": "stdout",
     "output_type": "stream",
     "text": [
      "\u001b[31m______________describe_________________\u001b[0m\n"
     ]
    },
    {
     "data": {
      "text/html": [
       "<div>\n",
       "<style scoped>\n",
       "    .dataframe tbody tr th:only-of-type {\n",
       "        vertical-align: middle;\n",
       "    }\n",
       "\n",
       "    .dataframe tbody tr th {\n",
       "        vertical-align: top;\n",
       "    }\n",
       "\n",
       "    .dataframe thead th {\n",
       "        text-align: right;\n",
       "    }\n",
       "</style>\n",
       "<table border=\"1\" class=\"dataframe\">\n",
       "  <thead>\n",
       "    <tr style=\"text-align: right;\">\n",
       "      <th></th>\n",
       "      <th>count</th>\n",
       "      <th>mean</th>\n",
       "      <th>std</th>\n",
       "      <th>min</th>\n",
       "      <th>25%</th>\n",
       "      <th>50%</th>\n",
       "      <th>75%</th>\n",
       "      <th>max</th>\n",
       "    </tr>\n",
       "  </thead>\n",
       "  <tbody>\n",
       "    <tr>\n",
       "      <th>review_id</th>\n",
       "      <td>2793.0</td>\n",
       "      <td>1397.000000</td>\n",
       "      <td>806.413976</td>\n",
       "      <td>1.0</td>\n",
       "      <td>699.0</td>\n",
       "      <td>1397.0</td>\n",
       "      <td>2095.0</td>\n",
       "      <td>2793.0</td>\n",
       "    </tr>\n",
       "    <tr>\n",
       "      <th>book_id</th>\n",
       "      <td>2793.0</td>\n",
       "      <td>504.693161</td>\n",
       "      <td>288.472931</td>\n",
       "      <td>1.0</td>\n",
       "      <td>259.0</td>\n",
       "      <td>505.0</td>\n",
       "      <td>753.0</td>\n",
       "      <td>1000.0</td>\n",
       "    </tr>\n",
       "  </tbody>\n",
       "</table>\n",
       "</div>"
      ],
      "text/plain": [
       "            count         mean         std  min    25%     50%     75%     max\n",
       "review_id  2793.0  1397.000000  806.413976  1.0  699.0  1397.0  2095.0  2793.0\n",
       "book_id    2793.0   504.693161  288.472931  1.0  259.0   505.0   753.0  1000.0"
      ]
     },
     "metadata": {},
     "output_type": "display_data"
    },
    {
     "name": "stdout",
     "output_type": "stream",
     "text": [
      "\u001b[31m_____________isna______________________\u001b[0m\n"
     ]
    },
    {
     "data": {
      "text/html": [
       "<div>\n",
       "<style scoped>\n",
       "    .dataframe tbody tr th:only-of-type {\n",
       "        vertical-align: middle;\n",
       "    }\n",
       "\n",
       "    .dataframe tbody tr th {\n",
       "        vertical-align: top;\n",
       "    }\n",
       "\n",
       "    .dataframe thead th {\n",
       "        text-align: right;\n",
       "    }\n",
       "</style>\n",
       "<table border=\"1\" class=\"dataframe\">\n",
       "  <thead>\n",
       "    <tr style=\"text-align: right;\">\n",
       "      <th></th>\n",
       "      <th>index</th>\n",
       "      <th>0</th>\n",
       "    </tr>\n",
       "  </thead>\n",
       "  <tbody>\n",
       "    <tr>\n",
       "      <th>0</th>\n",
       "      <td>review_id</td>\n",
       "      <td>0</td>\n",
       "    </tr>\n",
       "    <tr>\n",
       "      <th>1</th>\n",
       "      <td>book_id</td>\n",
       "      <td>0</td>\n",
       "    </tr>\n",
       "    <tr>\n",
       "      <th>2</th>\n",
       "      <td>username</td>\n",
       "      <td>0</td>\n",
       "    </tr>\n",
       "    <tr>\n",
       "      <th>3</th>\n",
       "      <td>text</td>\n",
       "      <td>0</td>\n",
       "    </tr>\n",
       "  </tbody>\n",
       "</table>\n",
       "</div>"
      ],
      "text/plain": [
       "       index  0\n",
       "0  review_id  0\n",
       "1    book_id  0\n",
       "2   username  0\n",
       "3       text  0"
      ]
     },
     "metadata": {},
     "output_type": "display_data"
    },
    {
     "name": "stdout",
     "output_type": "stream",
     "text": [
      "\u001b[31m_______Поиск дубликатов________________\u001b[0m\n"
     ]
    },
    {
     "data": {
      "text/plain": [
       "0"
      ]
     },
     "metadata": {},
     "output_type": "display_data"
    },
    {
     "name": "stdout",
     "output_type": "stream",
     "text": [
      "\u001b[31m__количество пропущенных значений по каждому из столбцов__\u001b[0m\n"
     ]
    },
    {
     "data": {
      "text/html": [
       "<div>\n",
       "<style scoped>\n",
       "    .dataframe tbody tr th:only-of-type {\n",
       "        vertical-align: middle;\n",
       "    }\n",
       "\n",
       "    .dataframe tbody tr th {\n",
       "        vertical-align: top;\n",
       "    }\n",
       "\n",
       "    .dataframe thead th {\n",
       "        text-align: right;\n",
       "    }\n",
       "</style>\n",
       "<table border=\"1\" class=\"dataframe\">\n",
       "  <thead>\n",
       "    <tr style=\"text-align: right;\">\n",
       "      <th></th>\n",
       "      <th>index</th>\n",
       "      <th>0</th>\n",
       "    </tr>\n",
       "  </thead>\n",
       "  <tbody>\n",
       "    <tr>\n",
       "      <th>0</th>\n",
       "      <td>review_id</td>\n",
       "      <td>0.0</td>\n",
       "    </tr>\n",
       "    <tr>\n",
       "      <th>1</th>\n",
       "      <td>book_id</td>\n",
       "      <td>0.0</td>\n",
       "    </tr>\n",
       "    <tr>\n",
       "      <th>2</th>\n",
       "      <td>username</td>\n",
       "      <td>0.0</td>\n",
       "    </tr>\n",
       "    <tr>\n",
       "      <th>3</th>\n",
       "      <td>text</td>\n",
       "      <td>0.0</td>\n",
       "    </tr>\n",
       "  </tbody>\n",
       "</table>\n",
       "</div>"
      ],
      "text/plain": [
       "       index    0\n",
       "0  review_id  0.0\n",
       "1    book_id  0.0\n",
       "2   username  0.0\n",
       "3       text  0.0"
      ]
     },
     "metadata": {},
     "output_type": "display_data"
    },
    {
     "name": "stdout",
     "output_type": "stream",
     "text": [
      "\u001b[34m_________________________конец изучения файла____________________________________\u001b[0m\n",
      "\n"
     ]
    }
   ],
   "source": [
    "# изучим данные\n",
    "list_df = (books, authors, publishers, ratings, reviews)\n",
    "for list_df in list_df:\n",
    "    print('\\033[31m' + '______________info_____________________' + '\\033[0m')\n",
    "    display(list_df.info())\n",
    "    print('\\033[31m' + '______________describe_________________' + '\\033[0m')\n",
    "    display(list_df.describe().T)\n",
    "    print('\\033[31m' + '_____________isna______________________' + '\\033[0m')\n",
    "    display(list_df.isna().sum().reset_index())\n",
    "    print('\\033[31m' + '_______Поиск дубликатов________________' + '\\033[0m')\n",
    "    display(list_df.duplicated().sum())\n",
    "    print('\\033[31m' + '__количество пропущенных значений по каждому из столбцов__' + '\\033[0m')\n",
    "    display(list_df.isnull().mean().reset_index())\n",
    "    print('\\033[34m' + '_________________________конец изучения файла____________________________________' + '\\033[0m')\n",
    "    print('')"
   ]
  },
  {
   "cell_type": "markdown",
   "metadata": {},
   "source": [
    "#### Во всех таблицах разное количество строк, пропуски и дубликаты отсутствуют\n",
    "\n",
    "Тип в колонке publication_date - object "
   ]
  },
  {
   "cell_type": "code",
   "execution_count": 15,
   "metadata": {},
   "outputs": [],
   "source": [
    "# изменим тип данных на дату\n",
    "books['publication_date'] = pd.to_datetime(books['publication_date'])"
   ]
  },
  {
   "cell_type": "code",
   "execution_count": 16,
   "metadata": {},
   "outputs": [
    {
     "data": {
      "text/plain": [
       "book_id                      int64\n",
       "author_id                    int64\n",
       "title                       object\n",
       "num_pages                    int64\n",
       "publication_date    datetime64[ns]\n",
       "publisher_id                 int64\n",
       "dtype: object"
      ]
     },
     "execution_count": 16,
     "metadata": {},
     "output_type": "execute_result"
    }
   ],
   "source": [
    "# проверяем\n",
    "books.dtypes"
   ]
  },
  {
   "cell_type": "markdown",
   "metadata": {},
   "source": [
    "## Посчитаем, сколько книг вышло после 1 января 2000 года"
   ]
  },
  {
   "cell_type": "code",
   "execution_count": 17,
   "metadata": {},
   "outputs": [
    {
     "data": {
      "text/html": [
       "<div>\n",
       "<style scoped>\n",
       "    .dataframe tbody tr th:only-of-type {\n",
       "        vertical-align: middle;\n",
       "    }\n",
       "\n",
       "    .dataframe tbody tr th {\n",
       "        vertical-align: top;\n",
       "    }\n",
       "\n",
       "    .dataframe thead th {\n",
       "        text-align: right;\n",
       "    }\n",
       "</style>\n",
       "<table border=\"1\" class=\"dataframe\">\n",
       "  <thead>\n",
       "    <tr style=\"text-align: right;\">\n",
       "      <th></th>\n",
       "      <th>Количество книг</th>\n",
       "    </tr>\n",
       "  </thead>\n",
       "  <tbody>\n",
       "    <tr>\n",
       "      <th>0</th>\n",
       "      <td>819</td>\n",
       "    </tr>\n",
       "  </tbody>\n",
       "</table>\n",
       "</div>"
      ],
      "text/plain": [
       "   Количество книг\n",
       "0              819"
      ]
     },
     "execution_count": 17,
     "metadata": {},
     "output_type": "execute_result"
    }
   ],
   "source": [
    "query = '''\n",
    "        SELECT \n",
    "        COUNT(book_id) as sum_books ----количество книг\n",
    "        FROM books\n",
    "        WHERE publication_date>'2000-01-01'\n",
    "        '''\n",
    "pd.read_sql(query, con = engine)\n",
    "\n",
    "df = pd.io.sql.read_sql(query, con = engine)\n",
    "df.columns = ['Количество книг']\n",
    "df"
   ]
  },
  {
   "cell_type": "markdown",
   "metadata": {},
   "source": [
    "#### Таких книг 819 ед.\n",
    "\n",
    "## Для каждой книги посчитаем количество обзоров и среднюю оценку"
   ]
  },
  {
   "cell_type": "markdown",
   "metadata": {},
   "source": []
  },
  {
   "cell_type": "code",
   "execution_count": 18,
   "metadata": {},
   "outputs": [
    {
     "data": {
      "text/html": [
       "<div>\n",
       "<style scoped>\n",
       "    .dataframe tbody tr th:only-of-type {\n",
       "        vertical-align: middle;\n",
       "    }\n",
       "\n",
       "    .dataframe tbody tr th {\n",
       "        vertical-align: top;\n",
       "    }\n",
       "\n",
       "    .dataframe thead th {\n",
       "        text-align: right;\n",
       "    }\n",
       "</style>\n",
       "<table border=\"1\" class=\"dataframe\">\n",
       "  <thead>\n",
       "    <tr style=\"text-align: right;\">\n",
       "      <th></th>\n",
       "      <th>Идентификационный №</th>\n",
       "      <th>Название</th>\n",
       "      <th>Количество обзоров</th>\n",
       "      <th>Средний рейтинг</th>\n",
       "    </tr>\n",
       "  </thead>\n",
       "  <tbody>\n",
       "    <tr>\n",
       "      <th>0</th>\n",
       "      <td>948</td>\n",
       "      <td>Twilight (Twilight  #1)</td>\n",
       "      <td>7</td>\n",
       "      <td>3.662500</td>\n",
       "    </tr>\n",
       "    <tr>\n",
       "      <th>1</th>\n",
       "      <td>963</td>\n",
       "      <td>Water for Elephants</td>\n",
       "      <td>6</td>\n",
       "      <td>3.977273</td>\n",
       "    </tr>\n",
       "    <tr>\n",
       "      <th>2</th>\n",
       "      <td>734</td>\n",
       "      <td>The Glass Castle</td>\n",
       "      <td>6</td>\n",
       "      <td>4.206897</td>\n",
       "    </tr>\n",
       "    <tr>\n",
       "      <th>3</th>\n",
       "      <td>302</td>\n",
       "      <td>Harry Potter and the Prisoner of Azkaban (Harr...</td>\n",
       "      <td>6</td>\n",
       "      <td>4.414634</td>\n",
       "    </tr>\n",
       "    <tr>\n",
       "      <th>4</th>\n",
       "      <td>695</td>\n",
       "      <td>The Curious Incident of the Dog in the Night-Time</td>\n",
       "      <td>6</td>\n",
       "      <td>4.081081</td>\n",
       "    </tr>\n",
       "    <tr>\n",
       "      <th>...</th>\n",
       "      <td>...</td>\n",
       "      <td>...</td>\n",
       "      <td>...</td>\n",
       "      <td>...</td>\n",
       "    </tr>\n",
       "    <tr>\n",
       "      <th>995</th>\n",
       "      <td>83</td>\n",
       "      <td>Anne Rice's The Vampire Lestat: A Graphic Novel</td>\n",
       "      <td>0</td>\n",
       "      <td>3.666667</td>\n",
       "    </tr>\n",
       "    <tr>\n",
       "      <th>996</th>\n",
       "      <td>808</td>\n",
       "      <td>The Natural Way to Draw</td>\n",
       "      <td>0</td>\n",
       "      <td>3.000000</td>\n",
       "    </tr>\n",
       "    <tr>\n",
       "      <th>997</th>\n",
       "      <td>672</td>\n",
       "      <td>The Cat in the Hat and Other Dr. Seuss Favorites</td>\n",
       "      <td>0</td>\n",
       "      <td>5.000000</td>\n",
       "    </tr>\n",
       "    <tr>\n",
       "      <th>998</th>\n",
       "      <td>221</td>\n",
       "      <td>Essential Tales and Poems</td>\n",
       "      <td>0</td>\n",
       "      <td>4.000000</td>\n",
       "    </tr>\n",
       "    <tr>\n",
       "      <th>999</th>\n",
       "      <td>191</td>\n",
       "      <td>Disney's Beauty and the Beast (A Little Golden...</td>\n",
       "      <td>0</td>\n",
       "      <td>4.000000</td>\n",
       "    </tr>\n",
       "  </tbody>\n",
       "</table>\n",
       "<p>1000 rows × 4 columns</p>\n",
       "</div>"
      ],
      "text/plain": [
       "     Идентификационный №                                           Название  \\\n",
       "0                    948                            Twilight (Twilight  #1)   \n",
       "1                    963                                Water for Elephants   \n",
       "2                    734                                   The Glass Castle   \n",
       "3                    302  Harry Potter and the Prisoner of Azkaban (Harr...   \n",
       "4                    695  The Curious Incident of the Dog in the Night-Time   \n",
       "..                   ...                                                ...   \n",
       "995                   83    Anne Rice's The Vampire Lestat: A Graphic Novel   \n",
       "996                  808                            The Natural Way to Draw   \n",
       "997                  672   The Cat in the Hat and Other Dr. Seuss Favorites   \n",
       "998                  221                          Essential Tales and Poems   \n",
       "999                  191  Disney's Beauty and the Beast (A Little Golden...   \n",
       "\n",
       "     Количество обзоров  Средний рейтинг  \n",
       "0                     7         3.662500  \n",
       "1                     6         3.977273  \n",
       "2                     6         4.206897  \n",
       "3                     6         4.414634  \n",
       "4                     6         4.081081  \n",
       "..                  ...              ...  \n",
       "995                   0         3.666667  \n",
       "996                   0         3.000000  \n",
       "997                   0         5.000000  \n",
       "998                   0         4.000000  \n",
       "999                   0         4.000000  \n",
       "\n",
       "[1000 rows x 4 columns]"
      ]
     },
     "execution_count": 18,
     "metadata": {},
     "output_type": "execute_result"
    }
   ],
   "source": [
    "query = '''\n",
    "    SELECT b.book_id, b.title, \n",
    "    COUNT(DISTINCT r.review_id) as sum_rev, ----количество обзоров\n",
    "    AVG(rt.rating) as avg_rating\n",
    "    FROM BOOKS b \n",
    "        LEFT JOIN ratings rt ON rt.book_id=b.book_id \n",
    "        LEFT JOIN reviews r ON r.book_id=rt.book_id\n",
    "    GROUP BY b.book_id\n",
    "    ORDER BY sum_rev DESC\n",
    "    '''\n",
    "\n",
    "df = pd.io.sql.read_sql(query, con = engine)\n",
    "df.columns = ['Идентификационный №','Название', 'Количество обзоров', 'Средний рейтинг']\n",
    "df"
   ]
  },
  {
   "cell_type": "markdown",
   "metadata": {},
   "source": [
    "#### Если брать за основу \"количество обзоров\", то в лидерах Twilight (Twilight #1) с 7 обзорами\n",
    "\n",
    "## Определим издательство, которое выпустило наибольшее число книг "
   ]
  },
  {
   "cell_type": "code",
   "execution_count": 19,
   "metadata": {
    "scrolled": true
   },
   "outputs": [
    {
     "data": {
      "text/html": [
       "<div>\n",
       "<style scoped>\n",
       "    .dataframe tbody tr th:only-of-type {\n",
       "        vertical-align: middle;\n",
       "    }\n",
       "\n",
       "    .dataframe tbody tr th {\n",
       "        vertical-align: top;\n",
       "    }\n",
       "\n",
       "    .dataframe thead th {\n",
       "        text-align: right;\n",
       "    }\n",
       "</style>\n",
       "<table border=\"1\" class=\"dataframe\">\n",
       "  <thead>\n",
       "    <tr style=\"text-align: right;\">\n",
       "      <th></th>\n",
       "      <th>Издательство</th>\n",
       "      <th>Количество книг</th>\n",
       "    </tr>\n",
       "  </thead>\n",
       "  <tbody>\n",
       "    <tr>\n",
       "      <th>0</th>\n",
       "      <td>Penguin Books</td>\n",
       "      <td>42</td>\n",
       "    </tr>\n",
       "  </tbody>\n",
       "</table>\n",
       "</div>"
      ],
      "text/plain": [
       "    Издательство  Количество книг\n",
       "0  Penguin Books               42"
      ]
     },
     "execution_count": 19,
     "metadata": {},
     "output_type": "execute_result"
    }
   ],
   "source": [
    "query = '''\n",
    "        SELECT p.publisher, ---- название издательства \n",
    "        COUNT (b.book_id) as sum_book --- количество книг \n",
    "        FROM books b \n",
    "            LEFT JOIN  publishers p ON b.publisher_id=p.publisher_id \n",
    "        WHERE b.num_pages>50   \n",
    "        GROUP BY p.publisher\n",
    "        ORDER BY sum_book DESC\n",
    "        LIMIT 1\n",
    "    '''\n",
    "pd.read_sql(query, con = engine)\n",
    "\n",
    "df = pd.io.sql.read_sql(query, con = engine)\n",
    "df.columns = ['Издательство','Количество книг']\n",
    "df"
   ]
  },
  {
   "cell_type": "markdown",
   "metadata": {},
   "source": [
    "#### Таким издательством стало Penguin Books с 42 книгами (книга - издание, в котором больше 50 стр.)\n",
    "\n",
    "## Определим автора с самой высокой средней оценкой книги"
   ]
  },
  {
   "cell_type": "code",
   "execution_count": 20,
   "metadata": {},
   "outputs": [
    {
     "data": {
      "text/html": [
       "<div>\n",
       "<style scoped>\n",
       "    .dataframe tbody tr th:only-of-type {\n",
       "        vertical-align: middle;\n",
       "    }\n",
       "\n",
       "    .dataframe tbody tr th {\n",
       "        vertical-align: top;\n",
       "    }\n",
       "\n",
       "    .dataframe thead th {\n",
       "        text-align: right;\n",
       "    }\n",
       "</style>\n",
       "<table border=\"1\" class=\"dataframe\">\n",
       "  <thead>\n",
       "    <tr style=\"text-align: right;\">\n",
       "      <th></th>\n",
       "      <th>Автор</th>\n",
       "      <th>Средний рейтинг</th>\n",
       "    </tr>\n",
       "  </thead>\n",
       "  <tbody>\n",
       "    <tr>\n",
       "      <th>0</th>\n",
       "      <td>J.K. Rowling/Mary GrandPré</td>\n",
       "      <td>4.287097</td>\n",
       "    </tr>\n",
       "    <tr>\n",
       "      <th>1</th>\n",
       "      <td>Markus Zusak/Cao Xuân Việt Khương</td>\n",
       "      <td>4.264151</td>\n",
       "    </tr>\n",
       "    <tr>\n",
       "      <th>2</th>\n",
       "      <td>J.R.R. Tolkien</td>\n",
       "      <td>4.246914</td>\n",
       "    </tr>\n",
       "    <tr>\n",
       "      <th>3</th>\n",
       "      <td>Louisa May Alcott</td>\n",
       "      <td>4.192308</td>\n",
       "    </tr>\n",
       "    <tr>\n",
       "      <th>4</th>\n",
       "      <td>Rick Riordan</td>\n",
       "      <td>4.080645</td>\n",
       "    </tr>\n",
       "  </tbody>\n",
       "</table>\n",
       "</div>"
      ],
      "text/plain": [
       "                               Автор  Средний рейтинг\n",
       "0         J.K. Rowling/Mary GrandPré         4.287097\n",
       "1  Markus Zusak/Cao Xuân Việt Khương         4.264151\n",
       "2                     J.R.R. Tolkien         4.246914\n",
       "3                  Louisa May Alcott         4.192308\n",
       "4                       Rick Riordan         4.080645"
      ]
     },
     "execution_count": 20,
     "metadata": {},
     "output_type": "execute_result"
    }
   ],
   "source": [
    "query  = '''\n",
    "        SELECT a.author,             \n",
    "        AVG(rt.rating) AS avg_rating ----cредний рейтинг\n",
    "        FROM \n",
    "         books b\n",
    "        LEFT JOIN authors a ON b.author_id = a.author_id\n",
    "        LEFT JOIN ratings rt ON rt.book_id = b.book_id\n",
    "        WHERE b.book_id IN (\n",
    "            SELECT b.book_id FROM books b    \n",
    "                LEFT JOIN ratings rt ON rt.book_id = b.book_id     \n",
    "                     GROUP BY\n",
    "                          b.book_id\n",
    "                     HAVING \n",
    "                          COUNT(rt.rating_id) >= 50\n",
    "                      )\n",
    "                 GROUP BY\n",
    "                    a.author  \n",
    "                 ORDER BY \n",
    "                    avg_rating DESC\n",
    "                 LIMIT 5    \n",
    "       '''\n",
    "pd.read_sql(query, con = engine)\n",
    "\n",
    "df = pd.io.sql.read_sql(query, con = engine)\n",
    "df.columns = ['Автор','Средний рейтинг']\n",
    "df"
   ]
  },
  {
   "cell_type": "markdown",
   "metadata": {},
   "source": [
    "#### автор с самой высокой средней оценкой книг (50 и более оценок): J.K. Rowling\n",
    "\n",
    "## Посчитаем среднее количество обзоров от пользователей"
   ]
  },
  {
   "cell_type": "code",
   "execution_count": 21,
   "metadata": {},
   "outputs": [
    {
     "data": {
      "text/html": [
       "<div>\n",
       "<style scoped>\n",
       "    .dataframe tbody tr th:only-of-type {\n",
       "        vertical-align: middle;\n",
       "    }\n",
       "\n",
       "    .dataframe tbody tr th {\n",
       "        vertical-align: top;\n",
       "    }\n",
       "\n",
       "    .dataframe thead th {\n",
       "        text-align: right;\n",
       "    }\n",
       "</style>\n",
       "<table border=\"1\" class=\"dataframe\">\n",
       "  <thead>\n",
       "    <tr style=\"text-align: right;\">\n",
       "      <th></th>\n",
       "      <th>Среднее количество обзоров</th>\n",
       "    </tr>\n",
       "  </thead>\n",
       "  <tbody>\n",
       "    <tr>\n",
       "      <th>0</th>\n",
       "      <td>24.0</td>\n",
       "    </tr>\n",
       "  </tbody>\n",
       "</table>\n",
       "</div>"
      ],
      "text/plain": [
       "   Среднее количество обзоров\n",
       "0                        24.0"
      ]
     },
     "execution_count": 21,
     "metadata": {},
     "output_type": "execute_result"
    }
   ],
   "source": [
    "query = '''\n",
    "     SELECT SUM(a.cnt) / COUNT(a.username) AS avg_cnt_reviews\n",
    "     FROM\n",
    "        (SELECT r.username,\n",
    "            COUNT(r.review_id) AS cnt ---- количество оценок \n",
    "                FROM\n",
    "                    reviews r \n",
    "                WHERE r.username IN  (SELECT rt.username FROM ratings rt\n",
    "                     LEFT JOIN books b ON b.book_id = rt.book_id\n",
    "                     GROUP BY\n",
    "                         rt.username\n",
    "                     HAVING\n",
    "                         COUNT(rt.rating_id) > 48)\n",
    "                GROUP BY r.username) AS a\n",
    "\n",
    "       '''\n",
    "pd.read_sql(query, con = engine).round()\n",
    "\n",
    "df = pd.io.sql.read_sql(query, con = engine)\n",
    "df.columns = ['Среднее количество обзоров']\n",
    "df"
   ]
  },
  {
   "cell_type": "markdown",
   "metadata": {},
   "source": [
    "#### Пользователи оставившие более 50 оценок, в среднем написали 24 обзора\n",
    "\n",
    "## Вывод:\n",
    "\n",
    "- С января 2000 г. вышло 819 книг\n",
    "- Больше всего обзоров у книги Twilight(Twilight #1)  - 7 обзоров со средней оценкой 3,7\n",
    "- Лидирующее издательство по выпуску книг - Penguin Books\n",
    "- Самый рейтинговый писатель - J.K. Rowling.\n",
    "- Среднее количество обзоров на пользователя с более чем 48 оценками - 24"
   ]
  }
 ],
 "metadata": {
  "ExecuteTimeLog": [
   {
    "duration": 216,
    "start_time": "2023-06-14T15:28:59.349Z"
   },
   {
    "duration": 489,
    "start_time": "2023-06-14T15:31:15.710Z"
   },
   {
    "duration": 144,
    "start_time": "2023-06-14T15:31:30.683Z"
   },
   {
    "duration": 14640,
    "start_time": "2023-06-14T15:32:44.398Z"
   },
   {
    "duration": 115,
    "start_time": "2023-06-14T15:33:05.376Z"
   },
   {
    "duration": 25,
    "start_time": "2023-06-14T15:33:24.480Z"
   },
   {
    "duration": 125,
    "start_time": "2023-06-14T15:35:37.272Z"
   },
   {
    "duration": 231,
    "start_time": "2023-06-14T15:44:51.336Z"
   },
   {
    "duration": 130,
    "start_time": "2023-06-14T15:45:58.294Z"
   },
   {
    "duration": 4,
    "start_time": "2023-06-14T15:47:11.371Z"
   },
   {
    "duration": 169,
    "start_time": "2023-06-14T15:47:31.307Z"
   },
   {
    "duration": 152,
    "start_time": "2023-06-14T15:49:25.910Z"
   },
   {
    "duration": 4,
    "start_time": "2023-06-14T15:50:09.787Z"
   },
   {
    "duration": 152,
    "start_time": "2023-06-14T15:50:19.021Z"
   },
   {
    "duration": 5,
    "start_time": "2023-06-14T15:51:23.499Z"
   },
   {
    "duration": 504,
    "start_time": "2023-06-14T15:51:46.693Z"
   },
   {
    "duration": 12531,
    "start_time": "2023-06-14T15:51:47.199Z"
   },
   {
    "duration": 193,
    "start_time": "2023-06-14T15:51:59.731Z"
   },
   {
    "duration": 5,
    "start_time": "2023-06-14T15:51:59.926Z"
   },
   {
    "duration": 104,
    "start_time": "2023-06-14T15:51:59.932Z"
   },
   {
    "duration": 3,
    "start_time": "2023-06-14T15:52:45.229Z"
   },
   {
    "duration": 9,
    "start_time": "2023-06-14T15:52:46.101Z"
   },
   {
    "duration": 4,
    "start_time": "2023-06-14T15:54:06.428Z"
   },
   {
    "duration": 8,
    "start_time": "2023-06-14T15:54:07.905Z"
   },
   {
    "duration": 4,
    "start_time": "2023-06-14T15:54:48.119Z"
   },
   {
    "duration": 7,
    "start_time": "2023-06-14T15:54:49.011Z"
   },
   {
    "duration": 3,
    "start_time": "2023-06-14T15:55:11.940Z"
   },
   {
    "duration": 8,
    "start_time": "2023-06-14T15:55:13.199Z"
   },
   {
    "duration": 10,
    "start_time": "2023-06-14T15:57:56.542Z"
   },
   {
    "duration": 126,
    "start_time": "2023-06-14T16:00:47.176Z"
   },
   {
    "duration": 9,
    "start_time": "2023-06-14T16:01:25.334Z"
   },
   {
    "duration": 3,
    "start_time": "2023-06-14T16:01:58.243Z"
   },
   {
    "duration": 7,
    "start_time": "2023-06-14T16:02:11.430Z"
   },
   {
    "duration": 103,
    "start_time": "2023-06-14T16:02:47.965Z"
   },
   {
    "duration": 4,
    "start_time": "2023-06-14T16:03:54.635Z"
   },
   {
    "duration": 168,
    "start_time": "2023-06-14T16:03:55.387Z"
   },
   {
    "duration": 3,
    "start_time": "2023-06-14T16:04:50.079Z"
   },
   {
    "duration": 580,
    "start_time": "2023-06-14T16:05:28.287Z"
   },
   {
    "duration": 13380,
    "start_time": "2023-06-14T16:05:28.870Z"
   },
   {
    "duration": 235,
    "start_time": "2023-06-14T16:05:42.252Z"
   },
   {
    "duration": 5,
    "start_time": "2023-06-14T16:05:42.489Z"
   },
   {
    "duration": 115,
    "start_time": "2023-06-14T16:05:42.497Z"
   },
   {
    "duration": 0,
    "start_time": "2023-06-14T16:05:42.614Z"
   },
   {
    "duration": 0,
    "start_time": "2023-06-14T16:05:42.615Z"
   },
   {
    "duration": 0,
    "start_time": "2023-06-14T16:05:42.616Z"
   },
   {
    "duration": 0,
    "start_time": "2023-06-14T16:05:42.618Z"
   },
   {
    "duration": 558,
    "start_time": "2023-06-14T18:29:46.237Z"
   },
   {
    "duration": 12020,
    "start_time": "2023-06-14T18:29:46.797Z"
   },
   {
    "duration": 166,
    "start_time": "2023-06-14T18:29:58.819Z"
   },
   {
    "duration": 4,
    "start_time": "2023-06-14T18:29:58.989Z"
   },
   {
    "duration": 77,
    "start_time": "2023-06-14T18:29:58.995Z"
   },
   {
    "duration": 0,
    "start_time": "2023-06-14T18:29:59.073Z"
   },
   {
    "duration": 0,
    "start_time": "2023-06-14T18:29:59.074Z"
   },
   {
    "duration": 0,
    "start_time": "2023-06-14T18:29:59.075Z"
   },
   {
    "duration": 0,
    "start_time": "2023-06-14T18:29:59.076Z"
   },
   {
    "duration": 10,
    "start_time": "2023-06-14T18:30:14.604Z"
   },
   {
    "duration": 3,
    "start_time": "2023-06-14T18:30:26.546Z"
   },
   {
    "duration": 7,
    "start_time": "2023-06-14T18:30:27.848Z"
   },
   {
    "duration": 47,
    "start_time": "2023-06-14T18:30:30.109Z"
   },
   {
    "duration": 10,
    "start_time": "2023-06-14T18:31:44.624Z"
   },
   {
    "duration": 340,
    "start_time": "2023-06-14T18:32:19.529Z"
   },
   {
    "duration": 447,
    "start_time": "2023-06-15T02:52:18.632Z"
   },
   {
    "duration": 19236,
    "start_time": "2023-06-15T02:52:19.080Z"
   },
   {
    "duration": 793,
    "start_time": "2023-06-15T02:52:38.318Z"
   },
   {
    "duration": 68,
    "start_time": "2023-06-15T02:52:39.113Z"
   },
   {
    "duration": 0,
    "start_time": "2023-06-15T02:52:39.183Z"
   },
   {
    "duration": 9,
    "start_time": "2023-06-15T02:53:16.353Z"
   },
   {
    "duration": 9,
    "start_time": "2023-06-15T02:54:00.175Z"
   },
   {
    "duration": 2,
    "start_time": "2023-06-15T02:54:11.211Z"
   },
   {
    "duration": 4,
    "start_time": "2023-06-15T02:54:12.384Z"
   },
   {
    "duration": 7,
    "start_time": "2023-06-15T02:54:13.535Z"
   },
   {
    "duration": 598,
    "start_time": "2023-06-15T02:54:27.311Z"
   },
   {
    "duration": 11,
    "start_time": "2023-06-15T02:56:11.899Z"
   },
   {
    "duration": 258,
    "start_time": "2023-06-15T02:56:16.096Z"
   },
   {
    "duration": 459,
    "start_time": "2023-06-15T02:56:28.884Z"
   },
   {
    "duration": 490,
    "start_time": "2023-06-15T02:56:32.721Z"
   },
   {
    "duration": 5,
    "start_time": "2023-06-15T03:07:04.549Z"
   },
   {
    "duration": 5,
    "start_time": "2023-06-15T03:07:18.839Z"
   },
   {
    "duration": 91,
    "start_time": "2023-06-15T03:10:27.028Z"
   },
   {
    "duration": 76,
    "start_time": "2023-06-15T03:12:21.401Z"
   },
   {
    "duration": 84,
    "start_time": "2023-06-15T03:13:01.091Z"
   },
   {
    "duration": 77,
    "start_time": "2023-06-15T03:13:11.019Z"
   },
   {
    "duration": 117,
    "start_time": "2023-06-15T03:19:40.851Z"
   },
   {
    "duration": 588,
    "start_time": "2023-06-15T03:20:17.272Z"
   },
   {
    "duration": 171,
    "start_time": "2023-06-15T03:21:27.589Z"
   },
   {
    "duration": 162,
    "start_time": "2023-06-15T03:24:00.077Z"
   },
   {
    "duration": 126,
    "start_time": "2023-06-15T03:24:22.749Z"
   },
   {
    "duration": 140,
    "start_time": "2023-06-15T06:24:28.390Z"
   },
   {
    "duration": 196,
    "start_time": "2023-06-15T06:25:45.976Z"
   },
   {
    "duration": 144,
    "start_time": "2023-06-15T06:30:40.537Z"
   },
   {
    "duration": 114,
    "start_time": "2023-06-15T06:31:22.722Z"
   },
   {
    "duration": 151,
    "start_time": "2023-06-15T06:31:58.484Z"
   },
   {
    "duration": 232,
    "start_time": "2023-06-15T06:32:27.966Z"
   },
   {
    "duration": 244,
    "start_time": "2023-06-15T06:32:41.044Z"
   },
   {
    "duration": 100,
    "start_time": "2023-06-15T06:36:43.505Z"
   },
   {
    "duration": 186,
    "start_time": "2023-06-15T06:37:34.666Z"
   },
   {
    "duration": 110,
    "start_time": "2023-06-15T06:39:09.142Z"
   },
   {
    "duration": 203,
    "start_time": "2023-06-15T06:39:14.871Z"
   },
   {
    "duration": 216,
    "start_time": "2023-06-15T06:43:22.272Z"
   },
   {
    "duration": 160,
    "start_time": "2023-06-15T06:47:54.136Z"
   },
   {
    "duration": 558,
    "start_time": "2023-06-15T12:44:26.747Z"
   },
   {
    "duration": 12121,
    "start_time": "2023-06-15T12:44:27.307Z"
   },
   {
    "duration": 3,
    "start_time": "2023-06-15T12:44:39.430Z"
   },
   {
    "duration": 82,
    "start_time": "2023-06-15T12:44:39.436Z"
   },
   {
    "duration": 0,
    "start_time": "2023-06-15T12:44:39.520Z"
   },
   {
    "duration": 0,
    "start_time": "2023-06-15T12:44:39.522Z"
   },
   {
    "duration": 0,
    "start_time": "2023-06-15T12:44:39.523Z"
   },
   {
    "duration": 0,
    "start_time": "2023-06-15T12:44:39.523Z"
   },
   {
    "duration": 0,
    "start_time": "2023-06-15T12:44:39.524Z"
   },
   {
    "duration": 0,
    "start_time": "2023-06-15T12:44:39.526Z"
   },
   {
    "duration": 0,
    "start_time": "2023-06-15T12:44:39.527Z"
   },
   {
    "duration": 677,
    "start_time": "2023-06-15T17:22:31.697Z"
   },
   {
    "duration": 19273,
    "start_time": "2023-06-15T17:22:33.574Z"
   },
   {
    "duration": 3,
    "start_time": "2023-06-15T17:22:52.849Z"
   },
   {
    "duration": 194,
    "start_time": "2023-06-15T17:22:52.854Z"
   },
   {
    "duration": 13,
    "start_time": "2023-06-15T17:23:04.866Z"
   },
   {
    "duration": 9,
    "start_time": "2023-06-15T17:23:06.703Z"
   },
   {
    "duration": 487,
    "start_time": "2023-06-15T17:23:14.347Z"
   },
   {
    "duration": 146,
    "start_time": "2023-06-15T17:23:17.529Z"
   },
   {
    "duration": 203,
    "start_time": "2023-06-15T17:23:27.326Z"
   },
   {
    "duration": 226,
    "start_time": "2023-06-15T17:23:30.411Z"
   },
   {
    "duration": 229,
    "start_time": "2023-06-15T17:23:33.111Z"
   },
   {
    "duration": 620,
    "start_time": "2023-06-15T17:24:13.841Z"
   },
   {
    "duration": 18160,
    "start_time": "2023-06-15T17:24:14.463Z"
   },
   {
    "duration": 3,
    "start_time": "2023-06-15T17:24:32.629Z"
   },
   {
    "duration": 137,
    "start_time": "2023-06-15T17:24:32.634Z"
   },
   {
    "duration": 0,
    "start_time": "2023-06-15T17:24:32.773Z"
   },
   {
    "duration": 0,
    "start_time": "2023-06-15T17:24:32.779Z"
   },
   {
    "duration": 0,
    "start_time": "2023-06-15T17:24:32.784Z"
   },
   {
    "duration": 0,
    "start_time": "2023-06-15T17:24:32.786Z"
   },
   {
    "duration": 0,
    "start_time": "2023-06-15T17:24:32.789Z"
   },
   {
    "duration": 0,
    "start_time": "2023-06-15T17:24:32.790Z"
   },
   {
    "duration": 0,
    "start_time": "2023-06-15T17:24:32.791Z"
   },
   {
    "duration": 20,
    "start_time": "2023-06-15T17:25:28.699Z"
   },
   {
    "duration": 4,
    "start_time": "2023-06-15T17:26:40.451Z"
   },
   {
    "duration": 7,
    "start_time": "2023-06-15T17:26:41.716Z"
   },
   {
    "duration": 9,
    "start_time": "2023-06-15T17:26:42.903Z"
   },
   {
    "duration": 13,
    "start_time": "2023-06-15T17:26:44.860Z"
   },
   {
    "duration": 787,
    "start_time": "2023-06-15T17:28:27.078Z"
   },
   {
    "duration": 21990,
    "start_time": "2023-06-15T17:28:27.870Z"
   },
   {
    "duration": 3,
    "start_time": "2023-06-15T17:28:49.862Z"
   },
   {
    "duration": 168,
    "start_time": "2023-06-15T17:28:49.868Z"
   },
   {
    "duration": 0,
    "start_time": "2023-06-15T17:28:50.045Z"
   },
   {
    "duration": 0,
    "start_time": "2023-06-15T17:28:50.050Z"
   },
   {
    "duration": 0,
    "start_time": "2023-06-15T17:28:50.056Z"
   },
   {
    "duration": 0,
    "start_time": "2023-06-15T17:28:50.062Z"
   },
   {
    "duration": 0,
    "start_time": "2023-06-15T17:28:50.067Z"
   },
   {
    "duration": 0,
    "start_time": "2023-06-15T17:28:50.070Z"
   },
   {
    "duration": 0,
    "start_time": "2023-06-15T17:28:50.077Z"
   },
   {
    "duration": 571,
    "start_time": "2023-06-15T17:31:49.901Z"
   },
   {
    "duration": 45,
    "start_time": "2023-06-15T17:32:18.268Z"
   },
   {
    "duration": 12,
    "start_time": "2023-06-15T17:32:32.949Z"
   },
   {
    "duration": 135,
    "start_time": "2023-06-15T17:34:19.803Z"
   },
   {
    "duration": 8,
    "start_time": "2023-06-15T17:34:45.951Z"
   },
   {
    "duration": 3,
    "start_time": "2023-06-15T17:35:02.841Z"
   },
   {
    "duration": 181,
    "start_time": "2023-06-15T17:35:03.559Z"
   },
   {
    "duration": 12,
    "start_time": "2023-06-15T17:35:04.401Z"
   },
   {
    "duration": 112,
    "start_time": "2023-06-15T17:35:05.461Z"
   },
   {
    "duration": 8,
    "start_time": "2023-06-15T17:35:06.324Z"
   },
   {
    "duration": 728,
    "start_time": "2023-06-15T17:36:42.740Z"
   },
   {
    "duration": 24954,
    "start_time": "2023-06-15T17:36:43.472Z"
   },
   {
    "duration": 8,
    "start_time": "2023-06-15T17:37:08.431Z"
   },
   {
    "duration": 610,
    "start_time": "2023-06-15T17:37:08.446Z"
   },
   {
    "duration": 35,
    "start_time": "2023-06-15T17:37:09.061Z"
   },
   {
    "duration": 203,
    "start_time": "2023-06-15T17:37:09.098Z"
   },
   {
    "duration": 120,
    "start_time": "2023-06-15T17:37:09.303Z"
   },
   {
    "duration": 0,
    "start_time": "2023-06-15T17:37:09.427Z"
   },
   {
    "duration": 0,
    "start_time": "2023-06-15T17:37:09.430Z"
   },
   {
    "duration": 0,
    "start_time": "2023-06-15T17:37:09.434Z"
   },
   {
    "duration": 0,
    "start_time": "2023-06-15T17:37:09.436Z"
   },
   {
    "duration": 0,
    "start_time": "2023-06-15T17:37:09.439Z"
   },
   {
    "duration": 0,
    "start_time": "2023-06-15T17:37:09.441Z"
   },
   {
    "duration": 0,
    "start_time": "2023-06-15T17:37:09.445Z"
   },
   {
    "duration": 0,
    "start_time": "2023-06-15T17:37:09.447Z"
   },
   {
    "duration": 739,
    "start_time": "2023-06-15T17:46:00.359Z"
   },
   {
    "duration": 29078,
    "start_time": "2023-06-15T17:46:01.110Z"
   },
   {
    "duration": 422,
    "start_time": "2023-06-15T17:46:30.195Z"
   },
   {
    "duration": 0,
    "start_time": "2023-06-15T17:46:30.627Z"
   },
   {
    "duration": 0,
    "start_time": "2023-06-15T17:46:30.633Z"
   },
   {
    "duration": 0,
    "start_time": "2023-06-15T17:46:30.635Z"
   },
   {
    "duration": 0,
    "start_time": "2023-06-15T17:46:30.638Z"
   },
   {
    "duration": 0,
    "start_time": "2023-06-15T17:46:30.641Z"
   },
   {
    "duration": 0,
    "start_time": "2023-06-15T17:46:30.643Z"
   },
   {
    "duration": 0,
    "start_time": "2023-06-15T17:46:30.646Z"
   },
   {
    "duration": 0,
    "start_time": "2023-06-15T17:46:30.647Z"
   },
   {
    "duration": 0,
    "start_time": "2023-06-15T17:46:30.650Z"
   },
   {
    "duration": 0,
    "start_time": "2023-06-15T17:46:30.653Z"
   },
   {
    "duration": 0,
    "start_time": "2023-06-15T17:46:30.656Z"
   },
   {
    "duration": 0,
    "start_time": "2023-06-15T17:46:30.657Z"
   },
   {
    "duration": 1,
    "start_time": "2023-06-15T17:46:30.658Z"
   },
   {
    "duration": 7,
    "start_time": "2023-06-15T17:47:27.038Z"
   },
   {
    "duration": 417,
    "start_time": "2023-06-15T17:47:28.935Z"
   },
   {
    "duration": 26,
    "start_time": "2023-06-15T17:47:30.863Z"
   },
   {
    "duration": 208,
    "start_time": "2023-06-15T17:47:32.641Z"
   },
   {
    "duration": 137,
    "start_time": "2023-06-15T17:47:34.757Z"
   },
   {
    "duration": 17,
    "start_time": "2023-06-15T17:47:43.844Z"
   },
   {
    "duration": 858,
    "start_time": "2023-06-15T17:51:52.744Z"
   },
   {
    "duration": 23051,
    "start_time": "2023-06-15T17:51:53.611Z"
   },
   {
    "duration": 3,
    "start_time": "2023-06-15T17:52:16.665Z"
   },
   {
    "duration": 666,
    "start_time": "2023-06-15T17:52:16.672Z"
   },
   {
    "duration": 21,
    "start_time": "2023-06-15T17:52:17.342Z"
   },
   {
    "duration": 113,
    "start_time": "2023-06-15T17:52:17.365Z"
   },
   {
    "duration": 115,
    "start_time": "2023-06-15T17:52:17.481Z"
   },
   {
    "duration": 0,
    "start_time": "2023-06-15T17:52:17.601Z"
   },
   {
    "duration": 0,
    "start_time": "2023-06-15T17:52:17.605Z"
   },
   {
    "duration": 0,
    "start_time": "2023-06-15T17:52:17.607Z"
   },
   {
    "duration": 0,
    "start_time": "2023-06-15T17:52:17.614Z"
   },
   {
    "duration": 0,
    "start_time": "2023-06-15T17:52:17.615Z"
   },
   {
    "duration": 0,
    "start_time": "2023-06-15T17:52:17.616Z"
   },
   {
    "duration": 0,
    "start_time": "2023-06-15T17:52:17.617Z"
   },
   {
    "duration": 0,
    "start_time": "2023-06-15T17:52:17.617Z"
   },
   {
    "duration": 73763,
    "start_time": "2023-06-15T17:52:56.560Z"
   },
   {
    "duration": 5,
    "start_time": "2023-06-15T17:54:10.332Z"
   },
   {
    "duration": 19,
    "start_time": "2023-06-15T17:55:21.105Z"
   },
   {
    "duration": 47,
    "start_time": "2023-06-15T20:50:11.262Z"
   },
   {
    "duration": 7,
    "start_time": "2023-06-15T20:51:11.157Z"
   },
   {
    "duration": 7,
    "start_time": "2023-06-15T20:51:19.827Z"
   },
   {
    "duration": 10,
    "start_time": "2023-06-15T20:52:14.427Z"
   },
   {
    "duration": 631,
    "start_time": "2023-06-15T20:52:21.814Z"
   },
   {
    "duration": 16366,
    "start_time": "2023-06-15T20:52:22.447Z"
   },
   {
    "duration": 6,
    "start_time": "2023-06-15T20:52:38.815Z"
   },
   {
    "duration": 113,
    "start_time": "2023-06-15T20:52:38.829Z"
   },
   {
    "duration": 638,
    "start_time": "2023-06-15T20:52:38.944Z"
   },
   {
    "duration": 31,
    "start_time": "2023-06-15T20:52:39.585Z"
   },
   {
    "duration": 145,
    "start_time": "2023-06-15T20:52:39.622Z"
   },
   {
    "duration": 116,
    "start_time": "2023-06-15T20:52:39.768Z"
   },
   {
    "duration": 0,
    "start_time": "2023-06-15T20:52:39.886Z"
   },
   {
    "duration": 0,
    "start_time": "2023-06-15T20:52:39.887Z"
   },
   {
    "duration": 0,
    "start_time": "2023-06-15T20:52:39.889Z"
   },
   {
    "duration": 0,
    "start_time": "2023-06-15T20:52:39.890Z"
   },
   {
    "duration": 0,
    "start_time": "2023-06-15T20:52:39.891Z"
   },
   {
    "duration": 0,
    "start_time": "2023-06-15T20:52:39.892Z"
   },
   {
    "duration": 0,
    "start_time": "2023-06-15T20:52:39.894Z"
   },
   {
    "duration": 0,
    "start_time": "2023-06-15T20:52:39.895Z"
   },
   {
    "duration": 34,
    "start_time": "2023-06-15T20:53:03.562Z"
   },
   {
    "duration": 13,
    "start_time": "2023-06-15T20:53:53.999Z"
   },
   {
    "duration": 18,
    "start_time": "2023-06-15T20:54:10.758Z"
   },
   {
    "duration": 274,
    "start_time": "2023-06-15T20:54:45.919Z"
   },
   {
    "duration": 651,
    "start_time": "2023-06-15T20:57:01.247Z"
   },
   {
    "duration": 14460,
    "start_time": "2023-06-15T20:57:01.909Z"
   },
   {
    "duration": 4,
    "start_time": "2023-06-15T20:57:16.370Z"
   },
   {
    "duration": 33,
    "start_time": "2023-06-15T20:57:16.376Z"
   },
   {
    "duration": 657,
    "start_time": "2023-06-15T20:57:16.410Z"
   },
   {
    "duration": 17,
    "start_time": "2023-06-15T20:57:17.070Z"
   },
   {
    "duration": 194,
    "start_time": "2023-06-15T20:57:17.089Z"
   },
   {
    "duration": 151,
    "start_time": "2023-06-15T20:57:17.286Z"
   },
   {
    "duration": 0,
    "start_time": "2023-06-15T20:57:17.450Z"
   },
   {
    "duration": 0,
    "start_time": "2023-06-15T20:57:17.450Z"
   },
   {
    "duration": 0,
    "start_time": "2023-06-15T20:57:17.451Z"
   },
   {
    "duration": 0,
    "start_time": "2023-06-15T20:57:17.452Z"
   },
   {
    "duration": 0,
    "start_time": "2023-06-15T20:57:17.453Z"
   },
   {
    "duration": 0,
    "start_time": "2023-06-15T20:57:17.454Z"
   },
   {
    "duration": 0,
    "start_time": "2023-06-15T20:57:17.455Z"
   },
   {
    "duration": 0,
    "start_time": "2023-06-15T20:57:17.461Z"
   },
   {
    "duration": 31,
    "start_time": "2023-06-15T21:04:10.451Z"
   },
   {
    "duration": 8,
    "start_time": "2023-06-15T21:04:12.064Z"
   },
   {
    "duration": 509,
    "start_time": "2023-06-15T21:04:30.328Z"
   },
   {
    "duration": 14256,
    "start_time": "2023-06-15T21:04:30.838Z"
   },
   {
    "duration": 62,
    "start_time": "2023-06-15T21:04:45.096Z"
   },
   {
    "duration": 426,
    "start_time": "2023-06-15T21:04:45.160Z"
   },
   {
    "duration": 16,
    "start_time": "2023-06-15T21:04:45.588Z"
   },
   {
    "duration": 107,
    "start_time": "2023-06-15T21:04:45.605Z"
   },
   {
    "duration": 156,
    "start_time": "2023-06-15T21:04:45.713Z"
   },
   {
    "duration": 0,
    "start_time": "2023-06-15T21:04:45.871Z"
   },
   {
    "duration": 0,
    "start_time": "2023-06-15T21:04:45.872Z"
   },
   {
    "duration": 0,
    "start_time": "2023-06-15T21:04:45.873Z"
   },
   {
    "duration": 0,
    "start_time": "2023-06-15T21:04:45.874Z"
   },
   {
    "duration": 0,
    "start_time": "2023-06-15T21:04:45.875Z"
   },
   {
    "duration": 0,
    "start_time": "2023-06-15T21:04:45.876Z"
   },
   {
    "duration": 0,
    "start_time": "2023-06-15T21:04:45.876Z"
   },
   {
    "duration": 0,
    "start_time": "2023-06-15T21:04:45.877Z"
   },
   {
    "duration": 0,
    "start_time": "2023-06-15T21:04:45.878Z"
   },
   {
    "duration": 8,
    "start_time": "2023-06-15T21:05:02.572Z"
   },
   {
    "duration": 9,
    "start_time": "2023-06-15T21:05:24.936Z"
   },
   {
    "duration": 11,
    "start_time": "2023-06-15T21:05:30.352Z"
   },
   {
    "duration": 469,
    "start_time": "2023-06-15T21:11:27.822Z"
   },
   {
    "duration": 13755,
    "start_time": "2023-06-15T21:11:28.293Z"
   },
   {
    "duration": 23,
    "start_time": "2023-06-15T21:11:42.049Z"
   },
   {
    "duration": 459,
    "start_time": "2023-06-15T21:11:42.073Z"
   },
   {
    "duration": 27,
    "start_time": "2023-06-15T21:11:42.538Z"
   },
   {
    "duration": 114,
    "start_time": "2023-06-15T21:11:42.566Z"
   },
   {
    "duration": 89,
    "start_time": "2023-06-15T21:11:42.681Z"
   },
   {
    "duration": 0,
    "start_time": "2023-06-15T21:11:42.771Z"
   },
   {
    "duration": 0,
    "start_time": "2023-06-15T21:11:42.772Z"
   },
   {
    "duration": 0,
    "start_time": "2023-06-15T21:11:42.773Z"
   },
   {
    "duration": 0,
    "start_time": "2023-06-15T21:11:42.774Z"
   },
   {
    "duration": 0,
    "start_time": "2023-06-15T21:11:42.775Z"
   },
   {
    "duration": 0,
    "start_time": "2023-06-15T21:11:42.775Z"
   },
   {
    "duration": 0,
    "start_time": "2023-06-15T21:11:42.776Z"
   },
   {
    "duration": 0,
    "start_time": "2023-06-15T21:11:42.777Z"
   },
   {
    "duration": 8,
    "start_time": "2023-06-15T21:11:57.380Z"
   },
   {
    "duration": 540,
    "start_time": "2023-06-15T22:06:20.047Z"
   },
   {
    "duration": 11018,
    "start_time": "2023-06-15T22:06:20.588Z"
   },
   {
    "duration": 4,
    "start_time": "2023-06-15T22:06:31.608Z"
   },
   {
    "duration": 287,
    "start_time": "2023-06-15T22:06:31.614Z"
   },
   {
    "duration": 15,
    "start_time": "2023-06-15T22:06:31.903Z"
   },
   {
    "duration": 87,
    "start_time": "2023-06-15T22:06:31.920Z"
   },
   {
    "duration": 70,
    "start_time": "2023-06-15T22:06:32.009Z"
   },
   {
    "duration": 0,
    "start_time": "2023-06-15T22:06:32.081Z"
   },
   {
    "duration": 0,
    "start_time": "2023-06-15T22:06:32.083Z"
   },
   {
    "duration": 1,
    "start_time": "2023-06-15T22:06:32.083Z"
   },
   {
    "duration": 0,
    "start_time": "2023-06-15T22:06:32.085Z"
   },
   {
    "duration": 0,
    "start_time": "2023-06-15T22:06:32.086Z"
   },
   {
    "duration": 0,
    "start_time": "2023-06-15T22:06:32.086Z"
   },
   {
    "duration": 0,
    "start_time": "2023-06-15T22:06:32.088Z"
   },
   {
    "duration": 0,
    "start_time": "2023-06-15T22:06:32.089Z"
   },
   {
    "duration": 84,
    "start_time": "2023-06-15T22:07:51.778Z"
   },
   {
    "duration": 80,
    "start_time": "2023-06-15T22:08:00.520Z"
   },
   {
    "duration": 8,
    "start_time": "2023-06-15T22:08:02.373Z"
   },
   {
    "duration": 79,
    "start_time": "2023-06-15T22:08:07.215Z"
   },
   {
    "duration": 7,
    "start_time": "2023-06-15T22:08:08.158Z"
   },
   {
    "duration": 500,
    "start_time": "2023-06-15T22:08:22.100Z"
   },
   {
    "duration": 10225,
    "start_time": "2023-06-15T22:08:22.602Z"
   },
   {
    "duration": 3,
    "start_time": "2023-06-15T22:08:32.829Z"
   },
   {
    "duration": 286,
    "start_time": "2023-06-15T22:08:32.834Z"
   },
   {
    "duration": 15,
    "start_time": "2023-06-15T22:08:33.122Z"
   },
   {
    "duration": 84,
    "start_time": "2023-06-15T22:08:33.139Z"
   },
   {
    "duration": 75,
    "start_time": "2023-06-15T22:08:33.225Z"
   },
   {
    "duration": 0,
    "start_time": "2023-06-15T22:08:33.303Z"
   },
   {
    "duration": 0,
    "start_time": "2023-06-15T22:08:33.304Z"
   },
   {
    "duration": 0,
    "start_time": "2023-06-15T22:08:33.305Z"
   },
   {
    "duration": 0,
    "start_time": "2023-06-15T22:08:33.306Z"
   },
   {
    "duration": 0,
    "start_time": "2023-06-15T22:08:33.307Z"
   },
   {
    "duration": 0,
    "start_time": "2023-06-15T22:08:33.308Z"
   },
   {
    "duration": 0,
    "start_time": "2023-06-15T22:08:33.309Z"
   },
   {
    "duration": 0,
    "start_time": "2023-06-15T22:08:33.310Z"
   },
   {
    "duration": 0,
    "start_time": "2023-06-15T22:08:33.311Z"
   },
   {
    "duration": 0,
    "start_time": "2023-06-15T22:08:33.313Z"
   },
   {
    "duration": 80,
    "start_time": "2023-06-15T22:08:40.370Z"
   },
   {
    "duration": 8,
    "start_time": "2023-06-15T22:08:41.774Z"
   },
   {
    "duration": 80,
    "start_time": "2023-06-15T22:09:20.549Z"
   },
   {
    "duration": 7,
    "start_time": "2023-06-15T22:09:22.620Z"
   },
   {
    "duration": 87,
    "start_time": "2023-06-15T22:09:24.420Z"
   },
   {
    "duration": 498,
    "start_time": "2023-06-16T02:36:49.235Z"
   },
   {
    "duration": 15968,
    "start_time": "2023-06-16T02:36:49.735Z"
   },
   {
    "duration": 2,
    "start_time": "2023-06-16T02:37:05.705Z"
   },
   {
    "duration": 302,
    "start_time": "2023-06-16T02:37:05.709Z"
   },
   {
    "duration": 13,
    "start_time": "2023-06-16T02:37:06.012Z"
   },
   {
    "duration": 160,
    "start_time": "2023-06-16T02:37:06.026Z"
   },
   {
    "duration": 62,
    "start_time": "2023-06-16T02:37:06.187Z"
   },
   {
    "duration": 0,
    "start_time": "2023-06-16T02:37:06.250Z"
   },
   {
    "duration": 0,
    "start_time": "2023-06-16T02:37:06.252Z"
   },
   {
    "duration": 0,
    "start_time": "2023-06-16T02:37:06.252Z"
   },
   {
    "duration": 0,
    "start_time": "2023-06-16T02:37:06.253Z"
   },
   {
    "duration": 0,
    "start_time": "2023-06-16T02:37:06.254Z"
   },
   {
    "duration": 0,
    "start_time": "2023-06-16T02:37:06.255Z"
   },
   {
    "duration": 0,
    "start_time": "2023-06-16T02:37:06.256Z"
   },
   {
    "duration": 0,
    "start_time": "2023-06-16T02:37:06.257Z"
   },
   {
    "duration": 0,
    "start_time": "2023-06-16T02:37:06.258Z"
   },
   {
    "duration": 85,
    "start_time": "2023-06-16T02:37:37.278Z"
   },
   {
    "duration": 5,
    "start_time": "2023-06-16T02:38:07.031Z"
   },
   {
    "duration": 85,
    "start_time": "2023-06-16T02:38:08.701Z"
   },
   {
    "duration": 85,
    "start_time": "2023-06-16T02:38:56.211Z"
   },
   {
    "duration": 2,
    "start_time": "2023-06-16T02:39:58.980Z"
   },
   {
    "duration": 83,
    "start_time": "2023-06-16T02:39:59.757Z"
   },
   {
    "duration": 523,
    "start_time": "2023-06-16T02:41:47.304Z"
   },
   {
    "duration": 9688,
    "start_time": "2023-06-16T02:41:47.830Z"
   },
   {
    "duration": 3,
    "start_time": "2023-06-16T02:41:57.519Z"
   },
   {
    "duration": 8,
    "start_time": "2023-06-16T02:41:57.524Z"
   },
   {
    "duration": 271,
    "start_time": "2023-06-16T02:41:57.533Z"
   },
   {
    "duration": 2,
    "start_time": "2023-06-16T02:41:57.807Z"
   },
   {
    "duration": 83,
    "start_time": "2023-06-16T02:41:57.811Z"
   },
   {
    "duration": 3,
    "start_time": "2023-06-16T02:41:57.895Z"
   },
   {
    "duration": 77,
    "start_time": "2023-06-16T02:41:57.900Z"
   },
   {
    "duration": 2,
    "start_time": "2023-06-16T02:41:57.979Z"
   },
   {
    "duration": 80,
    "start_time": "2023-06-16T02:41:57.982Z"
   },
   {
    "duration": 2,
    "start_time": "2023-06-16T02:41:58.063Z"
   },
   {
    "duration": 154,
    "start_time": "2023-06-16T02:41:58.067Z"
   },
   {
    "duration": 0,
    "start_time": "2023-06-16T02:41:58.222Z"
   },
   {
    "duration": 0,
    "start_time": "2023-06-16T02:41:58.224Z"
   },
   {
    "duration": 0,
    "start_time": "2023-06-16T02:41:58.225Z"
   },
   {
    "duration": 0,
    "start_time": "2023-06-16T02:41:58.226Z"
   },
   {
    "duration": 0,
    "start_time": "2023-06-16T02:41:58.227Z"
   },
   {
    "duration": 0,
    "start_time": "2023-06-16T02:41:58.228Z"
   },
   {
    "duration": 0,
    "start_time": "2023-06-16T02:41:58.228Z"
   },
   {
    "duration": 0,
    "start_time": "2023-06-16T02:41:58.229Z"
   },
   {
    "duration": 474,
    "start_time": "2023-06-16T02:42:31.795Z"
   },
   {
    "duration": 8819,
    "start_time": "2023-06-16T02:42:32.271Z"
   },
   {
    "duration": 2,
    "start_time": "2023-06-16T02:42:41.092Z"
   },
   {
    "duration": 8,
    "start_time": "2023-06-16T02:42:41.096Z"
   },
   {
    "duration": 262,
    "start_time": "2023-06-16T02:42:41.105Z"
   },
   {
    "duration": 3,
    "start_time": "2023-06-16T02:42:41.368Z"
   },
   {
    "duration": 76,
    "start_time": "2023-06-16T02:42:41.372Z"
   },
   {
    "duration": 3,
    "start_time": "2023-06-16T02:42:41.449Z"
   },
   {
    "duration": 79,
    "start_time": "2023-06-16T02:42:41.453Z"
   },
   {
    "duration": 2,
    "start_time": "2023-06-16T02:42:41.535Z"
   },
   {
    "duration": 77,
    "start_time": "2023-06-16T02:42:41.538Z"
   },
   {
    "duration": 2,
    "start_time": "2023-06-16T02:42:41.616Z"
   },
   {
    "duration": 77,
    "start_time": "2023-06-16T02:42:41.620Z"
   },
   {
    "duration": 241,
    "start_time": "2023-06-16T02:42:41.698Z"
   },
   {
    "duration": 1419,
    "start_time": "2023-06-16T02:42:41.941Z"
   },
   {
    "duration": 0,
    "start_time": "2023-06-16T02:42:43.362Z"
   },
   {
    "duration": 0,
    "start_time": "2023-06-16T02:42:43.364Z"
   },
   {
    "duration": 0,
    "start_time": "2023-06-16T02:42:43.365Z"
   },
   {
    "duration": 0,
    "start_time": "2023-06-16T02:42:43.367Z"
   },
   {
    "duration": 0,
    "start_time": "2023-06-16T02:42:43.368Z"
   },
   {
    "duration": 0,
    "start_time": "2023-06-16T02:42:43.369Z"
   },
   {
    "duration": 523,
    "start_time": "2023-06-16T02:45:19.686Z"
   },
   {
    "duration": 28749,
    "start_time": "2023-06-16T02:45:20.211Z"
   },
   {
    "duration": 3,
    "start_time": "2023-06-16T02:45:48.962Z"
   },
   {
    "duration": 10,
    "start_time": "2023-06-16T02:45:48.967Z"
   },
   {
    "duration": 287,
    "start_time": "2023-06-16T02:45:48.979Z"
   },
   {
    "duration": 2,
    "start_time": "2023-06-16T02:45:49.268Z"
   },
   {
    "duration": 78,
    "start_time": "2023-06-16T02:45:49.271Z"
   },
   {
    "duration": 3,
    "start_time": "2023-06-16T02:45:49.350Z"
   },
   {
    "duration": 76,
    "start_time": "2023-06-16T02:45:49.355Z"
   },
   {
    "duration": 3,
    "start_time": "2023-06-16T02:45:49.433Z"
   },
   {
    "duration": 97,
    "start_time": "2023-06-16T02:45:49.437Z"
   },
   {
    "duration": 2,
    "start_time": "2023-06-16T02:45:49.536Z"
   },
   {
    "duration": 95,
    "start_time": "2023-06-16T02:45:49.539Z"
   },
   {
    "duration": 254,
    "start_time": "2023-06-16T02:45:49.636Z"
   },
   {
    "duration": 3,
    "start_time": "2023-06-16T02:45:49.891Z"
   },
   {
    "duration": 6,
    "start_time": "2023-06-16T02:45:49.931Z"
   },
   {
    "duration": 140,
    "start_time": "2023-06-16T02:45:49.938Z"
   },
   {
    "duration": 90,
    "start_time": "2023-06-16T02:45:50.080Z"
   },
   {
    "duration": 138,
    "start_time": "2023-06-16T02:45:50.172Z"
   },
   {
    "duration": 144,
    "start_time": "2023-06-16T02:45:50.311Z"
   },
   {
    "duration": 141,
    "start_time": "2023-06-16T02:45:50.457Z"
   },
   {
    "duration": 237,
    "start_time": "2023-06-16T02:48:03.769Z"
   },
   {
    "duration": 218,
    "start_time": "2023-06-16T02:48:35.060Z"
   },
   {
    "duration": 229,
    "start_time": "2023-06-16T02:49:18.309Z"
   },
   {
    "duration": 528,
    "start_time": "2023-06-16T02:51:44.660Z"
   },
   {
    "duration": 27981,
    "start_time": "2023-06-16T02:51:45.190Z"
   },
   {
    "duration": 3,
    "start_time": "2023-06-16T02:52:13.172Z"
   },
   {
    "duration": 5,
    "start_time": "2023-06-16T02:52:13.176Z"
   },
   {
    "duration": 319,
    "start_time": "2023-06-16T02:52:13.183Z"
   },
   {
    "duration": 2,
    "start_time": "2023-06-16T02:52:13.504Z"
   },
   {
    "duration": 88,
    "start_time": "2023-06-16T02:52:13.507Z"
   },
   {
    "duration": 3,
    "start_time": "2023-06-16T02:52:13.596Z"
   },
   {
    "duration": 82,
    "start_time": "2023-06-16T02:52:13.600Z"
   },
   {
    "duration": 2,
    "start_time": "2023-06-16T02:52:13.684Z"
   },
   {
    "duration": 104,
    "start_time": "2023-06-16T02:52:13.688Z"
   },
   {
    "duration": 2,
    "start_time": "2023-06-16T02:52:13.794Z"
   },
   {
    "duration": 101,
    "start_time": "2023-06-16T02:52:13.797Z"
   },
   {
    "duration": 256,
    "start_time": "2023-06-16T02:52:13.899Z"
   },
   {
    "duration": 3,
    "start_time": "2023-06-16T02:52:14.156Z"
   },
   {
    "duration": 8,
    "start_time": "2023-06-16T02:52:14.161Z"
   },
   {
    "duration": 145,
    "start_time": "2023-06-16T02:52:14.171Z"
   },
   {
    "duration": 93,
    "start_time": "2023-06-16T02:52:14.318Z"
   },
   {
    "duration": 147,
    "start_time": "2023-06-16T02:52:14.412Z"
   },
   {
    "duration": 162,
    "start_time": "2023-06-16T02:52:14.561Z"
   },
   {
    "duration": 156,
    "start_time": "2023-06-16T02:52:14.725Z"
   },
   {
    "duration": 544,
    "start_time": "2023-06-16T12:04:45.436Z"
   },
   {
    "duration": 15104,
    "start_time": "2023-06-16T12:04:45.983Z"
   },
   {
    "duration": 4,
    "start_time": "2023-06-16T12:05:01.089Z"
   },
   {
    "duration": 176,
    "start_time": "2023-06-16T12:05:01.095Z"
   },
   {
    "duration": 127,
    "start_time": "2023-06-16T12:05:01.273Z"
   },
   {
    "duration": 3,
    "start_time": "2023-06-16T12:05:01.403Z"
   },
   {
    "duration": 280,
    "start_time": "2023-06-16T12:05:01.407Z"
   },
   {
    "duration": 35,
    "start_time": "2023-06-16T12:05:01.689Z"
   },
   {
    "duration": 56,
    "start_time": "2023-06-16T12:05:01.727Z"
   },
   {
    "duration": 52,
    "start_time": "2023-06-16T12:05:01.785Z"
   },
   {
    "duration": 106,
    "start_time": "2023-06-16T12:05:01.839Z"
   },
   {
    "duration": 106,
    "start_time": "2023-06-16T12:05:01.948Z"
   },
   {
    "duration": 664,
    "start_time": "2023-06-16T12:05:02.057Z"
   },
   {
    "duration": 1303,
    "start_time": "2023-06-16T12:05:02.727Z"
   },
   {
    "duration": 5,
    "start_time": "2023-06-16T12:05:04.032Z"
   },
   {
    "duration": 26,
    "start_time": "2023-06-16T12:05:04.039Z"
   },
   {
    "duration": 18,
    "start_time": "2023-06-16T12:05:04.067Z"
   },
   {
    "duration": 53,
    "start_time": "2023-06-16T12:05:04.087Z"
   },
   {
    "duration": 24,
    "start_time": "2023-06-16T12:05:04.144Z"
   },
   {
    "duration": 32,
    "start_time": "2023-06-16T12:05:04.170Z"
   },
   {
    "duration": 54,
    "start_time": "2023-06-16T12:05:04.204Z"
   },
   {
    "duration": 549,
    "start_time": "2023-08-25T21:03:27.103Z"
   },
   {
    "duration": 9728,
    "start_time": "2023-08-25T21:03:27.654Z"
   },
   {
    "duration": 3,
    "start_time": "2023-08-25T21:03:37.383Z"
   },
   {
    "duration": 12,
    "start_time": "2023-08-25T21:03:37.389Z"
   },
   {
    "duration": 301,
    "start_time": "2023-08-25T21:03:37.402Z"
   },
   {
    "duration": 2,
    "start_time": "2023-08-25T21:03:37.705Z"
   },
   {
    "duration": 83,
    "start_time": "2023-08-25T21:03:37.709Z"
   },
   {
    "duration": 3,
    "start_time": "2023-08-25T21:03:37.793Z"
   },
   {
    "duration": 87,
    "start_time": "2023-08-25T21:03:37.797Z"
   },
   {
    "duration": 2,
    "start_time": "2023-08-25T21:03:37.887Z"
   },
   {
    "duration": 109,
    "start_time": "2023-08-25T21:03:37.890Z"
   },
   {
    "duration": 2,
    "start_time": "2023-08-25T21:03:38.001Z"
   },
   {
    "duration": 97,
    "start_time": "2023-08-25T21:03:38.005Z"
   },
   {
    "duration": 270,
    "start_time": "2023-08-25T21:03:38.104Z"
   },
   {
    "duration": 3,
    "start_time": "2023-08-25T21:03:38.376Z"
   },
   {
    "duration": 44,
    "start_time": "2023-08-25T21:03:38.381Z"
   },
   {
    "duration": 149,
    "start_time": "2023-08-25T21:03:38.427Z"
   },
   {
    "duration": 99,
    "start_time": "2023-08-25T21:03:38.578Z"
   },
   {
    "duration": 152,
    "start_time": "2023-08-25T21:03:38.678Z"
   },
   {
    "duration": 158,
    "start_time": "2023-08-25T21:03:38.833Z"
   },
   {
    "duration": 155,
    "start_time": "2023-08-25T21:03:38.993Z"
   }
  ],
  "kernelspec": {
   "display_name": "Python 3 (ipykernel)",
   "language": "python",
   "name": "python3"
  },
  "language_info": {
   "codemirror_mode": {
    "name": "ipython",
    "version": 3
   },
   "file_extension": ".py",
   "mimetype": "text/x-python",
   "name": "python",
   "nbconvert_exporter": "python",
   "pygments_lexer": "ipython3",
   "version": "3.9.5"
  },
  "toc": {
   "base_numbering": 1,
   "nav_menu": {},
   "number_sections": false,
   "sideBar": true,
   "skip_h1_title": true,
   "title_cell": "Table of Contents",
   "title_sidebar": "Contents",
   "toc_cell": false,
   "toc_position": {
    "height": "calc(100% - 180px)",
    "left": "10px",
    "top": "150px",
    "width": "165px"
   },
   "toc_section_display": true,
   "toc_window_display": true
  }
 },
 "nbformat": 4,
 "nbformat_minor": 2
}

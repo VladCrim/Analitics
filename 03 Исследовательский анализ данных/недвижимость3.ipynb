{
 "cells": [
  {
   "cell_type": "markdown",
   "metadata": {},
   "source": [
    "# Исследование объявлений о продаже квартир\n",
    "\n",
    "В вашем распоряжении данные сервиса Яндекс.Недвижимость — архив объявлений о продаже квартир в Санкт-Петербурге и соседних населённых пунктов за несколько лет. Нужно научиться определять рыночную стоимость объектов недвижимости. Ваша задача — установить параметры. Это позволит построить автоматизированную систему: она отследит аномалии и мошенническую деятельность. \n",
    "\n",
    "По каждой квартире на продажу доступны два вида данных. Первые вписаны пользователем, вторые — получены автоматически на основе картографических данных. Например, расстояние до центра, аэропорта, ближайшего парка и водоёма. "
   ]
  },
  {
   "cell_type": "markdown",
   "metadata": {},
   "source": [
    "## Откройте файл с данными и изучите общую информацию. "
   ]
  },
  {
   "cell_type": "code",
   "execution_count": 1,
   "metadata": {},
   "outputs": [
    {
     "data": {
      "text/html": [
       "<div>\n",
       "<style scoped>\n",
       "    .dataframe tbody tr th:only-of-type {\n",
       "        vertical-align: middle;\n",
       "    }\n",
       "\n",
       "    .dataframe tbody tr th {\n",
       "        vertical-align: top;\n",
       "    }\n",
       "\n",
       "    .dataframe thead th {\n",
       "        text-align: right;\n",
       "    }\n",
       "</style>\n",
       "<table border=\"1\" class=\"dataframe\">\n",
       "  <thead>\n",
       "    <tr style=\"text-align: right;\">\n",
       "      <th></th>\n",
       "      <th>total_images</th>\n",
       "      <th>last_price</th>\n",
       "      <th>total_area</th>\n",
       "      <th>first_day_exposition</th>\n",
       "      <th>rooms</th>\n",
       "      <th>ceiling_height</th>\n",
       "      <th>floors_total</th>\n",
       "      <th>living_area</th>\n",
       "      <th>floor</th>\n",
       "      <th>is_apartment</th>\n",
       "      <th>...</th>\n",
       "      <th>kitchen_area</th>\n",
       "      <th>balcony</th>\n",
       "      <th>locality_name</th>\n",
       "      <th>airports_nearest</th>\n",
       "      <th>cityCenters_nearest</th>\n",
       "      <th>parks_around3000</th>\n",
       "      <th>parks_nearest</th>\n",
       "      <th>ponds_around3000</th>\n",
       "      <th>ponds_nearest</th>\n",
       "      <th>days_exposition</th>\n",
       "    </tr>\n",
       "  </thead>\n",
       "  <tbody>\n",
       "    <tr>\n",
       "      <th>0</th>\n",
       "      <td>20</td>\n",
       "      <td>13000000.0</td>\n",
       "      <td>108.0</td>\n",
       "      <td>2019-03-07T00:00:00</td>\n",
       "      <td>3</td>\n",
       "      <td>2.70</td>\n",
       "      <td>16.0</td>\n",
       "      <td>51.0</td>\n",
       "      <td>8</td>\n",
       "      <td>NaN</td>\n",
       "      <td>...</td>\n",
       "      <td>25.0</td>\n",
       "      <td>NaN</td>\n",
       "      <td>Санкт-Петербург</td>\n",
       "      <td>18863.0</td>\n",
       "      <td>16028.0</td>\n",
       "      <td>1.0</td>\n",
       "      <td>482.0</td>\n",
       "      <td>2.0</td>\n",
       "      <td>755.0</td>\n",
       "      <td>NaN</td>\n",
       "    </tr>\n",
       "    <tr>\n",
       "      <th>1</th>\n",
       "      <td>7</td>\n",
       "      <td>3350000.0</td>\n",
       "      <td>40.4</td>\n",
       "      <td>2018-12-04T00:00:00</td>\n",
       "      <td>1</td>\n",
       "      <td>NaN</td>\n",
       "      <td>11.0</td>\n",
       "      <td>18.6</td>\n",
       "      <td>1</td>\n",
       "      <td>NaN</td>\n",
       "      <td>...</td>\n",
       "      <td>11.0</td>\n",
       "      <td>2.0</td>\n",
       "      <td>посёлок Шушары</td>\n",
       "      <td>12817.0</td>\n",
       "      <td>18603.0</td>\n",
       "      <td>0.0</td>\n",
       "      <td>NaN</td>\n",
       "      <td>0.0</td>\n",
       "      <td>NaN</td>\n",
       "      <td>81.0</td>\n",
       "    </tr>\n",
       "    <tr>\n",
       "      <th>2</th>\n",
       "      <td>10</td>\n",
       "      <td>5196000.0</td>\n",
       "      <td>56.0</td>\n",
       "      <td>2015-08-20T00:00:00</td>\n",
       "      <td>2</td>\n",
       "      <td>NaN</td>\n",
       "      <td>5.0</td>\n",
       "      <td>34.3</td>\n",
       "      <td>4</td>\n",
       "      <td>NaN</td>\n",
       "      <td>...</td>\n",
       "      <td>8.3</td>\n",
       "      <td>0.0</td>\n",
       "      <td>Санкт-Петербург</td>\n",
       "      <td>21741.0</td>\n",
       "      <td>13933.0</td>\n",
       "      <td>1.0</td>\n",
       "      <td>90.0</td>\n",
       "      <td>2.0</td>\n",
       "      <td>574.0</td>\n",
       "      <td>558.0</td>\n",
       "    </tr>\n",
       "    <tr>\n",
       "      <th>3</th>\n",
       "      <td>0</td>\n",
       "      <td>64900000.0</td>\n",
       "      <td>159.0</td>\n",
       "      <td>2015-07-24T00:00:00</td>\n",
       "      <td>3</td>\n",
       "      <td>NaN</td>\n",
       "      <td>14.0</td>\n",
       "      <td>NaN</td>\n",
       "      <td>9</td>\n",
       "      <td>NaN</td>\n",
       "      <td>...</td>\n",
       "      <td>NaN</td>\n",
       "      <td>0.0</td>\n",
       "      <td>Санкт-Петербург</td>\n",
       "      <td>28098.0</td>\n",
       "      <td>6800.0</td>\n",
       "      <td>2.0</td>\n",
       "      <td>84.0</td>\n",
       "      <td>3.0</td>\n",
       "      <td>234.0</td>\n",
       "      <td>424.0</td>\n",
       "    </tr>\n",
       "    <tr>\n",
       "      <th>4</th>\n",
       "      <td>2</td>\n",
       "      <td>10000000.0</td>\n",
       "      <td>100.0</td>\n",
       "      <td>2018-06-19T00:00:00</td>\n",
       "      <td>2</td>\n",
       "      <td>3.03</td>\n",
       "      <td>14.0</td>\n",
       "      <td>32.0</td>\n",
       "      <td>13</td>\n",
       "      <td>NaN</td>\n",
       "      <td>...</td>\n",
       "      <td>41.0</td>\n",
       "      <td>NaN</td>\n",
       "      <td>Санкт-Петербург</td>\n",
       "      <td>31856.0</td>\n",
       "      <td>8098.0</td>\n",
       "      <td>2.0</td>\n",
       "      <td>112.0</td>\n",
       "      <td>1.0</td>\n",
       "      <td>48.0</td>\n",
       "      <td>121.0</td>\n",
       "    </tr>\n",
       "  </tbody>\n",
       "</table>\n",
       "<p>5 rows × 22 columns</p>\n",
       "</div>"
      ],
      "text/plain": [
       "   total_images  last_price  total_area first_day_exposition  rooms  \\\n",
       "0            20  13000000.0       108.0  2019-03-07T00:00:00      3   \n",
       "1             7   3350000.0        40.4  2018-12-04T00:00:00      1   \n",
       "2            10   5196000.0        56.0  2015-08-20T00:00:00      2   \n",
       "3             0  64900000.0       159.0  2015-07-24T00:00:00      3   \n",
       "4             2  10000000.0       100.0  2018-06-19T00:00:00      2   \n",
       "\n",
       "   ceiling_height  floors_total  living_area  floor is_apartment  ...  \\\n",
       "0            2.70          16.0         51.0      8          NaN  ...   \n",
       "1             NaN          11.0         18.6      1          NaN  ...   \n",
       "2             NaN           5.0         34.3      4          NaN  ...   \n",
       "3             NaN          14.0          NaN      9          NaN  ...   \n",
       "4            3.03          14.0         32.0     13          NaN  ...   \n",
       "\n",
       "   kitchen_area  balcony    locality_name  airports_nearest  \\\n",
       "0          25.0      NaN  Санкт-Петербург           18863.0   \n",
       "1          11.0      2.0   посёлок Шушары           12817.0   \n",
       "2           8.3      0.0  Санкт-Петербург           21741.0   \n",
       "3           NaN      0.0  Санкт-Петербург           28098.0   \n",
       "4          41.0      NaN  Санкт-Петербург           31856.0   \n",
       "\n",
       "  cityCenters_nearest  parks_around3000  parks_nearest  ponds_around3000  \\\n",
       "0             16028.0               1.0          482.0               2.0   \n",
       "1             18603.0               0.0            NaN               0.0   \n",
       "2             13933.0               1.0           90.0               2.0   \n",
       "3              6800.0               2.0           84.0               3.0   \n",
       "4              8098.0               2.0          112.0               1.0   \n",
       "\n",
       "   ponds_nearest  days_exposition  \n",
       "0          755.0              NaN  \n",
       "1            NaN             81.0  \n",
       "2          574.0            558.0  \n",
       "3          234.0            424.0  \n",
       "4           48.0            121.0  \n",
       "\n",
       "[5 rows x 22 columns]"
      ]
     },
     "metadata": {},
     "output_type": "display_data"
    },
    {
     "name": "stdout",
     "output_type": "stream",
     "text": [
      "<class 'pandas.core.frame.DataFrame'>\n",
      "RangeIndex: 23699 entries, 0 to 23698\n",
      "Data columns (total 22 columns):\n",
      " #   Column                Non-Null Count  Dtype  \n",
      "---  ------                --------------  -----  \n",
      " 0   total_images          23699 non-null  int64  \n",
      " 1   last_price            23699 non-null  float64\n",
      " 2   total_area            23699 non-null  float64\n",
      " 3   first_day_exposition  23699 non-null  object \n",
      " 4   rooms                 23699 non-null  int64  \n",
      " 5   ceiling_height        14504 non-null  float64\n",
      " 6   floors_total          23613 non-null  float64\n",
      " 7   living_area           21796 non-null  float64\n",
      " 8   floor                 23699 non-null  int64  \n",
      " 9   is_apartment          2775 non-null   object \n",
      " 10  studio                23699 non-null  bool   \n",
      " 11  open_plan             23699 non-null  bool   \n",
      " 12  kitchen_area          21421 non-null  float64\n",
      " 13  balcony               12180 non-null  float64\n",
      " 14  locality_name         23650 non-null  object \n",
      " 15  airports_nearest      18157 non-null  float64\n",
      " 16  cityCenters_nearest   18180 non-null  float64\n",
      " 17  parks_around3000      18181 non-null  float64\n",
      " 18  parks_nearest         8079 non-null   float64\n",
      " 19  ponds_around3000      18181 non-null  float64\n",
      " 20  ponds_nearest         9110 non-null   float64\n",
      " 21  days_exposition       20518 non-null  float64\n",
      "dtypes: bool(2), float64(14), int64(3), object(3)\n",
      "memory usage: 3.7+ MB\n"
     ]
    },
    {
     "data": {
      "text/plain": [
       "array([[<AxesSubplot:title={'center':'total_images'}>,\n",
       "        <AxesSubplot:title={'center':'last_price'}>,\n",
       "        <AxesSubplot:title={'center':'total_area'}>,\n",
       "        <AxesSubplot:title={'center':'rooms'}>],\n",
       "       [<AxesSubplot:title={'center':'ceiling_height'}>,\n",
       "        <AxesSubplot:title={'center':'floors_total'}>,\n",
       "        <AxesSubplot:title={'center':'living_area'}>,\n",
       "        <AxesSubplot:title={'center':'floor'}>],\n",
       "       [<AxesSubplot:title={'center':'kitchen_area'}>,\n",
       "        <AxesSubplot:title={'center':'balcony'}>,\n",
       "        <AxesSubplot:title={'center':'airports_nearest'}>,\n",
       "        <AxesSubplot:title={'center':'cityCenters_nearest'}>],\n",
       "       [<AxesSubplot:title={'center':'parks_around3000'}>,\n",
       "        <AxesSubplot:title={'center':'parks_nearest'}>,\n",
       "        <AxesSubplot:title={'center':'ponds_around3000'}>,\n",
       "        <AxesSubplot:title={'center':'ponds_nearest'}>],\n",
       "       [<AxesSubplot:title={'center':'days_exposition'}>, <AxesSubplot:>,\n",
       "        <AxesSubplot:>, <AxesSubplot:>]], dtype=object)"
      ]
     },
     "execution_count": 1,
     "metadata": {},
     "output_type": "execute_result"
    },
    {
     "data": {
      "image/png": "[encoded data removed]",
      "text/plain": [
       "<Figure size 1080x1440 with 20 Axes>"
      ]
     },
     "metadata": {
      "needs_background": "light"
     },
     "output_type": "display_data"
    }
   ],
   "source": [
    "# импортируем библиотеки\n",
    "import pandas as pd\n",
    "import numpy as np\n",
    "import seaborn as sns\n",
    "import matplotlib.pyplot as plt\n",
    "from mpl_toolkits.mplot3d import Axes3D\n",
    "# откроем файл и изучим первичные данные\n",
    "data = pd.read_csv('/datasets/real_estate_data.csv', sep = '\\t')\n",
    "display(data.head())\n",
    "data.info()\n",
    "data.hist(figsize=(15, 20))"
   ]
  },
  {
   "cell_type": "markdown",
   "metadata": {},
   "source": [
    "## Заметки по общей информации:\n",
    "\n",
    "airports_nearest — расстояние до ближайшего аэропорта в метрах (м)                 // нулевые значения //\n",
    "\n",
    "balcony — число балконов                                                           // нулевые значения, Dtype не тип int //\n",
    "\n",
    "ceiling_height — высота потолков (м)                                               // нулевые значения//\n",
    "\n",
    "cityCenters_nearest — расстояние до центра города (м)                              // нулевые значения//\n",
    "\n",
    "days_exposition — сколько дней было размещено объявление (от публикации до снятия) // нулевые значения, Dtype не тип int//\n",
    "\n",
    "first_day_exposition — дата публикации,                                            // Dtype не тип datetime//\n",
    "\n",
    "floor — этаж\n",
    "\n",
    "floors_total — всего этажей в доме                                                 // нулевые значения, Dtype не тип int//\n",
    "\n",
    "is_apartment — апартаменты (булев тип)                                             // нулевые значения, Dtype не тип bool//\n",
    "\n",
    "kitchen_area — площадь кухни в квадратных метрах (м²)                              // нулевые значения//\n",
    "\n",
    "last_price — цена на момент снятия с публикации\n",
    "\n",
    "living_area — жилая площадь в квадратных метрах (м²)                               // нулевые значения//\n",
    "\n",
    "locality_name — название населённого пункта                                        // нулевые значения//\n",
    "\n",
    "open_plan — свободная планировка (булев тип) \n",
    "\n",
    "parks_around3000 — число парков в радиусе 3 км                                     // нулевые значения, Dtype не тип int//\n",
    "\n",
    "parks_nearest — расстояние до ближайшего парка (м)                                 // нулевые значения//\n",
    "\n",
    "ponds_around3000 — число водоёмов в радиусе 3 км                                   // нулевые значения, Dtype не тип int//\n",
    "\n",
    "ponds_nearest — расстояние до ближайшего водоёма (м)                               // нулевые значения//\n",
    "\n",
    "rooms — число комнат                                                               // Dtype не тип int//\n",
    "\n",
    "studio — квартира-студия (булев тип)\n",
    "\n",
    "total_area — общая площадь квартиры в квадратных метрах (м²)\n",
    "\n",
    "total_images — число фотографий квартиры в объявлении                              // Dtype не тип int//"
   ]
  },
  {
   "cell_type": "markdown",
   "metadata": {},
   "source": [
    "### Видим, что большинство признаков в гистограммах распределены нормально. "
   ]
  },
  {
   "cell_type": "markdown",
   "metadata": {},
   "source": [
    "# Предобработка данных"
   ]
  },
  {
   "cell_type": "code",
   "execution_count": 2,
   "metadata": {},
   "outputs": [
    {
     "data": {
      "text/plain": [
       "total_images                0\n",
       "last_price                  0\n",
       "total_area                  0\n",
       "first_day_exposition        0\n",
       "rooms                       0\n",
       "ceiling_height           9195\n",
       "floors_total               86\n",
       "living_area              1903\n",
       "floor                       0\n",
       "is_apartment            20924\n",
       "studio                      0\n",
       "open_plan                   0\n",
       "kitchen_area             2278\n",
       "balcony                 11519\n",
       "locality_name              49\n",
       "airports_nearest         5542\n",
       "cityCenters_nearest      5519\n",
       "parks_around3000         5518\n",
       "parks_nearest           15620\n",
       "ponds_around3000         5518\n",
       "ponds_nearest           14589\n",
       "days_exposition          3181\n",
       "dtype: int64"
      ]
     },
     "execution_count": 2,
     "metadata": {},
     "output_type": "execute_result"
    }
   ],
   "source": [
    "# посчитаем количество пропусков по столбцам, заменим пропуски, где это возможно\n",
    "data.isna().sum()"
   ]
  },
  {
   "cell_type": "code",
   "execution_count": 3,
   "metadata": {},
   "outputs": [
    {
     "data": {
      "text/html": [
       "<div>\n",
       "<style scoped>\n",
       "    .dataframe tbody tr th:only-of-type {\n",
       "        vertical-align: middle;\n",
       "    }\n",
       "\n",
       "    .dataframe tbody tr th {\n",
       "        vertical-align: top;\n",
       "    }\n",
       "\n",
       "    .dataframe thead th {\n",
       "        text-align: right;\n",
       "    }\n",
       "</style>\n",
       "<table border=\"1\" class=\"dataframe\">\n",
       "  <thead>\n",
       "    <tr style=\"text-align: right;\">\n",
       "      <th></th>\n",
       "      <th>total_images</th>\n",
       "      <th>last_price</th>\n",
       "      <th>total_area</th>\n",
       "      <th>rooms</th>\n",
       "      <th>ceiling_height</th>\n",
       "      <th>floors_total</th>\n",
       "      <th>living_area</th>\n",
       "      <th>floor</th>\n",
       "      <th>kitchen_area</th>\n",
       "      <th>balcony</th>\n",
       "      <th>airports_nearest</th>\n",
       "      <th>cityCenters_nearest</th>\n",
       "      <th>parks_around3000</th>\n",
       "      <th>parks_nearest</th>\n",
       "      <th>ponds_around3000</th>\n",
       "      <th>ponds_nearest</th>\n",
       "      <th>days_exposition</th>\n",
       "    </tr>\n",
       "  </thead>\n",
       "  <tbody>\n",
       "    <tr>\n",
       "      <th>count</th>\n",
       "      <td>23699.0</td>\n",
       "      <td>23699.0</td>\n",
       "      <td>23699.0</td>\n",
       "      <td>23699.0</td>\n",
       "      <td>14504.0</td>\n",
       "      <td>23613.0</td>\n",
       "      <td>21796.0</td>\n",
       "      <td>23699.0</td>\n",
       "      <td>21421.0</td>\n",
       "      <td>12180.0</td>\n",
       "      <td>18157.0</td>\n",
       "      <td>18180.0</td>\n",
       "      <td>18181.0</td>\n",
       "      <td>8079.0</td>\n",
       "      <td>18181.0</td>\n",
       "      <td>9110.0</td>\n",
       "      <td>20518.0</td>\n",
       "    </tr>\n",
       "    <tr>\n",
       "      <th>mean</th>\n",
       "      <td>10.0</td>\n",
       "      <td>6541549.0</td>\n",
       "      <td>60.0</td>\n",
       "      <td>2.0</td>\n",
       "      <td>3.0</td>\n",
       "      <td>11.0</td>\n",
       "      <td>34.0</td>\n",
       "      <td>6.0</td>\n",
       "      <td>11.0</td>\n",
       "      <td>1.0</td>\n",
       "      <td>28794.0</td>\n",
       "      <td>14191.0</td>\n",
       "      <td>1.0</td>\n",
       "      <td>491.0</td>\n",
       "      <td>1.0</td>\n",
       "      <td>518.0</td>\n",
       "      <td>181.0</td>\n",
       "    </tr>\n",
       "    <tr>\n",
       "      <th>std</th>\n",
       "      <td>6.0</td>\n",
       "      <td>10887013.0</td>\n",
       "      <td>36.0</td>\n",
       "      <td>1.0</td>\n",
       "      <td>1.0</td>\n",
       "      <td>7.0</td>\n",
       "      <td>22.0</td>\n",
       "      <td>5.0</td>\n",
       "      <td>6.0</td>\n",
       "      <td>1.0</td>\n",
       "      <td>12631.0</td>\n",
       "      <td>8608.0</td>\n",
       "      <td>1.0</td>\n",
       "      <td>342.0</td>\n",
       "      <td>1.0</td>\n",
       "      <td>278.0</td>\n",
       "      <td>220.0</td>\n",
       "    </tr>\n",
       "    <tr>\n",
       "      <th>min</th>\n",
       "      <td>0.0</td>\n",
       "      <td>12190.0</td>\n",
       "      <td>12.0</td>\n",
       "      <td>0.0</td>\n",
       "      <td>1.0</td>\n",
       "      <td>1.0</td>\n",
       "      <td>2.0</td>\n",
       "      <td>1.0</td>\n",
       "      <td>1.0</td>\n",
       "      <td>0.0</td>\n",
       "      <td>0.0</td>\n",
       "      <td>181.0</td>\n",
       "      <td>0.0</td>\n",
       "      <td>1.0</td>\n",
       "      <td>0.0</td>\n",
       "      <td>13.0</td>\n",
       "      <td>1.0</td>\n",
       "    </tr>\n",
       "    <tr>\n",
       "      <th>25%</th>\n",
       "      <td>6.0</td>\n",
       "      <td>3400000.0</td>\n",
       "      <td>40.0</td>\n",
       "      <td>1.0</td>\n",
       "      <td>3.0</td>\n",
       "      <td>5.0</td>\n",
       "      <td>19.0</td>\n",
       "      <td>2.0</td>\n",
       "      <td>7.0</td>\n",
       "      <td>0.0</td>\n",
       "      <td>18585.0</td>\n",
       "      <td>9238.0</td>\n",
       "      <td>0.0</td>\n",
       "      <td>288.0</td>\n",
       "      <td>0.0</td>\n",
       "      <td>294.0</td>\n",
       "      <td>45.0</td>\n",
       "    </tr>\n",
       "    <tr>\n",
       "      <th>50%</th>\n",
       "      <td>9.0</td>\n",
       "      <td>4650000.0</td>\n",
       "      <td>52.0</td>\n",
       "      <td>2.0</td>\n",
       "      <td>3.0</td>\n",
       "      <td>9.0</td>\n",
       "      <td>30.0</td>\n",
       "      <td>4.0</td>\n",
       "      <td>9.0</td>\n",
       "      <td>1.0</td>\n",
       "      <td>26726.0</td>\n",
       "      <td>13098.0</td>\n",
       "      <td>0.0</td>\n",
       "      <td>455.0</td>\n",
       "      <td>1.0</td>\n",
       "      <td>502.0</td>\n",
       "      <td>95.0</td>\n",
       "    </tr>\n",
       "    <tr>\n",
       "      <th>75%</th>\n",
       "      <td>14.0</td>\n",
       "      <td>6800000.0</td>\n",
       "      <td>70.0</td>\n",
       "      <td>3.0</td>\n",
       "      <td>3.0</td>\n",
       "      <td>16.0</td>\n",
       "      <td>42.0</td>\n",
       "      <td>8.0</td>\n",
       "      <td>12.0</td>\n",
       "      <td>2.0</td>\n",
       "      <td>37273.0</td>\n",
       "      <td>16293.0</td>\n",
       "      <td>1.0</td>\n",
       "      <td>612.0</td>\n",
       "      <td>1.0</td>\n",
       "      <td>729.0</td>\n",
       "      <td>232.0</td>\n",
       "    </tr>\n",
       "    <tr>\n",
       "      <th>max</th>\n",
       "      <td>50.0</td>\n",
       "      <td>763000000.0</td>\n",
       "      <td>900.0</td>\n",
       "      <td>19.0</td>\n",
       "      <td>100.0</td>\n",
       "      <td>60.0</td>\n",
       "      <td>410.0</td>\n",
       "      <td>33.0</td>\n",
       "      <td>112.0</td>\n",
       "      <td>5.0</td>\n",
       "      <td>84869.0</td>\n",
       "      <td>65968.0</td>\n",
       "      <td>3.0</td>\n",
       "      <td>3190.0</td>\n",
       "      <td>3.0</td>\n",
       "      <td>1344.0</td>\n",
       "      <td>1580.0</td>\n",
       "    </tr>\n",
       "  </tbody>\n",
       "</table>\n",
       "</div>"
      ],
      "text/plain": [
       "       total_images   last_price  total_area    rooms  ceiling_height  \\\n",
       "count       23699.0      23699.0     23699.0  23699.0         14504.0   \n",
       "mean           10.0    6541549.0        60.0      2.0             3.0   \n",
       "std             6.0   10887013.0        36.0      1.0             1.0   \n",
       "min             0.0      12190.0        12.0      0.0             1.0   \n",
       "25%             6.0    3400000.0        40.0      1.0             3.0   \n",
       "50%             9.0    4650000.0        52.0      2.0             3.0   \n",
       "75%            14.0    6800000.0        70.0      3.0             3.0   \n",
       "max            50.0  763000000.0       900.0     19.0           100.0   \n",
       "\n",
       "       floors_total  living_area    floor  kitchen_area  balcony  \\\n",
       "count       23613.0      21796.0  23699.0       21421.0  12180.0   \n",
       "mean           11.0         34.0      6.0          11.0      1.0   \n",
       "std             7.0         22.0      5.0           6.0      1.0   \n",
       "min             1.0          2.0      1.0           1.0      0.0   \n",
       "25%             5.0         19.0      2.0           7.0      0.0   \n",
       "50%             9.0         30.0      4.0           9.0      1.0   \n",
       "75%            16.0         42.0      8.0          12.0      2.0   \n",
       "max            60.0        410.0     33.0         112.0      5.0   \n",
       "\n",
       "       airports_nearest  cityCenters_nearest  parks_around3000  parks_nearest  \\\n",
       "count           18157.0              18180.0           18181.0         8079.0   \n",
       "mean            28794.0              14191.0               1.0          491.0   \n",
       "std             12631.0               8608.0               1.0          342.0   \n",
       "min                 0.0                181.0               0.0            1.0   \n",
       "25%             18585.0               9238.0               0.0          288.0   \n",
       "50%             26726.0              13098.0               0.0          455.0   \n",
       "75%             37273.0              16293.0               1.0          612.0   \n",
       "max             84869.0              65968.0               3.0         3190.0   \n",
       "\n",
       "       ponds_around3000  ponds_nearest  days_exposition  \n",
       "count           18181.0         9110.0          20518.0  \n",
       "mean                1.0          518.0            181.0  \n",
       "std                 1.0          278.0            220.0  \n",
       "min                 0.0           13.0              1.0  \n",
       "25%                 0.0          294.0             45.0  \n",
       "50%                 1.0          502.0             95.0  \n",
       "75%                 1.0          729.0            232.0  \n",
       "max                 3.0         1344.0           1580.0  "
      ]
     },
     "execution_count": 3,
     "metadata": {},
     "output_type": "execute_result"
    }
   ],
   "source": [
    "# получим статистические данные, которые дадут представление о распределении значений\n",
    "data.describe().round()"
   ]
  },
  {
   "cell_type": "markdown",
   "metadata": {},
   "source": [
    "Проведем необходимые действия, в соответствии с вышеизложенным"
   ]
  },
  {
   "cell_type": "code",
   "execution_count": 4,
   "metadata": {},
   "outputs": [
    {
     "data": {
      "text/plain": [
       "total_images                0\n",
       "last_price                  0\n",
       "total_area                  0\n",
       "first_day_exposition        0\n",
       "rooms                       0\n",
       "ceiling_height           9084\n",
       "floors_total                0\n",
       "living_area                 0\n",
       "floor                       0\n",
       "is_apartment                0\n",
       "studio                      0\n",
       "open_plan                   0\n",
       "kitchen_area                0\n",
       "balcony                     0\n",
       "locality_name               0\n",
       "airports_nearest         5524\n",
       "cityCenters_nearest      5501\n",
       "parks_around3000            0\n",
       "parks_nearest           15535\n",
       "ponds_around3000            0\n",
       "ponds_nearest           14529\n",
       "days_exposition             0\n",
       "dtype: int64"
      ]
     },
     "execution_count": 4,
     "metadata": {},
     "output_type": "execute_result"
    }
   ],
   "source": [
    "# пропуски по высоте потолков составляют порядка 40% значений. поэтому оставим все как есть, ничего не меняя\n",
    "\n",
    "#заменим пропуски в days_exposition и заменим тип данных\n",
    "data['days_exposition'] = data['days_exposition'].fillna(0).astype('int')\n",
    "\n",
    "#заменим пропуски в balcony на 0 и изменим тип данных на int\n",
    "data['balcony'] = data['balcony'].fillna(0).astype('int')\n",
    "\n",
    "# Заменяем пустые значения жилой площади и площади кухни. Посчитаем % жилой площади от общей площади\n",
    "# и используем его при заполнении пустых значений\n",
    "living_ratio = data['living_area'].mean() / data['total_area'].mean()\n",
    "kitchen_ratio = data['kitchen_area'].mean() / data['total_area'].mean()\n",
    "data['living_area'].fillna(living_ratio * data['total_area'], inplace=True)\n",
    "data['kitchen_area'].fillna(kitchen_ratio * data['total_area'], inplace=True)\n",
    "\n",
    "# для данного поля целесообразно принять пропуски как False\n",
    "data['is_apartment'] = data['is_apartment'].fillna(False)\n",
    "\n",
    "# Удаляем записи, где отсутствует локация и этажность\n",
    "data.dropna(subset=['locality_name'], inplace=True)\n",
    "data.dropna(subset=['floors_total'], inplace=True)\n",
    "\n",
    "# Приводим в целочисленный тип количество парков и прудов. Заменяем пропущенные значения на 0\n",
    "data['parks_around3000'] = data['parks_around3000'].fillna(0).astype('int')\n",
    "data['ponds_around3000'] = data['ponds_around3000'].fillna(0).astype('int')\n",
    "\n",
    "# Приводим в целочисленный тип стоимость квартиры\n",
    "data['last_price'] = data['last_price'].astype(int)\n",
    "\n",
    "# Заменим оставишиеся значения в целочисленный тип\n",
    "data['floors_total'] = data['floors_total'].astype('int')\n",
    "data['rooms'] = data['rooms'].astype('int')\n",
    "data['total_images'] = data['total_images'].astype('int')\n",
    "\n",
    "# Приводим к типу даты дату публикации\n",
    "data['first_day_exposition'] = pd.to_datetime(data['first_day_exposition'], format='%Y-%m-%dT%H:%M:%S')\n",
    "\n",
    "# Проверяем количество пропущенных значений\n",
    "data.isnull().sum()"
   ]
  },
  {
   "cell_type": "code",
   "execution_count": 5,
   "metadata": {},
   "outputs": [
    {
     "data": {
      "text/plain": [
       "array(['Санкт-Петербург', 'посёлок Шушары', 'городской посёлок Янино-1',\n",
       "       'посёлок Парголово', 'посёлок Мурино', 'Ломоносов', 'Сертолово',\n",
       "       'Петергоф', 'Пушкин', 'деревня Кудрово', 'Коммунар', 'Колпино',\n",
       "       'поселок городского типа Красный Бор', 'Гатчина', 'поселок Мурино',\n",
       "       'деревня Фёдоровское', 'Выборг', 'Кронштадт', 'Кировск',\n",
       "       'деревня Новое Девяткино', 'посёлок Металлострой',\n",
       "       'посёлок городского типа Лебяжье',\n",
       "       'посёлок городского типа Сиверский', 'поселок Молодцово',\n",
       "       'поселок городского типа Кузьмоловский',\n",
       "       'садовое товарищество Новая Ропша', 'Павловск',\n",
       "       'деревня Пикколово', 'Всеволожск', 'Волхов', 'Кингисепп',\n",
       "       'Приозерск', 'Сестрорецк', 'деревня Куттузи', 'посёлок Аннино',\n",
       "       'поселок городского типа Ефимовский', 'посёлок Плодовое',\n",
       "       'деревня Заклинье', 'поселок Торковичи', 'поселок Первомайское',\n",
       "       'Красное Село', 'посёлок Понтонный', 'Сясьстрой', 'деревня Старая',\n",
       "       'деревня Лесколово', 'посёлок Новый Свет', 'Сланцы',\n",
       "       'село Путилово', 'Ивангород', 'Мурино', 'Шлиссельбург',\n",
       "       'Никольское', 'Зеленогорск', 'Сосновый Бор', 'поселок Новый Свет',\n",
       "       'деревня Оржицы', 'деревня Кальтино', 'Кудрово',\n",
       "       'поселок Романовка', 'посёлок Бугры', 'поселок Бугры',\n",
       "       'поселок городского типа Рощино', 'Кириши', 'Луга', 'Волосово',\n",
       "       'Отрадное', 'село Павлово', 'поселок Оредеж', 'село Копорье',\n",
       "       'посёлок городского типа Красный Бор', 'посёлок Молодёжное',\n",
       "       'Тихвин', 'посёлок Победа', 'деревня Нурма',\n",
       "       'поселок городского типа Синявино', 'Тосно',\n",
       "       'посёлок городского типа Кузьмоловский', 'посёлок Стрельна',\n",
       "       'Бокситогорск', 'посёлок Александровская', 'деревня Лопухинка',\n",
       "       'Пикалёво', 'поселок Терволово',\n",
       "       'поселок городского типа Советский', 'Подпорожье',\n",
       "       'посёлок Петровское', 'посёлок городского типа Токсово',\n",
       "       'поселок Сельцо', 'посёлок городского типа Вырица',\n",
       "       'деревня Кипень', 'деревня Келози', 'деревня Вартемяги',\n",
       "       'посёлок Тельмана', 'поселок Севастьяново',\n",
       "       'городской поселок Большая Ижора', 'городской посёлок Павлово',\n",
       "       'деревня Агалатово', 'посёлок Новогорелово',\n",
       "       'городской посёлок Лесогорский', 'деревня Лаголово',\n",
       "       'поселок Цвелодубово', 'поселок городского типа Рахья',\n",
       "       'поселок городского типа Вырица', 'деревня Белогорка',\n",
       "       'поселок Заводской', 'городской посёлок Новоселье',\n",
       "       'деревня Большие Колпаны', 'деревня Горбунки', 'деревня Батово',\n",
       "       'деревня Заневка', 'деревня Иссад', 'Приморск',\n",
       "       'городской посёлок Фёдоровское', 'деревня Мистолово',\n",
       "       'Новая Ладога', 'поселок Зимитицы', 'поселок Барышево',\n",
       "       'деревня Разметелево', 'поселок городского типа имени Свердлова',\n",
       "       'деревня Пеники', 'поселок Рябово', 'деревня Пудомяги',\n",
       "       'поселок станции Корнево', 'деревня Низино', 'деревня Бегуницы',\n",
       "       'посёлок Поляны', 'городской посёлок Мга', 'поселок Елизаветино',\n",
       "       'посёлок городского типа Кузнечное', 'деревня Колтуши',\n",
       "       'поселок Запорожское', 'посёлок городского типа Рощино',\n",
       "       'деревня Гостилицы', 'деревня Малое Карлино',\n",
       "       'посёлок Мичуринское', 'посёлок городского типа имени Морозова',\n",
       "       'посёлок Песочный', 'посёлок Сосново', 'деревня Аро',\n",
       "       'поселок Ильичёво', 'посёлок городского типа Тайцы',\n",
       "       'деревня Малое Верево', 'деревня Извара', 'поселок станции Вещево',\n",
       "       'село Паша', 'деревня Калитино',\n",
       "       'посёлок городского типа Ульяновка', 'деревня Чудской Бор',\n",
       "       'поселок городского типа Дубровка', 'деревня Мины',\n",
       "       'поселок Войсковицы', 'посёлок городского типа имени Свердлова',\n",
       "       'деревня Коркино', 'посёлок Ропша',\n",
       "       'поселок городского типа Приладожский', 'посёлок Щеглово',\n",
       "       'посёлок Гаврилово', 'Лодейное Поле', 'деревня Рабитицы',\n",
       "       'поселок городского типа Никольский', 'деревня Кузьмолово',\n",
       "       'деревня Малые Колпаны', 'поселок Тельмана',\n",
       "       'посёлок Петро-Славянка', 'городской посёлок Назия',\n",
       "       'посёлок Репино', 'посёлок Ильичёво', 'поселок Углово',\n",
       "       'поселок Старая Малукса', 'садовое товарищество Рахья',\n",
       "       'поселок Аннино', 'поселок Победа', 'деревня Меньково',\n",
       "       'деревня Старые Бегуницы', 'посёлок Сапёрный', 'поселок Семрино',\n",
       "       'поселок Гаврилово', 'поселок Глажево', 'поселок Кобринское',\n",
       "       'деревня Гарболово', 'деревня Юкки',\n",
       "       'поселок станции Приветнинское', 'деревня Мануйлово',\n",
       "       'деревня Пчева', 'поселок Поляны', 'поселок Цвылёво',\n",
       "       'поселок Мельниково', 'посёлок Пудость', 'посёлок Усть-Луга',\n",
       "       'Светогорск', 'Любань', 'поселок Селезнёво',\n",
       "       'поселок городского типа Рябово', 'Каменногорск', 'деревня Кривко',\n",
       "       'поселок Глебычево', 'деревня Парицы', 'поселок Жилпосёлок',\n",
       "       'посёлок городского типа Мга', 'городской поселок Янино-1',\n",
       "       'посёлок Войскорово', 'село Никольское', 'посёлок Терволово',\n",
       "       'поселок Стеклянный', 'посёлок городского типа Важины',\n",
       "       'посёлок Мыза-Ивановка', 'село Русско-Высоцкое',\n",
       "       'поселок городского типа Лебяжье',\n",
       "       'поселок городского типа Форносово', 'село Старая Ладога',\n",
       "       'поселок Житково', 'городской посёлок Виллози', 'деревня Лампово',\n",
       "       'деревня Шпаньково', 'деревня Лаврики', 'посёлок Сумино',\n",
       "       'посёлок Возрождение', 'деревня Старосиверская',\n",
       "       'посёлок Кикерино', 'поселок Возрождение',\n",
       "       'деревня Старое Хинколово', 'посёлок Пригородный',\n",
       "       'посёлок Торфяное', 'городской посёлок Будогощь',\n",
       "       'поселок Суходолье', 'поселок Красная Долина', 'деревня Хапо-Ое',\n",
       "       'поселок городского типа Дружная Горка', 'поселок Лисий Нос',\n",
       "       'деревня Яльгелево', 'посёлок Стеклянный', 'село Рождествено',\n",
       "       'деревня Старополье', 'посёлок Левашово', 'деревня Сяськелево',\n",
       "       'деревня Камышовка',\n",
       "       'садоводческое некоммерческое товарищество Лесная Поляна',\n",
       "       'деревня Хязельки', 'поселок Жилгородок',\n",
       "       'посёлок городского типа Павлово', 'деревня Ялгино',\n",
       "       'поселок Новый Учхоз', 'городской посёлок Рощино',\n",
       "       'поселок Гончарово', 'поселок Почап', 'посёлок Сапёрное',\n",
       "       'посёлок Платформа 69-й километр', 'поселок Каложицы',\n",
       "       'деревня Фалилеево', 'деревня Пельгора',\n",
       "       'поселок городского типа Лесогорский', 'деревня Торошковичи',\n",
       "       'посёлок Белоостров', 'посёлок Алексеевка', 'поселок Серебрянский',\n",
       "       'поселок Лукаши', 'поселок Петровское', 'деревня Щеглово',\n",
       "       'поселок Мичуринское', 'деревня Тарасово', 'поселок Кингисеппский',\n",
       "       'посёлок при железнодорожной станции Вещево', 'поселок Ушаки',\n",
       "       'деревня Котлы', 'деревня Сижно', 'деревня Торосово',\n",
       "       'посёлок Форт Красная Горка', 'деревня Новолисино',\n",
       "       'посёлок станции Громово', 'деревня Глинка', 'посёлок Мельниково',\n",
       "       'поселок городского типа Назия', 'деревня Старая Пустошь',\n",
       "       'поселок Коммунары', 'поселок Починок',\n",
       "       'посёлок городского типа Вознесенье', 'деревня Разбегаево',\n",
       "       'посёлок городского типа Рябово', 'поселок Гладкое',\n",
       "       'посёлок при железнодорожной станции Приветнинское',\n",
       "       'поселок Тёсово-4', 'посёлок Жилгородок', 'деревня Бор',\n",
       "       'посёлок Коробицыно', 'деревня Большая Вруда', 'деревня Курковицы',\n",
       "       'посёлок Лисий Нос', 'городской посёлок Советский',\n",
       "       'посёлок Кобралово', 'деревня Суоранда', 'поселок Кобралово',\n",
       "       'поселок городского типа Кондратьево',\n",
       "       'коттеджный поселок Счастье', 'поселок Любань', 'деревня Реброво',\n",
       "       'деревня Зимитицы', 'деревня Тойворово', 'поселок Семиозерье',\n",
       "       'поселок Лесное', 'поселок Совхозный', 'поселок Усть-Луга',\n",
       "       'посёлок Ленинское', 'посёлок Суйда',\n",
       "       'посёлок городского типа Форносово', 'деревня Нижние Осельки',\n",
       "       'посёлок станции Свирь', 'поселок Перово', 'Высоцк',\n",
       "       'поселок Гарболово', 'село Шум', 'поселок Котельский',\n",
       "       'поселок станции Лужайка', 'деревня Большая Пустомержа',\n",
       "       'поселок Красносельское', 'деревня Вахнова Кара', 'деревня Пижма',\n",
       "       'коттеджный поселок Кивеннапа Север', 'поселок Коробицыно',\n",
       "       'поселок Ромашки', 'посёлок Перово', 'деревня Каськово',\n",
       "       'деревня Куровицы', 'посёлок Плоское', 'поселок Сумино',\n",
       "       'поселок городского типа Большая Ижора', 'поселок Кирпичное',\n",
       "       'деревня Ям-Тесово', 'деревня Раздолье', 'деревня Терпилицы',\n",
       "       'поселок городского типа Токсово', 'посёлок Шугозеро',\n",
       "       'деревня Ваганово', 'поселок Пушное', 'садовое товарищество Садко',\n",
       "       'посёлок Усть-Ижора', 'деревня Выскатка',\n",
       "       'городской посёлок Свирьстрой', 'поселок Громово',\n",
       "       'деревня Кисельня', 'посёлок Старая Малукса',\n",
       "       'деревня Трубников Бор', 'поселок Калитино',\n",
       "       'посёлок Высокоключевой', 'садовое товарищество Приладожский',\n",
       "       'посёлок Пансионат Зелёный Бор', 'деревня Ненимяки',\n",
       "       'поселок Пансионат Зелёный Бор', 'деревня Снегирёвка',\n",
       "       'деревня Рапполово', 'деревня Пустынка', 'поселок Рабитицы',\n",
       "       'деревня Большой Сабск', 'деревня Русско', 'деревня Лупполово',\n",
       "       'деревня Большое Рейзино', 'деревня Малая Романовка',\n",
       "       'поселок Дружноселье', 'поселок Пчевжа', 'поселок Володарское',\n",
       "       'деревня Нижняя', 'коттеджный посёлок Лесное', 'деревня Тихковицы',\n",
       "       'деревня Борисова Грива', 'посёлок Дзержинского'], dtype=object)"
      ]
     },
     "execution_count": 5,
     "metadata": {},
     "output_type": "execute_result"
    }
   ],
   "source": [
    "# посмотрим уникальные значения\n",
    "data['locality_name'].unique()\n"
   ]
  },
  {
   "cell_type": "code",
   "execution_count": 6,
   "metadata": {},
   "outputs": [
    {
     "name": "stdout",
     "output_type": "stream",
     "text": [
      "23201\n"
     ]
    }
   ],
   "source": [
    "print(data['locality_name'].duplicated().sum())"
   ]
  },
  {
   "cell_type": "code",
   "execution_count": 7,
   "metadata": {},
   "outputs": [],
   "source": [
    "# приведем данные к единообразию\n",
    "data['locality_name'] = data['locality_name'].str.replace('поселок ', '')\n",
    "data['locality_name'] = data['locality_name'].str.replace('посёлок ', '')\n",
    "data['locality_name'] = data['locality_name'].str.replace('деревня ', '')\n",
    "data['locality_name'] = data['locality_name'].str.replace('садовое товарищество ', '')\n",
    "data['locality_name'] = data['locality_name'].str.replace('городской ', '')\n",
    "data['locality_name'] = data['locality_name'].str.replace('коттеджный ', '')\n",
    "data['locality_name'] = data['locality_name'].str.replace('село ', '')\n",
    "data['locality_name'] = data['locality_name'].str.replace('при железнодорожной станции ', '')\n",
    "data['locality_name'] = data['locality_name'].str.replace('городского типа ', '')"
   ]
  },
  {
   "cell_type": "code",
   "execution_count": 8,
   "metadata": {},
   "outputs": [
    {
     "name": "stdout",
     "output_type": "stream",
     "text": [
      "['Агалатово', 'Александровская', 'Алексеевка', 'Аннино', 'Аро', 'Барышево', 'Батово', 'Бегуницы', 'Белогорка', 'Белоостров', 'Бокситогорск', 'Большая Вруда', 'Большая Ижора', 'Большая Пустомержа', 'Большие Колпаны', 'Большое Рейзино', 'Большой Сабск', 'Бор', 'Борисова Грива', 'Бугры', 'Будогощь', 'Ваганово', 'Важины', 'Вартемяги', 'Вахнова Кара', 'Вещево', 'Виллози', 'Вознесенье', 'Возрождение', 'Войсковицы', 'Войскорово', 'Володарское', 'Волосово', 'Волхов', 'Всеволожск', 'Выборг', 'Вырица', 'Выскатка', 'Высокоключевой', 'Высоцк', 'Гаврилово', 'Гарболово', 'Гатчина', 'Гладкое', 'Глажево', 'Глебычево', 'Глинка', 'Гончарово', 'Горбунки', 'Гостилицы', 'Громово', 'Дзержинского', 'Дружная Горка', 'Дружноселье', 'Дубровка', 'Елизаветино', 'Ефимовский', 'Жилгородок', 'Жилпосёлок', 'Житково', 'Заводской', 'Заклинье', 'Заневка', 'Запорожское', 'Зеленогорск', 'Зимитицы', 'Ивангород', 'Извара', 'Ильичёво', 'Иссад', 'Калитино', 'Каложицы', 'Кальтино', 'Каменногорск', 'Камышовка', 'Каськово', 'Келози', 'Кивеннапа Север', 'Кикерино', 'Кингисепп', 'Кингисеппский', 'Кипень', 'Кириши', 'Кировск', 'Кирпичное', 'Кисельня', 'Кобралово', 'Кобринское', 'Колпино', 'Колтуши', 'Коммунар', 'Коммунары', 'Кондратьево', 'Копорье', 'Коркино', 'Коробицыно', 'Котельский', 'Котлы', 'Красная Долина', 'Красное Село', 'Красносельское', 'Красный Бор', 'Кривко', 'Кронштадт', 'Кудрово', 'Кузнечное', 'Кузьмолово', 'Кузьмоловский', 'Курковицы', 'Куровицы', 'Куттузи', 'Лаврики', 'Лаголово', 'Лампово', 'Лебяжье', 'Левашово', 'Ленинское', 'Лесколово', 'Лесное', 'Лесогорский', 'Лисий Нос', 'Лодейное Поле', 'Ломоносов', 'Лопухинка', 'Луга', 'Лукаши', 'Лупполово', 'Любань', 'Малая Романовка', 'Малое Верево', 'Малое Карлино', 'Малые Колпаны', 'Мануйлово', 'Мга', 'Мельниково', 'Меньково', 'Металлострой', 'Мины', 'Мистолово', 'Мичуринское', 'Молодцово', 'Молодёжное', 'Мурино', 'Мыза-Ивановка', 'Назия', 'Ненимяки', 'Нижние Осельки', 'Нижняя', 'Низино', 'Никольский', 'Никольское', 'Новая Ладога', 'Новая Ропша', 'Новогорелово', 'Новое Девяткино', 'Новолисино', 'Новоселье', 'Новый Свет', 'Новый Учхоз', 'Нурма', 'Оредеж', 'Оржицы', 'Отрадное', 'Павлово', 'Павловск', 'Пансионат Зелёный Бор', 'Парголово', 'Парицы', 'Паша', 'Пельгора', 'Пеники', 'Первомайское', 'Перово', 'Песочный', 'Петергоф', 'Петро-Славянка', 'Петровское', 'Пижма', 'Пикалёво', 'Пикколово', 'Платформа 69-й километр', 'Плодовое', 'Плоское', 'Победа', 'Подпорожье', 'Поляны', 'Понтонный', 'Почап', 'Починок', 'Приветнинское', 'Пригородный', 'Приладожский', 'Приморск', 'Приозерск', 'Пудомяги', 'Пудость', 'Пустынка', 'Путилово', 'Пушкин', 'Пушное', 'Пчева', 'Пчевжа', 'Рабитицы', 'Разбегаево', 'Раздолье', 'Разметелево', 'Рапполово', 'Рахья', 'Реброво', 'Репино', 'Рождествено', 'Романовка', 'Ромашки', 'Ропша', 'Рощино', 'Русско', 'Русско-Высоцкое', 'Рябово', 'Садко', 'Санкт-Петербург', 'Сапёрное', 'Сапёрный', 'Светогорск', 'Свирьстрой', 'Севастьяново', 'Селезнёво', 'Сельцо', 'Семиозерье', 'Семрино', 'Серебрянский', 'Сертолово', 'Сестрорецк', 'Сиверский', 'Сижно', 'Синявино', 'Сланцы', 'Снегирёвка', 'Советский', 'Совхозный', 'Сосново', 'Сосновый Бор', 'Старая', 'Старая Ладога', 'Старая Малукса', 'Старая Пустошь', 'Старое Хинколово', 'Старополье', 'Старосиверская', 'Старые Бегуницы', 'Стеклянный', 'Стрельна', 'Суйда', 'Сумино', 'Суоранда', 'Суходолье', 'Счастье', 'Сяськелево', 'Сясьстрой', 'Тайцы', 'Тарасово', 'Тельмана', 'Терволово', 'Терпилицы', 'Тихвин', 'Тихковицы', 'Тойворово', 'Токсово', 'Торковичи', 'Торосово', 'Торошковичи', 'Торфяное', 'Тосно', 'Трубников Бор', 'Тёсово-4', 'Углово', 'Ульяновка', 'Усть-Ижора', 'Усть-Луга', 'Ушаки', 'Фалилеево', 'Форносово', 'Форт Красная Горка', 'Фёдоровское', 'Хапо-Ое', 'Хязельки', 'Цвелодубово', 'Цвылёво', 'Чудской Бор', 'Шлиссельбург', 'Шпаньково', 'Шугозеро', 'Шум', 'Шушары', 'Щеглово', 'Юкки', 'Ялгино', 'Яльгелево', 'Ям-Тесово', 'Янино-1', 'имени Морозова', 'имени Свердлова', 'садоводческое некоммерческое товарищество Лесная Поляна', 'станции Вещево', 'станции Громово', 'станции Корнево', 'станции Лужайка', 'станции Приветнинское', 'станции Свирь']\n"
     ]
    }
   ],
   "source": [
    "print(sorted(data['locality_name'].unique()))"
   ]
  },
  {
   "cell_type": "code",
   "execution_count": 9,
   "metadata": {},
   "outputs": [
    {
     "name": "stdout",
     "output_type": "stream",
     "text": [
      "23257\n"
     ]
    }
   ],
   "source": [
    "print(data['locality_name'].duplicated().sum())"
   ]
  },
  {
   "cell_type": "markdown",
   "metadata": {},
   "source": [
    "#### Количество дубликатов уменьшилось наполовину"
   ]
  },
  {
   "cell_type": "code",
   "execution_count": 10,
   "metadata": {},
   "outputs": [
    {
     "data": {
      "text/plain": [
       "2.50     3515\n",
       "2.60     1645\n",
       "2.70     1571\n",
       "3.00     1108\n",
       "2.80      988\n",
       "         ... \n",
       "4.25        1\n",
       "3.39        1\n",
       "3.93        1\n",
       "10.30       1\n",
       "4.65        1\n",
       "Name: ceiling_height, Length: 183, dtype: int64"
      ]
     },
     "execution_count": 10,
     "metadata": {},
     "output_type": "execute_result"
    }
   ],
   "source": [
    "# посмотрим уникальные значения\n",
    "data['ceiling_height'].value_counts()"
   ]
  },
  {
   "cell_type": "code",
   "execution_count": 11,
   "metadata": {},
   "outputs": [
    {
     "name": "stdout",
     "output_type": "stream",
     "text": [
      "194\n",
      "\n",
      "       total_images  last_price  total_area first_day_exposition  rooms  \\\n",
      "144               1     2450000       27.00           2017-03-30      0   \n",
      "349               4     2320000       25.00           2017-09-27      0   \n",
      "440               8     2480000       27.11           2018-03-12      0   \n",
      "508               0     3375000       34.40           2017-03-28      0   \n",
      "608               2     1850000       25.00           2019-02-20      0   \n",
      "...             ...         ...         ...                  ...    ...   \n",
      "23210             7     3200000       26.00           2017-09-01      0   \n",
      "23442             0     2500000       27.70           2017-09-28      0   \n",
      "23554            15     3350000       26.00           2018-09-07      0   \n",
      "23592            10     1450000       29.00           2017-11-11      0   \n",
      "23637             8     2350000       26.00           2018-06-26      0   \n",
      "\n",
      "       ceiling_height  floors_total  living_area  floor  is_apartment  ...  \\\n",
      "144               NaN            24    15.500000      2         False  ...   \n",
      "349               NaN            14    17.000000      1         False  ...   \n",
      "440               NaN            17    24.750000      4         False  ...   \n",
      "508               NaN            26    24.300000     19         False  ...   \n",
      "608               NaN            10    14.274492      7         False  ...   \n",
      "...               ...           ...          ...    ...           ...  ...   \n",
      "23210             NaN            25    18.000000     16         False  ...   \n",
      "23442             NaN            24    18.000000      4         False  ...   \n",
      "23554             NaN            19    14.845471      8         False  ...   \n",
      "23592             NaN             9    18.000000      8         False  ...   \n",
      "23637             NaN            25    17.000000      4         False  ...   \n",
      "\n",
      "       kitchen_area  balcony    locality_name  airports_nearest  \\\n",
      "144        4.728934        2           Мурино               NaN   \n",
      "349        4.378643        0          Кудрово               NaN   \n",
      "440        4.748200        2  Санкт-Петербург           38171.0   \n",
      "508        6.025012        1        Парголово           53115.0   \n",
      "608        4.378643        0           Шушары               NaN   \n",
      "...             ...      ...              ...               ...   \n",
      "23210      4.553788        0  Санкт-Петербург           11405.0   \n",
      "23442      4.851536        2           Мурино               NaN   \n",
      "23554      4.553788        0  Санкт-Петербург           18090.0   \n",
      "23592      5.079226        2       Никольское               NaN   \n",
      "23637      4.553788        2            Бугры               NaN   \n",
      "\n",
      "      cityCenters_nearest  parks_around3000  parks_nearest  ponds_around3000  \\\n",
      "144                   NaN                 0            NaN                 0   \n",
      "349                   NaN                 0            NaN                 0   \n",
      "440               15015.0                 0            NaN                 2   \n",
      "508               19292.0                 0            NaN                 1   \n",
      "608                   NaN                 0            NaN                 0   \n",
      "...                   ...               ...            ...               ...   \n",
      "23210             13222.0                 0            NaN                 1   \n",
      "23442                 NaN                 0            NaN                 0   \n",
      "23554             17092.0                 0            NaN                 2   \n",
      "23592                 NaN                 0            NaN                 0   \n",
      "23637                 NaN                 0            NaN                 0   \n",
      "\n",
      "       ponds_nearest  days_exposition  \n",
      "144              NaN              181  \n",
      "349              NaN               45  \n",
      "440            982.0               64  \n",
      "508            593.0              430  \n",
      "608              NaN               29  \n",
      "...              ...              ...  \n",
      "23210          623.0               14  \n",
      "23442            NaN                4  \n",
      "23554          112.0               31  \n",
      "23592            NaN               82  \n",
      "23637            NaN              207  \n",
      "\n",
      "[194 rows x 22 columns]\n"
     ]
    },
    {
     "data": {
      "text/html": [
       "<div>\n",
       "<style scoped>\n",
       "    .dataframe tbody tr th:only-of-type {\n",
       "        vertical-align: middle;\n",
       "    }\n",
       "\n",
       "    .dataframe tbody tr th {\n",
       "        vertical-align: top;\n",
       "    }\n",
       "\n",
       "    .dataframe thead th {\n",
       "        text-align: right;\n",
       "    }\n",
       "</style>\n",
       "<table border=\"1\" class=\"dataframe\">\n",
       "  <thead>\n",
       "    <tr style=\"text-align: right;\">\n",
       "      <th></th>\n",
       "      <th>total_images</th>\n",
       "      <th>last_price</th>\n",
       "      <th>total_area</th>\n",
       "      <th>rooms</th>\n",
       "      <th>ceiling_height</th>\n",
       "      <th>floors_total</th>\n",
       "      <th>living_area</th>\n",
       "      <th>floor</th>\n",
       "      <th>kitchen_area</th>\n",
       "      <th>balcony</th>\n",
       "      <th>airports_nearest</th>\n",
       "      <th>cityCenters_nearest</th>\n",
       "      <th>parks_around3000</th>\n",
       "      <th>parks_nearest</th>\n",
       "      <th>ponds_around3000</th>\n",
       "      <th>ponds_nearest</th>\n",
       "      <th>days_exposition</th>\n",
       "    </tr>\n",
       "  </thead>\n",
       "  <tbody>\n",
       "    <tr>\n",
       "      <th>count</th>\n",
       "      <td>23565.0</td>\n",
       "      <td>23565.0</td>\n",
       "      <td>23565.0</td>\n",
       "      <td>23565.0</td>\n",
       "      <td>14481.0</td>\n",
       "      <td>23565.0</td>\n",
       "      <td>23565.0</td>\n",
       "      <td>23565.0</td>\n",
       "      <td>23565.0</td>\n",
       "      <td>23565.0</td>\n",
       "      <td>18041.0</td>\n",
       "      <td>18064.0</td>\n",
       "      <td>23565.0</td>\n",
       "      <td>8030.0</td>\n",
       "      <td>23565.0</td>\n",
       "      <td>9036.0</td>\n",
       "      <td>23565.0</td>\n",
       "    </tr>\n",
       "    <tr>\n",
       "      <th>mean</th>\n",
       "      <td>10.0</td>\n",
       "      <td>6540058.0</td>\n",
       "      <td>60.0</td>\n",
       "      <td>2.0</td>\n",
       "      <td>3.0</td>\n",
       "      <td>11.0</td>\n",
       "      <td>35.0</td>\n",
       "      <td>6.0</td>\n",
       "      <td>11.0</td>\n",
       "      <td>1.0</td>\n",
       "      <td>28797.0</td>\n",
       "      <td>14193.0</td>\n",
       "      <td>0.0</td>\n",
       "      <td>491.0</td>\n",
       "      <td>1.0</td>\n",
       "      <td>518.0</td>\n",
       "      <td>156.0</td>\n",
       "    </tr>\n",
       "    <tr>\n",
       "      <th>std</th>\n",
       "      <td>6.0</td>\n",
       "      <td>10910935.0</td>\n",
       "      <td>36.0</td>\n",
       "      <td>1.0</td>\n",
       "      <td>1.0</td>\n",
       "      <td>7.0</td>\n",
       "      <td>22.0</td>\n",
       "      <td>5.0</td>\n",
       "      <td>6.0</td>\n",
       "      <td>1.0</td>\n",
       "      <td>12632.0</td>\n",
       "      <td>8613.0</td>\n",
       "      <td>1.0</td>\n",
       "      <td>342.0</td>\n",
       "      <td>1.0</td>\n",
       "      <td>278.0</td>\n",
       "      <td>214.0</td>\n",
       "    </tr>\n",
       "    <tr>\n",
       "      <th>min</th>\n",
       "      <td>0.0</td>\n",
       "      <td>12190.0</td>\n",
       "      <td>12.0</td>\n",
       "      <td>1.0</td>\n",
       "      <td>1.0</td>\n",
       "      <td>1.0</td>\n",
       "      <td>2.0</td>\n",
       "      <td>1.0</td>\n",
       "      <td>1.0</td>\n",
       "      <td>0.0</td>\n",
       "      <td>0.0</td>\n",
       "      <td>181.0</td>\n",
       "      <td>0.0</td>\n",
       "      <td>1.0</td>\n",
       "      <td>0.0</td>\n",
       "      <td>13.0</td>\n",
       "      <td>0.0</td>\n",
       "    </tr>\n",
       "    <tr>\n",
       "      <th>25%</th>\n",
       "      <td>6.0</td>\n",
       "      <td>3400000.0</td>\n",
       "      <td>40.0</td>\n",
       "      <td>1.0</td>\n",
       "      <td>3.0</td>\n",
       "      <td>5.0</td>\n",
       "      <td>19.0</td>\n",
       "      <td>2.0</td>\n",
       "      <td>7.0</td>\n",
       "      <td>0.0</td>\n",
       "      <td>18565.0</td>\n",
       "      <td>9238.0</td>\n",
       "      <td>0.0</td>\n",
       "      <td>288.0</td>\n",
       "      <td>0.0</td>\n",
       "      <td>293.0</td>\n",
       "      <td>22.0</td>\n",
       "    </tr>\n",
       "    <tr>\n",
       "      <th>50%</th>\n",
       "      <td>9.0</td>\n",
       "      <td>4646000.0</td>\n",
       "      <td>52.0</td>\n",
       "      <td>2.0</td>\n",
       "      <td>3.0</td>\n",
       "      <td>9.0</td>\n",
       "      <td>30.0</td>\n",
       "      <td>4.0</td>\n",
       "      <td>9.0</td>\n",
       "      <td>0.0</td>\n",
       "      <td>26757.0</td>\n",
       "      <td>13096.0</td>\n",
       "      <td>0.0</td>\n",
       "      <td>455.0</td>\n",
       "      <td>0.0</td>\n",
       "      <td>503.0</td>\n",
       "      <td>73.0</td>\n",
       "    </tr>\n",
       "    <tr>\n",
       "      <th>75%</th>\n",
       "      <td>14.0</td>\n",
       "      <td>6790000.0</td>\n",
       "      <td>70.0</td>\n",
       "      <td>3.0</td>\n",
       "      <td>3.0</td>\n",
       "      <td>16.0</td>\n",
       "      <td>42.0</td>\n",
       "      <td>8.0</td>\n",
       "      <td>12.0</td>\n",
       "      <td>1.0</td>\n",
       "      <td>37273.0</td>\n",
       "      <td>16285.0</td>\n",
       "      <td>1.0</td>\n",
       "      <td>612.0</td>\n",
       "      <td>1.0</td>\n",
       "      <td>730.0</td>\n",
       "      <td>198.0</td>\n",
       "    </tr>\n",
       "    <tr>\n",
       "      <th>max</th>\n",
       "      <td>50.0</td>\n",
       "      <td>763000000.0</td>\n",
       "      <td>900.0</td>\n",
       "      <td>19.0</td>\n",
       "      <td>100.0</td>\n",
       "      <td>60.0</td>\n",
       "      <td>410.0</td>\n",
       "      <td>33.0</td>\n",
       "      <td>112.0</td>\n",
       "      <td>5.0</td>\n",
       "      <td>84869.0</td>\n",
       "      <td>65968.0</td>\n",
       "      <td>3.0</td>\n",
       "      <td>3190.0</td>\n",
       "      <td>3.0</td>\n",
       "      <td>1344.0</td>\n",
       "      <td>1580.0</td>\n",
       "    </tr>\n",
       "  </tbody>\n",
       "</table>\n",
       "</div>"
      ],
      "text/plain": [
       "       total_images   last_price  total_area    rooms  ceiling_height  \\\n",
       "count       23565.0      23565.0     23565.0  23565.0         14481.0   \n",
       "mean           10.0    6540058.0        60.0      2.0             3.0   \n",
       "std             6.0   10910935.0        36.0      1.0             1.0   \n",
       "min             0.0      12190.0        12.0      1.0             1.0   \n",
       "25%             6.0    3400000.0        40.0      1.0             3.0   \n",
       "50%             9.0    4646000.0        52.0      2.0             3.0   \n",
       "75%            14.0    6790000.0        70.0      3.0             3.0   \n",
       "max            50.0  763000000.0       900.0     19.0           100.0   \n",
       "\n",
       "       floors_total  living_area    floor  kitchen_area  balcony  \\\n",
       "count       23565.0      23565.0  23565.0       23565.0  23565.0   \n",
       "mean           11.0         35.0      6.0          11.0      1.0   \n",
       "std             7.0         22.0      5.0           6.0      1.0   \n",
       "min             1.0          2.0      1.0           1.0      0.0   \n",
       "25%             5.0         19.0      2.0           7.0      0.0   \n",
       "50%             9.0         30.0      4.0           9.0      0.0   \n",
       "75%            16.0         42.0      8.0          12.0      1.0   \n",
       "max            60.0        410.0     33.0         112.0      5.0   \n",
       "\n",
       "       airports_nearest  cityCenters_nearest  parks_around3000  parks_nearest  \\\n",
       "count           18041.0              18064.0           23565.0         8030.0   \n",
       "mean            28797.0              14193.0               0.0          491.0   \n",
       "std             12632.0               8613.0               1.0          342.0   \n",
       "min                 0.0                181.0               0.0            1.0   \n",
       "25%             18565.0               9238.0               0.0          288.0   \n",
       "50%             26757.0              13096.0               0.0          455.0   \n",
       "75%             37273.0              16285.0               1.0          612.0   \n",
       "max             84869.0              65968.0               3.0         3190.0   \n",
       "\n",
       "       ponds_around3000  ponds_nearest  days_exposition  \n",
       "count           23565.0         9036.0          23565.0  \n",
       "mean                1.0          518.0            156.0  \n",
       "std                 1.0          278.0            214.0  \n",
       "min                 0.0           13.0              0.0  \n",
       "25%                 0.0          293.0             22.0  \n",
       "50%                 0.0          503.0             73.0  \n",
       "75%                 1.0          730.0            198.0  \n",
       "max                 3.0         1344.0           1580.0  "
      ]
     },
     "execution_count": 11,
     "metadata": {},
     "output_type": "execute_result"
    }
   ],
   "source": [
    "# кол-во (комнат = 0) - это явная ошибка. \n",
    "# Заменим пропуски в rooms на 1 т.к. общие площади таких квартир соотв. 1-км. квартире\n",
    "print(data['rooms'][data['rooms']==0].count())\n",
    "print()\n",
    "print(data[data['rooms']==0])\n",
    "data = data.replace({'rooms':{0:1}})\n",
    "\n",
    "data.describe().round()"
   ]
  },
  {
   "cell_type": "code",
   "execution_count": 12,
   "metadata": {},
   "outputs": [
    {
     "name": "stdout",
     "output_type": "stream",
     "text": [
      "       total_images  last_price  total_area first_day_exposition  rooms  \\\n",
      "2253             12     3800000        45.5           2018-06-28      2   \n",
      "16731             9     3978000        40.0           2018-09-24      1   \n",
      "\n",
      "       ceiling_height  floors_total  living_area  floor  is_apartment  ...  \\\n",
      "2253             2.88            60         27.4      4         False  ...   \n",
      "16731            2.65            52         10.5     18         False  ...   \n",
      "\n",
      "       kitchen_area  balcony    locality_name  airports_nearest  \\\n",
      "2253            7.4        0        Кронштадт           67763.0   \n",
      "16731          14.0        0  Санкт-Петербург           20728.0   \n",
      "\n",
      "      cityCenters_nearest  parks_around3000  parks_nearest  ponds_around3000  \\\n",
      "2253              49488.0                 2          342.0                 3   \n",
      "16731             12978.0                 1          793.0                 0   \n",
      "\n",
      "       ponds_nearest  days_exposition  \n",
      "2253           614.0              166  \n",
      "16731            NaN               45  \n",
      "\n",
      "[2 rows x 22 columns]\n"
     ]
    }
   ],
   "source": [
    "# кол-во (этажей в Кронштадте = 60) вызывает сильное сомнение. Скорее всего это опечатка 6-го этажа\n",
    "# Заменим 60 этаж на 6\n",
    "# 52 этаж в Санкт-Петербурге вероятен\n",
    "print(data[(data['floors_total'] > 40)])\n",
    "data = data.replace({'floors_total':{60:6}})\n"
   ]
  },
  {
   "cell_type": "code",
   "execution_count": 13,
   "metadata": {},
   "outputs": [
    {
     "data": {
      "text/plain": [
       "2.50     3515\n",
       "2.60     1645\n",
       "2.70     1571\n",
       "3.00     1108\n",
       "2.80      988\n",
       "         ... \n",
       "4.25        1\n",
       "3.39        1\n",
       "3.93        1\n",
       "10.30       1\n",
       "4.65        1\n",
       "Name: ceiling_height, Length: 183, dtype: int64"
      ]
     },
     "execution_count": 13,
     "metadata": {},
     "output_type": "execute_result"
    }
   ],
   "source": [
    "# посмотрим уникальные значения столбца\n",
    "data['ceiling_height'].value_counts()"
   ]
  },
  {
   "cell_type": "code",
   "execution_count": 14,
   "metadata": {},
   "outputs": [],
   "source": [
    "# высота потолка до 2 м вызывает подозрение. поэтому избавимся от таких данных\n",
    "data = data.loc[data['ceiling_height'] >= 2]"
   ]
  },
  {
   "cell_type": "code",
   "execution_count": 15,
   "metadata": {},
   "outputs": [
    {
     "data": {
      "text/plain": [
       "count    14478.000000\n",
       "mean         2.730861\n",
       "std          0.349871\n",
       "min          2.000000\n",
       "25%          2.510000\n",
       "50%          2.650000\n",
       "75%          2.800000\n",
       "max         20.000000\n",
       "Name: ceiling_height, dtype: float64"
      ]
     },
     "execution_count": 15,
     "metadata": {},
     "output_type": "execute_result"
    }
   ],
   "source": [
    "# явно высота потолков более 10 м это ошибка в заполнении данных. Поэтому все значения > 20 м поделиv на 10\n",
    "def ceiling_height_question(row):\n",
    "    if row['ceiling_height'] > 20:\n",
    "        return row['ceiling_height'] / 10\n",
    "    else:\n",
    "        return row['ceiling_height']\n",
    "# присваиваем новые значения\n",
    "data['ceiling_height'] = data.apply(ceiling_height_question, axis=1)\n",
    "data['ceiling_height'].describe()"
   ]
  },
  {
   "cell_type": "markdown",
   "metadata": {},
   "source": [
    "# Посчитайте и добавьте в таблицу новые столбцы"
   ]
  },
  {
   "cell_type": "code",
   "execution_count": 16,
   "metadata": {},
   "outputs": [
    {
     "name": "stdout",
     "output_type": "stream",
     "text": [
      "<class 'pandas.core.frame.DataFrame'>\n",
      "Int64Index: 14478 entries, 0 to 23698\n",
      "Data columns (total 28 columns):\n",
      " #   Column                Non-Null Count  Dtype         \n",
      "---  ------                --------------  -----         \n",
      " 0   total_images          14478 non-null  int64         \n",
      " 1   last_price            14478 non-null  int64         \n",
      " 2   total_area            14478 non-null  float64       \n",
      " 3   first_day_exposition  14478 non-null  datetime64[ns]\n",
      " 4   rooms                 14478 non-null  int64         \n",
      " 5   ceiling_height        14478 non-null  float64       \n",
      " 6   floors_total          14478 non-null  int64         \n",
      " 7   living_area           14478 non-null  float64       \n",
      " 8   floor                 14478 non-null  int64         \n",
      " 9   is_apartment          14478 non-null  bool          \n",
      " 10  studio                14478 non-null  bool          \n",
      " 11  open_plan             14478 non-null  bool          \n",
      " 12  kitchen_area          14478 non-null  float64       \n",
      " 13  balcony               14478 non-null  int64         \n",
      " 14  locality_name         14478 non-null  object        \n",
      " 15  airports_nearest      11518 non-null  float64       \n",
      " 16  cityCenters_nearest   11538 non-null  float64       \n",
      " 17  parks_around3000      14478 non-null  int64         \n",
      " 18  parks_nearest         5284 non-null   float64       \n",
      " 19  ponds_around3000      14478 non-null  int64         \n",
      " 20  ponds_nearest         5714 non-null   float64       \n",
      " 21  days_exposition       14478 non-null  int64         \n",
      " 22  price_per_meter       14478 non-null  float64       \n",
      " 23  weekday_exposition    14478 non-null  int64         \n",
      " 24  month_exposition      14478 non-null  int64         \n",
      " 25  year_exposition       14478 non-null  int64         \n",
      " 26  floor_type            14478 non-null  object        \n",
      " 27  center_km             14478 non-null  int64         \n",
      "dtypes: bool(3), datetime64[ns](1), float64(9), int64(13), object(2)\n",
      "memory usage: 2.9+ MB\n"
     ]
    }
   ],
   "source": [
    "# Добавляем столбец с ценой квадратного метра\n",
    "data['price_per_meter'] = data['last_price'] / data['total_area']\n",
    "\n",
    "# Добавляем столбец с днем недели публикации объявления \n",
    "data['weekday_exposition'] = data['first_day_exposition'].dt.weekday\n",
    "\n",
    "# Создаём столбец месяца\n",
    "data['month_exposition'] = data['first_day_exposition'].dt.month\n",
    "\n",
    "# Создаём столбец года\n",
    "data['year_exposition'] = data['first_day_exposition'].dt.year\n",
    "\n",
    "# Создаём функцию для заполнения нового столбца с типом этажа\n",
    "def floor_group(row):\n",
    "    if row['floor'] == 1:\n",
    "        return 'первый'\n",
    "    elif row['floor'] == row['floors_total']:\n",
    "        return 'последний'\n",
    "    else:\n",
    "        return 'другой'\n",
    "data['floor_type'] = data.apply(floor_group, axis=1)\n",
    "\n",
    "# Добавляем столбец с расстоянием до центра в км, округляем до целого\n",
    "data['center_km'] = data['cityCenters_nearest'] / 1000\n",
    "data['center_km'] = data['center_km'].fillna(value=0).astype('int')\n",
    "\n",
    "data.info()"
   ]
  },
  {
   "cell_type": "markdown",
   "metadata": {},
   "source": [
    "# 2. Проведите исследовательский анализ данных"
   ]
  },
  {
   "cell_type": "markdown",
   "metadata": {},
   "source": [
    "## 2.1 Изучаем параметры объектов"
   ]
  },
  {
   "cell_type": "code",
   "execution_count": 17,
   "metadata": {},
   "outputs": [
    {
     "data": {
      "image/png": "[encoded data removed]",
      "text/plain": [
       "<Figure size 432x288 with 1 Axes>"
      ]
     },
     "metadata": {
      "needs_background": "light"
     },
     "output_type": "display_data"
    },
    {
     "data": {
      "image/png": "[encoded data removed]",
      "text/plain": [
       "<Figure size 432x288 with 1 Axes>"
      ]
     },
     "metadata": {
      "needs_background": "light"
     },
     "output_type": "display_data"
    },
    {
     "data": {
      "text/plain": [
       "count    13645.000000\n",
       "mean        55.334232\n",
       "std         19.670403\n",
       "min         12.000000\n",
       "25%         40.100000\n",
       "50%         51.300000\n",
       "75%         67.000000\n",
       "max        115.000000\n",
       "Name: total_area, dtype: float64"
      ]
     },
     "execution_count": 17,
     "metadata": {},
     "output_type": "execute_result"
    }
   ],
   "source": [
    "# построим гистограмму по общей площади квартир\n",
    "data['total_area'].hist(bins=30,  range=(0, 500))\n",
    "plt.show()\n",
    "\n",
    "# построим диаграмму размаха, для уточнения границы выброса. Для признака total_area видно, что \n",
    "# max значение равно 900,0 в то время как 75% квартиль равен только 69.7.\n",
    "import matplotlib.pyplot as plt \n",
    "plt.ylim(0, 115)\n",
    "data.boxplot('total_area') \n",
    "plt.show()\n",
    "# Значение от 115 – выброс. Удалим данные с такими значениями, аналогично с жилой площадью и площадью кухонь\n",
    "data = data.loc[data['total_area'] <= 115]\n",
    "data['total_area'].describe()\n",
    "# соответствует распределению Гаусса"
   ]
  },
  {
   "cell_type": "code",
   "execution_count": 18,
   "metadata": {},
   "outputs": [
    {
     "data": {
      "image/png": "[encoded data removed]",
      "text/plain": [
       "<Figure size 432x288 with 1 Axes>"
      ]
     },
     "metadata": {
      "needs_background": "light"
     },
     "output_type": "display_data"
    },
    {
     "data": {
      "image/png": "[encoded data removed]",
      "text/plain": [
       "<Figure size 432x288 with 1 Axes>"
      ]
     },
     "metadata": {
      "needs_background": "light"
     },
     "output_type": "display_data"
    },
    {
     "data": {
      "text/plain": [
       "count    13594.000000\n",
       "mean        31.733419\n",
       "std         13.313794\n",
       "min          2.000000\n",
       "25%         19.000000\n",
       "50%         30.000000\n",
       "75%         41.000000\n",
       "max         76.000000\n",
       "Name: living_area, dtype: float64"
      ]
     },
     "execution_count": 18,
     "metadata": {},
     "output_type": "execute_result"
    }
   ],
   "source": [
    "# построим гистограмму по жилой площади квартир\n",
    "data['living_area'].hist(bins=30,  range=(0, 500))\n",
    "plt.show()\n",
    "# построим диаграмму размаха, для уточнения границы выброса. Для признака living_area видно, \n",
    "# что max значение равно 409,7 в то время как 75% квартиль равен только 42.1.\n",
    "import matplotlib.pyplot as plt \n",
    "plt.ylim(0, 76)\n",
    "data.boxplot('living_area') \n",
    "plt.show()\n",
    "# Значение от 76 – выброс. Удалим данные с такими значениями  \n",
    "data = data.loc[data['living_area'] <= 76]\n",
    "data['living_area'].describe()\n",
    "# соответствует распределению Гаусса"
   ]
  },
  {
   "cell_type": "code",
   "execution_count": 19,
   "metadata": {},
   "outputs": [
    {
     "data": {
      "image/png": "[encoded data removed]",
      "text/plain": [
       "<Figure size 432x288 with 1 Axes>"
      ]
     },
     "metadata": {
      "needs_background": "light"
     },
     "output_type": "display_data"
    },
    {
     "data": {
      "image/png": "[encoded data removed]",
      "text/plain": [
       "<Figure size 432x288 with 1 Axes>"
      ]
     },
     "metadata": {
      "needs_background": "light"
     },
     "output_type": "display_data"
    },
    {
     "data": {
      "text/plain": [
       "count    13155.000000\n",
       "mean         9.226053\n",
       "std          3.039222\n",
       "min          1.300000\n",
       "25%          7.000000\n",
       "50%          8.710000\n",
       "75%         11.000000\n",
       "max         19.500000\n",
       "Name: kitchen_area, dtype: float64"
      ]
     },
     "execution_count": 19,
     "metadata": {},
     "output_type": "execute_result"
    }
   ],
   "source": [
    "# построим гистограмму по площади кухни\n",
    "data['kitchen_area'].hist(bins=30,  range=(0, 120))\n",
    "plt.show()\n",
    "# построим диаграмму размаха, для уточнения границы выброса. Для признака kitchen_area видно, \n",
    "#  что max значение равно 112,0 в то время как 75% квартиль равен только 12.0.\n",
    " \n",
    "import matplotlib.pyplot as plt \n",
    "plt.ylim(0, 19.5)\n",
    "data.boxplot('kitchen_area') \n",
    "plt.show()\n",
    "# Значение от 19,5 – выброс. Удалим данные с такими значениями  \n",
    "data = data.loc[data['kitchen_area'] <= 19.5]\n",
    "data['kitchen_area'].describe()\n",
    "# соответствует распределению Гаусса"
   ]
  },
  {
   "cell_type": "code",
   "execution_count": 20,
   "metadata": {},
   "outputs": [
    {
     "data": {
      "image/png": "[encoded data removed]",
      "text/plain": [
       "<Figure size 432x288 with 1 Axes>"
      ]
     },
     "metadata": {
      "needs_background": "light"
     },
     "output_type": "display_data"
    },
    {
     "data": {
      "image/png": "[encoded data removed]",
      "text/plain": [
       "<Figure size 432x288 with 1 Axes>"
      ]
     },
     "metadata": {
      "needs_background": "light"
     },
     "output_type": "display_data"
    },
    {
     "data": {
      "text/plain": [
       "count    1.315500e+04\n",
       "mean     5.284769e+06\n",
       "std      3.071531e+06\n",
       "min      4.500000e+05\n",
       "25%      3.470000e+06\n",
       "50%      4.600000e+06\n",
       "75%      6.300000e+06\n",
       "max      5.300000e+07\n",
       "Name: last_price, dtype: float64"
      ]
     },
     "execution_count": 20,
     "metadata": {},
     "output_type": "execute_result"
    }
   ],
   "source": [
    "# построим гистограмму по стоимости жилья\n",
    "data['last_price'].hist(bins=30,  range=(0, 50000000))\n",
    "plt.show()\n",
    "# построим диаграмму размаха, для уточнения границы выброса. Для признака last_price видно, \n",
    "# что max значение равно 112,0 в то время как 75% квартиль равен только 12.0.\n",
    " \n",
    "import matplotlib.pyplot as plt \n",
    "plt.ylim(0, 6800000)\n",
    "data.boxplot('last_price') \n",
    "plt.show()\n",
    "# Значение от 6800000 – выброс.\n",
    "data['last_price'].describe()\n",
    "# данные не вызывают вопросов, цены могут быть любыми\n",
    "# соответствует распределению Гаусса"
   ]
  },
  {
   "cell_type": "code",
   "execution_count": 21,
   "metadata": {},
   "outputs": [
    {
     "data": {
      "image/png": "[encoded data removed]",
      "text/plain": [
       "<Figure size 432x288 with 1 Axes>"
      ]
     },
     "metadata": {
      "needs_background": "light"
     },
     "output_type": "display_data"
    },
    {
     "data": {
      "image/png": "[encoded data removed]",
      "text/plain": [
       "<Figure size 432x288 with 1 Axes>"
      ]
     },
     "metadata": {
      "needs_background": "light"
     },
     "output_type": "display_data"
    },
    {
     "data": {
      "text/plain": [
       "count    13155.000000\n",
       "mean         1.991106\n",
       "std          0.891991\n",
       "min          1.000000\n",
       "25%          1.000000\n",
       "50%          2.000000\n",
       "75%          3.000000\n",
       "max          6.000000\n",
       "Name: rooms, dtype: float64"
      ]
     },
     "execution_count": 21,
     "metadata": {},
     "output_type": "execute_result"
    }
   ],
   "source": [
    "# построим гистограмму по количеству комнат\n",
    "data['rooms'].hist(bins=30,  range=(0, 9))\n",
    "plt.show()\n",
    "# построим диаграмму размаха, для уточнения границы выброса. Для признака rooms видно, что max значение равно 7,0\n",
    "# в то время как 75% квартиль равен только 3.0.\n",
    "import matplotlib.pyplot as plt \n",
    "plt.ylim(0, 10)\n",
    "data.boxplot('rooms') \n",
    "plt.show()\n",
    "# Значение от 6 – выброс.\n",
    "data['rooms'].describe()\n",
    "# По количеству комнат имеем классическое распределение Пуассона. \n",
    "# данные не вызывают вопросов"
   ]
  },
  {
   "cell_type": "code",
   "execution_count": 55,
   "metadata": {},
   "outputs": [
    {
     "data": {
      "image/png": "[encoded data removed]",
      "text/plain": [
       "<Figure size 432x288 with 1 Axes>"
      ]
     },
     "metadata": {
      "needs_background": "light"
     },
     "output_type": "display_data"
    },
    {
     "data": {
      "image/png": "[encoded data removed]",
      "text/plain": [
       "<Figure size 432x288 with 1 Axes>"
      ]
     },
     "metadata": {
      "needs_background": "light"
     },
     "output_type": "display_data"
    },
    {
     "data": {
      "text/plain": [
       "count    13155.000000\n",
       "mean         2.695802\n",
       "std          0.324760\n",
       "min          2.000000\n",
       "25%          2.500000\n",
       "50%          2.600000\n",
       "75%          2.750000\n",
       "max         20.000000\n",
       "Name: ceiling_height, dtype: float64"
      ]
     },
     "execution_count": 55,
     "metadata": {},
     "output_type": "execute_result"
    }
   ],
   "source": [
    "# построим гистограмму по высоте потолка\n",
    "data['ceiling_height'].hist(bins=30,  range=(0, 6))\n",
    "plt.show()\n",
    "# построим диаграмму размаха, для уточнения границы выброса. Для признака ceiling_height видно, \n",
    "# что max значение равно 20,0 в то время как 75% квартиль равен только 2,7.\n",
    " \n",
    "import matplotlib.pyplot as plt \n",
    "plt.ylim(1, 3.15)\n",
    "data.boxplot('ceiling_height') \n",
    "plt.show()\n",
    "# Значение до 2,2 м и от 3,14 м – выброс.\n",
    "data['ceiling_height'].describe()"
   ]
  },
  {
   "cell_type": "code",
   "execution_count": 26,
   "metadata": {},
   "outputs": [
    {
     "data": {
      "image/png": "[encoded data removed]",
      "text/plain": [
       "<Figure size 432x288 with 1 Axes>"
      ]
     },
     "metadata": {
      "needs_background": "light"
     },
     "output_type": "display_data"
    },
    {
     "data": {
      "image/png": "[encoded data removed]",
      "text/plain": [
       "<Figure size 432x288 with 1 Axes>"
      ]
     },
     "metadata": {
      "needs_background": "light"
     },
     "output_type": "display_data"
    },
    {
     "data": {
      "text/plain": [
       "count    13155.000000\n",
       "mean         5.620372\n",
       "std          4.608499\n",
       "min          1.000000\n",
       "25%          2.000000\n",
       "50%          4.000000\n",
       "75%          8.000000\n",
       "max         30.000000\n",
       "Name: floor, dtype: float64"
      ]
     },
     "execution_count": 26,
     "metadata": {},
     "output_type": "execute_result"
    }
   ],
   "source": [
    "# построим гистограмму по этажу квартиры\n",
    "data['floor'].hist(bins=30,  range=(0, 40))\n",
    "plt.show()\n",
    "# построим диаграмму размаха, для уточнения границы выброса. Для признака floor видно, что max значение равно 33,0\n",
    "# в то время как 75% квартиль равен только 8.\n",
    "import matplotlib.pyplot as plt \n",
    "plt.ylim(0, 18)\n",
    "data.boxplot('floor') \n",
    "plt.show()\n",
    "# Значение от 17 м – выброс.Выбросы вполне реалистичны\n",
    "data['floor'].describe()"
   ]
  },
  {
   "cell_type": "code",
   "execution_count": 27,
   "metadata": {},
   "outputs": [
    {
     "data": {
      "image/png": "[encoded data removed]",
      "text/plain": [
       "<Figure size 432x288 with 1 Axes>"
      ]
     },
     "metadata": {
      "needs_background": "light"
     },
     "output_type": "display_data"
    }
   ],
   "source": [
    "# построим гистограмму по типу этажности\n",
    "data['floor_type'].hist(bins=30,  range=(0, 5))\n",
    "plt.show()\n",
    "# Здесь вопросов нет, все реально"
   ]
  },
  {
   "cell_type": "code",
   "execution_count": 28,
   "metadata": {},
   "outputs": [
    {
     "data": {
      "image/png": "[encoded data removed]",
      "text/plain": [
       "<Figure size 432x288 with 1 Axes>"
      ]
     },
     "metadata": {
      "needs_background": "light"
     },
     "output_type": "display_data"
    },
    {
     "data": {
      "image/png": "[encoded data removed]",
      "text/plain": [
       "<Figure size 432x288 with 1 Axes>"
      ]
     },
     "metadata": {
      "needs_background": "light"
     },
     "output_type": "display_data"
    },
    {
     "data": {
      "text/plain": [
       "count    13155.000000\n",
       "mean        10.257013\n",
       "std          6.184188\n",
       "min          1.000000\n",
       "25%          5.000000\n",
       "50%          9.000000\n",
       "75%         14.000000\n",
       "max         52.000000\n",
       "Name: floors_total, dtype: float64"
      ]
     },
     "execution_count": 28,
     "metadata": {},
     "output_type": "execute_result"
    }
   ],
   "source": [
    "# построим гистограмму по общему кол-ву этажей в доме\n",
    "data['floors_total'].hist(bins=30,  range=(0, 40))\n",
    "plt.show()\n",
    "# построим диаграмму размаха, для уточнения границы выброса. Для признака floors_total видно, \n",
    "# что max значение равно 60,0 в то время как 75% квартиль равен только 16.0.\n",
    " \n",
    "import matplotlib.pyplot as plt \n",
    "plt.ylim(0, 30)\n",
    "data.boxplot('floors_total') \n",
    "plt.show()\n",
    "# Значение от 29 – выброс. Оставляем данные без изменений\n",
    "data['floors_total'].describe()"
   ]
  },
  {
   "cell_type": "code",
   "execution_count": 29,
   "metadata": {},
   "outputs": [
    {
     "data": {
      "image/png": "[encoded data removed]",
      "text/plain": [
       "<Figure size 432x288 with 1 Axes>"
      ]
     },
     "metadata": {
      "needs_background": "light"
     },
     "output_type": "display_data"
    },
    {
     "data": {
      "image/png": "[encoded data removed]",
      "text/plain": [
       "<Figure size 432x288 with 1 Axes>"
      ]
     },
     "metadata": {
      "needs_background": "light"
     },
     "output_type": "display_data"
    },
    {
     "data": {
      "text/plain": [
       "count    13155.000000\n",
       "mean        11.126112\n",
       "std          9.646093\n",
       "min          0.000000\n",
       "25%          3.000000\n",
       "50%         11.000000\n",
       "75%         15.000000\n",
       "max         65.000000\n",
       "Name: center_km, dtype: float64"
      ]
     },
     "execution_count": 29,
     "metadata": {},
     "output_type": "execute_result"
    }
   ],
   "source": [
    "# построим гистограмму по расстоянию до центра города в км\n",
    "data['center_km'].hist(bins=30,  range=(0, 70))\n",
    "plt.show()\n",
    "# построим диаграмму размаха, для уточнения границы выброса. Для признака center_km видно, \n",
    "# что max значение равно 65,0 в то время как 75% квартиль равен только 15.0.\n",
    "import matplotlib.pyplot as plt \n",
    "plt.ylim(0, 34)\n",
    "data.boxplot('center_km') \n",
    "plt.show()\n",
    "# Значение от 34 – выброс. Выбросы вполне реалистичны\n",
    "data['center_km'].describe()"
   ]
  },
  {
   "cell_type": "code",
   "execution_count": 30,
   "metadata": {},
   "outputs": [
    {
     "data": {
      "image/png": "[encoded data removed]",
      "text/plain": [
       "<Figure size 432x288 with 1 Axes>"
      ]
     },
     "metadata": {
      "needs_background": "light"
     },
     "output_type": "display_data"
    },
    {
     "data": {
      "text/plain": [
       "count    10277.000000\n",
       "mean     28897.441471\n",
       "std      12930.217472\n",
       "min          0.000000\n",
       "25%      17950.000000\n",
       "50%      27028.000000\n",
       "75%      37412.000000\n",
       "max      84869.000000\n",
       "Name: airports_nearest, dtype: float64"
      ]
     },
     "execution_count": 30,
     "metadata": {},
     "output_type": "execute_result"
    }
   ],
   "source": [
    "# построим гистограмму по расстоянию до ближайшего аэропорта\n",
    "data['airports_nearest'].hist(bins=30,  range=(0, 70000))\n",
    "plt.show()\n",
    "data['airports_nearest'].describe()"
   ]
  },
  {
   "cell_type": "code",
   "execution_count": 31,
   "metadata": {},
   "outputs": [
    {
     "data": {
      "image/png": "[encoded data removed]",
      "text/plain": [
       "<Figure size 432x288 with 1 Axes>"
      ]
     },
     "metadata": {
      "needs_background": "light"
     },
     "output_type": "display_data"
    },
    {
     "data": {
      "text/plain": [
       "count    4477.000000\n",
       "mean      478.753406\n",
       "std       311.446259\n",
       "min         3.000000\n",
       "25%       288.000000\n",
       "50%       456.000000\n",
       "75%       607.000000\n",
       "max      3190.000000\n",
       "Name: parks_nearest, dtype: float64"
      ]
     },
     "execution_count": 31,
     "metadata": {},
     "output_type": "execute_result"
    }
   ],
   "source": [
    "# построим гистограмму по расстоянию до ближайшего парка\n",
    "data['parks_nearest'].hist(bins=30,  range=(0, 4000))\n",
    "plt.show()\n",
    "data['parks_nearest'].describe()"
   ]
  },
  {
   "cell_type": "code",
   "execution_count": 32,
   "metadata": {},
   "outputs": [
    {
     "data": {
      "image/png": "[encoded data removed]",
      "text/plain": [
       "<Figure size 432x288 with 1 Axes>"
      ]
     },
     "metadata": {
      "needs_background": "light"
     },
     "output_type": "display_data"
    },
    {
     "data": {
      "text/plain": [
       "count    13155.000000\n",
       "mean         2.515469\n",
       "std          1.797139\n",
       "min          0.000000\n",
       "25%          1.000000\n",
       "50%          2.000000\n",
       "75%          4.000000\n",
       "max          6.000000\n",
       "Name: weekday_exposition, dtype: float64"
      ]
     },
     "execution_count": 32,
     "metadata": {},
     "output_type": "execute_result"
    }
   ],
   "source": [
    "# построим гистограмму по дню публикации объявления\n",
    "data['weekday_exposition'].hist(bins=30,  range=(0, 8))\n",
    "plt.show()\n",
    "data['weekday_exposition'].describe()"
   ]
  },
  {
   "cell_type": "code",
   "execution_count": 33,
   "metadata": {},
   "outputs": [
    {
     "data": {
      "image/png": "[encoded data removed]",
      "text/plain": [
       "<Figure size 432x288 with 1 Axes>"
      ]
     },
     "metadata": {
      "needs_background": "light"
     },
     "output_type": "display_data"
    },
    {
     "data": {
      "text/plain": [
       "count    13155.000000\n",
       "mean         6.319726\n",
       "std          3.495705\n",
       "min          1.000000\n",
       "25%          3.000000\n",
       "50%          6.000000\n",
       "75%         10.000000\n",
       "max         12.000000\n",
       "Name: month_exposition, dtype: float64"
      ]
     },
     "execution_count": 33,
     "metadata": {},
     "output_type": "execute_result"
    }
   ],
   "source": [
    "# построим гистограмму по месяцу публикации объявления\n",
    "data['month_exposition'].hist(bins=30,  range=(0, 12))\n",
    "plt.show()\n",
    "data['month_exposition'].describe()"
   ]
  },
  {
   "cell_type": "markdown",
   "metadata": {},
   "source": [
    "## Вывод\n",
    "\n",
    "### Площадь\n",
    "Общая площадь большинства квартир колеблется в диапазоне от 12 до 100 квадратных метров, больше площадь практически не встречается. Мы убрали из выборки варианты с площадью более 115 квадратных метров.\n",
    "Аналогично, для дальнейших расчетов по жилой площади и площади кухонь мы убрали выбросы и оставили соответственно квартиры до 76 кв.м. и 19,5 кв.м\n",
    "\n",
    "### Стоимость\n",
    "В основном стоимость квартир - от 4 до 5 миллионов. Выбросы есть, но мы не можем их отбрасывать, т.к. о правомерности цены дистанционно дистанционно судить нельзя.\n",
    "\n",
    "### Комнаты\n",
    "По убыванию квартиры на продажу состоят из 1, 2 и 3 комнат. Варианты, где 7 комнат возможны. \n",
    "\n",
    "### Высота потолков\n",
    "Большинство вариантов по высоте потолков колеблются в районе 2,65 метров. \n",
    "Здесь много данных вызывают подозрения: в минимуме - 1 м., в максимуме - от 4 метров. Поэтому данные мы подвергли корректировке: убрали данные до 2 м., а от высоты потолков свыше 20 м. отняли 10 м. \n",
    "\n",
    "### Этажность\n",
    "Самая распространённая этажность домов - 5, 2 и 1 этажные здания. Больше 25 этажей здания практически не встречаются. \n",
    "По типу эажности ожидаемо самая распространенная категория \"другая\". Первый и последний этажи на продажу встречаются равнозначно.\n",
    "\n",
    "### Расстояние\n",
    "Исследуемая недвижимость находится в радиусе:\n",
    "- 65,0 км. от центра города;\n",
    "- 84,9 км. от ближайшего аэропорта;\n",
    "- 3,2 км. от ближайшего парка.\n",
    "На диаграмме расстояния до центра города мы видим несколько пиков. Вероятно, это указывает на неравномерность плотности жилой застройки\n",
    "Среднее расстояние до парка - 500 м.\n",
    "Такие характеристики должны положительно влиять на стоимость недвижимости\n",
    "\n",
    "### День и месяц публикации объявления\n",
    "По дням - активность публикаций объявлений в рабочие дни существенно превышает выходные дни\n",
    "По месяцам - наблюдается 2 пика в феврале-марте и октябре-ноябре. Также можем видеть восходящий тренд с мая по ноябрь (за исключением июня). Пока что миф о том, что \"наступление весны нередко «провоцирует» людей на перемены в жизни\" подтверждается\n"
   ]
  },
  {
   "cell_type": "markdown",
   "metadata": {},
   "source": [
    "# 4.2 Изучаем параметры объектов"
   ]
  },
  {
   "cell_type": "markdown",
   "metadata": {},
   "source": [
    "### Быстрота продаж квартир"
   ]
  },
  {
   "cell_type": "code",
   "execution_count": 34,
   "metadata": {},
   "outputs": [
    {
     "data": {
      "image/png": "[encoded data removed]",
      "text/plain": [
       "<Figure size 432x288 with 1 Axes>"
      ]
     },
     "metadata": {
      "needs_background": "light"
     },
     "output_type": "display_data"
    },
    {
     "data": {
      "image/png": "[encoded data removed]",
      "text/plain": [
       "<Figure size 432x288 with 1 Axes>"
      ]
     },
     "metadata": {
      "needs_background": "light"
     },
     "output_type": "display_data"
    },
    {
     "data": {
      "text/plain": [
       "count    13155.000000\n",
       "mean       152.266667\n",
       "std        211.846084\n",
       "min          0.000000\n",
       "25%         18.000000\n",
       "50%         69.000000\n",
       "75%        194.000000\n",
       "max       1580.000000\n",
       "Name: days_exposition, dtype: float64"
      ]
     },
     "execution_count": 34,
     "metadata": {},
     "output_type": "execute_result"
    }
   ],
   "source": [
    "# построим гистограмму по скорости продажи квартир\n",
    "data['days_exposition'].hist(bins=30,  range=(0, 250))\n",
    "plt.show()\n",
    "\n",
    "# построим диаграмму размаха, для уточнения границы выброса. Для признака days_exposition видно, \n",
    "# что max значение равно 1580,0 в то время как 75% квартиль равен только 232 дня.\n",
    "import matplotlib.pyplot as plt \n",
    "plt.ylim(0, 510)\n",
    "data.boxplot('days_exposition') \n",
    "plt.show()\n",
    "# Значение от 510 – выброс. \n",
    "data['days_exposition'].describe()"
   ]
  },
  {
   "cell_type": "markdown",
   "metadata": {},
   "source": [
    "### \n",
    "Наблюдаем ярко выраженное распределение Пуассона. Медиана меньше среднего практически в 2 раза, т.е. выбросы оказывают серьезное влияние на распределение данных. \n",
    "\n",
    "По нашему мнению продажи до 45 дней можно считать очень быстрыми, от 45 до 95 дней - быстрыми, от 95 дней до 232 дней - медленными, свыше 232 дней - необычайно медленными, за чем должна стоять какая-то причина (например - завышенная цена, депрессивный регион и т.д.)\n",
    "\n",
    "Видны пики на 45 и 60 дней. Затрудняюсь сказать, но возможно это связано с активизацией продаж после корректировки цены в меньшую сторону, что требует дополнительных исследований, но данных недостаточно"
   ]
  },
  {
   "cell_type": "markdown",
   "metadata": {},
   "source": [
    "### Изучаем, зависит ли цена от:\n",
    "общей площади;\n",
    "\n",
    "жилой площади;\n",
    "\n",
    "площади кухни;\n",
    "\n",
    "количества комнат;\n",
    "\n",
    "этажа, на котором расположена квартира (первый, последний, другой);\n",
    "\n",
    "даты размещения (день недели, месяц, год)."
   ]
  },
  {
   "cell_type": "code",
   "execution_count": 35,
   "metadata": {},
   "outputs": [
    {
     "data": {
      "image/png": "[encoded data removed]",
      "text/plain": [
       "<Figure size 432x288 with 1 Axes>"
      ]
     },
     "metadata": {
      "needs_background": "light"
     },
     "output_type": "display_data"
    },
    {
     "name": "stdout",
     "output_type": "stream",
     "text": [
      "Коэффициент корреляции цены от цены за квадратный метр 0.06186268714591436\n",
      "Коэффициент корреляции цены от общей площади 0.6773299714703691\n"
     ]
    },
    {
     "data": {
      "image/png": "[encoded data removed]",
      "text/plain": [
       "<Figure size 432x432 with 3 Axes>"
      ]
     },
     "metadata": {
      "needs_background": "light"
     },
     "output_type": "display_data"
    }
   ],
   "source": [
    "# рассмотрим зависимость цены от общей площади\n",
    "pd.pivot_table(data, \n",
    "               index=[\"total_area\"], \n",
    "               values=[\"price_per_meter\"])\\\n",
    ".plot(style='.',title='Зависимость цены за м2 от общей площади', color = \"blue\", alpha=0.09, grid=True, sharex=False)\n",
    "plt.show()\n",
    "# или так поэксперементируем. так сказать, вид сбоку\n",
    "sns.jointplot(x=data[\"total_area\"], y=data[\"price_per_meter\"], color = \"blue\", edgecolors = \"white\", alpha=0.5, kind='scatter')\n",
    "#  мы очевидно видим высокую концентрацию точек около разметки 100000,0 руб/м2. \n",
    "# Благодаря этим гистограммам можно определить уровень концентрации. \n",
    "# Также с помощью правой боковой гистограммы можно с распознать, что очевидные выбросы находятся выше отметки 200000 руб/м2. \n",
    "# По верхней боковой диаграмме видно, что распределение точек по оси Х является более равномерным \n",
    "print('Коэффициент корреляции цены от цены за квадратный метр', data['total_area'].corr(data['price_per_meter']))\n",
    "print('Коэффициент корреляции цены от общей площади', data['total_area'].corr(data['last_price']))\n"
   ]
  },
  {
   "cell_type": "markdown",
   "metadata": {},
   "source": [
    "###  Между этими двумя переменными коэффициент корреляции Пирсона безусловно показывает положительную связь. \n",
    "\n",
    "Коэффициент корреляции Пирсона, согласно таблице Чеддока, находится на грани между \"заметной\" и \"высокой\" корелляцией между показателями общей площади жилья и ценой за м2.  Коэффициент корелляции между стоимостью жилья и общей площадью практически не отличается от предыдущего.\n",
    "\n",
    "Хотя на графиках связь между площадью квартиры и цены продажи за м2 не столь ярко выражена. Математика против визуализации\n",
    "\n",
    "Предположу, что на расчет коэффициента оказали влияние выбросы"
   ]
  },
  {
   "cell_type": "markdown",
   "metadata": {},
   "source": [
    "### Между этими двумя переменнымикоэффициент показывает положительную корреляцию, но менее выраженную.\n",
    "\n",
    "Между показателями жилой площади и ценой продажи по коэффициенту корреляции Пирсона, согласно таблице Чеддока, теснота (сила) корреляционной связи оценивается как \"заметная\".\n",
    "\n",
    "При этом графики показывают более выраженную связь"
   ]
  },
  {
   "cell_type": "code",
   "execution_count": 37,
   "metadata": {},
   "outputs": [
    {
     "data": {
      "image/png": "[encoded data removed]",
      "text/plain": [
       "<Figure size 432x288 with 1 Axes>"
      ]
     },
     "metadata": {
      "needs_background": "light"
     },
     "output_type": "display_data"
    },
    {
     "name": "stdout",
     "output_type": "stream",
     "text": [
      "Коэффициент корреляции цены от площади кухни 0.5068295019373514\n"
     ]
    },
    {
     "data": {
      "image/png": "[encoded data removed]",
      "text/plain": [
       "<Figure size 432x432 with 3 Axes>"
      ]
     },
     "metadata": {
      "needs_background": "light"
     },
     "output_type": "display_data"
    }
   ],
   "source": [
    "# рассмотрим зависимость цены от площади кухни\n",
    "pd.pivot_table(data, \n",
    "               index=[\"kitchen_area\"], \n",
    "               values=[\"last_price\"])\\\n",
    ".plot(style='.',title='Зависимость цены от площади кухни', color = \"blue\", alpha=0.09, grid=True, sharex=False)\n",
    "plt.show()\n",
    "# или так \n",
    "sns.jointplot(x=data[\"kitchen_area\"], y=data[\"last_price\"], color = \"blue\", edgecolors = \"white\", alpha=0.5, kind='scatter')\n",
    "#  мы очевидно видим высокую концентрацию точек около разметки 3-4 млн. руб. \n",
    "# Также с помощью правой боковой гистограммы можно с распознать, что очевидные выбросы находятся выше отметки 100000 руб \n",
    "# По верхней боковой диаграмме видно, что наибольшая концентрация точек по оси Х наблюдается на отрезке 6-10 м \n",
    "\n",
    "print('Коэффициент корреляции цены от площади кухни', data['kitchen_area'].corr(data['last_price']))"
   ]
  },
  {
   "cell_type": "markdown",
   "metadata": {},
   "source": [
    "### По этим переменными также существует положительная корелляция, но уже прослеживается нисходящий тренд.\n",
    "\n",
    "Между показателями площади кухни и ценой продажи по коэффициенту корреляции Пирсона, согласно таблице Чеддока, теснота (сила) корреляционной связи находится на грани \"умеренная\" и \"заметная\" . "
   ]
  },
  {
   "cell_type": "code",
   "execution_count": 38,
   "metadata": {},
   "outputs": [
    {
     "data": {
      "image/png": "[encoded data removed]",
      "text/plain": [
       "<Figure size 432x288 with 1 Axes>"
      ]
     },
     "metadata": {
      "needs_background": "light"
     },
     "output_type": "display_data"
    },
    {
     "name": "stdout",
     "output_type": "stream",
     "text": [
      "Коэффициент корреляции цены от количества комнат 0.3933256026250542\n"
     ]
    },
    {
     "data": {
      "image/png": "[encoded data removed]",
      "text/plain": [
       "<Figure size 432x432 with 3 Axes>"
      ]
     },
     "metadata": {
      "needs_background": "light"
     },
     "output_type": "display_data"
    }
   ],
   "source": [
    "# рассмотрим зависимость цены от количества комнат\n",
    "pd.pivot_table(data, \n",
    "               index=[\"rooms\"], \n",
    "               values=[\"last_price\"])\\\n",
    ".plot(style='.',title='Зависимость цены от количества комнат', color = \"blue\", alpha=0.9, grid=True, sharex=False)\n",
    "plt.show()\n",
    "# или так \n",
    "sns.jointplot(x=data[\"rooms\"], y=data[\"last_price\"], color = \"blue\", edgecolors = \"white\", alpha=0.5, kind='scatter')\n",
    "#  мы видим наибольшую концентрацию точек около разметки 1-2 комнатных квартир. \n",
    "print('Коэффициент корреляции цены от количества комнат', data['rooms'].corr(data['last_price']))"
   ]
  },
  {
   "cell_type": "markdown",
   "metadata": {},
   "source": [
    "### По этим переменными коэффициент показывает умеренную корелляцию.\n",
    "\n",
    "При этом 1-й график показывает абсолютную зависимость между этими показателями, 2-й график не дает четкой зависимости\n"
   ]
  },
  {
   "cell_type": "code",
   "execution_count": 39,
   "metadata": {},
   "outputs": [
    {
     "data": {
      "image/png": "[encoded data removed]",
      "text/plain": [
       "<Figure size 432x288 with 1 Axes>"
      ]
     },
     "metadata": {
      "needs_background": "light"
     },
     "output_type": "display_data"
    },
    {
     "data": {
      "text/plain": [
       "<seaborn.axisgrid.JointGrid at 0x7fc7e6e8a820>"
      ]
     },
     "execution_count": 39,
     "metadata": {},
     "output_type": "execute_result"
    },
    {
     "data": {
      "image/png": "[encoded data removed]",
      "text/plain": [
       "<Figure size 432x432 with 3 Axes>"
      ]
     },
     "metadata": {
      "needs_background": "light"
     },
     "output_type": "display_data"
    }
   ],
   "source": [
    "# рассмотрим зависимость цены от этажа\n",
    "pd.pivot_table(data, \n",
    "               index=[\"floor_type\"], \n",
    "               values=[\"last_price\"])\\\n",
    ".plot(style='.',title='Зависимость цены от этажа', color = \"blue\", alpha=0.9, grid=True, sharex=False)\n",
    "plt.show()\n",
    "# или так \n",
    "sns.jointplot(x=data[\"floor_type\"], y=data[\"last_price\"], color = \"blue\", edgecolors = \"white\", alpha=0.5, kind='scatter')\n",
    "#  мы видим наибольшую концентрацию точек около разметки квартир, не относящихся к первому и последнему этажу. \n"
   ]
  },
  {
   "cell_type": "markdown",
   "metadata": {},
   "source": [
    "### Хуже всего продаются квартиры на 1-м этаже, несколько лучше - на последнем"
   ]
  },
  {
   "cell_type": "code",
   "execution_count": 40,
   "metadata": {},
   "outputs": [
    {
     "data": {
      "image/png": "[encoded data removed]",
      "text/plain": [
       "<Figure size 432x288 with 1 Axes>"
      ]
     },
     "metadata": {
      "needs_background": "light"
     },
     "output_type": "display_data"
    },
    {
     "name": "stdout",
     "output_type": "stream",
     "text": [
      "Коэффициент корреляции цены от дня объявления -0.01757523121706865\n"
     ]
    },
    {
     "data": {
      "image/png": "[encoded data removed]",
      "text/plain": [
       "<Figure size 432x432 with 3 Axes>"
      ]
     },
     "metadata": {
      "needs_background": "light"
     },
     "output_type": "display_data"
    }
   ],
   "source": [
    "# рассмотрим зависимость цены от дня объявления\n",
    "pd.pivot_table(data, \n",
    "               index=[\"weekday_exposition\"], \n",
    "               values=[\"last_price\"])\\\n",
    ".plot(style='.',title='Зависимость цены от дня объявления', color = \"blue\", alpha=0.9, grid=True, sharex=False)\n",
    "plt.show()\n",
    "# или так \n",
    "sns.jointplot(x=data[\"weekday_exposition\"], y=data[\"last_price\"], color = \"blue\", edgecolors = \"white\", alpha=0.5, kind='scatter')\n",
    "#  мы видим высокую концентрацию точек около разметки с рабочими днями. \n",
    "\n",
    "print('Коэффициент корреляции цены от дня объявления', data['weekday_exposition'].corr(data['last_price']))"
   ]
  },
  {
   "cell_type": "markdown",
   "metadata": {},
   "source": [
    "### На графиках видно, что по объявлениям, опубликованным в рабочие дни, продается несколько более дорогая недвижимость и чаще публикуется, чем в будние дни \n",
    "Коэффициент корелляции зависимость между показателями не показывает"
   ]
  },
  {
   "cell_type": "code",
   "execution_count": 41,
   "metadata": {},
   "outputs": [
    {
     "data": {
      "image/png": "[encoded data removed]",
      "text/plain": [
       "<Figure size 432x288 with 1 Axes>"
      ]
     },
     "metadata": {
      "needs_background": "light"
     },
     "output_type": "display_data"
    },
    {
     "name": "stdout",
     "output_type": "stream",
     "text": [
      "Коэффициент корреляции цены от месяца объявления -0.003728479832371012\n"
     ]
    },
    {
     "data": {
      "image/png": "[encoded data removed]",
      "text/plain": [
       "<Figure size 432x432 with 3 Axes>"
      ]
     },
     "metadata": {
      "needs_background": "light"
     },
     "output_type": "display_data"
    }
   ],
   "source": [
    "# рассмотрим зависимость цены от месяца объявления\n",
    "pd.pivot_table(data, \n",
    "               index=[\"month_exposition\"], \n",
    "               values=[\"last_price\"])\\\n",
    ".plot(style='-',title='Зависимость цены от месяца объявления', color = \"blue\", alpha=0.9, grid=True, sharex=False)\n",
    "plt.show()\n",
    "# или так \n",
    "sns.jointplot(x=data[\"month_exposition\"], y=data[\"last_price\"], color = \"blue\", edgecolors = \"white\", alpha=0.5, kind='scatter')\n",
    "#  мы видим высокую концентрацию точек около разметки в районе \"февраль-апрель\". \n",
    "\n",
    "print('Коэффициент корреляции цены от месяца объявления', data['month_exposition'].corr(data['last_price']))"
   ]
  },
  {
   "cell_type": "markdown",
   "metadata": {},
   "source": [
    "### На 1-м графике видно, что по объявлениям, опубликованным в апреле и сентябре, продается самая дорогая недвижимость. Самая дешевая - в мае.\n",
    "\n",
    "Поскольку у нас выборка за 6 лет, то можно говорить с уверенностью о наличии \"сезонности\" продаж\n",
    "\n",
    "Коэффициент корелляции зависимость между показателями не показывает"
   ]
  },
  {
   "cell_type": "code",
   "execution_count": 42,
   "metadata": {},
   "outputs": [
    {
     "data": {
      "image/png": "[encoded data removed]",
      "text/plain": [
       "<Figure size 432x288 with 1 Axes>"
      ]
     },
     "metadata": {
      "needs_background": "light"
     },
     "output_type": "display_data"
    },
    {
     "name": "stdout",
     "output_type": "stream",
     "text": [
      "Коэффициент корреляции цены от года объявления -0.003237465526803289\n"
     ]
    },
    {
     "data": {
      "image/png": "[encoded data removed]",
      "text/plain": [
       "<Figure size 432x432 with 3 Axes>"
      ]
     },
     "metadata": {
      "needs_background": "light"
     },
     "output_type": "display_data"
    }
   ],
   "source": [
    "# рассмотрим зависимость цены от года объявления\n",
    "pd.pivot_table(data, \n",
    "               index=[\"year_exposition\"], \n",
    "               values=[\"last_price\"])\\\n",
    ".plot(style='-',title='Зависимость цены от года объявления', color = \"blue\", alpha=0.9, grid=True, sharex=False)\n",
    "plt.show()\n",
    "# или так \n",
    "sns.jointplot(x=data[\"year_exposition\"], y=data[\"last_price\"], color = \"blue\", edgecolors = \"white\", alpha=0.5, kind='scatter')\n",
    "#  мы видим высокую концентрацию точек около разметки за 2017 -2018 гг. \n",
    "\n",
    "print('Коэффициент корреляции цены от года объявления', data['year_exposition'].corr(data['last_price']))"
   ]
  },
  {
   "cell_type": "markdown",
   "metadata": {},
   "source": [
    "### По объему продаж виден восходящий тренд с 2014 г. по 2018 г. и некоторый спад в 2019 г., по стоимости - с 2014 г. резкое падение рынка до дна в 2018 г. и некоторый отскок в 2019 г.\n",
    "\n",
    "Тут уместно вспомнить про санкции с 2014 г., которые явно оказали негативное влияние на рынок недвижимости, который до 2019 г. так в полном объеме и не восстановился\n",
    "\n",
    "Коэффициент корелляции зависимость между показателями не показывает"
   ]
  },
  {
   "cell_type": "markdown",
   "metadata": {},
   "source": [
    "## Рассчитаем среднюю цену одного квадратного метра в 10 населённых пунктах с наибольшим числом объявлений"
   ]
  },
  {
   "cell_type": "code",
   "execution_count": 43,
   "metadata": {},
   "outputs": [
    {
     "data": {
      "text/html": [
       "<div>\n",
       "<style scoped>\n",
       "    .dataframe tbody tr th:only-of-type {\n",
       "        vertical-align: middle;\n",
       "    }\n",
       "\n",
       "    .dataframe tbody tr th {\n",
       "        vertical-align: top;\n",
       "    }\n",
       "\n",
       "    .dataframe thead tr th {\n",
       "        text-align: left;\n",
       "    }\n",
       "\n",
       "    .dataframe thead tr:last-of-type th {\n",
       "        text-align: right;\n",
       "    }\n",
       "</style>\n",
       "<table border=\"1\" class=\"dataframe\">\n",
       "  <thead>\n",
       "    <tr>\n",
       "      <th></th>\n",
       "      <th>count</th>\n",
       "      <th>mean</th>\n",
       "      <th>median</th>\n",
       "    </tr>\n",
       "    <tr>\n",
       "      <th></th>\n",
       "      <th>price_per_meter</th>\n",
       "      <th>price_per_meter</th>\n",
       "      <th>price_per_meter</th>\n",
       "    </tr>\n",
       "    <tr>\n",
       "      <th>locality_name</th>\n",
       "      <th></th>\n",
       "      <th></th>\n",
       "      <th></th>\n",
       "    </tr>\n",
       "  </thead>\n",
       "  <tbody>\n",
       "    <tr>\n",
       "      <th>Санкт-Петербург</th>\n",
       "      <td>8909</td>\n",
       "      <td>110067.857859</td>\n",
       "      <td>103818.615752</td>\n",
       "    </tr>\n",
       "    <tr>\n",
       "      <th>Пушкин</th>\n",
       "      <td>210</td>\n",
       "      <td>101633.049265</td>\n",
       "      <td>98343.136066</td>\n",
       "    </tr>\n",
       "    <tr>\n",
       "      <th>Кудрово</th>\n",
       "      <td>182</td>\n",
       "      <td>96917.134898</td>\n",
       "      <td>96848.969958</td>\n",
       "    </tr>\n",
       "    <tr>\n",
       "      <th>Парголово</th>\n",
       "      <td>137</td>\n",
       "      <td>90901.351145</td>\n",
       "      <td>91040.462428</td>\n",
       "    </tr>\n",
       "    <tr>\n",
       "      <th>Мурино</th>\n",
       "      <td>223</td>\n",
       "      <td>87911.876603</td>\n",
       "      <td>86513.994911</td>\n",
       "    </tr>\n",
       "    <tr>\n",
       "      <th>Петергоф</th>\n",
       "      <td>140</td>\n",
       "      <td>85221.088472</td>\n",
       "      <td>82068.213137</td>\n",
       "    </tr>\n",
       "    <tr>\n",
       "      <th>Шушары</th>\n",
       "      <td>211</td>\n",
       "      <td>79417.621499</td>\n",
       "      <td>77735.849057</td>\n",
       "    </tr>\n",
       "    <tr>\n",
       "      <th>Колпино</th>\n",
       "      <td>198</td>\n",
       "      <td>76045.064382</td>\n",
       "      <td>74729.185405</td>\n",
       "    </tr>\n",
       "    <tr>\n",
       "      <th>Гатчина</th>\n",
       "      <td>146</td>\n",
       "      <td>69916.687038</td>\n",
       "      <td>68516.944555</td>\n",
       "    </tr>\n",
       "    <tr>\n",
       "      <th>Всеволожск</th>\n",
       "      <td>264</td>\n",
       "      <td>67144.116400</td>\n",
       "      <td>65579.983036</td>\n",
       "    </tr>\n",
       "  </tbody>\n",
       "</table>\n",
       "</div>"
      ],
      "text/plain": [
       "                          count            mean          median\n",
       "                price_per_meter price_per_meter price_per_meter\n",
       "locality_name                                                  \n",
       "Санкт-Петербург            8909   110067.857859   103818.615752\n",
       "Пушкин                      210   101633.049265    98343.136066\n",
       "Кудрово                     182    96917.134898    96848.969958\n",
       "Парголово                   137    90901.351145    91040.462428\n",
       "Мурино                      223    87911.876603    86513.994911\n",
       "Петергоф                    140    85221.088472    82068.213137\n",
       "Шушары                      211    79417.621499    77735.849057\n",
       "Колпино                     198    76045.064382    74729.185405\n",
       "Гатчина                     146    69916.687038    68516.944555\n",
       "Всеволожск                  264    67144.116400    65579.983036"
      ]
     },
     "execution_count": 43,
     "metadata": {},
     "output_type": "execute_result"
    }
   ],
   "source": [
    "data.pivot_table(index='locality_name', values='price_per_meter', aggfunc=['count', 'mean', 'median'])\\\n",
    ".sort_values(('count', 'price_per_meter'), ascending=False)\\\n",
    ".head(10)\\\n",
    ".sort_values(('mean', 'price_per_meter'), ascending=False)"
   ]
  },
  {
   "cell_type": "markdown",
   "metadata": {},
   "source": [
    "### Ожидаемо кол-во продаж, средняя стоимость квадрата и медиана наибольшая в Санкт-Петербурге. \n",
    "Далее следуют видимо пригородные и модные поселки\n",
    "\n",
    "Что еще интересно - в 6 случаях из 10 медиана меньше среднего, т.е. в таких поселках есть серьезные выбросы в нижней части распределения. Возможно в таких поселках продается ветхая недвижимость"
   ]
  },
  {
   "cell_type": "markdown",
   "metadata": {},
   "source": [
    "## Вычислим среднюю цену каждого километра в центре Санкт-Петербурге"
   ]
  },
  {
   "cell_type": "code",
   "execution_count": 44,
   "metadata": {},
   "outputs": [
    {
     "data": {
      "image/png": "[encoded data removed]",
      "text/plain": [
       "<Figure size 1080x288 with 1 Axes>"
      ]
     },
     "metadata": {
      "needs_background": "light"
     },
     "output_type": "display_data"
    }
   ],
   "source": [
    "# рассмотрим зависимость цены за м2 от близости к центу СПб\n",
    "pd.pivot_table(data[data[\"locality_name\"]==\"Санкт-Петербург\"], \n",
    "               index=\"center_km\", \n",
    "               values=[\"price_per_meter\"],\n",
    "               aggfunc=[\"mean\"])\\\n",
    ".plot(style='-',title='Зависимость цены за м2 от расстояния до центра СПБ', color = \"blue\", figsize=(15,4))\n",
    "plt.show()"
   ]
  },
  {
   "cell_type": "code",
   "execution_count": 45,
   "metadata": {},
   "outputs": [
    {
     "data": {
      "image/png": "[encoded data removed]",
      "text/plain": [
       "<Figure size 1080x288 with 1 Axes>"
      ]
     },
     "metadata": {
      "needs_background": "light"
     },
     "output_type": "display_data"
    }
   ],
   "source": [
    "# перепроверим зависимость по цене продажи от близости к центу СПб\n",
    "pd.pivot_table(data[data[\"locality_name\"]==\"Санкт-Петербург\"], \n",
    "               index=\"center_km\", \n",
    "               values=[\"last_price\"],\n",
    "               aggfunc=[\"mean\"])\\\n",
    ".plot(style='-',title='Зависимость цены продажи от расстояния до центра СПБ', color = \"blue\", figsize=(15,4))\n",
    "plt.show()"
   ]
  },
  {
   "cell_type": "markdown",
   "metadata": {},
   "source": [
    "### Зависимость по общей цене продажи и цене за м2 по центру СПб схожа - удаление от центра ведет к снижению цены\n",
    "\n",
    "По нашему мнению можно выделить \"супер центр\" в радиусе 1 км. и центр города - в радиусе 5-6 км. Пиковые ценовые всплески возможно свидетельствуют о наличии каких-то элитных точечных застроек"
   ]
  },
  {
   "cell_type": "markdown",
   "metadata": {},
   "source": [
    "### Общий вывод"
   ]
  },
  {
   "cell_type": "markdown",
   "metadata": {},
   "source": [
    "### Продаваемая недвижимость находится в городе, пригородах и недалеких окрестностях (протяженность города 25х52 км), с хорошо развитой инфраструктурой (85 км. до аэропорта) и вписывается в стандарты размещения по парковым зонам (д.б. в доступности не более 20 мин.).\n",
    "\n",
    "Общая площадь большинства квартир колеблется в диапазоне от 12 до 100 квадратных метров, больше площадь практически не встречается.\n",
    "\n",
    "В основном стоимость квартир - от 4 до 5 миллионов. \n",
    "\n",
    "Самая распространённая этажность домов - 5, 2 и 1 этажные здания. Больше 25 этажей здания практически не встречаются.\n",
    "\n",
    "По дням - активность публикаций объявлений в рабочие дни существенно превышает выходные дни По месяцам - наблюдается 2 пика в феврале-марте и октябре-ноябре. Также можем видеть восходящий тренд с мая по ноябрь (за исключением июня). \n",
    "\n",
    "В среднем квартиры продаются за 151 день. По нашему мнению продажи до 45 дней можно считать очень быстрыми, от 45 до 95 дней - быстрыми, от 95 дней до 232 дней - медленными, свыше 232 дней - необычайно медленными. Видны пики продаж на 45 и 60 дней. \n",
    "\n",
    "### В рамках проведенного исследования найдены определенные особенности и зависимости, существующие на рынке недвижимости региона.\n",
    "\n",
    "На стоимость больше влияет площадь квартиры (жилая площадь, площадь кухни), чем число комнат. \n",
    "\n",
    "Первый этаж значительно дешевле остальных вариантов. Также на стоимость квартиры отрицательно влияет нахождение на последнем этаже.\n",
    "\n",
    "Чаще всего объявления публикуют в рабочие дни.\n",
    "\n",
    "По объявлениям, опубликованным в апреле и сентябре, продается самая дорогая недвижимость. Самая дешевая - в мае. Можно говорить о \"сезонности\" продаж.\n",
    "\n",
    "На стоимость недвижимости 4 года оказывал отрицательное влияние экономический кризис в стране после 2014 г. с \"дном\" в 2018 г. Некоторый рост наблюдается только в 2019 г. При этом по объему продаж наблюдается обратный тренд: рост с 2014г. по 2018 г. и некоторый спад в 2019 г.\n",
    "\n",
    "При рассмотрении 10 населённых пунктов с наибольшим числом объявлений установлено:\n",
    "- количество продаж, средняя стоимость квадратного метра наибольшая в Санкт-Петербурге;\n",
    "- дешевле всего квадратный метр в Выборге. Средняя стоимость квадратного метра практически в 2 раза меньше, чем в Санкт-Петербурге.\n",
    "\n",
    "Зависимость по общей цене продажи и цене за м2 по центру Санкт-Петербурге схожа - удаление от центра ведет к снижению цены\n",
    "По нашему мнению можно выделить \"супер центр\" в радиусе 1 км. и центр города - в радиусе 5-6 км. "
   ]
  }
 ],
 "metadata": {
  "ExecuteTimeLog": [
   {
    "duration": 457,
    "start_time": "2022-12-03T08:38:05.720Z"
   },
   {
    "duration": 46,
    "start_time": "2022-12-03T08:39:58.675Z"
   },
   {
    "duration": 82,
    "start_time": "2022-12-03T08:44:01.442Z"
   },
   {
    "duration": 52,
    "start_time": "2022-12-03T08:44:05.684Z"
   },
   {
    "duration": 48,
    "start_time": "2022-12-03T08:46:20.169Z"
   },
   {
    "duration": 176,
    "start_time": "2022-12-03T08:47:10.837Z"
   },
   {
    "duration": 2543,
    "start_time": "2022-12-03T08:49:21.913Z"
   },
   {
    "duration": 3697,
    "start_time": "2022-12-03T14:37:59.915Z"
   },
   {
    "duration": 2355,
    "start_time": "2022-12-03T14:42:49.086Z"
   },
   {
    "duration": 235,
    "start_time": "2022-12-03T14:48:07.452Z"
   },
   {
    "duration": 4083,
    "start_time": "2022-12-03T14:48:15.660Z"
   },
   {
    "duration": 2736,
    "start_time": "2022-12-03T14:48:37.356Z"
   },
   {
    "duration": 2406,
    "start_time": "2022-12-03T15:07:38.539Z"
   },
   {
    "duration": 2600,
    "start_time": "2022-12-03T15:08:17.596Z"
   },
   {
    "duration": 37,
    "start_time": "2022-12-03T15:09:46.057Z"
   },
   {
    "duration": 10,
    "start_time": "2022-12-03T15:10:00.637Z"
   },
   {
    "duration": 30,
    "start_time": "2022-12-03T15:10:07.280Z"
   },
   {
    "duration": 11,
    "start_time": "2022-12-03T15:11:09.932Z"
   },
   {
    "duration": 155,
    "start_time": "2022-12-03T15:13:50.325Z"
   },
   {
    "duration": 2584,
    "start_time": "2022-12-03T15:13:58.140Z"
   },
   {
    "duration": 2591,
    "start_time": "2022-12-03T15:23:05.792Z"
   },
   {
    "duration": 11,
    "start_time": "2022-12-03T15:24:43.459Z"
   },
   {
    "duration": 14,
    "start_time": "2022-12-03T15:27:16.449Z"
   },
   {
    "duration": 13,
    "start_time": "2022-12-03T15:29:33.941Z"
   },
   {
    "duration": 8,
    "start_time": "2022-12-03T15:29:38.383Z"
   },
   {
    "duration": 11,
    "start_time": "2022-12-03T15:37:26.264Z"
   },
   {
    "duration": 8,
    "start_time": "2022-12-03T15:40:43.590Z"
   },
   {
    "duration": 80,
    "start_time": "2022-12-03T15:41:12.373Z"
   },
   {
    "duration": 7,
    "start_time": "2022-12-03T15:41:54.300Z"
   },
   {
    "duration": 7,
    "start_time": "2022-12-03T15:42:55.054Z"
   },
   {
    "duration": 7,
    "start_time": "2022-12-03T15:43:39.592Z"
   },
   {
    "duration": 7,
    "start_time": "2022-12-03T15:43:52.063Z"
   },
   {
    "duration": 11,
    "start_time": "2022-12-03T15:44:40.507Z"
   },
   {
    "duration": 7,
    "start_time": "2022-12-03T15:44:58.162Z"
   },
   {
    "duration": 97,
    "start_time": "2022-12-03T15:50:55.140Z"
   },
   {
    "duration": 89,
    "start_time": "2022-12-03T15:51:09.887Z"
   },
   {
    "duration": 93,
    "start_time": "2022-12-03T15:51:26.991Z"
   },
   {
    "duration": 112,
    "start_time": "2022-12-03T15:51:45.647Z"
   },
   {
    "duration": 41,
    "start_time": "2022-12-03T17:18:33.460Z"
   },
   {
    "duration": 48,
    "start_time": "2022-12-03T17:30:03.316Z"
   },
   {
    "duration": 42,
    "start_time": "2022-12-03T17:30:30.843Z"
   },
   {
    "duration": 39,
    "start_time": "2022-12-03T17:30:44.506Z"
   },
   {
    "duration": 41,
    "start_time": "2022-12-03T17:32:58.295Z"
   },
   {
    "duration": 50,
    "start_time": "2022-12-03T17:36:45.307Z"
   },
   {
    "duration": 45,
    "start_time": "2022-12-03T17:45:37.012Z"
   },
   {
    "duration": 45,
    "start_time": "2022-12-03T17:51:43.978Z"
   },
   {
    "duration": 15,
    "start_time": "2022-12-03T17:53:02.523Z"
   },
   {
    "duration": 8,
    "start_time": "2022-12-03T17:55:02.869Z"
   },
   {
    "duration": 8,
    "start_time": "2022-12-03T17:55:28.068Z"
   },
   {
    "duration": 8,
    "start_time": "2022-12-03T17:55:41.248Z"
   },
   {
    "duration": 1445,
    "start_time": "2022-12-03T17:57:16.270Z"
   },
   {
    "duration": 5,
    "start_time": "2022-12-03T17:58:33.269Z"
   },
   {
    "duration": 11,
    "start_time": "2022-12-03T17:59:30.715Z"
   },
   {
    "duration": 12,
    "start_time": "2022-12-03T18:03:39.710Z"
   },
   {
    "duration": 15,
    "start_time": "2022-12-03T18:09:33.714Z"
   },
   {
    "duration": 16,
    "start_time": "2022-12-03T18:15:53.841Z"
   },
   {
    "duration": 14,
    "start_time": "2022-12-03T18:16:36.952Z"
   },
   {
    "duration": 8,
    "start_time": "2022-12-03T18:16:51.043Z"
   },
   {
    "duration": 14,
    "start_time": "2022-12-03T18:18:48.708Z"
   },
   {
    "duration": 20,
    "start_time": "2022-12-03T18:21:17.461Z"
   },
   {
    "duration": 10,
    "start_time": "2022-12-03T18:27:23.603Z"
   },
   {
    "duration": 7,
    "start_time": "2022-12-03T18:28:55.082Z"
   },
   {
    "duration": 23,
    "start_time": "2022-12-03T18:30:14.833Z"
   },
   {
    "duration": 2993,
    "start_time": "2022-12-04T08:55:44.621Z"
   },
   {
    "duration": 10,
    "start_time": "2022-12-04T08:55:47.617Z"
   },
   {
    "duration": 92,
    "start_time": "2022-12-04T08:55:47.629Z"
   },
   {
    "duration": 6,
    "start_time": "2022-12-04T08:55:47.723Z"
   },
   {
    "duration": 30,
    "start_time": "2022-12-04T08:55:47.731Z"
   },
   {
    "duration": 32,
    "start_time": "2022-12-04T09:05:47.318Z"
   },
   {
    "duration": 5,
    "start_time": "2022-12-04T09:11:40.633Z"
   },
   {
    "duration": 5,
    "start_time": "2022-12-04T09:11:56.394Z"
   },
   {
    "duration": 85,
    "start_time": "2022-12-04T09:12:59.890Z"
   },
   {
    "duration": 23,
    "start_time": "2022-12-04T09:13:10.625Z"
   },
   {
    "duration": 31,
    "start_time": "2022-12-04T09:22:05.280Z"
   },
   {
    "duration": 9,
    "start_time": "2022-12-04T09:36:19.737Z"
   },
   {
    "duration": 690,
    "start_time": "2022-12-04T09:37:38.636Z"
   },
   {
    "duration": 731,
    "start_time": "2022-12-04T09:40:38.332Z"
   },
   {
    "duration": 37,
    "start_time": "2022-12-04T09:41:17.189Z"
   },
   {
    "duration": 39,
    "start_time": "2022-12-04T09:41:50.986Z"
   },
   {
    "duration": 33,
    "start_time": "2022-12-04T09:42:47.595Z"
   },
   {
    "duration": 32,
    "start_time": "2022-12-04T09:47:03.010Z"
   },
   {
    "duration": 97,
    "start_time": "2022-12-04T09:48:06.172Z"
   },
   {
    "duration": 31,
    "start_time": "2022-12-04T09:48:57.355Z"
   },
   {
    "duration": 32,
    "start_time": "2022-12-04T09:49:31.806Z"
   },
   {
    "duration": 47,
    "start_time": "2022-12-04T09:51:31.428Z"
   },
   {
    "duration": 1915,
    "start_time": "2022-12-04T09:51:58.229Z"
   },
   {
    "duration": 2095,
    "start_time": "2022-12-04T09:52:23.742Z"
   },
   {
    "duration": 1958,
    "start_time": "2022-12-04T09:52:52.240Z"
   },
   {
    "duration": 2036,
    "start_time": "2022-12-04T09:53:34.570Z"
   },
   {
    "duration": 37,
    "start_time": "2022-12-04T09:54:03.078Z"
   },
   {
    "duration": 2009,
    "start_time": "2022-12-04T09:54:18.353Z"
   },
   {
    "duration": 1787,
    "start_time": "2022-12-04T10:01:32.570Z"
   },
   {
    "duration": 53,
    "start_time": "2022-12-04T10:02:16.854Z"
   },
   {
    "duration": 51,
    "start_time": "2022-12-04T10:02:49.199Z"
   },
   {
    "duration": 243,
    "start_time": "2022-12-04T13:20:11.596Z"
   },
   {
    "duration": 34,
    "start_time": "2022-12-04T13:20:25.148Z"
   },
   {
    "duration": 45,
    "start_time": "2022-12-04T13:50:54.751Z"
   },
   {
    "duration": 37,
    "start_time": "2022-12-04T13:55:14.719Z"
   },
   {
    "duration": 41,
    "start_time": "2022-12-04T13:56:48.183Z"
   },
   {
    "duration": 30,
    "start_time": "2022-12-04T14:04:42.068Z"
   },
   {
    "duration": 1790,
    "start_time": "2022-12-04T14:05:04.946Z"
   },
   {
    "duration": 9,
    "start_time": "2022-12-04T14:05:06.738Z"
   },
   {
    "duration": 93,
    "start_time": "2022-12-04T14:05:06.749Z"
   },
   {
    "duration": 69,
    "start_time": "2022-12-04T14:05:06.844Z"
   },
   {
    "duration": 44,
    "start_time": "2022-12-04T14:05:06.916Z"
   },
   {
    "duration": 33,
    "start_time": "2022-12-04T14:06:01.031Z"
   },
   {
    "duration": 2198,
    "start_time": "2022-12-04T14:06:26.355Z"
   },
   {
    "duration": 9,
    "start_time": "2022-12-04T14:06:28.556Z"
   },
   {
    "duration": 104,
    "start_time": "2022-12-04T14:06:28.567Z"
   },
   {
    "duration": 53,
    "start_time": "2022-12-04T14:06:28.673Z"
   },
   {
    "duration": 33,
    "start_time": "2022-12-04T14:06:28.728Z"
   },
   {
    "duration": 327,
    "start_time": "2022-12-04T14:17:40.901Z"
   },
   {
    "duration": 437,
    "start_time": "2022-12-04T14:24:04.076Z"
   },
   {
    "duration": 350,
    "start_time": "2022-12-04T14:25:03.738Z"
   },
   {
    "duration": 400,
    "start_time": "2022-12-04T14:26:19.809Z"
   },
   {
    "duration": 328,
    "start_time": "2022-12-04T14:27:08.770Z"
   },
   {
    "duration": 329,
    "start_time": "2022-12-04T14:27:52.754Z"
   },
   {
    "duration": 353,
    "start_time": "2022-12-04T14:29:03.938Z"
   },
   {
    "duration": 578,
    "start_time": "2022-12-04T14:29:46.538Z"
   },
   {
    "duration": 314,
    "start_time": "2022-12-04T14:34:23.118Z"
   },
   {
    "duration": 364,
    "start_time": "2022-12-04T14:35:14.876Z"
   },
   {
    "duration": 326,
    "start_time": "2022-12-04T14:36:04.843Z"
   },
   {
    "duration": 299,
    "start_time": "2022-12-04T15:05:43.435Z"
   },
   {
    "duration": 338,
    "start_time": "2022-12-04T15:08:54.140Z"
   },
   {
    "duration": 305,
    "start_time": "2022-12-04T15:09:18.443Z"
   },
   {
    "duration": 2080,
    "start_time": "2022-12-04T15:10:05.013Z"
   },
   {
    "duration": 11,
    "start_time": "2022-12-04T15:10:07.098Z"
   },
   {
    "duration": 91,
    "start_time": "2022-12-04T15:10:07.111Z"
   },
   {
    "duration": 37,
    "start_time": "2022-12-04T15:10:07.204Z"
   },
   {
    "duration": 329,
    "start_time": "2022-12-04T15:10:07.244Z"
   },
   {
    "duration": 306,
    "start_time": "2022-12-04T15:10:36.239Z"
   },
   {
    "duration": 308,
    "start_time": "2022-12-04T15:11:58.467Z"
   },
   {
    "duration": 324,
    "start_time": "2022-12-04T15:12:45.451Z"
   },
   {
    "duration": 307,
    "start_time": "2022-12-04T15:13:29.591Z"
   },
   {
    "duration": 314,
    "start_time": "2022-12-04T15:14:12.424Z"
   },
   {
    "duration": 2127,
    "start_time": "2022-12-04T15:14:20.970Z"
   },
   {
    "duration": 9,
    "start_time": "2022-12-04T15:14:23.099Z"
   },
   {
    "duration": 94,
    "start_time": "2022-12-04T15:14:23.110Z"
   },
   {
    "duration": 35,
    "start_time": "2022-12-04T15:14:23.206Z"
   },
   {
    "duration": 321,
    "start_time": "2022-12-04T15:14:23.243Z"
   },
   {
    "duration": 295,
    "start_time": "2022-12-04T15:15:37.270Z"
   },
   {
    "duration": 156,
    "start_time": "2022-12-04T18:28:36.607Z"
   },
   {
    "duration": 1801,
    "start_time": "2022-12-04T18:28:46.354Z"
   },
   {
    "duration": 10,
    "start_time": "2022-12-04T18:28:48.157Z"
   },
   {
    "duration": 89,
    "start_time": "2022-12-04T18:28:48.168Z"
   },
   {
    "duration": 51,
    "start_time": "2022-12-04T18:28:48.259Z"
   },
   {
    "duration": 309,
    "start_time": "2022-12-04T18:28:48.312Z"
   },
   {
    "duration": 169,
    "start_time": "2022-12-04T18:28:48.623Z"
   },
   {
    "duration": 466,
    "start_time": "2022-12-04T18:33:01.187Z"
   },
   {
    "duration": 159,
    "start_time": "2022-12-04T18:35:32.687Z"
   },
   {
    "duration": 1881,
    "start_time": "2022-12-04T18:38:07.228Z"
   },
   {
    "duration": 149,
    "start_time": "2022-12-04T18:38:40.304Z"
   },
   {
    "duration": 4,
    "start_time": "2022-12-04T18:47:54.716Z"
   },
   {
    "duration": 3,
    "start_time": "2022-12-04T18:49:33.126Z"
   },
   {
    "duration": 148,
    "start_time": "2022-12-04T18:49:35.704Z"
   },
   {
    "duration": 1837,
    "start_time": "2022-12-04T18:49:45.609Z"
   },
   {
    "duration": 10,
    "start_time": "2022-12-04T18:49:47.448Z"
   },
   {
    "duration": 93,
    "start_time": "2022-12-04T18:49:47.460Z"
   },
   {
    "duration": 48,
    "start_time": "2022-12-04T18:49:47.555Z"
   },
   {
    "duration": 316,
    "start_time": "2022-12-04T18:49:47.604Z"
   },
   {
    "duration": 2,
    "start_time": "2022-12-04T18:49:47.922Z"
   },
   {
    "duration": 161,
    "start_time": "2022-12-04T18:49:47.925Z"
   },
   {
    "duration": 151,
    "start_time": "2022-12-04T18:49:48.087Z"
   },
   {
    "duration": 2,
    "start_time": "2022-12-04T18:50:07.767Z"
   },
   {
    "duration": 139,
    "start_time": "2022-12-04T18:51:00.248Z"
   },
   {
    "duration": 62,
    "start_time": "2022-12-04T18:53:19.345Z"
   },
   {
    "duration": 85,
    "start_time": "2022-12-04T18:55:00.476Z"
   },
   {
    "duration": 8,
    "start_time": "2022-12-04T18:55:31.779Z"
   },
   {
    "duration": 69,
    "start_time": "2022-12-05T10:00:33.682Z"
   },
   {
    "duration": 3049,
    "start_time": "2022-12-05T10:00:40.841Z"
   },
   {
    "duration": 10,
    "start_time": "2022-12-05T10:00:43.892Z"
   },
   {
    "duration": 94,
    "start_time": "2022-12-05T10:00:43.903Z"
   },
   {
    "duration": 39,
    "start_time": "2022-12-05T10:00:43.999Z"
   },
   {
    "duration": 350,
    "start_time": "2022-12-05T10:00:44.040Z"
   },
   {
    "duration": 168,
    "start_time": "2022-12-05T10:00:44.392Z"
   },
   {
    "duration": 55,
    "start_time": "2022-12-05T10:00:44.561Z"
   },
   {
    "duration": 0,
    "start_time": "2022-12-05T10:00:44.617Z"
   },
   {
    "duration": 53,
    "start_time": "2022-12-05T10:00:58.080Z"
   },
   {
    "duration": 159,
    "start_time": "2022-12-05T10:01:42.940Z"
   },
   {
    "duration": 45,
    "start_time": "2022-12-05T10:02:47.266Z"
   },
   {
    "duration": 164,
    "start_time": "2022-12-05T10:03:10.168Z"
   },
   {
    "duration": 245,
    "start_time": "2022-12-05T10:03:25.561Z"
   },
   {
    "duration": 193,
    "start_time": "2022-12-05T10:03:36.416Z"
   },
   {
    "duration": 166,
    "start_time": "2022-12-05T10:03:52.566Z"
   },
   {
    "duration": 50,
    "start_time": "2022-12-05T10:04:08.476Z"
   },
   {
    "duration": 15,
    "start_time": "2022-12-05T10:04:28.537Z"
   },
   {
    "duration": 14,
    "start_time": "2022-12-05T10:04:41.726Z"
   },
   {
    "duration": 13,
    "start_time": "2022-12-05T10:07:21.766Z"
   },
   {
    "duration": 12,
    "start_time": "2022-12-05T10:07:32.153Z"
   },
   {
    "duration": 8,
    "start_time": "2022-12-05T10:07:52.759Z"
   },
   {
    "duration": 2183,
    "start_time": "2022-12-05T10:07:58.518Z"
   },
   {
    "duration": 14,
    "start_time": "2022-12-05T10:08:00.703Z"
   },
   {
    "duration": 128,
    "start_time": "2022-12-05T10:08:00.718Z"
   },
   {
    "duration": 51,
    "start_time": "2022-12-05T10:08:00.848Z"
   },
   {
    "duration": 344,
    "start_time": "2022-12-05T10:08:00.900Z"
   },
   {
    "duration": 188,
    "start_time": "2022-12-05T10:08:01.246Z"
   },
   {
    "duration": 18,
    "start_time": "2022-12-05T10:08:01.436Z"
   },
   {
    "duration": 51,
    "start_time": "2022-12-05T10:08:01.456Z"
   },
   {
    "duration": 14,
    "start_time": "2022-12-05T10:08:13.788Z"
   },
   {
    "duration": 9,
    "start_time": "2022-12-05T10:11:46.695Z"
   },
   {
    "duration": 159,
    "start_time": "2022-12-05T10:12:31.028Z"
   },
   {
    "duration": 156,
    "start_time": "2022-12-05T10:13:06.669Z"
   },
   {
    "duration": 154,
    "start_time": "2022-12-05T10:13:18.006Z"
   },
   {
    "duration": 53,
    "start_time": "2022-12-05T14:32:45.412Z"
   },
   {
    "duration": 3764,
    "start_time": "2022-12-05T14:32:57.470Z"
   },
   {
    "duration": 11,
    "start_time": "2022-12-05T14:33:01.236Z"
   },
   {
    "duration": 110,
    "start_time": "2022-12-05T14:33:01.248Z"
   },
   {
    "duration": 54,
    "start_time": "2022-12-05T14:33:01.360Z"
   },
   {
    "duration": 437,
    "start_time": "2022-12-05T14:33:01.416Z"
   },
   {
    "duration": 0,
    "start_time": "2022-12-05T14:33:01.855Z"
   },
   {
    "duration": 0,
    "start_time": "2022-12-05T14:33:01.856Z"
   },
   {
    "duration": 0,
    "start_time": "2022-12-05T14:33:01.858Z"
   },
   {
    "duration": 376,
    "start_time": "2022-12-05T14:33:49.879Z"
   },
   {
    "duration": 451,
    "start_time": "2022-12-05T14:35:18.696Z"
   },
   {
    "duration": 188,
    "start_time": "2022-12-05T14:35:33.978Z"
   },
   {
    "duration": 25,
    "start_time": "2022-12-05T14:37:30.579Z"
   },
   {
    "duration": 314,
    "start_time": "2022-12-05T14:41:27.091Z"
   },
   {
    "duration": 301,
    "start_time": "2022-12-05T14:41:56.845Z"
   },
   {
    "duration": 713,
    "start_time": "2022-12-05T15:25:13.145Z"
   },
   {
    "duration": 106,
    "start_time": "2022-12-05T15:29:23.196Z"
   },
   {
    "duration": 107,
    "start_time": "2022-12-05T15:32:07.800Z"
   },
   {
    "duration": 104,
    "start_time": "2022-12-05T15:32:26.868Z"
   },
   {
    "duration": 119,
    "start_time": "2022-12-05T15:32:37.734Z"
   },
   {
    "duration": 117,
    "start_time": "2022-12-05T15:32:55.526Z"
   },
   {
    "duration": 127,
    "start_time": "2022-12-05T17:24:51.954Z"
   },
   {
    "duration": 107,
    "start_time": "2022-12-05T17:25:22.445Z"
   },
   {
    "duration": 2110,
    "start_time": "2022-12-05T17:26:21.080Z"
   },
   {
    "duration": 9,
    "start_time": "2022-12-05T17:26:23.196Z"
   },
   {
    "duration": 95,
    "start_time": "2022-12-05T17:26:23.206Z"
   },
   {
    "duration": 38,
    "start_time": "2022-12-05T17:26:23.303Z"
   },
   {
    "duration": 353,
    "start_time": "2022-12-05T17:26:23.344Z"
   },
   {
    "duration": 288,
    "start_time": "2022-12-05T17:26:23.699Z"
   },
   {
    "duration": 307,
    "start_time": "2022-12-05T17:26:23.989Z"
   },
   {
    "duration": 121,
    "start_time": "2022-12-05T17:26:24.298Z"
   },
   {
    "duration": 69,
    "start_time": "2022-12-05T17:26:24.421Z"
   },
   {
    "duration": 189,
    "start_time": "2022-12-05T17:27:26.125Z"
   },
   {
    "duration": 120,
    "start_time": "2022-12-05T17:28:01.926Z"
   },
   {
    "duration": 107,
    "start_time": "2022-12-05T17:35:52.576Z"
   },
   {
    "duration": 103,
    "start_time": "2022-12-05T17:37:58.026Z"
   },
   {
    "duration": 105,
    "start_time": "2022-12-05T17:38:13.659Z"
   },
   {
    "duration": 103,
    "start_time": "2022-12-05T17:38:21.263Z"
   },
   {
    "duration": 112,
    "start_time": "2022-12-05T17:38:32.311Z"
   },
   {
    "duration": 132,
    "start_time": "2022-12-05T17:38:46.253Z"
   },
   {
    "duration": 163,
    "start_time": "2022-12-05T17:40:11.716Z"
   },
   {
    "duration": 171,
    "start_time": "2022-12-05T17:43:36.662Z"
   },
   {
    "duration": 178,
    "start_time": "2022-12-05T17:44:07.290Z"
   },
   {
    "duration": 165,
    "start_time": "2022-12-05T17:44:20.489Z"
   },
   {
    "duration": 306,
    "start_time": "2022-12-05T17:44:39.294Z"
   },
   {
    "duration": 152,
    "start_time": "2022-12-05T17:44:56.226Z"
   },
   {
    "duration": 161,
    "start_time": "2022-12-05T17:45:11.226Z"
   },
   {
    "duration": 181,
    "start_time": "2022-12-05T17:45:53.898Z"
   },
   {
    "duration": 108,
    "start_time": "2022-12-05T17:46:54.965Z"
   },
   {
    "duration": 112,
    "start_time": "2022-12-05T17:48:03.719Z"
   },
   {
    "duration": 109,
    "start_time": "2022-12-05T17:48:11.323Z"
   },
   {
    "duration": 107,
    "start_time": "2022-12-05T17:48:18.357Z"
   },
   {
    "duration": 257,
    "start_time": "2022-12-05T17:49:47.341Z"
   },
   {
    "duration": 269,
    "start_time": "2022-12-05T17:50:24.105Z"
   },
   {
    "duration": 259,
    "start_time": "2022-12-05T17:51:28.453Z"
   },
   {
    "duration": 271,
    "start_time": "2022-12-05T17:54:30.943Z"
   },
   {
    "duration": 419,
    "start_time": "2022-12-05T17:55:09.840Z"
   },
   {
    "duration": 272,
    "start_time": "2022-12-05T17:55:28.590Z"
   },
   {
    "duration": 299,
    "start_time": "2022-12-05T17:55:49.072Z"
   },
   {
    "duration": 288,
    "start_time": "2022-12-05T17:56:08.794Z"
   },
   {
    "duration": 327,
    "start_time": "2022-12-05T17:56:26.043Z"
   },
   {
    "duration": 281,
    "start_time": "2022-12-05T17:56:36.186Z"
   },
   {
    "duration": 289,
    "start_time": "2022-12-05T18:02:08.640Z"
   },
   {
    "duration": 281,
    "start_time": "2022-12-05T18:02:21.824Z"
   },
   {
    "duration": 437,
    "start_time": "2022-12-05T18:04:43.454Z"
   },
   {
    "duration": 300,
    "start_time": "2022-12-05T18:05:24.762Z"
   },
   {
    "duration": 285,
    "start_time": "2022-12-05T18:05:36.712Z"
   },
   {
    "duration": 291,
    "start_time": "2022-12-05T18:05:57.115Z"
   },
   {
    "duration": 330,
    "start_time": "2022-12-05T18:06:26.087Z"
   },
   {
    "duration": 297,
    "start_time": "2022-12-05T18:06:33.052Z"
   },
   {
    "duration": 294,
    "start_time": "2022-12-05T18:09:31.265Z"
   },
   {
    "duration": 295,
    "start_time": "2022-12-05T18:12:37.683Z"
   },
   {
    "duration": 2233,
    "start_time": "2022-12-05T18:12:48.483Z"
   },
   {
    "duration": 9,
    "start_time": "2022-12-05T18:12:50.718Z"
   },
   {
    "duration": 91,
    "start_time": "2022-12-05T18:12:50.729Z"
   },
   {
    "duration": 35,
    "start_time": "2022-12-05T18:12:50.822Z"
   },
   {
    "duration": 472,
    "start_time": "2022-12-05T18:12:50.859Z"
   },
   {
    "duration": 282,
    "start_time": "2022-12-05T18:12:51.333Z"
   },
   {
    "duration": 285,
    "start_time": "2022-12-05T18:12:51.617Z"
   },
   {
    "duration": 278,
    "start_time": "2022-12-05T18:12:51.904Z"
   },
   {
    "duration": 319,
    "start_time": "2022-12-05T18:12:52.183Z"
   },
   {
    "duration": 61,
    "start_time": "2022-12-05T18:12:52.503Z"
   },
   {
    "duration": 288,
    "start_time": "2022-12-05T18:13:33.558Z"
   },
   {
    "duration": 38,
    "start_time": "2022-12-05T18:14:37.230Z"
   },
   {
    "duration": 48,
    "start_time": "2022-12-05T18:15:31.255Z"
   },
   {
    "duration": 38,
    "start_time": "2022-12-05T18:16:05.230Z"
   },
   {
    "duration": 336,
    "start_time": "2022-12-05T18:16:35.874Z"
   },
   {
    "duration": 268,
    "start_time": "2022-12-05T18:17:31.431Z"
   },
   {
    "duration": 269,
    "start_time": "2022-12-05T18:17:52.463Z"
   },
   {
    "duration": 455,
    "start_time": "2022-12-05T18:18:01.836Z"
   },
   {
    "duration": 278,
    "start_time": "2022-12-05T18:18:11.326Z"
   },
   {
    "duration": 294,
    "start_time": "2022-12-05T18:19:09.891Z"
   },
   {
    "duration": 270,
    "start_time": "2022-12-05T18:19:21.146Z"
   },
   {
    "duration": 2261,
    "start_time": "2022-12-05T18:19:34.742Z"
   },
   {
    "duration": 10,
    "start_time": "2022-12-05T18:19:48.465Z"
   },
   {
    "duration": 83,
    "start_time": "2022-12-05T18:19:54.497Z"
   },
   {
    "duration": 39,
    "start_time": "2022-12-05T18:20:13.363Z"
   },
   {
    "duration": 343,
    "start_time": "2022-12-05T18:20:19.790Z"
   },
   {
    "duration": 256,
    "start_time": "2022-12-05T18:20:26.883Z"
   },
   {
    "duration": 278,
    "start_time": "2022-12-05T18:20:27.140Z"
   },
   {
    "duration": 271,
    "start_time": "2022-12-05T18:20:34.762Z"
   },
   {
    "duration": 270,
    "start_time": "2022-12-05T18:20:47.965Z"
   },
   {
    "duration": 283,
    "start_time": "2022-12-05T18:20:58.997Z"
   },
   {
    "duration": 257,
    "start_time": "2022-12-05T18:34:41.707Z"
   },
   {
    "duration": 313,
    "start_time": "2022-12-05T18:34:55.150Z"
   },
   {
    "duration": 472,
    "start_time": "2022-12-05T18:35:23.310Z"
   },
   {
    "duration": 279,
    "start_time": "2022-12-05T18:40:14.585Z"
   },
   {
    "duration": 291,
    "start_time": "2022-12-05T18:41:01.961Z"
   },
   {
    "duration": 272,
    "start_time": "2022-12-05T18:41:09.398Z"
   },
   {
    "duration": 269,
    "start_time": "2022-12-05T18:41:27.112Z"
   },
   {
    "duration": 268,
    "start_time": "2022-12-05T18:41:48.018Z"
   },
   {
    "duration": 273,
    "start_time": "2022-12-05T18:42:10.346Z"
   },
   {
    "duration": 264,
    "start_time": "2022-12-05T18:43:24.516Z"
   },
   {
    "duration": 279,
    "start_time": "2022-12-05T20:52:33.853Z"
   },
   {
    "duration": 266,
    "start_time": "2022-12-05T20:53:31.838Z"
   },
   {
    "duration": 260,
    "start_time": "2022-12-05T20:53:47.326Z"
   },
   {
    "duration": 274,
    "start_time": "2022-12-05T20:54:04.844Z"
   },
   {
    "duration": 475,
    "start_time": "2022-12-05T20:54:25.624Z"
   },
   {
    "duration": 256,
    "start_time": "2022-12-05T20:54:50.805Z"
   },
   {
    "duration": 243,
    "start_time": "2022-12-05T20:54:58.994Z"
   },
   {
    "duration": 249,
    "start_time": "2022-12-05T20:55:07.821Z"
   },
   {
    "duration": 288,
    "start_time": "2022-12-05T20:55:23.628Z"
   },
   {
    "duration": 263,
    "start_time": "2022-12-05T20:55:31.961Z"
   },
   {
    "duration": 294,
    "start_time": "2022-12-05T20:55:43.005Z"
   },
   {
    "duration": 274,
    "start_time": "2022-12-05T20:55:53.706Z"
   },
   {
    "duration": 312,
    "start_time": "2022-12-05T21:00:21.734Z"
   },
   {
    "duration": 253,
    "start_time": "2022-12-05T21:01:26.912Z"
   },
   {
    "duration": 286,
    "start_time": "2022-12-05T21:01:41.425Z"
   },
   {
    "duration": 528,
    "start_time": "2022-12-05T21:02:00.639Z"
   },
   {
    "duration": 274,
    "start_time": "2022-12-05T21:03:54.089Z"
   },
   {
    "duration": 283,
    "start_time": "2022-12-05T21:04:34.907Z"
   },
   {
    "duration": 277,
    "start_time": "2022-12-05T21:05:09.671Z"
   },
   {
    "duration": 282,
    "start_time": "2022-12-05T21:05:30.938Z"
   },
   {
    "duration": 359,
    "start_time": "2022-12-05T21:09:28.359Z"
   },
   {
    "duration": 2144,
    "start_time": "2022-12-05T21:09:38.791Z"
   },
   {
    "duration": 10,
    "start_time": "2022-12-05T21:09:40.936Z"
   },
   {
    "duration": 98,
    "start_time": "2022-12-05T21:09:40.948Z"
   },
   {
    "duration": 48,
    "start_time": "2022-12-05T21:09:41.049Z"
   },
   {
    "duration": 331,
    "start_time": "2022-12-05T21:09:41.099Z"
   },
   {
    "duration": 0,
    "start_time": "2022-12-05T21:09:41.432Z"
   },
   {
    "duration": 0,
    "start_time": "2022-12-05T21:09:41.433Z"
   },
   {
    "duration": 1,
    "start_time": "2022-12-05T21:09:41.434Z"
   },
   {
    "duration": 0,
    "start_time": "2022-12-05T21:09:41.435Z"
   },
   {
    "duration": 0,
    "start_time": "2022-12-05T21:09:41.437Z"
   },
   {
    "duration": 0,
    "start_time": "2022-12-05T21:09:41.438Z"
   },
   {
    "duration": 0,
    "start_time": "2022-12-05T21:09:41.439Z"
   },
   {
    "duration": 0,
    "start_time": "2022-12-05T21:09:41.440Z"
   },
   {
    "duration": 0,
    "start_time": "2022-12-05T21:09:41.441Z"
   },
   {
    "duration": 0,
    "start_time": "2022-12-05T21:09:41.442Z"
   },
   {
    "duration": 346,
    "start_time": "2022-12-05T21:10:09.807Z"
   },
   {
    "duration": 350,
    "start_time": "2022-12-05T21:10:54.956Z"
   },
   {
    "duration": 139,
    "start_time": "2022-12-05T21:11:44.593Z"
   },
   {
    "duration": 2149,
    "start_time": "2022-12-05T21:12:27.049Z"
   },
   {
    "duration": 9,
    "start_time": "2022-12-05T21:12:29.201Z"
   },
   {
    "duration": 135,
    "start_time": "2022-12-05T21:12:29.211Z"
   },
   {
    "duration": 48,
    "start_time": "2022-12-05T21:12:29.348Z"
   },
   {
    "duration": 351,
    "start_time": "2022-12-05T21:12:29.398Z"
   },
   {
    "duration": 289,
    "start_time": "2022-12-05T21:12:29.751Z"
   },
   {
    "duration": 297,
    "start_time": "2022-12-05T21:12:30.042Z"
   },
   {
    "duration": 273,
    "start_time": "2022-12-05T21:12:30.340Z"
   },
   {
    "duration": 289,
    "start_time": "2022-12-05T21:12:30.615Z"
   },
   {
    "duration": 292,
    "start_time": "2022-12-05T21:12:30.907Z"
   },
   {
    "duration": 322,
    "start_time": "2022-12-05T21:12:31.200Z"
   },
   {
    "duration": 573,
    "start_time": "2022-12-05T21:12:31.524Z"
   },
   {
    "duration": 148,
    "start_time": "2022-12-05T21:12:32.099Z"
   },
   {
    "duration": 47,
    "start_time": "2022-12-05T21:12:32.249Z"
   },
   {
    "duration": 0,
    "start_time": "2022-12-05T21:12:32.298Z"
   },
   {
    "duration": 306,
    "start_time": "2022-12-05T21:14:32.422Z"
   },
   {
    "duration": 287,
    "start_time": "2022-12-05T21:17:12.013Z"
   },
   {
    "duration": 272,
    "start_time": "2022-12-05T21:17:25.346Z"
   },
   {
    "duration": 303,
    "start_time": "2022-12-05T21:17:34.701Z"
   },
   {
    "duration": 289,
    "start_time": "2022-12-05T21:17:46.450Z"
   },
   {
    "duration": 280,
    "start_time": "2022-12-05T21:17:52.932Z"
   },
   {
    "duration": 299,
    "start_time": "2022-12-05T21:18:03.021Z"
   },
   {
    "duration": 288,
    "start_time": "2022-12-05T21:18:08.830Z"
   },
   {
    "duration": 301,
    "start_time": "2022-12-05T21:18:15.046Z"
   },
   {
    "duration": 270,
    "start_time": "2022-12-05T21:18:21.101Z"
   },
   {
    "duration": 267,
    "start_time": "2022-12-05T21:18:27.584Z"
   },
   {
    "duration": 282,
    "start_time": "2022-12-05T21:18:47.876Z"
   },
   {
    "duration": 288,
    "start_time": "2022-12-05T21:18:54.193Z"
   },
   {
    "duration": 635,
    "start_time": "2022-12-05T21:19:03.668Z"
   },
   {
    "duration": 269,
    "start_time": "2022-12-05T21:19:22.840Z"
   },
   {
    "duration": 291,
    "start_time": "2022-12-05T21:19:35.689Z"
   },
   {
    "duration": 275,
    "start_time": "2022-12-05T21:19:52.629Z"
   },
   {
    "duration": 288,
    "start_time": "2022-12-05T21:22:52.576Z"
   },
   {
    "duration": 271,
    "start_time": "2022-12-05T21:24:01.973Z"
   },
   {
    "duration": 262,
    "start_time": "2022-12-05T21:24:29.006Z"
   },
   {
    "duration": 270,
    "start_time": "2022-12-05T21:24:39.854Z"
   },
   {
    "duration": 266,
    "start_time": "2022-12-05T21:25:04.883Z"
   },
   {
    "duration": 255,
    "start_time": "2022-12-05T21:25:12.378Z"
   },
   {
    "duration": 268,
    "start_time": "2022-12-05T21:25:21.768Z"
   },
   {
    "duration": 3109,
    "start_time": "2022-12-06T06:42:37.292Z"
   },
   {
    "duration": 15,
    "start_time": "2022-12-06T06:42:40.403Z"
   },
   {
    "duration": 93,
    "start_time": "2022-12-06T06:42:40.420Z"
   },
   {
    "duration": 47,
    "start_time": "2022-12-06T06:42:40.516Z"
   },
   {
    "duration": 431,
    "start_time": "2022-12-06T06:42:40.564Z"
   },
   {
    "duration": 347,
    "start_time": "2022-12-06T06:42:40.997Z"
   },
   {
    "duration": 441,
    "start_time": "2022-12-06T06:42:41.346Z"
   },
   {
    "duration": 270,
    "start_time": "2022-12-06T06:42:41.788Z"
   },
   {
    "duration": 316,
    "start_time": "2022-12-06T06:42:42.061Z"
   },
   {
    "duration": 288,
    "start_time": "2022-12-06T06:42:42.380Z"
   },
   {
    "duration": 289,
    "start_time": "2022-12-06T06:42:42.669Z"
   },
   {
    "duration": 279,
    "start_time": "2022-12-06T06:42:42.959Z"
   },
   {
    "duration": 238,
    "start_time": "2022-12-06T06:42:43.239Z"
   },
   {
    "duration": 277,
    "start_time": "2022-12-06T06:42:43.479Z"
   },
   {
    "duration": 270,
    "start_time": "2022-12-06T06:42:43.757Z"
   },
   {
    "duration": 71,
    "start_time": "2022-12-06T06:42:44.029Z"
   },
   {
    "duration": 0,
    "start_time": "2022-12-06T06:42:44.102Z"
   },
   {
    "duration": 224,
    "start_time": "2022-12-06T06:45:13.624Z"
   },
   {
    "duration": 148,
    "start_time": "2022-12-06T06:46:01.063Z"
   },
   {
    "duration": 146,
    "start_time": "2022-12-06T06:46:58.597Z"
   },
   {
    "duration": 158,
    "start_time": "2022-12-06T06:48:29.047Z"
   },
   {
    "duration": 164,
    "start_time": "2022-12-06T06:48:42.576Z"
   },
   {
    "duration": 305,
    "start_time": "2022-12-06T06:51:28.257Z"
   },
   {
    "duration": 182,
    "start_time": "2022-12-06T06:52:14.901Z"
   },
   {
    "duration": 158,
    "start_time": "2022-12-06T06:52:30.921Z"
   },
   {
    "duration": 181,
    "start_time": "2022-12-06T06:53:01.388Z"
   },
   {
    "duration": 165,
    "start_time": "2022-12-06T06:54:54.378Z"
   },
   {
    "duration": 171,
    "start_time": "2022-12-06T06:55:15.644Z"
   },
   {
    "duration": 1296,
    "start_time": "2022-12-06T06:56:39.433Z"
   },
   {
    "duration": 143,
    "start_time": "2022-12-06T06:57:02.566Z"
   },
   {
    "duration": 3198,
    "start_time": "2022-12-06T15:03:39.277Z"
   },
   {
    "duration": 13,
    "start_time": "2022-12-06T15:03:42.477Z"
   },
   {
    "duration": 83,
    "start_time": "2022-12-06T15:03:42.491Z"
   },
   {
    "duration": 43,
    "start_time": "2022-12-06T15:03:42.576Z"
   },
   {
    "duration": 357,
    "start_time": "2022-12-06T15:03:42.621Z"
   },
   {
    "duration": 311,
    "start_time": "2022-12-06T15:03:42.979Z"
   },
   {
    "duration": 369,
    "start_time": "2022-12-06T15:03:43.292Z"
   },
   {
    "duration": 322,
    "start_time": "2022-12-06T15:03:43.663Z"
   },
   {
    "duration": 303,
    "start_time": "2022-12-06T15:03:43.987Z"
   },
   {
    "duration": 344,
    "start_time": "2022-12-06T15:03:44.292Z"
   },
   {
    "duration": 381,
    "start_time": "2022-12-06T15:03:44.640Z"
   },
   {
    "duration": 313,
    "start_time": "2022-12-06T15:03:45.022Z"
   },
   {
    "duration": 244,
    "start_time": "2022-12-06T15:03:45.336Z"
   },
   {
    "duration": 285,
    "start_time": "2022-12-06T15:03:45.584Z"
   },
   {
    "duration": 285,
    "start_time": "2022-12-06T15:03:45.870Z"
   },
   {
    "duration": 191,
    "start_time": "2022-12-06T15:03:46.157Z"
   },
   {
    "duration": 192,
    "start_time": "2022-12-06T15:03:46.350Z"
   },
   {
    "duration": 199,
    "start_time": "2022-12-06T15:03:46.544Z"
   },
   {
    "duration": 195,
    "start_time": "2022-12-06T15:03:46.745Z"
   },
   {
    "duration": 74,
    "start_time": "2022-12-06T15:03:46.942Z"
   },
   {
    "duration": 311,
    "start_time": "2022-12-06T15:06:08.527Z"
   },
   {
    "duration": 2402,
    "start_time": "2022-12-06T15:06:16.166Z"
   },
   {
    "duration": 10,
    "start_time": "2022-12-06T15:06:18.570Z"
   },
   {
    "duration": 108,
    "start_time": "2022-12-06T15:06:18.583Z"
   },
   {
    "duration": 46,
    "start_time": "2022-12-06T15:06:18.694Z"
   },
   {
    "duration": 517,
    "start_time": "2022-12-06T15:06:18.742Z"
   },
   {
    "duration": 303,
    "start_time": "2022-12-06T15:06:19.261Z"
   },
   {
    "duration": 280,
    "start_time": "2022-12-06T15:06:19.565Z"
   },
   {
    "duration": 281,
    "start_time": "2022-12-06T15:06:19.846Z"
   },
   {
    "duration": 329,
    "start_time": "2022-12-06T15:06:20.129Z"
   },
   {
    "duration": 304,
    "start_time": "2022-12-06T15:06:20.461Z"
   },
   {
    "duration": 323,
    "start_time": "2022-12-06T15:06:20.767Z"
   },
   {
    "duration": 315,
    "start_time": "2022-12-06T15:06:21.092Z"
   },
   {
    "duration": 164,
    "start_time": "2022-12-06T15:06:21.410Z"
   },
   {
    "duration": 463,
    "start_time": "2022-12-06T15:06:21.575Z"
   },
   {
    "duration": 309,
    "start_time": "2022-12-06T15:06:22.040Z"
   },
   {
    "duration": 273,
    "start_time": "2022-12-06T15:06:22.351Z"
   },
   {
    "duration": 267,
    "start_time": "2022-12-06T15:06:22.626Z"
   },
   {
    "duration": 230,
    "start_time": "2022-12-06T15:06:22.895Z"
   },
   {
    "duration": 174,
    "start_time": "2022-12-06T15:06:23.127Z"
   },
   {
    "duration": 59,
    "start_time": "2022-12-06T15:06:23.303Z"
   },
   {
    "duration": 0,
    "start_time": "2022-12-06T15:06:23.364Z"
   },
   {
    "duration": 345,
    "start_time": "2022-12-06T15:08:26.631Z"
   },
   {
    "duration": 51,
    "start_time": "2022-12-06T15:09:27.641Z"
   },
   {
    "duration": 65,
    "start_time": "2022-12-06T15:13:12.257Z"
   },
   {
    "duration": 67,
    "start_time": "2022-12-06T15:13:24.016Z"
   },
   {
    "duration": 374,
    "start_time": "2022-12-06T15:31:39.566Z"
   },
   {
    "duration": 328,
    "start_time": "2022-12-06T15:33:10.944Z"
   },
   {
    "duration": 9,
    "start_time": "2022-12-06T15:35:23.094Z"
   },
   {
    "duration": 14,
    "start_time": "2022-12-06T15:36:17.996Z"
   },
   {
    "duration": 2275,
    "start_time": "2022-12-06T15:36:24.271Z"
   },
   {
    "duration": 20,
    "start_time": "2022-12-06T15:36:26.548Z"
   },
   {
    "duration": 95,
    "start_time": "2022-12-06T15:36:26.569Z"
   },
   {
    "duration": 40,
    "start_time": "2022-12-06T15:36:26.670Z"
   },
   {
    "duration": 376,
    "start_time": "2022-12-06T15:36:26.713Z"
   },
   {
    "duration": 299,
    "start_time": "2022-12-06T15:36:27.090Z"
   },
   {
    "duration": 300,
    "start_time": "2022-12-06T15:36:27.390Z"
   },
   {
    "duration": 329,
    "start_time": "2022-12-06T15:36:27.692Z"
   },
   {
    "duration": 307,
    "start_time": "2022-12-06T15:36:28.023Z"
   },
   {
    "duration": 456,
    "start_time": "2022-12-06T15:36:28.332Z"
   },
   {
    "duration": 331,
    "start_time": "2022-12-06T15:36:28.791Z"
   },
   {
    "duration": 305,
    "start_time": "2022-12-06T15:36:29.124Z"
   },
   {
    "duration": 252,
    "start_time": "2022-12-06T15:36:29.430Z"
   },
   {
    "duration": 306,
    "start_time": "2022-12-06T15:36:29.686Z"
   },
   {
    "duration": 299,
    "start_time": "2022-12-06T15:36:29.993Z"
   },
   {
    "duration": 203,
    "start_time": "2022-12-06T15:36:30.294Z"
   },
   {
    "duration": 207,
    "start_time": "2022-12-06T15:36:30.499Z"
   },
   {
    "duration": 213,
    "start_time": "2022-12-06T15:36:30.708Z"
   },
   {
    "duration": 182,
    "start_time": "2022-12-06T15:36:30.923Z"
   },
   {
    "duration": 71,
    "start_time": "2022-12-06T15:36:31.106Z"
   },
   {
    "duration": 305,
    "start_time": "2022-12-06T15:44:23.823Z"
   },
   {
    "duration": 390,
    "start_time": "2022-12-06T15:44:34.754Z"
   },
   {
    "duration": 316,
    "start_time": "2022-12-06T15:44:46.083Z"
   },
   {
    "duration": 11,
    "start_time": "2022-12-06T15:48:24.099Z"
   },
   {
    "duration": 10,
    "start_time": "2022-12-06T15:50:58.593Z"
   },
   {
    "duration": 83,
    "start_time": "2022-12-06T15:52:43.707Z"
   },
   {
    "duration": 9,
    "start_time": "2022-12-06T15:54:09.302Z"
   },
   {
    "duration": 885,
    "start_time": "2022-12-06T15:57:10.271Z"
   },
   {
    "duration": 893,
    "start_time": "2022-12-06T15:58:00.853Z"
   },
   {
    "duration": 5,
    "start_time": "2022-12-06T15:58:19.832Z"
   },
   {
    "duration": 54,
    "start_time": "2022-12-06T15:58:45.602Z"
   },
   {
    "duration": 1127,
    "start_time": "2022-12-06T15:59:01.804Z"
   },
   {
    "duration": 796,
    "start_time": "2022-12-06T15:59:27.895Z"
   },
   {
    "duration": 7,
    "start_time": "2022-12-06T16:00:10.500Z"
   },
   {
    "duration": 787,
    "start_time": "2022-12-06T16:01:08.105Z"
   },
   {
    "duration": 754,
    "start_time": "2022-12-06T16:01:43.268Z"
   },
   {
    "duration": 2151,
    "start_time": "2022-12-06T16:01:49.683Z"
   },
   {
    "duration": 20,
    "start_time": "2022-12-06T16:01:51.836Z"
   },
   {
    "duration": 83,
    "start_time": "2022-12-06T16:01:51.860Z"
   },
   {
    "duration": 54,
    "start_time": "2022-12-06T16:01:51.945Z"
   },
   {
    "duration": 7,
    "start_time": "2022-12-06T16:01:52.001Z"
   },
   {
    "duration": 10,
    "start_time": "2022-12-06T16:01:52.010Z"
   },
   {
    "duration": 88,
    "start_time": "2022-12-06T16:01:52.022Z"
   },
   {
    "duration": 7,
    "start_time": "2022-12-06T16:01:52.112Z"
   },
   {
    "duration": 586,
    "start_time": "2022-12-06T16:01:52.121Z"
   },
   {
    "duration": 320,
    "start_time": "2022-12-06T16:01:52.710Z"
   },
   {
    "duration": 299,
    "start_time": "2022-12-06T16:01:53.032Z"
   },
   {
    "duration": 313,
    "start_time": "2022-12-06T16:01:53.333Z"
   },
   {
    "duration": 339,
    "start_time": "2022-12-06T16:01:53.658Z"
   },
   {
    "duration": 307,
    "start_time": "2022-12-06T16:01:54.000Z"
   },
   {
    "duration": 346,
    "start_time": "2022-12-06T16:01:54.309Z"
   },
   {
    "duration": 389,
    "start_time": "2022-12-06T16:01:54.658Z"
   },
   {
    "duration": 189,
    "start_time": "2022-12-06T16:01:55.056Z"
   },
   {
    "duration": 333,
    "start_time": "2022-12-06T16:01:55.247Z"
   },
   {
    "duration": 318,
    "start_time": "2022-12-06T16:01:55.581Z"
   },
   {
    "duration": 209,
    "start_time": "2022-12-06T16:01:55.901Z"
   },
   {
    "duration": 229,
    "start_time": "2022-12-06T16:01:56.112Z"
   },
   {
    "duration": 227,
    "start_time": "2022-12-06T16:01:56.342Z"
   },
   {
    "duration": 188,
    "start_time": "2022-12-06T16:01:56.574Z"
   },
   {
    "duration": 56,
    "start_time": "2022-12-06T16:01:56.764Z"
   },
   {
    "duration": 316,
    "start_time": "2022-12-06T16:13:23.202Z"
   },
   {
    "duration": 572,
    "start_time": "2022-12-06T16:15:59.775Z"
   },
   {
    "duration": 345,
    "start_time": "2022-12-06T16:16:27.222Z"
   },
   {
    "duration": 68,
    "start_time": "2022-12-06T16:19:49.630Z"
   },
   {
    "duration": 73,
    "start_time": "2022-12-06T16:20:15.758Z"
   },
   {
    "duration": 60,
    "start_time": "2022-12-06T16:20:37.713Z"
   },
   {
    "duration": 56,
    "start_time": "2022-12-06T16:21:01.601Z"
   },
   {
    "duration": 63,
    "start_time": "2022-12-06T16:21:12.731Z"
   },
   {
    "duration": 52,
    "start_time": "2022-12-06T16:21:30.510Z"
   },
   {
    "duration": 2234,
    "start_time": "2022-12-06T16:22:04.898Z"
   },
   {
    "duration": 22,
    "start_time": "2022-12-06T16:22:07.135Z"
   },
   {
    "duration": 108,
    "start_time": "2022-12-06T16:22:07.159Z"
   },
   {
    "duration": 44,
    "start_time": "2022-12-06T16:22:07.269Z"
   },
   {
    "duration": 9,
    "start_time": "2022-12-06T16:22:07.315Z"
   },
   {
    "duration": 47,
    "start_time": "2022-12-06T16:22:07.327Z"
   },
   {
    "duration": 67,
    "start_time": "2022-12-06T16:22:07.376Z"
   },
   {
    "duration": 19,
    "start_time": "2022-12-06T16:22:07.444Z"
   },
   {
    "duration": 424,
    "start_time": "2022-12-06T16:22:07.465Z"
   },
   {
    "duration": 413,
    "start_time": "2022-12-06T16:22:07.893Z"
   },
   {
    "duration": 573,
    "start_time": "2022-12-06T16:22:08.309Z"
   },
   {
    "duration": 53,
    "start_time": "2022-12-06T16:22:08.883Z"
   },
   {
    "duration": 0,
    "start_time": "2022-12-06T16:22:08.938Z"
   },
   {
    "duration": 0,
    "start_time": "2022-12-06T16:22:08.940Z"
   },
   {
    "duration": 0,
    "start_time": "2022-12-06T16:22:08.942Z"
   },
   {
    "duration": 0,
    "start_time": "2022-12-06T16:22:08.943Z"
   },
   {
    "duration": 0,
    "start_time": "2022-12-06T16:22:08.945Z"
   },
   {
    "duration": 0,
    "start_time": "2022-12-06T16:22:08.946Z"
   },
   {
    "duration": 0,
    "start_time": "2022-12-06T16:22:08.948Z"
   },
   {
    "duration": 0,
    "start_time": "2022-12-06T16:22:08.949Z"
   },
   {
    "duration": 0,
    "start_time": "2022-12-06T16:22:08.951Z"
   },
   {
    "duration": 0,
    "start_time": "2022-12-06T16:22:08.952Z"
   },
   {
    "duration": 0,
    "start_time": "2022-12-06T16:22:08.953Z"
   },
   {
    "duration": 0,
    "start_time": "2022-12-06T16:22:08.955Z"
   },
   {
    "duration": 309,
    "start_time": "2022-12-06T16:22:47.174Z"
   },
   {
    "duration": 354,
    "start_time": "2022-12-06T16:23:14.495Z"
   },
   {
    "duration": 306,
    "start_time": "2022-12-06T17:02:41.350Z"
   },
   {
    "duration": 294,
    "start_time": "2022-12-06T17:05:54.276Z"
   },
   {
    "duration": 270,
    "start_time": "2022-12-06T17:11:55.389Z"
   },
   {
    "duration": 6,
    "start_time": "2022-12-06T17:16:37.774Z"
   },
   {
    "duration": 8,
    "start_time": "2022-12-06T17:17:13.607Z"
   },
   {
    "duration": 8,
    "start_time": "2022-12-06T17:17:32.425Z"
   },
   {
    "duration": 3,
    "start_time": "2022-12-06T17:23:09.345Z"
   },
   {
    "duration": 4,
    "start_time": "2022-12-06T17:23:54.649Z"
   },
   {
    "duration": 7,
    "start_time": "2022-12-06T17:27:16.099Z"
   },
   {
    "duration": 6,
    "start_time": "2022-12-06T17:33:09.311Z"
   },
   {
    "duration": 5,
    "start_time": "2022-12-06T17:41:10.126Z"
   },
   {
    "duration": 3,
    "start_time": "2022-12-06T17:46:56.810Z"
   },
   {
    "duration": 271,
    "start_time": "2022-12-06T18:04:12.802Z"
   },
   {
    "duration": 289,
    "start_time": "2022-12-06T18:04:56.867Z"
   },
   {
    "duration": 44,
    "start_time": "2022-12-06T18:13:11.400Z"
   },
   {
    "duration": 4,
    "start_time": "2022-12-06T18:13:22.466Z"
   },
   {
    "duration": 23,
    "start_time": "2022-12-06T18:13:49.609Z"
   },
   {
    "duration": 21,
    "start_time": "2022-12-06T18:13:59.777Z"
   },
   {
    "duration": 8,
    "start_time": "2022-12-06T18:15:05.057Z"
   },
   {
    "duration": 5,
    "start_time": "2022-12-06T18:16:53.060Z"
   },
   {
    "duration": 5,
    "start_time": "2022-12-06T18:18:03.926Z"
   },
   {
    "duration": 19,
    "start_time": "2022-12-06T18:18:07.519Z"
   },
   {
    "duration": 22,
    "start_time": "2022-12-06T18:21:56.458Z"
   },
   {
    "duration": 2201,
    "start_time": "2022-12-06T18:22:47.711Z"
   },
   {
    "duration": 9,
    "start_time": "2022-12-06T18:22:49.914Z"
   },
   {
    "duration": 88,
    "start_time": "2022-12-06T18:22:49.924Z"
   },
   {
    "duration": 49,
    "start_time": "2022-12-06T18:22:50.014Z"
   },
   {
    "duration": 6,
    "start_time": "2022-12-06T18:22:50.065Z"
   },
   {
    "duration": 11,
    "start_time": "2022-12-06T18:22:50.073Z"
   },
   {
    "duration": 60,
    "start_time": "2022-12-06T18:22:50.086Z"
   },
   {
    "duration": 13,
    "start_time": "2022-12-06T18:22:50.148Z"
   },
   {
    "duration": 17,
    "start_time": "2022-12-06T18:22:50.162Z"
   },
   {
    "duration": 32,
    "start_time": "2022-12-06T18:22:50.182Z"
   },
   {
    "duration": 334,
    "start_time": "2022-12-06T18:22:50.216Z"
   },
   {
    "duration": 279,
    "start_time": "2022-12-06T18:22:50.551Z"
   },
   {
    "duration": 274,
    "start_time": "2022-12-06T18:22:50.832Z"
   },
   {
    "duration": 280,
    "start_time": "2022-12-06T18:22:51.108Z"
   },
   {
    "duration": 274,
    "start_time": "2022-12-06T18:22:51.389Z"
   },
   {
    "duration": 278,
    "start_time": "2022-12-06T18:22:51.665Z"
   },
   {
    "duration": 287,
    "start_time": "2022-12-06T18:22:51.944Z"
   },
   {
    "duration": 5,
    "start_time": "2022-12-06T18:22:52.233Z"
   },
   {
    "duration": 9,
    "start_time": "2022-12-06T18:22:52.240Z"
   },
   {
    "duration": 273,
    "start_time": "2022-12-06T18:22:52.254Z"
   },
   {
    "duration": 292,
    "start_time": "2022-12-06T18:22:52.528Z"
   },
   {
    "duration": 189,
    "start_time": "2022-12-06T18:22:52.821Z"
   },
   {
    "duration": 294,
    "start_time": "2022-12-06T18:22:53.012Z"
   },
   {
    "duration": 295,
    "start_time": "2022-12-06T18:22:53.308Z"
   },
   {
    "duration": 201,
    "start_time": "2022-12-06T18:22:53.604Z"
   },
   {
    "duration": 186,
    "start_time": "2022-12-06T18:22:53.806Z"
   },
   {
    "duration": 474,
    "start_time": "2022-12-06T18:22:53.993Z"
   },
   {
    "duration": 204,
    "start_time": "2022-12-06T18:22:54.470Z"
   },
   {
    "duration": 54,
    "start_time": "2022-12-06T18:22:54.676Z"
   },
   {
    "duration": 281,
    "start_time": "2022-12-06T18:23:22.895Z"
   },
   {
    "duration": 20,
    "start_time": "2022-12-06T18:26:16.909Z"
   },
   {
    "duration": 1960,
    "start_time": "2022-12-06T18:26:28.279Z"
   },
   {
    "duration": 15,
    "start_time": "2022-12-06T18:26:30.241Z"
   },
   {
    "duration": 89,
    "start_time": "2022-12-06T18:26:30.257Z"
   },
   {
    "duration": 45,
    "start_time": "2022-12-06T18:26:30.347Z"
   },
   {
    "duration": 7,
    "start_time": "2022-12-06T18:26:30.394Z"
   },
   {
    "duration": 16,
    "start_time": "2022-12-06T18:26:30.402Z"
   },
   {
    "duration": 75,
    "start_time": "2022-12-06T18:26:30.419Z"
   },
   {
    "duration": 7,
    "start_time": "2022-12-06T18:26:30.496Z"
   },
   {
    "duration": 18,
    "start_time": "2022-12-06T18:26:30.504Z"
   },
   {
    "duration": 46,
    "start_time": "2022-12-06T18:26:30.524Z"
   },
   {
    "duration": 353,
    "start_time": "2022-12-06T18:26:30.571Z"
   },
   {
    "duration": 292,
    "start_time": "2022-12-06T18:26:30.926Z"
   },
   {
    "duration": 264,
    "start_time": "2022-12-06T18:26:31.220Z"
   },
   {
    "duration": 281,
    "start_time": "2022-12-06T18:26:31.488Z"
   },
   {
    "duration": 275,
    "start_time": "2022-12-06T18:26:31.771Z"
   },
   {
    "duration": 565,
    "start_time": "2022-12-06T18:26:32.055Z"
   },
   {
    "duration": 290,
    "start_time": "2022-12-06T18:26:32.622Z"
   },
   {
    "duration": 7,
    "start_time": "2022-12-06T18:26:32.914Z"
   },
   {
    "duration": 16,
    "start_time": "2022-12-06T18:26:32.922Z"
   },
   {
    "duration": 263,
    "start_time": "2022-12-06T18:26:32.939Z"
   },
   {
    "duration": 277,
    "start_time": "2022-12-06T18:26:33.203Z"
   },
   {
    "duration": 159,
    "start_time": "2022-12-06T18:26:33.482Z"
   },
   {
    "duration": 297,
    "start_time": "2022-12-06T18:26:33.643Z"
   },
   {
    "duration": 275,
    "start_time": "2022-12-06T18:26:33.942Z"
   },
   {
    "duration": 175,
    "start_time": "2022-12-06T18:26:34.219Z"
   },
   {
    "duration": 230,
    "start_time": "2022-12-06T18:26:34.396Z"
   },
   {
    "duration": 193,
    "start_time": "2022-12-06T18:26:34.628Z"
   },
   {
    "duration": 178,
    "start_time": "2022-12-06T18:26:34.823Z"
   },
   {
    "duration": 59,
    "start_time": "2022-12-06T18:26:35.003Z"
   },
   {
    "duration": 259,
    "start_time": "2022-12-06T18:26:47.483Z"
   },
   {
    "duration": 111,
    "start_time": "2022-12-06T18:28:32.274Z"
   },
   {
    "duration": 109,
    "start_time": "2022-12-06T18:33:58.485Z"
   },
   {
    "duration": 2067,
    "start_time": "2022-12-06T18:34:18.601Z"
   },
   {
    "duration": 10,
    "start_time": "2022-12-06T18:34:20.670Z"
   },
   {
    "duration": 103,
    "start_time": "2022-12-06T18:34:20.682Z"
   },
   {
    "duration": 41,
    "start_time": "2022-12-06T18:34:20.788Z"
   },
   {
    "duration": 7,
    "start_time": "2022-12-06T18:34:20.831Z"
   },
   {
    "duration": 12,
    "start_time": "2022-12-06T18:34:20.855Z"
   },
   {
    "duration": 73,
    "start_time": "2022-12-06T18:34:20.869Z"
   },
   {
    "duration": 9,
    "start_time": "2022-12-06T18:34:20.957Z"
   },
   {
    "duration": 41,
    "start_time": "2022-12-06T18:34:20.968Z"
   },
   {
    "duration": 106,
    "start_time": "2022-12-06T18:34:21.012Z"
   },
   {
    "duration": 662,
    "start_time": "2022-12-06T18:34:21.120Z"
   },
   {
    "duration": 305,
    "start_time": "2022-12-06T18:34:21.784Z"
   },
   {
    "duration": 300,
    "start_time": "2022-12-06T18:34:22.090Z"
   },
   {
    "duration": 295,
    "start_time": "2022-12-06T18:34:22.391Z"
   },
   {
    "duration": 304,
    "start_time": "2022-12-06T18:34:22.688Z"
   },
   {
    "duration": 287,
    "start_time": "2022-12-06T18:34:22.995Z"
   },
   {
    "duration": 290,
    "start_time": "2022-12-06T18:34:23.284Z"
   },
   {
    "duration": 7,
    "start_time": "2022-12-06T18:34:23.576Z"
   },
   {
    "duration": 8,
    "start_time": "2022-12-06T18:34:23.585Z"
   },
   {
    "duration": 306,
    "start_time": "2022-12-06T18:34:23.595Z"
   },
   {
    "duration": 295,
    "start_time": "2022-12-06T18:34:23.903Z"
   },
   {
    "duration": 150,
    "start_time": "2022-12-06T18:34:24.200Z"
   },
   {
    "duration": 270,
    "start_time": "2022-12-06T18:34:24.354Z"
   },
   {
    "duration": 323,
    "start_time": "2022-12-06T18:34:24.625Z"
   },
   {
    "duration": 200,
    "start_time": "2022-12-06T18:34:24.955Z"
   },
   {
    "duration": 179,
    "start_time": "2022-12-06T18:34:25.156Z"
   },
   {
    "duration": 181,
    "start_time": "2022-12-06T18:34:25.337Z"
   },
   {
    "duration": 160,
    "start_time": "2022-12-06T18:34:25.522Z"
   },
   {
    "duration": 50,
    "start_time": "2022-12-06T18:34:25.684Z"
   },
   {
    "duration": 262,
    "start_time": "2022-12-06T18:36:25.221Z"
   },
   {
    "duration": 3479,
    "start_time": "2022-12-07T06:49:43.631Z"
   },
   {
    "duration": 12,
    "start_time": "2022-12-07T06:49:47.112Z"
   },
   {
    "duration": 99,
    "start_time": "2022-12-07T06:49:47.126Z"
   },
   {
    "duration": 44,
    "start_time": "2022-12-07T06:49:47.227Z"
   },
   {
    "duration": 7,
    "start_time": "2022-12-07T06:49:47.272Z"
   },
   {
    "duration": 34,
    "start_time": "2022-12-07T06:49:47.281Z"
   },
   {
    "duration": 51,
    "start_time": "2022-12-07T06:49:47.317Z"
   },
   {
    "duration": 7,
    "start_time": "2022-12-07T06:49:47.369Z"
   },
   {
    "duration": 7,
    "start_time": "2022-12-07T06:49:47.378Z"
   },
   {
    "duration": 93,
    "start_time": "2022-12-07T06:49:47.412Z"
   },
   {
    "duration": 362,
    "start_time": "2022-12-07T06:49:47.512Z"
   },
   {
    "duration": 274,
    "start_time": "2022-12-07T06:49:47.875Z"
   },
   {
    "duration": 359,
    "start_time": "2022-12-07T06:49:48.150Z"
   },
   {
    "duration": 281,
    "start_time": "2022-12-07T06:49:48.513Z"
   },
   {
    "duration": 303,
    "start_time": "2022-12-07T06:49:48.796Z"
   },
   {
    "duration": 301,
    "start_time": "2022-12-07T06:49:49.101Z"
   },
   {
    "duration": 292,
    "start_time": "2022-12-07T06:49:49.404Z"
   },
   {
    "duration": 6,
    "start_time": "2022-12-07T06:49:49.697Z"
   },
   {
    "duration": 7,
    "start_time": "2022-12-07T06:49:49.712Z"
   },
   {
    "duration": 381,
    "start_time": "2022-12-07T06:49:49.721Z"
   },
   {
    "duration": 295,
    "start_time": "2022-12-07T06:49:50.104Z"
   },
   {
    "duration": 164,
    "start_time": "2022-12-07T06:49:50.401Z"
   },
   {
    "duration": 294,
    "start_time": "2022-12-07T06:49:50.567Z"
   },
   {
    "duration": 293,
    "start_time": "2022-12-07T06:49:50.863Z"
   },
   {
    "duration": 174,
    "start_time": "2022-12-07T06:49:51.158Z"
   },
   {
    "duration": 182,
    "start_time": "2022-12-07T06:49:51.334Z"
   },
   {
    "duration": 283,
    "start_time": "2022-12-07T06:49:51.518Z"
   },
   {
    "duration": 166,
    "start_time": "2022-12-07T06:49:51.811Z"
   },
   {
    "duration": 57,
    "start_time": "2022-12-07T06:49:51.979Z"
   },
   {
    "duration": 296,
    "start_time": "2022-12-07T06:52:22.642Z"
   },
   {
    "duration": 319,
    "start_time": "2022-12-07T06:53:24.071Z"
   },
   {
    "duration": 110,
    "start_time": "2022-12-07T06:55:38.439Z"
   },
   {
    "duration": 3211,
    "start_time": "2022-12-07T06:57:26.853Z"
   },
   {
    "duration": 14,
    "start_time": "2022-12-07T06:57:30.067Z"
   },
   {
    "duration": 112,
    "start_time": "2022-12-07T06:57:30.084Z"
   },
   {
    "duration": 51,
    "start_time": "2022-12-07T06:57:30.199Z"
   },
   {
    "duration": 7,
    "start_time": "2022-12-07T06:57:30.253Z"
   },
   {
    "duration": 28,
    "start_time": "2022-12-07T06:57:30.263Z"
   },
   {
    "duration": 75,
    "start_time": "2022-12-07T06:57:30.293Z"
   },
   {
    "duration": 8,
    "start_time": "2022-12-07T06:57:30.370Z"
   },
   {
    "duration": 21,
    "start_time": "2022-12-07T06:57:30.380Z"
   },
   {
    "duration": 154,
    "start_time": "2022-12-07T06:57:30.404Z"
   },
   {
    "duration": 392,
    "start_time": "2022-12-07T06:57:30.560Z"
   },
   {
    "duration": 312,
    "start_time": "2022-12-07T06:57:30.953Z"
   },
   {
    "duration": 391,
    "start_time": "2022-12-07T06:57:31.266Z"
   },
   {
    "duration": 309,
    "start_time": "2022-12-07T06:57:31.659Z"
   },
   {
    "duration": 323,
    "start_time": "2022-12-07T06:57:31.970Z"
   },
   {
    "duration": 293,
    "start_time": "2022-12-07T06:57:32.295Z"
   },
   {
    "duration": 346,
    "start_time": "2022-12-07T06:57:32.590Z"
   },
   {
    "duration": 6,
    "start_time": "2022-12-07T06:57:32.938Z"
   },
   {
    "duration": 12,
    "start_time": "2022-12-07T06:57:32.946Z"
   },
   {
    "duration": 435,
    "start_time": "2022-12-07T06:57:32.960Z"
   },
   {
    "duration": 377,
    "start_time": "2022-12-07T06:57:33.396Z"
   },
   {
    "duration": 223,
    "start_time": "2022-12-07T06:57:33.775Z"
   },
   {
    "duration": 354,
    "start_time": "2022-12-07T06:57:34.003Z"
   },
   {
    "duration": 331,
    "start_time": "2022-12-07T06:57:34.359Z"
   },
   {
    "duration": 223,
    "start_time": "2022-12-07T06:57:34.692Z"
   },
   {
    "duration": 222,
    "start_time": "2022-12-07T06:57:34.917Z"
   },
   {
    "duration": 327,
    "start_time": "2022-12-07T06:57:35.141Z"
   },
   {
    "duration": 199,
    "start_time": "2022-12-07T06:57:35.473Z"
   },
   {
    "duration": 63,
    "start_time": "2022-12-07T06:57:35.675Z"
   },
   {
    "duration": 344,
    "start_time": "2022-12-07T06:59:54.125Z"
   },
   {
    "duration": 29,
    "start_time": "2022-12-07T07:00:36.110Z"
   },
   {
    "duration": 2503,
    "start_time": "2022-12-07T07:03:30.131Z"
   },
   {
    "duration": 14,
    "start_time": "2022-12-07T07:03:32.636Z"
   },
   {
    "duration": 112,
    "start_time": "2022-12-07T07:03:32.652Z"
   },
   {
    "duration": 72,
    "start_time": "2022-12-07T07:03:32.766Z"
   },
   {
    "duration": 8,
    "start_time": "2022-12-07T07:03:32.840Z"
   },
   {
    "duration": 12,
    "start_time": "2022-12-07T07:03:32.849Z"
   },
   {
    "duration": 85,
    "start_time": "2022-12-07T07:03:32.864Z"
   },
   {
    "duration": 7,
    "start_time": "2022-12-07T07:03:32.951Z"
   },
   {
    "duration": 9,
    "start_time": "2022-12-07T07:03:32.960Z"
   },
   {
    "duration": 132,
    "start_time": "2022-12-07T07:03:32.971Z"
   },
   {
    "duration": 27,
    "start_time": "2022-12-07T07:03:33.105Z"
   },
   {
    "duration": 466,
    "start_time": "2022-12-07T07:03:33.134Z"
   },
   {
    "duration": 379,
    "start_time": "2022-12-07T07:03:33.602Z"
   },
   {
    "duration": 345,
    "start_time": "2022-12-07T07:03:33.984Z"
   },
   {
    "duration": 320,
    "start_time": "2022-12-07T07:03:34.331Z"
   },
   {
    "duration": 490,
    "start_time": "2022-12-07T07:03:34.653Z"
   },
   {
    "duration": 349,
    "start_time": "2022-12-07T07:03:35.145Z"
   },
   {
    "duration": 319,
    "start_time": "2022-12-07T07:03:35.496Z"
   },
   {
    "duration": 8,
    "start_time": "2022-12-07T07:03:35.817Z"
   },
   {
    "duration": 18,
    "start_time": "2022-12-07T07:03:35.827Z"
   },
   {
    "duration": 315,
    "start_time": "2022-12-07T07:03:35.847Z"
   },
   {
    "duration": 449,
    "start_time": "2022-12-07T07:03:36.164Z"
   },
   {
    "duration": 199,
    "start_time": "2022-12-07T07:03:36.615Z"
   },
   {
    "duration": 536,
    "start_time": "2022-12-07T07:03:36.816Z"
   },
   {
    "duration": 346,
    "start_time": "2022-12-07T07:03:37.354Z"
   },
   {
    "duration": 212,
    "start_time": "2022-12-07T07:03:37.701Z"
   },
   {
    "duration": 212,
    "start_time": "2022-12-07T07:03:37.915Z"
   },
   {
    "duration": 266,
    "start_time": "2022-12-07T07:03:38.129Z"
   },
   {
    "duration": 189,
    "start_time": "2022-12-07T07:03:38.396Z"
   },
   {
    "duration": 60,
    "start_time": "2022-12-07T07:03:38.588Z"
   },
   {
    "duration": 3603,
    "start_time": "2022-12-07T15:26:20.973Z"
   },
   {
    "duration": 305,
    "start_time": "2022-12-07T15:28:58.948Z"
   },
   {
    "duration": 304,
    "start_time": "2022-12-07T15:29:43.340Z"
   },
   {
    "duration": 366,
    "start_time": "2022-12-07T15:42:22.029Z"
   },
   {
    "duration": 406,
    "start_time": "2022-12-07T15:42:31.476Z"
   },
   {
    "duration": 300,
    "start_time": "2022-12-07T15:52:35.259Z"
   },
   {
    "duration": 294,
    "start_time": "2022-12-07T15:52:55.124Z"
   },
   {
    "duration": 282,
    "start_time": "2022-12-07T15:54:02.247Z"
   },
   {
    "duration": 83,
    "start_time": "2022-12-07T17:16:48.993Z"
   },
   {
    "duration": 1603,
    "start_time": "2022-12-07T17:17:01.936Z"
   },
   {
    "duration": 2406,
    "start_time": "2022-12-07T17:18:22.537Z"
   },
   {
    "duration": 11,
    "start_time": "2022-12-07T17:20:55.161Z"
   },
   {
    "duration": 2262,
    "start_time": "2022-12-07T17:21:29.703Z"
   },
   {
    "duration": 9,
    "start_time": "2022-12-07T17:21:31.968Z"
   },
   {
    "duration": 104,
    "start_time": "2022-12-07T17:21:31.979Z"
   },
   {
    "duration": 51,
    "start_time": "2022-12-07T17:21:32.085Z"
   },
   {
    "duration": 7,
    "start_time": "2022-12-07T17:21:32.139Z"
   },
   {
    "duration": 12,
    "start_time": "2022-12-07T17:21:32.147Z"
   },
   {
    "duration": 72,
    "start_time": "2022-12-07T17:21:32.161Z"
   },
   {
    "duration": 7,
    "start_time": "2022-12-07T17:21:32.235Z"
   },
   {
    "duration": 13,
    "start_time": "2022-12-07T17:21:32.243Z"
   },
   {
    "duration": 120,
    "start_time": "2022-12-07T17:21:32.258Z"
   },
   {
    "duration": 18,
    "start_time": "2022-12-07T17:21:32.380Z"
   },
   {
    "duration": 387,
    "start_time": "2022-12-07T17:21:32.411Z"
   },
   {
    "duration": 398,
    "start_time": "2022-12-07T17:21:32.800Z"
   },
   {
    "duration": 288,
    "start_time": "2022-12-07T17:21:33.201Z"
   },
   {
    "duration": 291,
    "start_time": "2022-12-07T17:21:33.490Z"
   },
   {
    "duration": 296,
    "start_time": "2022-12-07T17:21:33.783Z"
   },
   {
    "duration": 283,
    "start_time": "2022-12-07T17:21:34.081Z"
   },
   {
    "duration": 292,
    "start_time": "2022-12-07T17:21:34.366Z"
   },
   {
    "duration": 5,
    "start_time": "2022-12-07T17:21:34.660Z"
   },
   {
    "duration": 7,
    "start_time": "2022-12-07T17:21:34.667Z"
   },
   {
    "duration": 437,
    "start_time": "2022-12-07T17:21:34.676Z"
   },
   {
    "duration": 298,
    "start_time": "2022-12-07T17:21:35.115Z"
   },
   {
    "duration": 160,
    "start_time": "2022-12-07T17:21:35.414Z"
   },
   {
    "duration": 301,
    "start_time": "2022-12-07T17:21:35.575Z"
   },
   {
    "duration": 281,
    "start_time": "2022-12-07T17:21:35.878Z"
   },
   {
    "duration": 198,
    "start_time": "2022-12-07T17:21:36.161Z"
   },
   {
    "duration": 260,
    "start_time": "2022-12-07T17:21:36.361Z"
   },
   {
    "duration": 227,
    "start_time": "2022-12-07T17:21:36.623Z"
   },
   {
    "duration": 168,
    "start_time": "2022-12-07T17:21:36.852Z"
   },
   {
    "duration": 278,
    "start_time": "2022-12-07T17:21:37.022Z"
   },
   {
    "duration": 16,
    "start_time": "2022-12-07T17:21:37.303Z"
   },
   {
    "duration": 0,
    "start_time": "2022-12-07T17:21:37.321Z"
   },
   {
    "duration": 1703,
    "start_time": "2022-12-07T17:22:28.957Z"
   },
   {
    "duration": 2176,
    "start_time": "2022-12-07T17:23:53.006Z"
   },
   {
    "duration": 19,
    "start_time": "2022-12-07T17:24:59.254Z"
   },
   {
    "duration": 79,
    "start_time": "2022-12-07T17:27:00.126Z"
   },
   {
    "duration": 39,
    "start_time": "2022-12-07T17:31:02.550Z"
   },
   {
    "duration": 19,
    "start_time": "2022-12-07T17:31:26.323Z"
   },
   {
    "duration": 40,
    "start_time": "2022-12-07T17:31:38.212Z"
   },
   {
    "duration": 219,
    "start_time": "2022-12-07T17:47:53.884Z"
   },
   {
    "duration": 167,
    "start_time": "2022-12-07T17:48:45.886Z"
   },
   {
    "duration": 177,
    "start_time": "2022-12-07T17:49:35.573Z"
   },
   {
    "duration": 3320,
    "start_time": "2022-12-08T06:10:42.497Z"
   },
   {
    "duration": 10,
    "start_time": "2022-12-08T06:10:45.819Z"
   },
   {
    "duration": 93,
    "start_time": "2022-12-08T06:10:45.831Z"
   },
   {
    "duration": 58,
    "start_time": "2022-12-08T06:10:45.927Z"
   },
   {
    "duration": 7,
    "start_time": "2022-12-08T06:10:45.987Z"
   },
   {
    "duration": 12,
    "start_time": "2022-12-08T06:10:45.996Z"
   },
   {
    "duration": 92,
    "start_time": "2022-12-08T06:10:46.010Z"
   },
   {
    "duration": 9,
    "start_time": "2022-12-08T06:10:46.105Z"
   },
   {
    "duration": 8,
    "start_time": "2022-12-08T06:10:46.116Z"
   },
   {
    "duration": 147,
    "start_time": "2022-12-08T06:10:46.126Z"
   },
   {
    "duration": 16,
    "start_time": "2022-12-08T06:10:46.275Z"
   },
   {
    "duration": 464,
    "start_time": "2022-12-08T06:10:46.293Z"
   },
   {
    "duration": 327,
    "start_time": "2022-12-08T06:10:46.763Z"
   },
   {
    "duration": 428,
    "start_time": "2022-12-08T06:10:47.092Z"
   },
   {
    "duration": 367,
    "start_time": "2022-12-08T06:10:47.522Z"
   },
   {
    "duration": 376,
    "start_time": "2022-12-08T06:10:47.891Z"
   },
   {
    "duration": 296,
    "start_time": "2022-12-08T06:10:48.269Z"
   },
   {
    "duration": 355,
    "start_time": "2022-12-08T06:10:48.566Z"
   },
   {
    "duration": 8,
    "start_time": "2022-12-08T06:10:48.923Z"
   },
   {
    "duration": 45,
    "start_time": "2022-12-08T06:10:48.932Z"
   },
   {
    "duration": 465,
    "start_time": "2022-12-08T06:10:48.980Z"
   },
   {
    "duration": 383,
    "start_time": "2022-12-08T06:10:49.450Z"
   },
   {
    "duration": 228,
    "start_time": "2022-12-08T06:10:49.836Z"
   },
   {
    "duration": 418,
    "start_time": "2022-12-08T06:10:50.066Z"
   },
   {
    "duration": 322,
    "start_time": "2022-12-08T06:10:50.486Z"
   },
   {
    "duration": 233,
    "start_time": "2022-12-08T06:10:50.810Z"
   },
   {
    "duration": 207,
    "start_time": "2022-12-08T06:10:51.051Z"
   },
   {
    "duration": 287,
    "start_time": "2022-12-08T06:10:51.264Z"
   },
   {
    "duration": 175,
    "start_time": "2022-12-08T06:10:51.555Z"
   },
   {
    "duration": 342,
    "start_time": "2022-12-08T06:10:51.732Z"
   },
   {
    "duration": 189,
    "start_time": "2022-12-08T06:10:52.076Z"
   },
   {
    "duration": 118,
    "start_time": "2022-12-08T06:10:52.272Z"
   },
   {
    "duration": 238,
    "start_time": "2022-12-08T06:18:37.881Z"
   },
   {
    "duration": 194,
    "start_time": "2022-12-08T06:18:48.872Z"
   },
   {
    "duration": 223,
    "start_time": "2022-12-08T06:19:41.439Z"
   },
   {
    "duration": 195,
    "start_time": "2022-12-08T06:21:02.888Z"
   },
   {
    "duration": 180,
    "start_time": "2022-12-08T06:21:18.475Z"
   },
   {
    "duration": 191,
    "start_time": "2022-12-08T06:21:27.428Z"
   },
   {
    "duration": 156,
    "start_time": "2022-12-08T06:38:58.689Z"
   },
   {
    "duration": 271,
    "start_time": "2022-12-08T06:40:48.415Z"
   },
   {
    "duration": 177,
    "start_time": "2022-12-08T06:41:19.999Z"
   },
   {
    "duration": 176,
    "start_time": "2022-12-08T06:41:50.527Z"
   },
   {
    "duration": 189,
    "start_time": "2022-12-08T06:42:03.271Z"
   },
   {
    "duration": 172,
    "start_time": "2022-12-08T06:42:54.993Z"
   },
   {
    "duration": 176,
    "start_time": "2022-12-08T06:44:48.564Z"
   },
   {
    "duration": 8,
    "start_time": "2022-12-08T06:57:52.845Z"
   },
   {
    "duration": 11,
    "start_time": "2022-12-08T06:59:05.042Z"
   },
   {
    "duration": 3619,
    "start_time": "2022-12-08T06:59:29.573Z"
   },
   {
    "duration": 11,
    "start_time": "2022-12-08T06:59:33.194Z"
   },
   {
    "duration": 163,
    "start_time": "2022-12-08T06:59:33.207Z"
   },
   {
    "duration": 46,
    "start_time": "2022-12-08T06:59:33.373Z"
   },
   {
    "duration": 8,
    "start_time": "2022-12-08T06:59:33.420Z"
   },
   {
    "duration": 11,
    "start_time": "2022-12-08T06:59:33.451Z"
   },
   {
    "duration": 59,
    "start_time": "2022-12-08T06:59:33.464Z"
   },
   {
    "duration": 7,
    "start_time": "2022-12-08T06:59:33.524Z"
   },
   {
    "duration": 13,
    "start_time": "2022-12-08T06:59:33.550Z"
   },
   {
    "duration": 110,
    "start_time": "2022-12-08T06:59:33.566Z"
   },
   {
    "duration": 22,
    "start_time": "2022-12-08T06:59:33.677Z"
   },
   {
    "duration": 382,
    "start_time": "2022-12-08T06:59:33.701Z"
   },
   {
    "duration": 323,
    "start_time": "2022-12-08T06:59:34.084Z"
   },
   {
    "duration": 297,
    "start_time": "2022-12-08T06:59:34.409Z"
   },
   {
    "duration": 296,
    "start_time": "2022-12-08T06:59:34.708Z"
   },
   {
    "duration": 413,
    "start_time": "2022-12-08T06:59:35.006Z"
   },
   {
    "duration": 315,
    "start_time": "2022-12-08T06:59:35.421Z"
   },
   {
    "duration": 300,
    "start_time": "2022-12-08T06:59:35.738Z"
   },
   {
    "duration": 15,
    "start_time": "2022-12-08T06:59:36.040Z"
   },
   {
    "duration": 13,
    "start_time": "2022-12-08T06:59:36.057Z"
   },
   {
    "duration": 274,
    "start_time": "2022-12-08T06:59:36.071Z"
   },
   {
    "duration": 330,
    "start_time": "2022-12-08T06:59:36.350Z"
   },
   {
    "duration": 174,
    "start_time": "2022-12-08T06:59:36.681Z"
   },
   {
    "duration": 396,
    "start_time": "2022-12-08T06:59:36.857Z"
   },
   {
    "duration": 306,
    "start_time": "2022-12-08T06:59:37.255Z"
   },
   {
    "duration": 207,
    "start_time": "2022-12-08T06:59:37.563Z"
   },
   {
    "duration": 193,
    "start_time": "2022-12-08T06:59:37.772Z"
   },
   {
    "duration": 201,
    "start_time": "2022-12-08T06:59:37.969Z"
   },
   {
    "duration": 196,
    "start_time": "2022-12-08T06:59:38.172Z"
   },
   {
    "duration": 294,
    "start_time": "2022-12-08T06:59:38.370Z"
   },
   {
    "duration": 186,
    "start_time": "2022-12-08T06:59:38.665Z"
   },
   {
    "duration": 119,
    "start_time": "2022-12-08T06:59:41.313Z"
   },
   {
    "duration": 0,
    "start_time": "2022-12-08T06:59:41.434Z"
   },
   {
    "duration": 2421,
    "start_time": "2022-12-08T06:59:54.030Z"
   },
   {
    "duration": 4335,
    "start_time": "2022-12-08T07:01:13.951Z"
   },
   {
    "duration": 3833,
    "start_time": "2022-12-08T07:04:23.699Z"
   },
   {
    "duration": 4259,
    "start_time": "2022-12-08T07:05:30.057Z"
   },
   {
    "duration": 4252,
    "start_time": "2022-12-08T07:06:02.437Z"
   },
   {
    "duration": 3825,
    "start_time": "2022-12-08T07:06:32.804Z"
   },
   {
    "duration": 443,
    "start_time": "2022-12-08T07:06:53.007Z"
   },
   {
    "duration": 142,
    "start_time": "2022-12-08T08:56:07.493Z"
   },
   {
    "duration": 218,
    "start_time": "2022-12-08T08:56:43.770Z"
   },
   {
    "duration": 2508,
    "start_time": "2022-12-08T08:59:26.039Z"
   },
   {
    "duration": 15,
    "start_time": "2022-12-08T09:01:17.503Z"
   },
   {
    "duration": 4524,
    "start_time": "2022-12-08T09:03:57.174Z"
   },
   {
    "duration": 3816,
    "start_time": "2022-12-08T09:04:08.777Z"
   },
   {
    "duration": 12,
    "start_time": "2022-12-08T09:04:12.595Z"
   },
   {
    "duration": 199,
    "start_time": "2022-12-08T09:04:12.609Z"
   },
   {
    "duration": 66,
    "start_time": "2022-12-08T09:04:12.811Z"
   },
   {
    "duration": 8,
    "start_time": "2022-12-08T09:04:12.879Z"
   },
   {
    "duration": 12,
    "start_time": "2022-12-08T09:04:12.889Z"
   },
   {
    "duration": 88,
    "start_time": "2022-12-08T09:04:12.903Z"
   },
   {
    "duration": 8,
    "start_time": "2022-12-08T09:04:12.993Z"
   },
   {
    "duration": 9,
    "start_time": "2022-12-08T09:04:13.003Z"
   },
   {
    "duration": 131,
    "start_time": "2022-12-08T09:04:13.015Z"
   },
   {
    "duration": 20,
    "start_time": "2022-12-08T09:04:13.148Z"
   },
   {
    "duration": 416,
    "start_time": "2022-12-08T09:04:13.170Z"
   },
   {
    "duration": 327,
    "start_time": "2022-12-08T09:04:13.589Z"
   },
   {
    "duration": 340,
    "start_time": "2022-12-08T09:04:13.919Z"
   },
   {
    "duration": 314,
    "start_time": "2022-12-08T09:04:14.267Z"
   },
   {
    "duration": 438,
    "start_time": "2022-12-08T09:04:14.583Z"
   },
   {
    "duration": 321,
    "start_time": "2022-12-08T09:04:15.023Z"
   },
   {
    "duration": 338,
    "start_time": "2022-12-08T09:04:15.352Z"
   },
   {
    "duration": 7,
    "start_time": "2022-12-08T09:04:15.692Z"
   },
   {
    "duration": 7,
    "start_time": "2022-12-08T09:04:15.701Z"
   },
   {
    "duration": 357,
    "start_time": "2022-12-08T09:04:15.710Z"
   },
   {
    "duration": 332,
    "start_time": "2022-12-08T09:04:16.069Z"
   },
   {
    "duration": 183,
    "start_time": "2022-12-08T09:04:16.403Z"
   },
   {
    "duration": 445,
    "start_time": "2022-12-08T09:04:16.588Z"
   },
   {
    "duration": 337,
    "start_time": "2022-12-08T09:04:17.035Z"
   },
   {
    "duration": 196,
    "start_time": "2022-12-08T09:04:17.374Z"
   },
   {
    "duration": 217,
    "start_time": "2022-12-08T09:04:17.572Z"
   },
   {
    "duration": 208,
    "start_time": "2022-12-08T09:04:17.793Z"
   },
   {
    "duration": 195,
    "start_time": "2022-12-08T09:04:18.002Z"
   },
   {
    "duration": 318,
    "start_time": "2022-12-08T09:04:18.198Z"
   },
   {
    "duration": 191,
    "start_time": "2022-12-08T09:04:18.517Z"
   },
   {
    "duration": 4539,
    "start_time": "2022-12-08T09:04:18.709Z"
   },
   {
    "duration": 555,
    "start_time": "2022-12-08T09:04:23.251Z"
   },
   {
    "duration": 118,
    "start_time": "2022-12-08T09:04:23.808Z"
   },
   {
    "duration": 127,
    "start_time": "2022-12-08T09:05:23.514Z"
   },
   {
    "duration": 15,
    "start_time": "2022-12-08T09:05:33.457Z"
   },
   {
    "duration": 1237,
    "start_time": "2022-12-08T09:05:41.870Z"
   },
   {
    "duration": 1091,
    "start_time": "2022-12-08T09:06:23.413Z"
   },
   {
    "duration": 1623,
    "start_time": "2022-12-08T09:11:16.480Z"
   },
   {
    "duration": 1726,
    "start_time": "2022-12-08T09:11:58.405Z"
   },
   {
    "duration": 1515,
    "start_time": "2022-12-08T09:20:39.144Z"
   },
   {
    "duration": 1774,
    "start_time": "2022-12-08T09:22:09.774Z"
   },
   {
    "duration": 1775,
    "start_time": "2022-12-08T09:22:29.888Z"
   },
   {
    "duration": 1588,
    "start_time": "2022-12-08T09:22:56.595Z"
   },
   {
    "duration": 1512,
    "start_time": "2022-12-08T09:23:23.415Z"
   },
   {
    "duration": 1462,
    "start_time": "2022-12-08T12:15:05.671Z"
   },
   {
    "duration": 167,
    "start_time": "2022-12-08T12:15:20.823Z"
   },
   {
    "duration": 1741,
    "start_time": "2022-12-08T12:16:00.197Z"
   },
   {
    "duration": 1321,
    "start_time": "2022-12-08T12:17:16.071Z"
   },
   {
    "duration": 1538,
    "start_time": "2022-12-08T12:17:34.175Z"
   },
   {
    "duration": 1282,
    "start_time": "2022-12-08T12:17:44.628Z"
   },
   {
    "duration": 1617,
    "start_time": "2022-12-08T12:20:15.802Z"
   },
   {
    "duration": 1617,
    "start_time": "2022-12-08T12:21:52.008Z"
   },
   {
    "duration": 1691,
    "start_time": "2022-12-08T14:29:58.703Z"
   },
   {
    "duration": 1978,
    "start_time": "2022-12-08T14:30:02.767Z"
   },
   {
    "duration": 1517,
    "start_time": "2022-12-08T14:37:59.037Z"
   },
   {
    "duration": 1554,
    "start_time": "2022-12-08T14:40:25.561Z"
   },
   {
    "duration": 1209,
    "start_time": "2022-12-08T14:42:43.726Z"
   },
   {
    "duration": 1738,
    "start_time": "2022-12-08T14:43:49.011Z"
   },
   {
    "duration": 2066,
    "start_time": "2022-12-08T14:58:31.788Z"
   },
   {
    "duration": 1727,
    "start_time": "2022-12-08T14:58:45.269Z"
   },
   {
    "duration": 1956,
    "start_time": "2022-12-08T14:59:01.118Z"
   },
   {
    "duration": 1705,
    "start_time": "2022-12-08T15:07:18.515Z"
   },
   {
    "duration": 1739,
    "start_time": "2022-12-08T15:08:44.444Z"
   },
   {
    "duration": 1597,
    "start_time": "2022-12-08T15:08:55.370Z"
   },
   {
    "duration": 1696,
    "start_time": "2022-12-08T15:09:05.472Z"
   },
   {
    "duration": 2443,
    "start_time": "2022-12-08T15:17:19.966Z"
   },
   {
    "duration": 1101,
    "start_time": "2022-12-08T15:18:41.400Z"
   },
   {
    "duration": 1386,
    "start_time": "2022-12-08T15:24:37.041Z"
   },
   {
    "duration": 22,
    "start_time": "2022-12-08T15:29:23.699Z"
   },
   {
    "duration": 16,
    "start_time": "2022-12-08T15:30:26.277Z"
   },
   {
    "duration": 1510,
    "start_time": "2022-12-08T15:30:59.147Z"
   },
   {
    "duration": 1242,
    "start_time": "2022-12-08T15:32:24.222Z"
   },
   {
    "duration": 1919,
    "start_time": "2022-12-08T15:34:54.222Z"
   },
   {
    "duration": 1540,
    "start_time": "2022-12-08T15:35:42.737Z"
   },
   {
    "duration": 2065,
    "start_time": "2022-12-08T15:39:58.541Z"
   },
   {
    "duration": 1608,
    "start_time": "2022-12-08T15:40:46.543Z"
   },
   {
    "duration": 2042,
    "start_time": "2022-12-08T15:41:11.066Z"
   },
   {
    "duration": 1550,
    "start_time": "2022-12-08T15:42:45.374Z"
   },
   {
    "duration": 1560,
    "start_time": "2022-12-08T15:50:49.686Z"
   },
   {
    "duration": 105,
    "start_time": "2022-12-08T15:51:37.170Z"
   },
   {
    "duration": 1568,
    "start_time": "2022-12-08T15:51:53.779Z"
   },
   {
    "duration": 109,
    "start_time": "2022-12-08T15:52:23.856Z"
   },
   {
    "duration": 1347,
    "start_time": "2022-12-08T15:52:35.900Z"
   },
   {
    "duration": 82,
    "start_time": "2022-12-08T15:57:48.251Z"
   },
   {
    "duration": 75,
    "start_time": "2022-12-08T16:00:52.759Z"
   },
   {
    "duration": 87,
    "start_time": "2022-12-08T16:02:22.305Z"
   },
   {
    "duration": 43,
    "start_time": "2022-12-08T16:02:39.153Z"
   },
   {
    "duration": 30,
    "start_time": "2022-12-08T16:02:59.093Z"
   },
   {
    "duration": 35,
    "start_time": "2022-12-08T16:03:51.643Z"
   },
   {
    "duration": 1245,
    "start_time": "2022-12-08T16:04:13.285Z"
   },
   {
    "duration": 31,
    "start_time": "2022-12-08T16:05:57.338Z"
   },
   {
    "duration": 3838,
    "start_time": "2022-12-08T16:07:13.401Z"
   },
   {
    "duration": 4061,
    "start_time": "2022-12-08T16:08:21.228Z"
   },
   {
    "duration": 8130,
    "start_time": "2022-12-08T16:09:51.633Z"
   },
   {
    "duration": 68,
    "start_time": "2022-12-08T16:12:38.973Z"
   },
   {
    "duration": 8380,
    "start_time": "2022-12-08T16:13:02.700Z"
   },
   {
    "duration": 270,
    "start_time": "2022-12-08T16:15:57.843Z"
   },
   {
    "duration": 329,
    "start_time": "2022-12-08T16:16:28.143Z"
   },
   {
    "duration": 682,
    "start_time": "2022-12-08T16:17:12.356Z"
   },
   {
    "duration": 863,
    "start_time": "2022-12-08T16:22:26.593Z"
   },
   {
    "duration": 802,
    "start_time": "2022-12-08T16:22:35.869Z"
   },
   {
    "duration": 1182,
    "start_time": "2022-12-08T16:22:46.063Z"
   },
   {
    "duration": 662,
    "start_time": "2022-12-08T16:22:52.372Z"
   },
   {
    "duration": 5,
    "start_time": "2022-12-08T16:23:03.803Z"
   },
   {
    "duration": 852,
    "start_time": "2022-12-08T16:23:12.531Z"
   },
   {
    "duration": 902,
    "start_time": "2022-12-08T16:23:26.771Z"
   },
   {
    "duration": 753,
    "start_time": "2022-12-08T16:23:35.097Z"
   },
   {
    "duration": 989,
    "start_time": "2022-12-08T16:23:45.065Z"
   },
   {
    "duration": 819,
    "start_time": "2022-12-08T16:23:52.175Z"
   },
   {
    "duration": 765,
    "start_time": "2022-12-08T16:24:01.816Z"
   },
   {
    "duration": 832,
    "start_time": "2022-12-08T16:24:13.852Z"
   },
   {
    "duration": 829,
    "start_time": "2022-12-08T16:24:23.627Z"
   },
   {
    "duration": 782,
    "start_time": "2022-12-08T16:24:30.869Z"
   },
   {
    "duration": 844,
    "start_time": "2022-12-08T16:24:38.433Z"
   },
   {
    "duration": 841,
    "start_time": "2022-12-08T16:24:46.993Z"
   },
   {
    "duration": 911,
    "start_time": "2022-12-08T16:24:54.332Z"
   },
   {
    "duration": 762,
    "start_time": "2022-12-08T16:25:37.701Z"
   },
   {
    "duration": 893,
    "start_time": "2022-12-08T16:25:51.566Z"
   },
   {
    "duration": 236,
    "start_time": "2022-12-08T16:26:26.174Z"
   },
   {
    "duration": 743,
    "start_time": "2022-12-08T16:34:32.793Z"
   },
   {
    "duration": 702,
    "start_time": "2022-12-08T16:34:55.742Z"
   },
   {
    "duration": 744,
    "start_time": "2022-12-08T16:35:23.406Z"
   },
   {
    "duration": 1263,
    "start_time": "2022-12-08T16:38:13.487Z"
   },
   {
    "duration": 1391,
    "start_time": "2022-12-08T16:38:30.272Z"
   },
   {
    "duration": 288,
    "start_time": "2022-12-08T18:20:07.930Z"
   },
   {
    "duration": 3706,
    "start_time": "2022-12-08T18:20:20.467Z"
   },
   {
    "duration": 15,
    "start_time": "2022-12-08T18:20:24.175Z"
   },
   {
    "duration": 184,
    "start_time": "2022-12-08T18:20:24.193Z"
   },
   {
    "duration": 47,
    "start_time": "2022-12-08T18:20:24.379Z"
   },
   {
    "duration": 23,
    "start_time": "2022-12-08T18:20:24.429Z"
   },
   {
    "duration": 19,
    "start_time": "2022-12-08T18:20:24.454Z"
   },
   {
    "duration": 78,
    "start_time": "2022-12-08T18:20:24.475Z"
   },
   {
    "duration": 12,
    "start_time": "2022-12-08T18:20:24.556Z"
   },
   {
    "duration": 18,
    "start_time": "2022-12-08T18:20:24.570Z"
   },
   {
    "duration": 113,
    "start_time": "2022-12-08T18:20:24.590Z"
   },
   {
    "duration": 18,
    "start_time": "2022-12-08T18:20:24.705Z"
   },
   {
    "duration": 391,
    "start_time": "2022-12-08T18:20:24.725Z"
   },
   {
    "duration": 316,
    "start_time": "2022-12-08T18:20:25.118Z"
   },
   {
    "duration": 308,
    "start_time": "2022-12-08T18:20:25.437Z"
   },
   {
    "duration": 308,
    "start_time": "2022-12-08T18:20:25.750Z"
   },
   {
    "duration": 423,
    "start_time": "2022-12-08T18:20:26.060Z"
   },
   {
    "duration": 282,
    "start_time": "2022-12-08T18:20:26.485Z"
   },
   {
    "duration": 308,
    "start_time": "2022-12-08T18:20:26.768Z"
   },
   {
    "duration": 6,
    "start_time": "2022-12-08T18:20:27.078Z"
   },
   {
    "duration": 21,
    "start_time": "2022-12-08T18:20:27.086Z"
   },
   {
    "duration": 294,
    "start_time": "2022-12-08T18:20:27.108Z"
   },
   {
    "duration": 308,
    "start_time": "2022-12-08T18:20:27.403Z"
   },
   {
    "duration": 173,
    "start_time": "2022-12-08T18:20:27.713Z"
   },
   {
    "duration": 416,
    "start_time": "2022-12-08T18:20:27.887Z"
   },
   {
    "duration": 311,
    "start_time": "2022-12-08T18:20:28.305Z"
   },
   {
    "duration": 184,
    "start_time": "2022-12-08T18:20:28.618Z"
   },
   {
    "duration": 206,
    "start_time": "2022-12-08T18:20:28.803Z"
   },
   {
    "duration": 210,
    "start_time": "2022-12-08T18:20:29.011Z"
   },
   {
    "duration": 196,
    "start_time": "2022-12-08T18:20:29.223Z"
   },
   {
    "duration": 341,
    "start_time": "2022-12-08T18:20:29.420Z"
   },
   {
    "duration": 1407,
    "start_time": "2022-12-08T18:20:29.764Z"
   },
   {
    "duration": 1281,
    "start_time": "2022-12-08T18:20:31.173Z"
   },
   {
    "duration": 1166,
    "start_time": "2022-12-08T18:20:32.456Z"
   },
   {
    "duration": 1215,
    "start_time": "2022-12-08T18:20:33.624Z"
   },
   {
    "duration": 982,
    "start_time": "2022-12-08T18:20:34.841Z"
   },
   {
    "duration": 1209,
    "start_time": "2022-12-08T18:20:35.825Z"
   },
   {
    "duration": 1039,
    "start_time": "2022-12-08T18:20:37.036Z"
   },
   {
    "duration": 1312,
    "start_time": "2022-12-08T18:20:38.077Z"
   },
   {
    "duration": 8110,
    "start_time": "2022-12-08T18:20:39.390Z"
   },
   {
    "duration": 346,
    "start_time": "2022-12-08T18:20:47.502Z"
   },
   {
    "duration": 0,
    "start_time": "2022-12-08T18:20:47.850Z"
   },
   {
    "duration": 793,
    "start_time": "2022-12-08T18:21:08.477Z"
   },
   {
    "duration": 638,
    "start_time": "2022-12-08T18:22:46.371Z"
   },
   {
    "duration": 89,
    "start_time": "2022-12-08T18:29:58.450Z"
   },
   {
    "duration": 4,
    "start_time": "2022-12-08T18:30:15.387Z"
   },
   {
    "duration": 81,
    "start_time": "2022-12-08T18:30:28.688Z"
   },
   {
    "duration": 78,
    "start_time": "2022-12-08T18:30:38.237Z"
   },
   {
    "duration": 84,
    "start_time": "2022-12-08T18:30:49.572Z"
   },
   {
    "duration": 22,
    "start_time": "2022-12-08T18:31:07.812Z"
   },
   {
    "duration": 21,
    "start_time": "2022-12-08T18:31:50.608Z"
   },
   {
    "duration": 69,
    "start_time": "2022-12-08T18:32:47.944Z"
   },
   {
    "duration": 67,
    "start_time": "2022-12-08T18:32:58.946Z"
   },
   {
    "duration": 82,
    "start_time": "2022-12-08T18:33:11.164Z"
   },
   {
    "duration": 99,
    "start_time": "2022-12-08T18:35:34.026Z"
   },
   {
    "duration": 73,
    "start_time": "2022-12-08T18:36:41.492Z"
   },
   {
    "duration": 29,
    "start_time": "2022-12-08T18:37:27.887Z"
   },
   {
    "duration": 32,
    "start_time": "2022-12-08T18:38:03.742Z"
   },
   {
    "duration": 31,
    "start_time": "2022-12-08T18:41:33.094Z"
   },
   {
    "duration": 33,
    "start_time": "2022-12-08T18:42:22.325Z"
   },
   {
    "duration": 41,
    "start_time": "2022-12-08T18:43:42.471Z"
   },
   {
    "duration": 35,
    "start_time": "2022-12-08T18:44:28.859Z"
   },
   {
    "duration": 10,
    "start_time": "2022-12-08T18:47:10.170Z"
   },
   {
    "duration": 9,
    "start_time": "2022-12-08T18:47:35.440Z"
   },
   {
    "duration": 11,
    "start_time": "2022-12-09T08:50:48.801Z"
   },
   {
    "duration": 5,
    "start_time": "2022-12-09T08:50:57.155Z"
   },
   {
    "duration": 6,
    "start_time": "2022-12-09T08:51:10.851Z"
   },
   {
    "duration": 63,
    "start_time": "2022-12-09T08:51:32.782Z"
   },
   {
    "duration": 4059,
    "start_time": "2022-12-09T08:51:53.856Z"
   },
   {
    "duration": 28,
    "start_time": "2022-12-09T08:51:57.918Z"
   },
   {
    "duration": 214,
    "start_time": "2022-12-09T08:51:57.950Z"
   },
   {
    "duration": 45,
    "start_time": "2022-12-09T08:51:58.166Z"
   },
   {
    "duration": 12,
    "start_time": "2022-12-09T08:51:58.233Z"
   },
   {
    "duration": 20,
    "start_time": "2022-12-09T08:51:58.251Z"
   },
   {
    "duration": 63,
    "start_time": "2022-12-09T08:51:58.273Z"
   },
   {
    "duration": 13,
    "start_time": "2022-12-09T08:51:58.337Z"
   },
   {
    "duration": 24,
    "start_time": "2022-12-09T08:51:58.352Z"
   },
   {
    "duration": 129,
    "start_time": "2022-12-09T08:51:58.379Z"
   },
   {
    "duration": 28,
    "start_time": "2022-12-09T08:51:58.509Z"
   },
   {
    "duration": 435,
    "start_time": "2022-12-09T08:51:58.539Z"
   },
   {
    "duration": 405,
    "start_time": "2022-12-09T08:51:58.976Z"
   },
   {
    "duration": 351,
    "start_time": "2022-12-09T08:51:59.384Z"
   },
   {
    "duration": 334,
    "start_time": "2022-12-09T08:51:59.739Z"
   },
   {
    "duration": 486,
    "start_time": "2022-12-09T08:52:00.075Z"
   },
   {
    "duration": 348,
    "start_time": "2022-12-09T08:52:00.563Z"
   },
   {
    "duration": 360,
    "start_time": "2022-12-09T08:52:00.913Z"
   },
   {
    "duration": 7,
    "start_time": "2022-12-09T08:52:01.275Z"
   },
   {
    "duration": 44,
    "start_time": "2022-12-09T08:52:01.284Z"
   },
   {
    "duration": 455,
    "start_time": "2022-12-09T08:52:01.335Z"
   },
   {
    "duration": 374,
    "start_time": "2022-12-09T08:52:01.792Z"
   },
   {
    "duration": 181,
    "start_time": "2022-12-09T08:52:02.168Z"
   },
   {
    "duration": 417,
    "start_time": "2022-12-09T08:52:02.350Z"
   },
   {
    "duration": 312,
    "start_time": "2022-12-09T08:52:02.769Z"
   },
   {
    "duration": 209,
    "start_time": "2022-12-09T08:52:03.083Z"
   },
   {
    "duration": 313,
    "start_time": "2022-12-09T08:52:03.293Z"
   },
   {
    "duration": 233,
    "start_time": "2022-12-09T08:52:03.610Z"
   },
   {
    "duration": 203,
    "start_time": "2022-12-09T08:52:03.844Z"
   },
   {
    "duration": 359,
    "start_time": "2022-12-09T08:52:04.049Z"
   },
   {
    "duration": 1415,
    "start_time": "2022-12-09T08:52:04.410Z"
   },
   {
    "duration": 1336,
    "start_time": "2022-12-09T08:52:05.847Z"
   },
   {
    "duration": 1346,
    "start_time": "2022-12-09T08:52:07.185Z"
   },
   {
    "duration": 1235,
    "start_time": "2022-12-09T08:52:08.533Z"
   },
   {
    "duration": 1057,
    "start_time": "2022-12-09T08:52:09.770Z"
   },
   {
    "duration": 1324,
    "start_time": "2022-12-09T08:52:10.839Z"
   },
   {
    "duration": 1203,
    "start_time": "2022-12-09T08:52:12.166Z"
   },
   {
    "duration": 1621,
    "start_time": "2022-12-09T08:52:13.372Z"
   },
   {
    "duration": 71,
    "start_time": "2022-12-09T08:52:14.995Z"
   },
   {
    "duration": 103,
    "start_time": "2022-12-09T08:52:15.151Z"
   },
   {
    "duration": 0,
    "start_time": "2022-12-09T08:52:15.256Z"
   },
   {
    "duration": 0,
    "start_time": "2022-12-09T08:52:15.257Z"
   },
   {
    "duration": 0,
    "start_time": "2022-12-09T08:52:15.258Z"
   },
   {
    "duration": 0,
    "start_time": "2022-12-09T08:52:15.259Z"
   },
   {
    "duration": 53,
    "start_time": "2022-12-09T08:52:25.107Z"
   },
   {
    "duration": 84,
    "start_time": "2022-12-09T08:55:11.856Z"
   },
   {
    "duration": 31,
    "start_time": "2022-12-09T08:55:28.849Z"
   },
   {
    "duration": 77,
    "start_time": "2022-12-09T08:56:38.381Z"
   },
   {
    "duration": 32,
    "start_time": "2022-12-09T08:56:45.694Z"
   },
   {
    "duration": 86,
    "start_time": "2022-12-09T09:15:56.775Z"
   },
   {
    "duration": 74,
    "start_time": "2022-12-09T09:19:22.043Z"
   },
   {
    "duration": 108,
    "start_time": "2022-12-09T09:20:08.764Z"
   },
   {
    "duration": 73,
    "start_time": "2022-12-09T09:20:25.272Z"
   },
   {
    "duration": 107,
    "start_time": "2022-12-09T09:21:38.238Z"
   },
   {
    "duration": 13,
    "start_time": "2022-12-09T09:22:18.353Z"
   },
   {
    "duration": 73,
    "start_time": "2022-12-09T09:24:14.566Z"
   },
   {
    "duration": 3288,
    "start_time": "2022-12-09T09:24:29.052Z"
   },
   {
    "duration": 9,
    "start_time": "2022-12-09T09:24:32.342Z"
   },
   {
    "duration": 184,
    "start_time": "2022-12-09T09:24:32.353Z"
   },
   {
    "duration": 44,
    "start_time": "2022-12-09T09:24:32.539Z"
   },
   {
    "duration": 6,
    "start_time": "2022-12-09T09:24:32.586Z"
   },
   {
    "duration": 34,
    "start_time": "2022-12-09T09:24:32.594Z"
   },
   {
    "duration": 57,
    "start_time": "2022-12-09T09:24:32.630Z"
   },
   {
    "duration": 7,
    "start_time": "2022-12-09T09:24:32.689Z"
   },
   {
    "duration": 15,
    "start_time": "2022-12-09T09:24:32.698Z"
   },
   {
    "duration": 101,
    "start_time": "2022-12-09T09:24:32.715Z"
   },
   {
    "duration": 22,
    "start_time": "2022-12-09T09:24:32.817Z"
   },
   {
    "duration": 431,
    "start_time": "2022-12-09T09:24:32.841Z"
   },
   {
    "duration": 344,
    "start_time": "2022-12-09T09:24:33.274Z"
   },
   {
    "duration": 316,
    "start_time": "2022-12-09T09:24:33.625Z"
   },
   {
    "duration": 403,
    "start_time": "2022-12-09T09:24:33.942Z"
   },
   {
    "duration": 410,
    "start_time": "2022-12-09T09:24:34.347Z"
   },
   {
    "duration": 270,
    "start_time": "2022-12-09T09:24:34.758Z"
   },
   {
    "duration": 293,
    "start_time": "2022-12-09T09:24:35.029Z"
   },
   {
    "duration": 7,
    "start_time": "2022-12-09T09:24:35.324Z"
   },
   {
    "duration": 35,
    "start_time": "2022-12-09T09:24:35.332Z"
   },
   {
    "duration": 284,
    "start_time": "2022-12-09T09:24:35.368Z"
   },
   {
    "duration": 312,
    "start_time": "2022-12-09T09:24:35.653Z"
   },
   {
    "duration": 156,
    "start_time": "2022-12-09T09:24:35.966Z"
   },
   {
    "duration": 385,
    "start_time": "2022-12-09T09:24:36.123Z"
   },
   {
    "duration": 284,
    "start_time": "2022-12-09T09:24:36.509Z"
   },
   {
    "duration": 171,
    "start_time": "2022-12-09T09:24:36.795Z"
   },
   {
    "duration": 183,
    "start_time": "2022-12-09T09:24:36.967Z"
   },
   {
    "duration": 184,
    "start_time": "2022-12-09T09:24:37.152Z"
   },
   {
    "duration": 155,
    "start_time": "2022-12-09T09:24:37.338Z"
   },
   {
    "duration": 269,
    "start_time": "2022-12-09T09:24:37.495Z"
   },
   {
    "duration": 1247,
    "start_time": "2022-12-09T09:24:37.766Z"
   },
   {
    "duration": 1170,
    "start_time": "2022-12-09T09:24:39.014Z"
   },
   {
    "duration": 1072,
    "start_time": "2022-12-09T09:24:40.186Z"
   },
   {
    "duration": 1117,
    "start_time": "2022-12-09T09:24:41.259Z"
   },
   {
    "duration": 945,
    "start_time": "2022-12-09T09:24:42.379Z"
   },
   {
    "duration": 1207,
    "start_time": "2022-12-09T09:24:43.325Z"
   },
   {
    "duration": 964,
    "start_time": "2022-12-09T09:24:44.534Z"
   },
   {
    "duration": 1208,
    "start_time": "2022-12-09T09:24:45.500Z"
   },
   {
    "duration": 36,
    "start_time": "2022-12-09T09:24:46.711Z"
   },
   {
    "duration": 73,
    "start_time": "2022-12-09T09:24:46.749Z"
   },
   {
    "duration": 0,
    "start_time": "2022-12-09T09:24:46.826Z"
   },
   {
    "duration": 0,
    "start_time": "2022-12-09T09:24:46.827Z"
   },
   {
    "duration": 1,
    "start_time": "2022-12-09T09:24:46.828Z"
   },
   {
    "duration": 0,
    "start_time": "2022-12-09T09:24:46.830Z"
   },
   {
    "duration": 0,
    "start_time": "2022-12-09T09:24:46.831Z"
   },
   {
    "duration": 106,
    "start_time": "2022-12-09T09:25:34.263Z"
   },
   {
    "duration": 15,
    "start_time": "2022-12-09T09:26:08.347Z"
   },
   {
    "duration": 13,
    "start_time": "2022-12-09T09:26:26.359Z"
   },
   {
    "duration": 13,
    "start_time": "2022-12-09T09:26:37.720Z"
   },
   {
    "duration": 14,
    "start_time": "2022-12-09T09:26:57.549Z"
   },
   {
    "duration": 5,
    "start_time": "2022-12-09T09:27:51.590Z"
   },
   {
    "duration": 15,
    "start_time": "2022-12-09T09:29:00.964Z"
   },
   {
    "duration": 158,
    "start_time": "2022-12-09T09:29:21.055Z"
   },
   {
    "duration": 164,
    "start_time": "2022-12-09T09:29:45.349Z"
   },
   {
    "duration": 212,
    "start_time": "2022-12-09T09:30:37.858Z"
   },
   {
    "duration": 172,
    "start_time": "2022-12-09T09:31:40.156Z"
   },
   {
    "duration": 170,
    "start_time": "2022-12-09T09:32:12.801Z"
   },
   {
    "duration": 199,
    "start_time": "2022-12-09T09:34:29.778Z"
   },
   {
    "duration": 196,
    "start_time": "2022-12-09T09:35:49.196Z"
   },
   {
    "duration": 225,
    "start_time": "2022-12-09T09:36:42.856Z"
   },
   {
    "duration": 201,
    "start_time": "2022-12-09T09:36:55.088Z"
   },
   {
    "duration": 183,
    "start_time": "2022-12-09T09:37:44.837Z"
   },
   {
    "duration": 3809,
    "start_time": "2022-12-09T13:01:27.443Z"
   },
   {
    "duration": 15,
    "start_time": "2022-12-09T13:01:31.256Z"
   },
   {
    "duration": 270,
    "start_time": "2022-12-09T13:01:31.274Z"
   },
   {
    "duration": 80,
    "start_time": "2022-12-09T13:01:31.546Z"
   },
   {
    "duration": 11,
    "start_time": "2022-12-09T13:01:31.630Z"
   },
   {
    "duration": 22,
    "start_time": "2022-12-09T13:01:31.643Z"
   },
   {
    "duration": 103,
    "start_time": "2022-12-09T13:01:31.667Z"
   },
   {
    "duration": 9,
    "start_time": "2022-12-09T13:01:31.772Z"
   },
   {
    "duration": 12,
    "start_time": "2022-12-09T13:01:31.784Z"
   },
   {
    "duration": 175,
    "start_time": "2022-12-09T13:01:31.798Z"
   },
   {
    "duration": 18,
    "start_time": "2022-12-09T13:01:31.975Z"
   },
   {
    "duration": 543,
    "start_time": "2022-12-09T13:01:31.995Z"
   },
   {
    "duration": 451,
    "start_time": "2022-12-09T13:01:32.544Z"
   },
   {
    "duration": 428,
    "start_time": "2022-12-09T13:01:32.999Z"
   },
   {
    "duration": 427,
    "start_time": "2022-12-09T13:01:33.430Z"
   },
   {
    "duration": 583,
    "start_time": "2022-12-09T13:01:33.859Z"
   },
   {
    "duration": 440,
    "start_time": "2022-12-09T13:01:34.444Z"
   },
   {
    "duration": 345,
    "start_time": "2022-12-09T13:01:34.886Z"
   },
   {
    "duration": 11,
    "start_time": "2022-12-09T13:01:35.233Z"
   },
   {
    "duration": 25,
    "start_time": "2022-12-09T13:01:35.246Z"
   },
   {
    "duration": 445,
    "start_time": "2022-12-09T13:01:35.273Z"
   },
   {
    "duration": 421,
    "start_time": "2022-12-09T13:01:35.725Z"
   },
   {
    "duration": 235,
    "start_time": "2022-12-09T13:01:36.147Z"
   },
   {
    "duration": 642,
    "start_time": "2022-12-09T13:01:36.384Z"
   },
   {
    "duration": 415,
    "start_time": "2022-12-09T13:01:37.030Z"
   },
   {
    "duration": 306,
    "start_time": "2022-12-09T13:01:37.451Z"
   },
   {
    "duration": 297,
    "start_time": "2022-12-09T13:01:37.760Z"
   },
   {
    "duration": 220,
    "start_time": "2022-12-09T13:01:38.059Z"
   },
   {
    "duration": 254,
    "start_time": "2022-12-09T13:01:38.281Z"
   },
   {
    "duration": 350,
    "start_time": "2022-12-09T13:01:38.537Z"
   },
   {
    "duration": 1640,
    "start_time": "2022-12-09T13:01:38.890Z"
   },
   {
    "duration": 1481,
    "start_time": "2022-12-09T13:01:40.532Z"
   },
   {
    "duration": 1469,
    "start_time": "2022-12-09T13:01:42.021Z"
   },
   {
    "duration": 1515,
    "start_time": "2022-12-09T13:01:43.492Z"
   },
   {
    "duration": 1094,
    "start_time": "2022-12-09T13:01:45.010Z"
   },
   {
    "duration": 1621,
    "start_time": "2022-12-09T13:01:46.106Z"
   },
   {
    "duration": 1194,
    "start_time": "2022-12-09T13:01:47.731Z"
   },
   {
    "duration": 1611,
    "start_time": "2022-12-09T13:01:48.931Z"
   },
   {
    "duration": 37,
    "start_time": "2022-12-09T13:01:50.546Z"
   },
   {
    "duration": 262,
    "start_time": "2022-12-09T13:01:50.586Z"
   },
   {
    "duration": 235,
    "start_time": "2022-12-09T13:01:50.852Z"
   },
   {
    "duration": 70,
    "start_time": "2022-12-09T13:01:51.089Z"
   },
   {
    "duration": 0,
    "start_time": "2022-12-09T13:01:51.161Z"
   },
   {
    "duration": 0,
    "start_time": "2022-12-09T13:01:51.162Z"
   },
   {
    "duration": 0,
    "start_time": "2022-12-09T13:01:51.164Z"
   },
   {
    "duration": 483,
    "start_time": "2022-12-09T13:09:16.967Z"
   },
   {
    "duration": 261,
    "start_time": "2022-12-09T13:34:54.218Z"
   },
   {
    "duration": 86,
    "start_time": "2022-12-09T13:55:59.608Z"
   },
   {
    "duration": 71,
    "start_time": "2022-12-09T13:56:21.334Z"
   },
   {
    "duration": 2333,
    "start_time": "2022-12-09T15:07:55.984Z"
   },
   {
    "duration": 1258,
    "start_time": "2022-12-09T15:12:52.835Z"
   },
   {
    "duration": 3349,
    "start_time": "2022-12-09T15:13:05.691Z"
   },
   {
    "duration": 10,
    "start_time": "2022-12-09T15:13:09.042Z"
   },
   {
    "duration": 171,
    "start_time": "2022-12-09T15:13:09.053Z"
   },
   {
    "duration": 42,
    "start_time": "2022-12-09T15:13:09.226Z"
   },
   {
    "duration": 7,
    "start_time": "2022-12-09T15:13:09.270Z"
   },
   {
    "duration": 11,
    "start_time": "2022-12-09T15:13:09.279Z"
   },
   {
    "duration": 75,
    "start_time": "2022-12-09T15:13:09.291Z"
   },
   {
    "duration": 8,
    "start_time": "2022-12-09T15:13:09.367Z"
   },
   {
    "duration": 10,
    "start_time": "2022-12-09T15:13:09.377Z"
   },
   {
    "duration": 124,
    "start_time": "2022-12-09T15:13:09.389Z"
   },
   {
    "duration": 19,
    "start_time": "2022-12-09T15:13:09.521Z"
   },
   {
    "duration": 394,
    "start_time": "2022-12-09T15:13:09.542Z"
   },
   {
    "duration": 304,
    "start_time": "2022-12-09T15:13:09.938Z"
   },
   {
    "duration": 299,
    "start_time": "2022-12-09T15:13:10.244Z"
   },
   {
    "duration": 287,
    "start_time": "2022-12-09T15:13:10.545Z"
   },
   {
    "duration": 406,
    "start_time": "2022-12-09T15:13:10.833Z"
   },
   {
    "duration": 286,
    "start_time": "2022-12-09T15:13:11.241Z"
   },
   {
    "duration": 317,
    "start_time": "2022-12-09T15:13:11.529Z"
   },
   {
    "duration": 6,
    "start_time": "2022-12-09T15:13:11.848Z"
   },
   {
    "duration": 27,
    "start_time": "2022-12-09T15:13:11.856Z"
   },
   {
    "duration": 271,
    "start_time": "2022-12-09T15:13:11.885Z"
   },
   {
    "duration": 288,
    "start_time": "2022-12-09T15:13:12.158Z"
   },
   {
    "duration": 161,
    "start_time": "2022-12-09T15:13:12.447Z"
   },
   {
    "duration": 389,
    "start_time": "2022-12-09T15:13:12.609Z"
   },
   {
    "duration": 287,
    "start_time": "2022-12-09T15:13:13.000Z"
   },
   {
    "duration": 173,
    "start_time": "2022-12-09T15:13:13.289Z"
   },
   {
    "duration": 197,
    "start_time": "2022-12-09T15:13:13.464Z"
   },
   {
    "duration": 200,
    "start_time": "2022-12-09T15:13:13.664Z"
   },
   {
    "duration": 170,
    "start_time": "2022-12-09T15:13:13.866Z"
   },
   {
    "duration": 363,
    "start_time": "2022-12-09T15:13:14.046Z"
   },
   {
    "duration": 1268,
    "start_time": "2022-12-09T15:13:14.411Z"
   },
   {
    "duration": 1246,
    "start_time": "2022-12-09T15:13:15.681Z"
   },
   {
    "duration": 1066,
    "start_time": "2022-12-09T15:13:16.929Z"
   },
   {
    "duration": 1214,
    "start_time": "2022-12-09T15:13:17.997Z"
   },
   {
    "duration": 987,
    "start_time": "2022-12-09T15:13:19.213Z"
   },
   {
    "duration": 1172,
    "start_time": "2022-12-09T15:13:20.202Z"
   },
   {
    "duration": 1075,
    "start_time": "2022-12-09T15:13:21.376Z"
   },
   {
    "duration": 1203,
    "start_time": "2022-12-09T15:13:22.454Z"
   },
   {
    "duration": 36,
    "start_time": "2022-12-09T15:13:23.659Z"
   },
   {
    "duration": 197,
    "start_time": "2022-12-09T15:13:23.697Z"
   },
   {
    "duration": 216,
    "start_time": "2022-12-09T15:13:23.896Z"
   },
   {
    "duration": 68,
    "start_time": "2022-12-09T15:13:24.115Z"
   },
   {
    "duration": 0,
    "start_time": "2022-12-09T15:13:24.186Z"
   },
   {
    "duration": 0,
    "start_time": "2022-12-09T15:13:24.187Z"
   },
   {
    "duration": 0,
    "start_time": "2022-12-09T15:13:24.190Z"
   },
   {
    "duration": 265,
    "start_time": "2022-12-09T17:25:50.859Z"
   },
   {
    "duration": 241,
    "start_time": "2022-12-09T17:27:14.460Z"
   },
   {
    "duration": 269,
    "start_time": "2022-12-09T17:29:02.087Z"
   },
   {
    "duration": 393,
    "start_time": "2022-12-09T17:29:26.383Z"
   },
   {
    "duration": 298,
    "start_time": "2022-12-09T17:31:00.252Z"
   },
   {
    "duration": 258,
    "start_time": "2022-12-09T17:32:26.082Z"
   },
   {
    "duration": 974,
    "start_time": "2022-12-09T17:46:09.761Z"
   },
   {
    "duration": 1245,
    "start_time": "2022-12-09T17:57:30.120Z"
   },
   {
    "duration": 1185,
    "start_time": "2022-12-09T17:58:02.035Z"
   },
   {
    "duration": 45,
    "start_time": "2022-12-10T06:07:58.553Z"
   },
   {
    "duration": 3283,
    "start_time": "2022-12-10T06:08:08.322Z"
   },
   {
    "duration": 12,
    "start_time": "2022-12-10T06:08:11.607Z"
   },
   {
    "duration": 163,
    "start_time": "2022-12-10T06:08:11.621Z"
   },
   {
    "duration": 39,
    "start_time": "2022-12-10T06:08:11.786Z"
   },
   {
    "duration": 5,
    "start_time": "2022-12-10T06:08:11.827Z"
   },
   {
    "duration": 27,
    "start_time": "2022-12-10T06:08:11.834Z"
   },
   {
    "duration": 72,
    "start_time": "2022-12-10T06:08:11.863Z"
   },
   {
    "duration": 8,
    "start_time": "2022-12-10T06:08:11.937Z"
   },
   {
    "duration": 23,
    "start_time": "2022-12-10T06:08:11.947Z"
   },
   {
    "duration": 108,
    "start_time": "2022-12-10T06:08:11.973Z"
   },
   {
    "duration": 17,
    "start_time": "2022-12-10T06:08:12.082Z"
   },
   {
    "duration": 345,
    "start_time": "2022-12-10T06:08:12.101Z"
   },
   {
    "duration": 268,
    "start_time": "2022-12-10T06:08:12.448Z"
   },
   {
    "duration": 278,
    "start_time": "2022-12-10T06:08:12.718Z"
   },
   {
    "duration": 292,
    "start_time": "2022-12-10T06:08:12.998Z"
   },
   {
    "duration": 356,
    "start_time": "2022-12-10T06:08:13.292Z"
   },
   {
    "duration": 268,
    "start_time": "2022-12-10T06:08:13.649Z"
   },
   {
    "duration": 323,
    "start_time": "2022-12-10T06:08:13.920Z"
   },
   {
    "duration": 6,
    "start_time": "2022-12-10T06:08:14.244Z"
   },
   {
    "duration": 25,
    "start_time": "2022-12-10T06:08:14.251Z"
   },
   {
    "duration": 271,
    "start_time": "2022-12-10T06:08:14.277Z"
   },
   {
    "duration": 290,
    "start_time": "2022-12-10T06:08:14.550Z"
   },
   {
    "duration": 155,
    "start_time": "2022-12-10T06:08:14.842Z"
   },
   {
    "duration": 351,
    "start_time": "2022-12-10T06:08:14.999Z"
   },
   {
    "duration": 263,
    "start_time": "2022-12-10T06:08:15.351Z"
   },
   {
    "duration": 196,
    "start_time": "2022-12-10T06:08:15.616Z"
   },
   {
    "duration": 174,
    "start_time": "2022-12-10T06:08:15.813Z"
   },
   {
    "duration": 187,
    "start_time": "2022-12-10T06:08:15.991Z"
   },
   {
    "duration": 164,
    "start_time": "2022-12-10T06:08:16.180Z"
   },
   {
    "duration": 304,
    "start_time": "2022-12-10T06:08:16.346Z"
   },
   {
    "duration": 1338,
    "start_time": "2022-12-10T06:08:16.652Z"
   },
   {
    "duration": 1176,
    "start_time": "2022-12-10T06:08:17.992Z"
   },
   {
    "duration": 1029,
    "start_time": "2022-12-10T06:08:19.170Z"
   },
   {
    "duration": 1093,
    "start_time": "2022-12-10T06:08:20.201Z"
   },
   {
    "duration": 952,
    "start_time": "2022-12-10T06:08:21.296Z"
   },
   {
    "duration": 1221,
    "start_time": "2022-12-10T06:08:22.250Z"
   },
   {
    "duration": 1198,
    "start_time": "2022-12-10T06:08:23.473Z"
   },
   {
    "duration": 1476,
    "start_time": "2022-12-10T06:08:24.673Z"
   },
   {
    "duration": 69,
    "start_time": "2022-12-10T06:08:26.151Z"
   },
   {
    "duration": 218,
    "start_time": "2022-12-10T06:08:26.222Z"
   },
   {
    "duration": 230,
    "start_time": "2022-12-10T06:08:26.442Z"
   },
   {
    "duration": 70,
    "start_time": "2022-12-10T06:08:26.674Z"
   },
   {
    "duration": 0,
    "start_time": "2022-12-10T06:08:26.746Z"
   },
   {
    "duration": 0,
    "start_time": "2022-12-10T06:08:26.748Z"
   },
   {
    "duration": 0,
    "start_time": "2022-12-10T06:08:26.749Z"
   },
   {
    "duration": 1074,
    "start_time": "2022-12-10T06:18:55.143Z"
   },
   {
    "duration": 1251,
    "start_time": "2022-12-10T06:19:52.012Z"
   },
   {
    "duration": 79,
    "start_time": "2022-12-10T08:23:17.099Z"
   },
   {
    "duration": 3435,
    "start_time": "2022-12-10T08:23:36.694Z"
   },
   {
    "duration": 13,
    "start_time": "2022-12-10T08:23:40.131Z"
   },
   {
    "duration": 206,
    "start_time": "2022-12-10T08:23:40.146Z"
   },
   {
    "duration": 58,
    "start_time": "2022-12-10T08:23:40.355Z"
   },
   {
    "duration": 6,
    "start_time": "2022-12-10T08:23:40.415Z"
   },
   {
    "duration": 45,
    "start_time": "2022-12-10T08:23:40.423Z"
   },
   {
    "duration": 106,
    "start_time": "2022-12-10T08:23:40.470Z"
   },
   {
    "duration": 26,
    "start_time": "2022-12-10T08:23:40.578Z"
   },
   {
    "duration": 35,
    "start_time": "2022-12-10T08:23:40.607Z"
   },
   {
    "duration": 125,
    "start_time": "2022-12-10T08:23:40.644Z"
   },
   {
    "duration": 19,
    "start_time": "2022-12-10T08:23:40.778Z"
   },
   {
    "duration": 419,
    "start_time": "2022-12-10T08:23:40.799Z"
   },
   {
    "duration": 310,
    "start_time": "2022-12-10T08:23:41.220Z"
   },
   {
    "duration": 319,
    "start_time": "2022-12-10T08:23:41.532Z"
   },
   {
    "duration": 313,
    "start_time": "2022-12-10T08:23:41.853Z"
   },
   {
    "duration": 445,
    "start_time": "2022-12-10T08:23:42.167Z"
   },
   {
    "duration": 294,
    "start_time": "2022-12-10T08:23:42.615Z"
   },
   {
    "duration": 324,
    "start_time": "2022-12-10T08:23:42.910Z"
   },
   {
    "duration": 9,
    "start_time": "2022-12-10T08:23:43.235Z"
   },
   {
    "duration": 32,
    "start_time": "2022-12-10T08:23:43.246Z"
   },
   {
    "duration": 350,
    "start_time": "2022-12-10T08:23:43.280Z"
   },
   {
    "duration": 356,
    "start_time": "2022-12-10T08:23:43.632Z"
   },
   {
    "duration": 227,
    "start_time": "2022-12-10T08:23:43.990Z"
   },
   {
    "duration": 468,
    "start_time": "2022-12-10T08:23:44.220Z"
   },
   {
    "duration": 341,
    "start_time": "2022-12-10T08:23:44.689Z"
   },
   {
    "duration": 252,
    "start_time": "2022-12-10T08:23:45.032Z"
   },
   {
    "duration": 225,
    "start_time": "2022-12-10T08:23:45.286Z"
   },
   {
    "duration": 231,
    "start_time": "2022-12-10T08:23:45.514Z"
   },
   {
    "duration": 214,
    "start_time": "2022-12-10T08:23:45.748Z"
   },
   {
    "duration": 298,
    "start_time": "2022-12-10T08:23:45.965Z"
   },
   {
    "duration": 1289,
    "start_time": "2022-12-10T08:23:46.277Z"
   },
   {
    "duration": 1164,
    "start_time": "2022-12-10T08:23:47.568Z"
   },
   {
    "duration": 1147,
    "start_time": "2022-12-10T08:23:48.733Z"
   },
   {
    "duration": 1209,
    "start_time": "2022-12-10T08:23:49.882Z"
   },
   {
    "duration": 1033,
    "start_time": "2022-12-10T08:23:51.093Z"
   },
   {
    "duration": 1193,
    "start_time": "2022-12-10T08:23:52.129Z"
   },
   {
    "duration": 1180,
    "start_time": "2022-12-10T08:23:53.323Z"
   },
   {
    "duration": 1319,
    "start_time": "2022-12-10T08:23:54.506Z"
   },
   {
    "duration": 33,
    "start_time": "2022-12-10T08:23:55.827Z"
   },
   {
    "duration": 189,
    "start_time": "2022-12-10T08:23:55.862Z"
   },
   {
    "duration": 205,
    "start_time": "2022-12-10T08:23:56.053Z"
   },
   {
    "duration": 9156,
    "start_time": "2022-12-10T08:23:56.261Z"
   },
   {
    "duration": 668,
    "start_time": "2022-12-10T08:24:05.419Z"
   },
   {
    "duration": 88,
    "start_time": "2022-12-10T08:24:06.089Z"
   },
   {
    "duration": 80,
    "start_time": "2022-12-10T09:16:40.222Z"
   },
   {
    "duration": 3166,
    "start_time": "2022-12-10T09:16:48.615Z"
   },
   {
    "duration": 12,
    "start_time": "2022-12-10T09:16:51.783Z"
   },
   {
    "duration": 184,
    "start_time": "2022-12-10T09:16:51.797Z"
   },
   {
    "duration": 42,
    "start_time": "2022-12-10T09:16:51.983Z"
   },
   {
    "duration": 7,
    "start_time": "2022-12-10T09:16:52.027Z"
   },
   {
    "duration": 12,
    "start_time": "2022-12-10T09:16:52.036Z"
   },
   {
    "duration": 48,
    "start_time": "2022-12-10T09:16:52.078Z"
   },
   {
    "duration": 8,
    "start_time": "2022-12-10T09:16:52.128Z"
   },
   {
    "duration": 10,
    "start_time": "2022-12-10T09:16:52.138Z"
   },
   {
    "duration": 105,
    "start_time": "2022-12-10T09:16:52.178Z"
   },
   {
    "duration": 16,
    "start_time": "2022-12-10T09:16:52.285Z"
   },
   {
    "duration": 361,
    "start_time": "2022-12-10T09:16:52.303Z"
   },
   {
    "duration": 275,
    "start_time": "2022-12-10T09:16:52.666Z"
   },
   {
    "duration": 286,
    "start_time": "2022-12-10T09:16:52.944Z"
   },
   {
    "duration": 273,
    "start_time": "2022-12-10T09:16:53.232Z"
   },
   {
    "duration": 361,
    "start_time": "2022-12-10T09:16:53.507Z"
   },
   {
    "duration": 361,
    "start_time": "2022-12-10T09:16:53.870Z"
   },
   {
    "duration": 293,
    "start_time": "2022-12-10T09:16:54.233Z"
   },
   {
    "duration": 5,
    "start_time": "2022-12-10T09:16:54.528Z"
   },
   {
    "duration": 8,
    "start_time": "2022-12-10T09:16:54.535Z"
   },
   {
    "duration": 263,
    "start_time": "2022-12-10T09:16:54.545Z"
   },
   {
    "duration": 277,
    "start_time": "2022-12-10T09:16:54.809Z"
   },
   {
    "duration": 161,
    "start_time": "2022-12-10T09:16:55.087Z"
   },
   {
    "duration": 360,
    "start_time": "2022-12-10T09:16:55.250Z"
   },
   {
    "duration": 289,
    "start_time": "2022-12-10T09:16:55.612Z"
   },
   {
    "duration": 185,
    "start_time": "2022-12-10T09:16:55.902Z"
   },
   {
    "duration": 194,
    "start_time": "2022-12-10T09:16:56.089Z"
   },
   {
    "duration": 185,
    "start_time": "2022-12-10T09:16:56.286Z"
   },
   {
    "duration": 162,
    "start_time": "2022-12-10T09:16:56.473Z"
   },
   {
    "duration": 315,
    "start_time": "2022-12-10T09:16:56.637Z"
   },
   {
    "duration": 1180,
    "start_time": "2022-12-10T09:16:56.954Z"
   },
   {
    "duration": 1166,
    "start_time": "2022-12-10T09:16:58.136Z"
   },
   {
    "duration": 1019,
    "start_time": "2022-12-10T09:16:59.304Z"
   },
   {
    "duration": 1208,
    "start_time": "2022-12-10T09:17:00.325Z"
   },
   {
    "duration": 887,
    "start_time": "2022-12-10T09:17:01.536Z"
   },
   {
    "duration": 1057,
    "start_time": "2022-12-10T09:17:02.425Z"
   },
   {
    "duration": 1058,
    "start_time": "2022-12-10T09:17:03.484Z"
   },
   {
    "duration": 1185,
    "start_time": "2022-12-10T09:17:04.544Z"
   },
   {
    "duration": 48,
    "start_time": "2022-12-10T09:17:05.731Z"
   },
   {
    "duration": 162,
    "start_time": "2022-12-10T09:17:05.781Z"
   },
   {
    "duration": 196,
    "start_time": "2022-12-10T09:17:05.945Z"
   },
   {
    "duration": 7350,
    "start_time": "2022-12-10T09:17:06.142Z"
   },
   {
    "duration": 675,
    "start_time": "2022-12-10T09:17:13.494Z"
   },
   {
    "duration": 79,
    "start_time": "2022-12-10T09:17:14.171Z"
   },
   {
    "duration": 74,
    "start_time": "2022-12-10T09:17:18.165Z"
   },
   {
    "duration": 115,
    "start_time": "2022-12-10T11:48:10.662Z"
   },
   {
    "duration": 3425,
    "start_time": "2022-12-10T13:29:10.145Z"
   },
   {
    "duration": 4,
    "start_time": "2022-12-10T13:50:26.943Z"
   },
   {
    "duration": 6,
    "start_time": "2022-12-10T13:51:42.553Z"
   },
   {
    "duration": 48,
    "start_time": "2022-12-10T13:58:23.621Z"
   },
   {
    "duration": 110,
    "start_time": "2022-12-10T14:30:39.880Z"
   },
   {
    "duration": 3161,
    "start_time": "2022-12-10T14:31:00.868Z"
   },
   {
    "duration": 9,
    "start_time": "2022-12-10T14:31:04.032Z"
   },
   {
    "duration": 150,
    "start_time": "2022-12-10T14:31:04.042Z"
   },
   {
    "duration": 37,
    "start_time": "2022-12-10T14:31:04.194Z"
   },
   {
    "duration": 6,
    "start_time": "2022-12-10T14:31:04.233Z"
   },
   {
    "duration": 19,
    "start_time": "2022-12-10T14:31:04.240Z"
   },
   {
    "duration": 69,
    "start_time": "2022-12-10T14:31:04.261Z"
   },
   {
    "duration": 7,
    "start_time": "2022-12-10T14:31:04.332Z"
   },
   {
    "duration": 5,
    "start_time": "2022-12-10T14:31:04.341Z"
   },
   {
    "duration": 105,
    "start_time": "2022-12-10T14:31:04.349Z"
   },
   {
    "duration": 15,
    "start_time": "2022-12-10T14:31:04.456Z"
   },
   {
    "duration": 335,
    "start_time": "2022-12-10T14:31:04.473Z"
   },
   {
    "duration": 277,
    "start_time": "2022-12-10T14:31:04.810Z"
   },
   {
    "duration": 272,
    "start_time": "2022-12-10T14:31:05.088Z"
   },
   {
    "duration": 271,
    "start_time": "2022-12-10T14:31:05.362Z"
   },
   {
    "duration": 383,
    "start_time": "2022-12-10T14:31:05.634Z"
   },
   {
    "duration": 330,
    "start_time": "2022-12-10T14:31:06.018Z"
   },
   {
    "duration": 270,
    "start_time": "2022-12-10T14:31:06.350Z"
   },
   {
    "duration": 6,
    "start_time": "2022-12-10T14:31:06.621Z"
   },
   {
    "duration": 5,
    "start_time": "2022-12-10T14:31:06.629Z"
   },
   {
    "duration": 175,
    "start_time": "2022-12-10T14:31:06.635Z"
   },
   {
    "duration": 258,
    "start_time": "2022-12-10T14:31:06.811Z"
   },
   {
    "duration": 135,
    "start_time": "2022-12-10T14:31:07.070Z"
   },
   {
    "duration": 269,
    "start_time": "2022-12-10T14:31:07.207Z"
   },
   {
    "duration": 357,
    "start_time": "2022-12-10T14:31:07.477Z"
   },
   {
    "duration": 170,
    "start_time": "2022-12-10T14:31:07.835Z"
   },
   {
    "duration": 160,
    "start_time": "2022-12-10T14:31:08.006Z"
   },
   {
    "duration": 162,
    "start_time": "2022-12-10T14:31:08.170Z"
   },
   {
    "duration": 155,
    "start_time": "2022-12-10T14:31:08.334Z"
   },
   {
    "duration": 259,
    "start_time": "2022-12-10T14:31:08.497Z"
   },
   {
    "duration": 1045,
    "start_time": "2022-12-10T14:31:08.758Z"
   },
   {
    "duration": 912,
    "start_time": "2022-12-10T14:31:09.804Z"
   },
   {
    "duration": 1075,
    "start_time": "2022-12-10T14:31:10.718Z"
   },
   {
    "duration": 872,
    "start_time": "2022-12-10T14:31:11.796Z"
   },
   {
    "duration": 1001,
    "start_time": "2022-12-10T14:31:12.669Z"
   },
   {
    "duration": 888,
    "start_time": "2022-12-10T14:31:13.672Z"
   },
   {
    "duration": 861,
    "start_time": "2022-12-10T14:31:14.562Z"
   },
   {
    "duration": 1113,
    "start_time": "2022-12-10T14:31:15.425Z"
   },
   {
    "duration": 28,
    "start_time": "2022-12-10T14:31:16.539Z"
   },
   {
    "duration": 174,
    "start_time": "2022-12-10T14:31:16.568Z"
   },
   {
    "duration": 175,
    "start_time": "2022-12-10T14:31:16.744Z"
   },
   {
    "duration": 6464,
    "start_time": "2022-12-10T14:31:16.920Z"
   },
   {
    "duration": 377,
    "start_time": "2022-12-10T14:31:23.386Z"
   },
   {
    "duration": 5,
    "start_time": "2022-12-10T14:43:45.562Z"
   },
   {
    "duration": 873,
    "start_time": "2022-12-10T14:44:57.488Z"
   },
   {
    "duration": 8,
    "start_time": "2022-12-10T14:45:13.365Z"
   },
   {
    "duration": 5,
    "start_time": "2022-12-10T14:45:41.061Z"
   },
   {
    "duration": 5,
    "start_time": "2022-12-10T14:46:25.106Z"
   },
   {
    "duration": 5,
    "start_time": "2022-12-10T14:47:01.311Z"
   },
   {
    "duration": 7,
    "start_time": "2022-12-10T14:48:31.757Z"
   },
   {
    "duration": 5,
    "start_time": "2022-12-10T14:51:07.354Z"
   },
   {
    "duration": 12,
    "start_time": "2022-12-10T14:51:54.712Z"
   },
   {
    "duration": 21,
    "start_time": "2022-12-10T14:53:54.887Z"
   },
   {
    "duration": 6,
    "start_time": "2022-12-10T14:55:35.091Z"
   },
   {
    "duration": 10,
    "start_time": "2022-12-10T14:55:43.460Z"
   },
   {
    "duration": 5,
    "start_time": "2022-12-10T14:55:59.262Z"
   },
   {
    "duration": 7,
    "start_time": "2022-12-10T14:56:01.269Z"
   },
   {
    "duration": 28,
    "start_time": "2022-12-10T14:56:38.377Z"
   },
   {
    "duration": 11,
    "start_time": "2022-12-10T15:07:19.120Z"
   },
   {
    "duration": 9,
    "start_time": "2022-12-10T15:07:54.570Z"
   },
   {
    "duration": 9,
    "start_time": "2022-12-10T15:27:04.483Z"
   },
   {
    "duration": 4,
    "start_time": "2022-12-10T15:27:49.251Z"
   },
   {
    "duration": 5,
    "start_time": "2022-12-10T15:28:23.448Z"
   },
   {
    "duration": 3124,
    "start_time": "2022-12-10T15:28:48.054Z"
   },
   {
    "duration": 9,
    "start_time": "2022-12-10T15:28:51.180Z"
   },
   {
    "duration": 163,
    "start_time": "2022-12-10T15:28:51.191Z"
   },
   {
    "duration": 41,
    "start_time": "2022-12-10T15:28:51.356Z"
   },
   {
    "duration": 6,
    "start_time": "2022-12-10T15:28:51.400Z"
   },
   {
    "duration": 6,
    "start_time": "2022-12-10T15:28:51.408Z"
   },
   {
    "duration": 7,
    "start_time": "2022-12-10T15:28:51.415Z"
   },
   {
    "duration": 17,
    "start_time": "2022-12-10T15:28:51.423Z"
   },
   {
    "duration": 12,
    "start_time": "2022-12-10T15:28:51.442Z"
   },
   {
    "duration": 57,
    "start_time": "2022-12-10T15:28:51.456Z"
   },
   {
    "duration": 6,
    "start_time": "2022-12-10T15:28:51.515Z"
   },
   {
    "duration": 8,
    "start_time": "2022-12-10T15:28:51.523Z"
   },
   {
    "duration": 113,
    "start_time": "2022-12-10T15:28:51.532Z"
   },
   {
    "duration": 15,
    "start_time": "2022-12-10T15:28:51.647Z"
   },
   {
    "duration": 353,
    "start_time": "2022-12-10T15:28:51.664Z"
   },
   {
    "duration": 281,
    "start_time": "2022-12-10T15:28:52.018Z"
   },
   {
    "duration": 273,
    "start_time": "2022-12-10T15:28:52.300Z"
   },
   {
    "duration": 269,
    "start_time": "2022-12-10T15:28:52.574Z"
   },
   {
    "duration": 391,
    "start_time": "2022-12-10T15:28:52.845Z"
   },
   {
    "duration": 249,
    "start_time": "2022-12-10T15:28:53.237Z"
   },
   {
    "duration": 247,
    "start_time": "2022-12-10T15:28:53.487Z"
   },
   {
    "duration": 6,
    "start_time": "2022-12-10T15:28:53.736Z"
   },
   {
    "duration": 5,
    "start_time": "2022-12-10T15:28:53.744Z"
   },
   {
    "duration": 178,
    "start_time": "2022-12-10T15:28:53.750Z"
   },
   {
    "duration": 268,
    "start_time": "2022-12-10T15:28:53.929Z"
   },
   {
    "duration": 128,
    "start_time": "2022-12-10T15:28:54.198Z"
   },
   {
    "duration": 259,
    "start_time": "2022-12-10T15:28:54.328Z"
   },
   {
    "duration": 338,
    "start_time": "2022-12-10T15:28:54.597Z"
   },
   {
    "duration": 169,
    "start_time": "2022-12-10T15:28:54.936Z"
   },
   {
    "duration": 171,
    "start_time": "2022-12-10T15:28:55.107Z"
   },
   {
    "duration": 163,
    "start_time": "2022-12-10T15:28:55.281Z"
   },
   {
    "duration": 166,
    "start_time": "2022-12-10T15:28:55.445Z"
   },
   {
    "duration": 249,
    "start_time": "2022-12-10T15:28:55.613Z"
   },
   {
    "duration": 1115,
    "start_time": "2022-12-10T15:28:55.864Z"
   },
   {
    "duration": 941,
    "start_time": "2022-12-10T15:28:56.980Z"
   },
   {
    "duration": 1024,
    "start_time": "2022-12-10T15:28:57.929Z"
   },
   {
    "duration": 816,
    "start_time": "2022-12-10T15:28:58.955Z"
   },
   {
    "duration": 980,
    "start_time": "2022-12-10T15:28:59.772Z"
   },
   {
    "duration": 913,
    "start_time": "2022-12-10T15:29:00.754Z"
   },
   {
    "duration": 900,
    "start_time": "2022-12-10T15:29:01.669Z"
   },
   {
    "duration": 1075,
    "start_time": "2022-12-10T15:29:02.572Z"
   },
   {
    "duration": 31,
    "start_time": "2022-12-10T15:29:03.649Z"
   },
   {
    "duration": 199,
    "start_time": "2022-12-10T15:29:03.682Z"
   },
   {
    "duration": 191,
    "start_time": "2022-12-10T15:29:03.883Z"
   },
   {
    "duration": 6502,
    "start_time": "2022-12-10T15:29:04.076Z"
   },
   {
    "duration": 372,
    "start_time": "2022-12-10T15:29:10.580Z"
   },
   {
    "duration": 6,
    "start_time": "2022-12-10T15:30:24.678Z"
   },
   {
    "duration": 10,
    "start_time": "2022-12-10T15:31:24.706Z"
   },
   {
    "duration": 5,
    "start_time": "2022-12-10T15:31:31.812Z"
   },
   {
    "duration": 6,
    "start_time": "2022-12-10T15:31:40.554Z"
   },
   {
    "duration": 9,
    "start_time": "2022-12-10T15:34:40.167Z"
   },
   {
    "duration": 10,
    "start_time": "2022-12-10T15:34:44.414Z"
   },
   {
    "duration": 5,
    "start_time": "2022-12-10T15:34:47.555Z"
   },
   {
    "duration": 4,
    "start_time": "2022-12-10T15:35:09.319Z"
   },
   {
    "duration": 9,
    "start_time": "2022-12-10T15:35:15.353Z"
   },
   {
    "duration": 4,
    "start_time": "2022-12-10T15:35:19.060Z"
   },
   {
    "duration": 5,
    "start_time": "2022-12-10T15:35:24.775Z"
   },
   {
    "duration": 17,
    "start_time": "2022-12-10T15:36:46.116Z"
   },
   {
    "duration": 10,
    "start_time": "2022-12-10T15:36:48.606Z"
   },
   {
    "duration": 5,
    "start_time": "2022-12-10T15:36:50.053Z"
   },
   {
    "duration": 5,
    "start_time": "2022-12-10T15:36:51.762Z"
   },
   {
    "duration": 10,
    "start_time": "2022-12-10T15:40:33.307Z"
   },
   {
    "duration": 9,
    "start_time": "2022-12-10T15:40:36.118Z"
   },
   {
    "duration": 7,
    "start_time": "2022-12-10T15:40:38.131Z"
   },
   {
    "duration": 17,
    "start_time": "2022-12-10T15:41:31.007Z"
   },
   {
    "duration": 5,
    "start_time": "2022-12-10T15:41:33.183Z"
   },
   {
    "duration": 6,
    "start_time": "2022-12-10T15:41:34.855Z"
   },
   {
    "duration": 22,
    "start_time": "2022-12-10T15:42:09.609Z"
   },
   {
    "duration": 6,
    "start_time": "2022-12-10T15:42:10.848Z"
   },
   {
    "duration": 5,
    "start_time": "2022-12-10T15:42:12.301Z"
   },
   {
    "duration": 51,
    "start_time": "2022-12-10T15:44:26.416Z"
   },
   {
    "duration": 4,
    "start_time": "2022-12-10T15:44:27.165Z"
   },
   {
    "duration": 6,
    "start_time": "2022-12-10T15:44:28.461Z"
   },
   {
    "duration": 55,
    "start_time": "2022-12-10T15:45:00.355Z"
   },
   {
    "duration": 4,
    "start_time": "2022-12-10T15:45:01.258Z"
   },
   {
    "duration": 6,
    "start_time": "2022-12-10T15:45:02.456Z"
   },
   {
    "duration": 55,
    "start_time": "2022-12-10T15:46:23.209Z"
   },
   {
    "duration": 4,
    "start_time": "2022-12-10T15:46:24.362Z"
   },
   {
    "duration": 7,
    "start_time": "2022-12-10T15:46:25.848Z"
   },
   {
    "duration": 56,
    "start_time": "2022-12-10T15:48:03.506Z"
   },
   {
    "duration": 4,
    "start_time": "2022-12-10T15:48:04.251Z"
   },
   {
    "duration": 5,
    "start_time": "2022-12-10T15:48:05.688Z"
   },
   {
    "duration": 3121,
    "start_time": "2022-12-10T15:48:35.557Z"
   },
   {
    "duration": 9,
    "start_time": "2022-12-10T15:48:38.681Z"
   },
   {
    "duration": 156,
    "start_time": "2022-12-10T15:48:38.691Z"
   },
   {
    "duration": 47,
    "start_time": "2022-12-10T15:48:38.849Z"
   },
   {
    "duration": 6,
    "start_time": "2022-12-10T15:48:38.899Z"
   },
   {
    "duration": 4,
    "start_time": "2022-12-10T15:48:38.907Z"
   },
   {
    "duration": 102,
    "start_time": "2022-12-10T15:48:38.912Z"
   },
   {
    "duration": 4,
    "start_time": "2022-12-10T15:48:39.016Z"
   },
   {
    "duration": 13,
    "start_time": "2022-12-10T15:48:39.021Z"
   },
   {
    "duration": 10,
    "start_time": "2022-12-10T15:48:39.036Z"
   },
   {
    "duration": 97,
    "start_time": "2022-12-10T15:48:39.048Z"
   },
   {
    "duration": 9,
    "start_time": "2022-12-10T15:48:39.148Z"
   },
   {
    "duration": 8,
    "start_time": "2022-12-10T15:48:39.159Z"
   },
   {
    "duration": 118,
    "start_time": "2022-12-10T15:48:39.171Z"
   },
   {
    "duration": 20,
    "start_time": "2022-12-10T15:48:39.296Z"
   },
   {
    "duration": 416,
    "start_time": "2022-12-10T15:48:39.319Z"
   },
   {
    "duration": 279,
    "start_time": "2022-12-10T15:48:39.737Z"
   },
   {
    "duration": 280,
    "start_time": "2022-12-10T15:48:40.017Z"
   },
   {
    "duration": 304,
    "start_time": "2022-12-10T15:48:40.299Z"
   },
   {
    "duration": 365,
    "start_time": "2022-12-10T15:48:40.605Z"
   },
   {
    "duration": 237,
    "start_time": "2022-12-10T15:48:40.971Z"
   },
   {
    "duration": 255,
    "start_time": "2022-12-10T15:48:41.209Z"
   },
   {
    "duration": 5,
    "start_time": "2022-12-10T15:48:41.466Z"
   },
   {
    "duration": 13,
    "start_time": "2022-12-10T15:48:41.473Z"
   },
   {
    "duration": 174,
    "start_time": "2022-12-10T15:48:41.495Z"
   },
   {
    "duration": 280,
    "start_time": "2022-12-10T15:48:41.671Z"
   },
   {
    "duration": 120,
    "start_time": "2022-12-10T15:48:41.953Z"
   },
   {
    "duration": 262,
    "start_time": "2022-12-10T15:48:42.075Z"
   },
   {
    "duration": 344,
    "start_time": "2022-12-10T15:48:42.339Z"
   },
   {
    "duration": 171,
    "start_time": "2022-12-10T15:48:42.685Z"
   },
   {
    "duration": 160,
    "start_time": "2022-12-10T15:48:42.858Z"
   },
   {
    "duration": 149,
    "start_time": "2022-12-10T15:48:43.019Z"
   },
   {
    "duration": 158,
    "start_time": "2022-12-10T15:48:43.169Z"
   },
   {
    "duration": 232,
    "start_time": "2022-12-10T15:48:43.329Z"
   },
   {
    "duration": 1070,
    "start_time": "2022-12-10T15:48:43.563Z"
   },
   {
    "duration": 921,
    "start_time": "2022-12-10T15:48:44.635Z"
   },
   {
    "duration": 1130,
    "start_time": "2022-12-10T15:48:45.558Z"
   },
   {
    "duration": 869,
    "start_time": "2022-12-10T15:48:46.690Z"
   },
   {
    "duration": 921,
    "start_time": "2022-12-10T15:48:47.560Z"
   },
   {
    "duration": 887,
    "start_time": "2022-12-10T15:48:48.483Z"
   },
   {
    "duration": 897,
    "start_time": "2022-12-10T15:48:49.374Z"
   },
   {
    "duration": 1046,
    "start_time": "2022-12-10T15:48:50.272Z"
   },
   {
    "duration": 29,
    "start_time": "2022-12-10T15:48:51.320Z"
   },
   {
    "duration": 167,
    "start_time": "2022-12-10T15:48:51.351Z"
   },
   {
    "duration": 164,
    "start_time": "2022-12-10T15:48:51.519Z"
   },
   {
    "duration": 6169,
    "start_time": "2022-12-10T15:48:51.685Z"
   },
   {
    "duration": 347,
    "start_time": "2022-12-10T15:48:57.856Z"
   },
   {
    "duration": 65,
    "start_time": "2022-12-10T15:50:01.892Z"
   },
   {
    "duration": 4,
    "start_time": "2022-12-10T15:50:03.475Z"
   },
   {
    "duration": 6,
    "start_time": "2022-12-10T15:50:05.679Z"
   },
   {
    "duration": 44,
    "start_time": "2022-12-10T15:54:39.014Z"
   },
   {
    "duration": 5,
    "start_time": "2022-12-10T15:57:02.676Z"
   },
   {
    "duration": 12,
    "start_time": "2022-12-10T15:57:34.104Z"
   },
   {
    "duration": 6,
    "start_time": "2022-12-10T15:58:08.088Z"
   },
   {
    "duration": 66,
    "start_time": "2022-12-10T16:05:05.182Z"
   },
   {
    "duration": 5,
    "start_time": "2022-12-10T16:05:32.296Z"
   },
   {
    "duration": 3191,
    "start_time": "2022-12-10T16:09:05.375Z"
   },
   {
    "duration": 8,
    "start_time": "2022-12-10T16:09:08.568Z"
   },
   {
    "duration": 155,
    "start_time": "2022-12-10T16:09:08.578Z"
   },
   {
    "duration": 38,
    "start_time": "2022-12-10T16:09:08.735Z"
   },
   {
    "duration": 22,
    "start_time": "2022-12-10T16:09:08.775Z"
   },
   {
    "duration": 3,
    "start_time": "2022-12-10T16:09:08.799Z"
   },
   {
    "duration": 119,
    "start_time": "2022-12-10T16:09:08.804Z"
   },
   {
    "duration": 6,
    "start_time": "2022-12-10T16:09:08.924Z"
   },
   {
    "duration": 5,
    "start_time": "2022-12-10T16:09:08.931Z"
   },
   {
    "duration": 796,
    "start_time": "2022-12-10T16:09:08.939Z"
   },
   {
    "duration": 0,
    "start_time": "2022-12-10T16:09:09.737Z"
   },
   {
    "duration": 0,
    "start_time": "2022-12-10T16:09:09.738Z"
   },
   {
    "duration": 0,
    "start_time": "2022-12-10T16:09:09.739Z"
   },
   {
    "duration": 0,
    "start_time": "2022-12-10T16:09:09.739Z"
   },
   {
    "duration": 0,
    "start_time": "2022-12-10T16:09:09.740Z"
   },
   {
    "duration": 0,
    "start_time": "2022-12-10T16:09:09.741Z"
   },
   {
    "duration": 0,
    "start_time": "2022-12-10T16:09:09.742Z"
   },
   {
    "duration": 0,
    "start_time": "2022-12-10T16:09:09.743Z"
   },
   {
    "duration": 0,
    "start_time": "2022-12-10T16:09:09.744Z"
   },
   {
    "duration": 0,
    "start_time": "2022-12-10T16:09:09.745Z"
   },
   {
    "duration": 0,
    "start_time": "2022-12-10T16:09:09.746Z"
   },
   {
    "duration": 0,
    "start_time": "2022-12-10T16:09:09.747Z"
   },
   {
    "duration": 0,
    "start_time": "2022-12-10T16:09:09.748Z"
   },
   {
    "duration": 0,
    "start_time": "2022-12-10T16:09:09.749Z"
   },
   {
    "duration": 0,
    "start_time": "2022-12-10T16:09:09.750Z"
   },
   {
    "duration": 0,
    "start_time": "2022-12-10T16:09:09.750Z"
   },
   {
    "duration": 0,
    "start_time": "2022-12-10T16:09:09.751Z"
   },
   {
    "duration": 0,
    "start_time": "2022-12-10T16:09:09.752Z"
   },
   {
    "duration": 0,
    "start_time": "2022-12-10T16:09:09.753Z"
   },
   {
    "duration": 0,
    "start_time": "2022-12-10T16:09:09.754Z"
   },
   {
    "duration": 0,
    "start_time": "2022-12-10T16:09:09.755Z"
   },
   {
    "duration": 0,
    "start_time": "2022-12-10T16:09:09.756Z"
   },
   {
    "duration": 0,
    "start_time": "2022-12-10T16:09:09.757Z"
   },
   {
    "duration": 0,
    "start_time": "2022-12-10T16:09:09.758Z"
   },
   {
    "duration": 0,
    "start_time": "2022-12-10T16:09:09.759Z"
   },
   {
    "duration": 0,
    "start_time": "2022-12-10T16:09:09.761Z"
   },
   {
    "duration": 0,
    "start_time": "2022-12-10T16:09:09.761Z"
   },
   {
    "duration": 0,
    "start_time": "2022-12-10T16:09:09.762Z"
   },
   {
    "duration": 0,
    "start_time": "2022-12-10T16:09:09.763Z"
   },
   {
    "duration": 0,
    "start_time": "2022-12-10T16:09:09.764Z"
   },
   {
    "duration": 0,
    "start_time": "2022-12-10T16:09:09.765Z"
   },
   {
    "duration": 0,
    "start_time": "2022-12-10T16:09:09.766Z"
   },
   {
    "duration": 0,
    "start_time": "2022-12-10T16:09:09.767Z"
   },
   {
    "duration": 0,
    "start_time": "2022-12-10T16:09:09.768Z"
   },
   {
    "duration": 0,
    "start_time": "2022-12-10T16:09:09.769Z"
   },
   {
    "duration": 770,
    "start_time": "2022-12-10T16:09:36.085Z"
   },
   {
    "duration": 6,
    "start_time": "2022-12-10T16:09:57.794Z"
   },
   {
    "duration": 159,
    "start_time": "2022-12-10T16:18:38.899Z"
   },
   {
    "duration": 7,
    "start_time": "2022-12-10T16:18:47.973Z"
   },
   {
    "duration": 6,
    "start_time": "2022-12-10T16:18:51.483Z"
   },
   {
    "duration": 6,
    "start_time": "2022-12-10T16:19:04.509Z"
   },
   {
    "duration": 299,
    "start_time": "2022-12-10T16:19:06.854Z"
   },
   {
    "duration": 3149,
    "start_time": "2022-12-10T16:19:24.757Z"
   },
   {
    "duration": 10,
    "start_time": "2022-12-10T16:19:27.909Z"
   },
   {
    "duration": 157,
    "start_time": "2022-12-10T16:19:27.920Z"
   },
   {
    "duration": 45,
    "start_time": "2022-12-10T16:19:28.079Z"
   },
   {
    "duration": 9,
    "start_time": "2022-12-10T16:19:28.126Z"
   },
   {
    "duration": 4,
    "start_time": "2022-12-10T16:19:28.137Z"
   },
   {
    "duration": 126,
    "start_time": "2022-12-10T16:19:28.143Z"
   },
   {
    "duration": 5,
    "start_time": "2022-12-10T16:19:28.270Z"
   },
   {
    "duration": 6,
    "start_time": "2022-12-10T16:19:28.276Z"
   },
   {
    "duration": 6,
    "start_time": "2022-12-10T16:19:28.297Z"
   },
   {
    "duration": 110,
    "start_time": "2022-12-10T16:19:28.304Z"
   },
   {
    "duration": 14,
    "start_time": "2022-12-10T16:19:28.415Z"
   },
   {
    "duration": 8,
    "start_time": "2022-12-10T16:19:28.430Z"
   },
   {
    "duration": 4,
    "start_time": "2022-12-10T16:19:28.440Z"
   },
   {
    "duration": 192,
    "start_time": "2022-12-10T16:19:28.445Z"
   },
   {
    "duration": 214,
    "start_time": "2022-12-10T16:19:28.639Z"
   },
   {
    "duration": 255,
    "start_time": "2022-12-10T16:19:28.855Z"
   },
   {
    "duration": 274,
    "start_time": "2022-12-10T16:19:29.113Z"
   },
   {
    "duration": 283,
    "start_time": "2022-12-10T16:19:29.389Z"
   },
   {
    "duration": 344,
    "start_time": "2022-12-10T16:19:29.673Z"
   },
   {
    "duration": 239,
    "start_time": "2022-12-10T16:19:30.018Z"
   },
   {
    "duration": 286,
    "start_time": "2022-12-10T16:19:30.259Z"
   },
   {
    "duration": 7,
    "start_time": "2022-12-10T16:19:30.548Z"
   },
   {
    "duration": 28,
    "start_time": "2022-12-10T16:19:30.556Z"
   },
   {
    "duration": 171,
    "start_time": "2022-12-10T16:19:30.585Z"
   },
   {
    "duration": 267,
    "start_time": "2022-12-10T16:19:30.758Z"
   },
   {
    "duration": 134,
    "start_time": "2022-12-10T16:19:31.027Z"
   },
   {
    "duration": 291,
    "start_time": "2022-12-10T16:19:31.164Z"
   },
   {
    "duration": 378,
    "start_time": "2022-12-10T16:19:31.457Z"
   },
   {
    "duration": 181,
    "start_time": "2022-12-10T16:19:31.838Z"
   },
   {
    "duration": 177,
    "start_time": "2022-12-10T16:19:32.021Z"
   },
   {
    "duration": 161,
    "start_time": "2022-12-10T16:19:32.200Z"
   },
   {
    "duration": 175,
    "start_time": "2022-12-10T16:19:32.363Z"
   },
   {
    "duration": 258,
    "start_time": "2022-12-10T16:19:32.540Z"
   },
   {
    "duration": 1073,
    "start_time": "2022-12-10T16:19:32.799Z"
   },
   {
    "duration": 920,
    "start_time": "2022-12-10T16:19:33.874Z"
   },
   {
    "duration": 1174,
    "start_time": "2022-12-10T16:19:34.797Z"
   },
   {
    "duration": 897,
    "start_time": "2022-12-10T16:19:35.973Z"
   },
   {
    "duration": 943,
    "start_time": "2022-12-10T16:19:36.872Z"
   },
   {
    "duration": 839,
    "start_time": "2022-12-10T16:19:37.816Z"
   },
   {
    "duration": 817,
    "start_time": "2022-12-10T16:19:38.657Z"
   },
   {
    "duration": 1055,
    "start_time": "2022-12-10T16:19:39.475Z"
   },
   {
    "duration": 28,
    "start_time": "2022-12-10T16:19:40.532Z"
   },
   {
    "duration": 168,
    "start_time": "2022-12-10T16:19:40.562Z"
   },
   {
    "duration": 170,
    "start_time": "2022-12-10T16:19:40.731Z"
   },
   {
    "duration": 6283,
    "start_time": "2022-12-10T16:19:40.903Z"
   },
   {
    "duration": 395,
    "start_time": "2022-12-10T16:19:47.187Z"
   },
   {
    "duration": 237,
    "start_time": "2022-12-10T16:21:43.922Z"
   },
   {
    "duration": 257,
    "start_time": "2022-12-10T16:21:54.122Z"
   },
   {
    "duration": 252,
    "start_time": "2022-12-10T16:22:03.823Z"
   },
   {
    "duration": 249,
    "start_time": "2022-12-10T16:22:14.739Z"
   },
   {
    "duration": 233,
    "start_time": "2022-12-10T16:22:20.468Z"
   },
   {
    "duration": 289,
    "start_time": "2022-12-10T16:22:27.293Z"
   },
   {
    "duration": 441,
    "start_time": "2022-12-10T16:22:52.472Z"
   },
   {
    "duration": 261,
    "start_time": "2022-12-10T16:23:00.608Z"
   }
  ],
  "kernelspec": {
   "display_name": "Python 3 (ipykernel)",
   "language": "python",
   "name": "python3"
  },
  "language_info": {
   "codemirror_mode": {
    "name": "ipython",
    "version": 3
   },
   "file_extension": ".py",
   "mimetype": "text/x-python",
   "name": "python",
   "nbconvert_exporter": "python",
   "pygments_lexer": "ipython3",
   "version": "3.9.5"
  },
  "toc": {
   "base_numbering": 1,
   "nav_menu": {},
   "number_sections": false,
   "sideBar": true,
   "skip_h1_title": true,
   "title_cell": "Table of Contents",
   "title_sidebar": "Contents",
   "toc_cell": false,
   "toc_position": {
    "height": "calc(100% - 180px)",
    "left": "10px",
    "top": "150px",
    "width": "165px"
   },
   "toc_section_display": true,
   "toc_window_display": true
  }
 },
 "nbformat": 4,
 "nbformat_minor": 2
}

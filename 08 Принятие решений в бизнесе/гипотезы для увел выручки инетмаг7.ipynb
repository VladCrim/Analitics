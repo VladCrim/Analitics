{
 "cells": [
  {
   "cell_type": "markdown",
   "metadata": {},
   "source": [
    "# Описание проекта\n",
    "\n",
    "\n",
    "## Постановка задачи\n",
    "Вы — аналитик крупного интернет-магазина. Вместе с отделом маркетинга вы подготовили список гипотез для увеличения выручки. Приоритизируйте гипотезы, запустите A/B-тест и проанализируйте результаты.\n",
    "\n",
    "## Описание последовательности выполнения проекта\n",
    "\n",
    "### Часть 1 - Приоритизация гипотез\n",
    "\n",
    "Загрузка файлов, их изучение и подготовка к дальнейшему анализу.\n",
    "\n",
    "Применение фреймворков ICE и RICE для приоритизации гипотез.\n",
    "\n",
    "Анализ того, какие есть различия в приоритизации между двумя фреймворкам.\n",
    "\n",
    "### Часть 2 - Анализ A/B-теста\n",
    "\n",
    "Загрузка файлов, их изучение и подготовка к дальнейшему анализу.\n",
    "\n",
    "Построение графиков по основным метрикам (кумулятивная выручка, кумулятивный средний чек, кумулятивная конверсия по группам, относительное изменение кумулятивного среднего чека и конверсии группы В к группе А, стоимость заказа)\n",
    "\n",
    "Расчёт 95 и 99 перцентилей количества заказов на пользователя, стоимости заказов. Выбор границ для определения аномальных пользователей, а затем их фильтрация.\n",
    "\n",
    "Расчёт статистической значимости различий в конверсии и среднем чеке между группами по \"сырым\", а затем \"очищенным\" данным.\n",
    "\n",
    "Принятие решения по результатам теста. Возможные исходы - Остановка теста и фиксация победы одной из групп, Остановка теста и фиксация отсутствия различий между группами, Продолжение теста.\n",
    "\n",
    "### Описание данных\n",
    "\n",
    "#### Данные для первой части\n",
    "\n",
    "#### Таблица hypothesis\n",
    "\n",
    "Hypothesis — краткое описание гипотезы;\n",
    "\n",
    "Reach — охват пользователей по 10-балльной шкале;\n",
    "\n",
    "Impact — влияние на пользователей по 10-балльной шкале;\n",
    "\n",
    "Confidence — уверенность в гипотезе по 10-балльной шкале;\n",
    "\n",
    "Efforts — затраты ресурсов на проверку гипотезы по 10-балльной шкале. Чем больше значение Efforts, тем дороже проверка гипотезы.\n",
    "\n",
    "#### Данные для второй части\n",
    "\n",
    "#### Таблица orders\n",
    "\n",
    "transactionId — идентификатор заказа;\n",
    "\n",
    "visitorId — идентификатор пользователя, совершившего заказ;\n",
    "\n",
    "date — дата, когда был совершён заказ;\n",
    "\n",
    "revenue — выручка заказа;\n",
    "\n",
    "group — группа A/B-теста, в которую попал заказ.\n",
    "\n",
    "#### Таблица visitors\n",
    "\n",
    "date — дата;\n",
    "\n",
    "group — группа A/B-теста;\n",
    "\n",
    "visitors — количество пользователей в указанную дату в указанной группе A/B-теста"
   ]
  },
  {
   "cell_type": "markdown",
   "metadata": {},
   "source": [
    "### Шаг 1. Загрузка данных и подготовка их к анализу"
   ]
  },
  {
   "cell_type": "code",
   "execution_count": 1,
   "metadata": {},
   "outputs": [],
   "source": [
    "# Импортируем  библиотеки\n",
    "import pandas as pd\n",
    "from matplotlib import pyplot as plt\n",
    "import numpy as np\n",
    "import warnings\n",
    "import seaborn as sns\n",
    "import datetime as dt\n",
    "import scipy.stats as stats\n",
    "\n",
    "# отключение уведомлений об ошибке при замене исходного набора данных\n",
    "warnings.filterwarnings('ignore')\n",
    "warnings.simplefilter('ignore')\n"
   ]
  },
  {
   "cell_type": "code",
   "execution_count": 2,
   "metadata": {},
   "outputs": [],
   "source": [
    "# загружаем файлы в переменные и выводим на экран\n",
    "hypothesis = pd.read_csv('/datasets/hypothesis.csv')\n",
    "orders = pd.read_csv('/datasets/orders.csv')\n",
    "visitors = pd.read_csv('/datasets/visitors.csv')"
   ]
  },
  {
   "cell_type": "markdown",
   "metadata": {},
   "source": [
    "#### 1.1. Предобработка таблицы hypothesis"
   ]
  },
  {
   "cell_type": "code",
   "execution_count": 3,
   "metadata": {},
   "outputs": [
    {
     "data": {
      "text/html": [
       "<div>\n",
       "<style scoped>\n",
       "    .dataframe tbody tr th:only-of-type {\n",
       "        vertical-align: middle;\n",
       "    }\n",
       "\n",
       "    .dataframe tbody tr th {\n",
       "        vertical-align: top;\n",
       "    }\n",
       "\n",
       "    .dataframe thead th {\n",
       "        text-align: right;\n",
       "    }\n",
       "</style>\n",
       "<table border=\"1\" class=\"dataframe\">\n",
       "  <thead>\n",
       "    <tr style=\"text-align: right;\">\n",
       "      <th></th>\n",
       "      <th>Hypothesis</th>\n",
       "      <th>Reach</th>\n",
       "      <th>Impact</th>\n",
       "      <th>Confidence</th>\n",
       "      <th>Efforts</th>\n",
       "    </tr>\n",
       "  </thead>\n",
       "  <tbody>\n",
       "    <tr>\n",
       "      <th>0</th>\n",
       "      <td>Добавить два новых канала привлечения трафика, что позволит привлекать на 30% больше пользователей</td>\n",
       "      <td>3</td>\n",
       "      <td>10</td>\n",
       "      <td>8</td>\n",
       "      <td>6</td>\n",
       "    </tr>\n",
       "    <tr>\n",
       "      <th>1</th>\n",
       "      <td>Запустить собственную службу доставки, что сократит срок доставки заказов</td>\n",
       "      <td>2</td>\n",
       "      <td>5</td>\n",
       "      <td>4</td>\n",
       "      <td>10</td>\n",
       "    </tr>\n",
       "    <tr>\n",
       "      <th>2</th>\n",
       "      <td>Добавить блоки рекомендаций товаров на сайт интернет магазина, чтобы повысить конверсию и средний чек заказа</td>\n",
       "      <td>8</td>\n",
       "      <td>3</td>\n",
       "      <td>7</td>\n",
       "      <td>3</td>\n",
       "    </tr>\n",
       "    <tr>\n",
       "      <th>3</th>\n",
       "      <td>Изменить структура категорий, что увеличит конверсию, т.к. пользователи быстрее найдут нужный товар</td>\n",
       "      <td>8</td>\n",
       "      <td>3</td>\n",
       "      <td>3</td>\n",
       "      <td>8</td>\n",
       "    </tr>\n",
       "    <tr>\n",
       "      <th>4</th>\n",
       "      <td>Изменить цвет фона главной страницы, чтобы увеличить вовлеченность пользователей</td>\n",
       "      <td>3</td>\n",
       "      <td>1</td>\n",
       "      <td>1</td>\n",
       "      <td>1</td>\n",
       "    </tr>\n",
       "    <tr>\n",
       "      <th>5</th>\n",
       "      <td>Добавить страницу отзывов клиентов о магазине, что позволит увеличить количество заказов</td>\n",
       "      <td>3</td>\n",
       "      <td>2</td>\n",
       "      <td>2</td>\n",
       "      <td>3</td>\n",
       "    </tr>\n",
       "    <tr>\n",
       "      <th>6</th>\n",
       "      <td>Показать на главной странице баннеры с актуальными акциями и распродажами, чтобы увеличить конверсию</td>\n",
       "      <td>5</td>\n",
       "      <td>3</td>\n",
       "      <td>8</td>\n",
       "      <td>3</td>\n",
       "    </tr>\n",
       "    <tr>\n",
       "      <th>7</th>\n",
       "      <td>Добавить форму подписки на все основные страницы, чтобы собрать базу клиентов для email-рассылок</td>\n",
       "      <td>10</td>\n",
       "      <td>7</td>\n",
       "      <td>8</td>\n",
       "      <td>5</td>\n",
       "    </tr>\n",
       "    <tr>\n",
       "      <th>8</th>\n",
       "      <td>Запустить акцию, дающую скидку на товар в день рождения</td>\n",
       "      <td>1</td>\n",
       "      <td>9</td>\n",
       "      <td>9</td>\n",
       "      <td>5</td>\n",
       "    </tr>\n",
       "  </tbody>\n",
       "</table>\n",
       "</div>"
      ],
      "text/plain": [
       "                                                                                                     Hypothesis  \\\n",
       "0            Добавить два новых канала привлечения трафика, что позволит привлекать на 30% больше пользователей   \n",
       "1                                     Запустить собственную службу доставки, что сократит срок доставки заказов   \n",
       "2  Добавить блоки рекомендаций товаров на сайт интернет магазина, чтобы повысить конверсию и средний чек заказа   \n",
       "3           Изменить структура категорий, что увеличит конверсию, т.к. пользователи быстрее найдут нужный товар   \n",
       "4                              Изменить цвет фона главной страницы, чтобы увеличить вовлеченность пользователей   \n",
       "5                      Добавить страницу отзывов клиентов о магазине, что позволит увеличить количество заказов   \n",
       "6          Показать на главной странице баннеры с актуальными акциями и распродажами, чтобы увеличить конверсию   \n",
       "7              Добавить форму подписки на все основные страницы, чтобы собрать базу клиентов для email-рассылок   \n",
       "8                                                       Запустить акцию, дающую скидку на товар в день рождения   \n",
       "\n",
       "   Reach  Impact  Confidence  Efforts  \n",
       "0      3      10           8        6  \n",
       "1      2       5           4       10  \n",
       "2      8       3           7        3  \n",
       "3      8       3           3        8  \n",
       "4      3       1           1        1  \n",
       "5      3       2           2        3  \n",
       "6      5       3           8        3  \n",
       "7     10       7           8        5  \n",
       "8      1       9           9        5  "
      ]
     },
     "execution_count": 3,
     "metadata": {},
     "output_type": "execute_result"
    }
   ],
   "source": [
    "pd.options.display.max_colwidth = 130\n",
    "hypothesis"
   ]
  },
  {
   "cell_type": "markdown",
   "metadata": {},
   "source": [
    "#### Hypothesis — краткое описание гипотезы;\n",
    "\n",
    "Reach — охват пользователей по 10-балльной шкале;\n",
    "\n",
    "Impact — влияние на пользователей по 10-балльной шкале;\n",
    "\n",
    "Confidence — уверенность в гипотезе по 10-балльной шкале;\n",
    "\n",
    "Efforts — затраты ресурсов на проверку гипотезы по 10-балльной шкале. Чем больше значение Efforts, тем дороже проверка гипотезы."
   ]
  },
  {
   "cell_type": "code",
   "execution_count": 4,
   "metadata": {},
   "outputs": [
    {
     "name": "stdout",
     "output_type": "stream",
     "text": [
      "<class 'pandas.core.frame.DataFrame'>\n",
      "RangeIndex: 9 entries, 0 to 8\n",
      "Data columns (total 5 columns):\n",
      " #   Column      Non-Null Count  Dtype \n",
      "---  ------      --------------  ----- \n",
      " 0   Hypothesis  9 non-null      object\n",
      " 1   Reach       9 non-null      int64 \n",
      " 2   Impact      9 non-null      int64 \n",
      " 3   Confidence  9 non-null      int64 \n",
      " 4   Efforts     9 non-null      int64 \n",
      "dtypes: int64(4), object(1)\n",
      "memory usage: 488.0+ bytes\n"
     ]
    }
   ],
   "source": [
    "hypothesis.info()"
   ]
  },
  {
   "cell_type": "markdown",
   "metadata": {},
   "source": [
    "#### Данные полные и не требуют дополнительных корректировок"
   ]
  },
  {
   "cell_type": "markdown",
   "metadata": {},
   "source": [
    "#### 1.2. Предобработка таблицы orders"
   ]
  },
  {
   "cell_type": "code",
   "execution_count": 5,
   "metadata": {},
   "outputs": [
    {
     "data": {
      "text/html": [
       "<div>\n",
       "<style scoped>\n",
       "    .dataframe tbody tr th:only-of-type {\n",
       "        vertical-align: middle;\n",
       "    }\n",
       "\n",
       "    .dataframe tbody tr th {\n",
       "        vertical-align: top;\n",
       "    }\n",
       "\n",
       "    .dataframe thead th {\n",
       "        text-align: right;\n",
       "    }\n",
       "</style>\n",
       "<table border=\"1\" class=\"dataframe\">\n",
       "  <thead>\n",
       "    <tr style=\"text-align: right;\">\n",
       "      <th></th>\n",
       "      <th>transactionId</th>\n",
       "      <th>visitorId</th>\n",
       "      <th>date</th>\n",
       "      <th>revenue</th>\n",
       "      <th>group</th>\n",
       "    </tr>\n",
       "  </thead>\n",
       "  <tbody>\n",
       "    <tr>\n",
       "      <th>0</th>\n",
       "      <td>3667963787</td>\n",
       "      <td>3312258926</td>\n",
       "      <td>2019-08-15</td>\n",
       "      <td>1650</td>\n",
       "      <td>B</td>\n",
       "    </tr>\n",
       "    <tr>\n",
       "      <th>1</th>\n",
       "      <td>2804400009</td>\n",
       "      <td>3642806036</td>\n",
       "      <td>2019-08-15</td>\n",
       "      <td>730</td>\n",
       "      <td>B</td>\n",
       "    </tr>\n",
       "    <tr>\n",
       "      <th>2</th>\n",
       "      <td>2961555356</td>\n",
       "      <td>4069496402</td>\n",
       "      <td>2019-08-15</td>\n",
       "      <td>400</td>\n",
       "      <td>A</td>\n",
       "    </tr>\n",
       "    <tr>\n",
       "      <th>3</th>\n",
       "      <td>3797467345</td>\n",
       "      <td>1196621759</td>\n",
       "      <td>2019-08-15</td>\n",
       "      <td>9759</td>\n",
       "      <td>B</td>\n",
       "    </tr>\n",
       "    <tr>\n",
       "      <th>4</th>\n",
       "      <td>2282983706</td>\n",
       "      <td>2322279887</td>\n",
       "      <td>2019-08-15</td>\n",
       "      <td>2308</td>\n",
       "      <td>B</td>\n",
       "    </tr>\n",
       "  </tbody>\n",
       "</table>\n",
       "</div>"
      ],
      "text/plain": [
       "   transactionId   visitorId        date  revenue group\n",
       "0     3667963787  3312258926  2019-08-15     1650     B\n",
       "1     2804400009  3642806036  2019-08-15      730     B\n",
       "2     2961555356  4069496402  2019-08-15      400     A\n",
       "3     3797467345  1196621759  2019-08-15     9759     B\n",
       "4     2282983706  2322279887  2019-08-15     2308     B"
      ]
     },
     "execution_count": 5,
     "metadata": {},
     "output_type": "execute_result"
    }
   ],
   "source": [
    "orders.head(5)"
   ]
  },
  {
   "cell_type": "markdown",
   "metadata": {},
   "source": [
    "#### transactionId — идентификатор заказа;\n",
    "\n",
    "visitorId — идентификатор пользователя, совершившего заказ;\n",
    "\n",
    "date — дата, когда был совершён заказ;\n",
    "\n",
    "revenue — выручка заказа;\n",
    "\n",
    "group — группа A/B-теста, в которую попал заказ."
   ]
  },
  {
   "cell_type": "code",
   "execution_count": 6,
   "metadata": {},
   "outputs": [
    {
     "name": "stdout",
     "output_type": "stream",
     "text": [
      "<class 'pandas.core.frame.DataFrame'>\n",
      "RangeIndex: 1197 entries, 0 to 1196\n",
      "Data columns (total 5 columns):\n",
      " #   Column         Non-Null Count  Dtype \n",
      "---  ------         --------------  ----- \n",
      " 0   transactionId  1197 non-null   int64 \n",
      " 1   visitorId      1197 non-null   int64 \n",
      " 2   date           1197 non-null   object\n",
      " 3   revenue        1197 non-null   int64 \n",
      " 4   group          1197 non-null   object\n",
      "dtypes: int64(3), object(2)\n",
      "memory usage: 46.9+ KB\n"
     ]
    }
   ],
   "source": [
    "orders.info()"
   ]
  },
  {
   "cell_type": "code",
   "execution_count": 7,
   "metadata": {},
   "outputs": [],
   "source": [
    "# Поменяем тип столбца \"date\" на datetime\n",
    "orders['date'] = orders['date'].map(lambda x: dt.datetime.strptime(x, '%Y-%m-%d'))"
   ]
  },
  {
   "cell_type": "code",
   "execution_count": 8,
   "metadata": {},
   "outputs": [],
   "source": [
    "# Приведем названия столбцов к \"змеиному\" регистру\n",
    "orders = orders.rename(columns={'transactionId':'order_id', 'visitorId':'visitor_id'})"
   ]
  },
  {
   "cell_type": "code",
   "execution_count": 9,
   "metadata": {},
   "outputs": [
    {
     "data": {
      "text/plain": [
       "0"
      ]
     },
     "execution_count": 9,
     "metadata": {},
     "output_type": "execute_result"
    }
   ],
   "source": [
    "# Проверим таблицу на наличие дубликатов\n",
    "orders.duplicated().sum()"
   ]
  },
  {
   "cell_type": "code",
   "execution_count": 10,
   "metadata": {},
   "outputs": [
    {
     "name": "stdout",
     "output_type": "stream",
     "text": [
      "<class 'pandas.core.frame.DataFrame'>\n",
      "RangeIndex: 1197 entries, 0 to 1196\n",
      "Data columns (total 5 columns):\n",
      " #   Column      Non-Null Count  Dtype         \n",
      "---  ------      --------------  -----         \n",
      " 0   order_id    1197 non-null   int64         \n",
      " 1   visitor_id  1197 non-null   int64         \n",
      " 2   date        1197 non-null   datetime64[ns]\n",
      " 3   revenue     1197 non-null   int64         \n",
      " 4   group       1197 non-null   object        \n",
      "dtypes: datetime64[ns](1), int64(3), object(1)\n",
      "memory usage: 46.9+ KB\n"
     ]
    }
   ],
   "source": [
    "orders.info()"
   ]
  },
  {
   "cell_type": "code",
   "execution_count": 11,
   "metadata": {},
   "outputs": [
    {
     "data": {
      "text/plain": [
       "count                             1197\n",
       "mean     2019-08-15 13:06:46.015037696\n",
       "min                2019-08-01 00:00:00\n",
       "25%                2019-08-08 00:00:00\n",
       "50%                2019-08-15 00:00:00\n",
       "75%                2019-08-23 00:00:00\n",
       "max                2019-08-31 00:00:00\n",
       "Name: date, dtype: object"
      ]
     },
     "execution_count": 11,
     "metadata": {},
     "output_type": "execute_result"
    }
   ],
   "source": [
    "orders['date'].describe(datetime_is_numeric=True)"
   ]
  },
  {
   "cell_type": "code",
   "execution_count": 12,
   "metadata": {},
   "outputs": [
    {
     "data": {
      "text/plain": [
       "B    640\n",
       "A    557\n",
       "Name: group, dtype: int64"
      ]
     },
     "execution_count": 12,
     "metadata": {},
     "output_type": "execute_result"
    }
   ],
   "source": [
    "orders[\"group\"].value_counts()"
   ]
  },
  {
   "cell_type": "markdown",
   "metadata": {},
   "source": [
    "#### У нас имеется две группы, группа А - 557 человек, группа В - 640. Это значит, что сравнительные данные по группам могут незначительно исказится из-за неравномерного распределения пользователей по группам"
   ]
  },
  {
   "cell_type": "code",
   "execution_count": 13,
   "metadata": {},
   "outputs": [
    {
     "data": {
      "text/plain": [
       "108"
      ]
     },
     "execution_count": 13,
     "metadata": {},
     "output_type": "execute_result"
    }
   ],
   "source": [
    "orders[['visitor_id', 'group']].duplicated().sum()"
   ]
  },
  {
   "cell_type": "markdown",
   "metadata": {},
   "source": [
    "#### В исследовании присутствуют 108 клиентов, которые в разное время относились к разным группам теста"
   ]
  },
  {
   "cell_type": "markdown",
   "metadata": {},
   "source": [
    "#### Таблица готова к работе"
   ]
  },
  {
   "cell_type": "markdown",
   "metadata": {},
   "source": [
    "#### 1.3 Предобработка таблицы visitors"
   ]
  },
  {
   "cell_type": "code",
   "execution_count": 14,
   "metadata": {},
   "outputs": [
    {
     "data": {
      "text/html": [
       "<div>\n",
       "<style scoped>\n",
       "    .dataframe tbody tr th:only-of-type {\n",
       "        vertical-align: middle;\n",
       "    }\n",
       "\n",
       "    .dataframe tbody tr th {\n",
       "        vertical-align: top;\n",
       "    }\n",
       "\n",
       "    .dataframe thead th {\n",
       "        text-align: right;\n",
       "    }\n",
       "</style>\n",
       "<table border=\"1\" class=\"dataframe\">\n",
       "  <thead>\n",
       "    <tr style=\"text-align: right;\">\n",
       "      <th></th>\n",
       "      <th>date</th>\n",
       "      <th>group</th>\n",
       "      <th>visitors</th>\n",
       "    </tr>\n",
       "  </thead>\n",
       "  <tbody>\n",
       "    <tr>\n",
       "      <th>0</th>\n",
       "      <td>2019-08-01</td>\n",
       "      <td>A</td>\n",
       "      <td>719</td>\n",
       "    </tr>\n",
       "    <tr>\n",
       "      <th>1</th>\n",
       "      <td>2019-08-02</td>\n",
       "      <td>A</td>\n",
       "      <td>619</td>\n",
       "    </tr>\n",
       "    <tr>\n",
       "      <th>2</th>\n",
       "      <td>2019-08-03</td>\n",
       "      <td>A</td>\n",
       "      <td>507</td>\n",
       "    </tr>\n",
       "    <tr>\n",
       "      <th>3</th>\n",
       "      <td>2019-08-04</td>\n",
       "      <td>A</td>\n",
       "      <td>717</td>\n",
       "    </tr>\n",
       "    <tr>\n",
       "      <th>4</th>\n",
       "      <td>2019-08-05</td>\n",
       "      <td>A</td>\n",
       "      <td>756</td>\n",
       "    </tr>\n",
       "  </tbody>\n",
       "</table>\n",
       "</div>"
      ],
      "text/plain": [
       "         date group  visitors\n",
       "0  2019-08-01     A       719\n",
       "1  2019-08-02     A       619\n",
       "2  2019-08-03     A       507\n",
       "3  2019-08-04     A       717\n",
       "4  2019-08-05     A       756"
      ]
     },
     "execution_count": 14,
     "metadata": {},
     "output_type": "execute_result"
    }
   ],
   "source": [
    "visitors.head(5)"
   ]
  },
  {
   "cell_type": "markdown",
   "metadata": {},
   "source": [
    "#### date — дата;\n",
    "\n",
    "group — группа A/B-теста;\n",
    "\n",
    "visitors — количество пользователей в указанную дату в указанной группе A/B-теста"
   ]
  },
  {
   "cell_type": "code",
   "execution_count": 15,
   "metadata": {},
   "outputs": [
    {
     "name": "stdout",
     "output_type": "stream",
     "text": [
      "<class 'pandas.core.frame.DataFrame'>\n",
      "RangeIndex: 62 entries, 0 to 61\n",
      "Data columns (total 3 columns):\n",
      " #   Column    Non-Null Count  Dtype \n",
      "---  ------    --------------  ----- \n",
      " 0   date      62 non-null     object\n",
      " 1   group     62 non-null     object\n",
      " 2   visitors  62 non-null     int64 \n",
      "dtypes: int64(1), object(2)\n",
      "memory usage: 1.6+ KB\n"
     ]
    }
   ],
   "source": [
    "visitors.info()"
   ]
  },
  {
   "cell_type": "code",
   "execution_count": 16,
   "metadata": {},
   "outputs": [],
   "source": [
    "# Поменяем тип столбца \"date\" на datetime\n",
    "visitors['date'] = visitors['date'].map(lambda x: dt.datetime.strptime(x, '%Y-%m-%d'))"
   ]
  },
  {
   "cell_type": "code",
   "execution_count": 17,
   "metadata": {},
   "outputs": [
    {
     "name": "stdout",
     "output_type": "stream",
     "text": [
      "<class 'pandas.core.frame.DataFrame'>\n",
      "RangeIndex: 62 entries, 0 to 61\n",
      "Data columns (total 3 columns):\n",
      " #   Column    Non-Null Count  Dtype         \n",
      "---  ------    --------------  -----         \n",
      " 0   date      62 non-null     datetime64[ns]\n",
      " 1   group     62 non-null     object        \n",
      " 2   visitors  62 non-null     int64         \n",
      "dtypes: datetime64[ns](1), int64(1), object(1)\n",
      "memory usage: 1.6+ KB\n"
     ]
    }
   ],
   "source": [
    "visitors.info()"
   ]
  },
  {
   "cell_type": "code",
   "execution_count": 18,
   "metadata": {},
   "outputs": [
    {
     "data": {
      "text/plain": [
       "0"
      ]
     },
     "execution_count": 18,
     "metadata": {},
     "output_type": "execute_result"
    }
   ],
   "source": [
    "# Проверим таблицу на наличие дубликатов\n",
    "visitors.duplicated().sum()"
   ]
  },
  {
   "cell_type": "code",
   "execution_count": 19,
   "metadata": {},
   "outputs": [
    {
     "data": {
      "text/plain": [
       "count                     62\n",
       "mean     2019-08-16 00:00:00\n",
       "min      2019-08-01 00:00:00\n",
       "25%      2019-08-08 06:00:00\n",
       "50%      2019-08-16 00:00:00\n",
       "75%      2019-08-23 18:00:00\n",
       "max      2019-08-31 00:00:00\n",
       "Name: date, dtype: object"
      ]
     },
     "execution_count": 19,
     "metadata": {},
     "output_type": "execute_result"
    }
   ],
   "source": [
    "visitors[\"date\"].describe(datetime_is_numeric=True)"
   ]
  },
  {
   "cell_type": "code",
   "execution_count": 20,
   "metadata": {},
   "outputs": [
    {
     "data": {
      "text/plain": [
       "B    31\n",
       "A    31\n",
       "Name: group, dtype: int64"
      ]
     },
     "execution_count": 20,
     "metadata": {},
     "output_type": "execute_result"
    }
   ],
   "source": [
    "visitors[\"group\"].value_counts()"
   ]
  },
  {
   "cell_type": "markdown",
   "metadata": {},
   "source": [
    "#### Число групп совпадает с количеством дней в августе"
   ]
  },
  {
   "cell_type": "code",
   "execution_count": 21,
   "metadata": {},
   "outputs": [
    {
     "data": {
      "text/plain": [
       "date        group\n",
       "2019-08-01  A        719\n",
       "            B        713\n",
       "2019-08-02  A        619\n",
       "            B        581\n",
       "2019-08-03  A        507\n",
       "                    ... \n",
       "2019-08-29  B        531\n",
       "2019-08-30  A        490\n",
       "            B        490\n",
       "2019-08-31  A        699\n",
       "            B        718\n",
       "Name: visitors, Length: 62, dtype: int64"
      ]
     },
     "execution_count": 21,
     "metadata": {},
     "output_type": "execute_result"
    }
   ],
   "source": [
    "visitors.groupby(['date','group'])['visitors'].sum()"
   ]
  },
  {
   "cell_type": "code",
   "execution_count": 22,
   "metadata": {},
   "outputs": [],
   "source": [
    "visitorsA = visitors[visitors['group']=='A'][['date','group', 'visitors']]\n",
    "visitorsB = visitors[visitors['group']=='B'][['date','group', 'visitors']]"
   ]
  },
  {
   "cell_type": "code",
   "execution_count": 23,
   "metadata": {},
   "outputs": [
    {
     "data": {
      "image/png": "[encoded data removed]",
      "text/plain": [
       "<Figure size 1080x360 with 1 Axes>"
      ]
     },
     "metadata": {
      "needs_background": "light"
     },
     "output_type": "display_data"
    }
   ],
   "source": [
    "plt.figure(figsize=(15,5))\n",
    "# Строим график выручки группы А\n",
    "plt.plot(visitorsA['date'], visitorsA['visitors'], label='A')\n",
    "# Строим график выручки группы B\n",
    "plt.plot(visitorsB['date'], visitorsB['visitors'], label='B')\n",
    "plt.title('Динамика посетителей по дням по группам')\n",
    "plt.xlabel('Дата')\n",
    "plt.ylabel('Количество')\n",
    "plt.legend(); "
   ]
  },
  {
   "cell_type": "markdown",
   "metadata": {},
   "source": [
    "#### Видим динамику посетителей по дням по группам - в основном количество клиентов группы В превышает количество клиентов группы А"
   ]
  },
  {
   "cell_type": "markdown",
   "metadata": {},
   "source": [
    "#### Таблица готова к работе"
   ]
  },
  {
   "cell_type": "markdown",
   "metadata": {},
   "source": [
    "### Вывод: мы подготовили таблицы к работе. В таблице с гипотезами нам ничего не пришлось менять. В таблицах с заказами и клиентами изменили тип столбца с датами, привели 2 столбца таблицы с заказами к \"змеиному\" регистру. Период тестирования гипотез в таблицах совпадает - с 01.08.19 по 31.08.19"
   ]
  },
  {
   "cell_type": "markdown",
   "metadata": {},
   "source": [
    "### Шаг 2. Приоритизация гипотез.\n",
    "\n",
    "Задача\n",
    "\n",
    "Примените фреймворк ICE для приоритизации гипотез. Отсортируйте их по убыванию приоритета.\n",
    "\n",
    "Примените фреймворк RICE для приоритизации гипотез. Отсортируйте их по убыванию приоритета.\n",
    "\n",
    "Укажите, как изменилась приоритизация гипотез при применении RICE вместо ICE. Объясните, почему так произошло."
   ]
  },
  {
   "cell_type": "code",
   "execution_count": 24,
   "metadata": {},
   "outputs": [
    {
     "data": {
      "text/html": [
       "<div>\n",
       "<style scoped>\n",
       "    .dataframe tbody tr th:only-of-type {\n",
       "        vertical-align: middle;\n",
       "    }\n",
       "\n",
       "    .dataframe tbody tr th {\n",
       "        vertical-align: top;\n",
       "    }\n",
       "\n",
       "    .dataframe thead th {\n",
       "        text-align: right;\n",
       "    }\n",
       "</style>\n",
       "<table border=\"1\" class=\"dataframe\">\n",
       "  <thead>\n",
       "    <tr style=\"text-align: right;\">\n",
       "      <th></th>\n",
       "      <th>Hypothesis</th>\n",
       "      <th>Reach</th>\n",
       "      <th>Impact</th>\n",
       "      <th>Confidence</th>\n",
       "      <th>Efforts</th>\n",
       "    </tr>\n",
       "  </thead>\n",
       "  <tbody>\n",
       "    <tr>\n",
       "      <th>0</th>\n",
       "      <td>Добавить два новых канала привлечения трафика, что позволит привлекать на 30% больше пользователей</td>\n",
       "      <td>3</td>\n",
       "      <td>10</td>\n",
       "      <td>8</td>\n",
       "      <td>6</td>\n",
       "    </tr>\n",
       "    <tr>\n",
       "      <th>1</th>\n",
       "      <td>Запустить собственную службу доставки, что сократит срок доставки заказов</td>\n",
       "      <td>2</td>\n",
       "      <td>5</td>\n",
       "      <td>4</td>\n",
       "      <td>10</td>\n",
       "    </tr>\n",
       "    <tr>\n",
       "      <th>2</th>\n",
       "      <td>Добавить блоки рекомендаций товаров на сайт интернет магазина, чтобы повысить конверсию и средний чек заказа</td>\n",
       "      <td>8</td>\n",
       "      <td>3</td>\n",
       "      <td>7</td>\n",
       "      <td>3</td>\n",
       "    </tr>\n",
       "    <tr>\n",
       "      <th>3</th>\n",
       "      <td>Изменить структура категорий, что увеличит конверсию, т.к. пользователи быстрее найдут нужный товар</td>\n",
       "      <td>8</td>\n",
       "      <td>3</td>\n",
       "      <td>3</td>\n",
       "      <td>8</td>\n",
       "    </tr>\n",
       "    <tr>\n",
       "      <th>4</th>\n",
       "      <td>Изменить цвет фона главной страницы, чтобы увеличить вовлеченность пользователей</td>\n",
       "      <td>3</td>\n",
       "      <td>1</td>\n",
       "      <td>1</td>\n",
       "      <td>1</td>\n",
       "    </tr>\n",
       "    <tr>\n",
       "      <th>5</th>\n",
       "      <td>Добавить страницу отзывов клиентов о магазине, что позволит увеличить количество заказов</td>\n",
       "      <td>3</td>\n",
       "      <td>2</td>\n",
       "      <td>2</td>\n",
       "      <td>3</td>\n",
       "    </tr>\n",
       "    <tr>\n",
       "      <th>6</th>\n",
       "      <td>Показать на главной странице баннеры с актуальными акциями и распродажами, чтобы увеличить конверсию</td>\n",
       "      <td>5</td>\n",
       "      <td>3</td>\n",
       "      <td>8</td>\n",
       "      <td>3</td>\n",
       "    </tr>\n",
       "    <tr>\n",
       "      <th>7</th>\n",
       "      <td>Добавить форму подписки на все основные страницы, чтобы собрать базу клиентов для email-рассылок</td>\n",
       "      <td>10</td>\n",
       "      <td>7</td>\n",
       "      <td>8</td>\n",
       "      <td>5</td>\n",
       "    </tr>\n",
       "    <tr>\n",
       "      <th>8</th>\n",
       "      <td>Запустить акцию, дающую скидку на товар в день рождения</td>\n",
       "      <td>1</td>\n",
       "      <td>9</td>\n",
       "      <td>9</td>\n",
       "      <td>5</td>\n",
       "    </tr>\n",
       "  </tbody>\n",
       "</table>\n",
       "</div>"
      ],
      "text/plain": [
       "                                                                                                     Hypothesis  \\\n",
       "0            Добавить два новых канала привлечения трафика, что позволит привлекать на 30% больше пользователей   \n",
       "1                                     Запустить собственную службу доставки, что сократит срок доставки заказов   \n",
       "2  Добавить блоки рекомендаций товаров на сайт интернет магазина, чтобы повысить конверсию и средний чек заказа   \n",
       "3           Изменить структура категорий, что увеличит конверсию, т.к. пользователи быстрее найдут нужный товар   \n",
       "4                              Изменить цвет фона главной страницы, чтобы увеличить вовлеченность пользователей   \n",
       "5                      Добавить страницу отзывов клиентов о магазине, что позволит увеличить количество заказов   \n",
       "6          Показать на главной странице баннеры с актуальными акциями и распродажами, чтобы увеличить конверсию   \n",
       "7              Добавить форму подписки на все основные страницы, чтобы собрать базу клиентов для email-рассылок   \n",
       "8                                                       Запустить акцию, дающую скидку на товар в день рождения   \n",
       "\n",
       "   Reach  Impact  Confidence  Efforts  \n",
       "0      3      10           8        6  \n",
       "1      2       5           4       10  \n",
       "2      8       3           7        3  \n",
       "3      8       3           3        8  \n",
       "4      3       1           1        1  \n",
       "5      3       2           2        3  \n",
       "6      5       3           8        3  \n",
       "7     10       7           8        5  \n",
       "8      1       9           9        5  "
      ]
     },
     "metadata": {},
     "output_type": "display_data"
    }
   ],
   "source": [
    "display(hypothesis)"
   ]
  },
  {
   "cell_type": "code",
   "execution_count": 25,
   "metadata": {},
   "outputs": [
    {
     "data": {
      "text/html": [
       "<div>\n",
       "<style scoped>\n",
       "    .dataframe tbody tr th:only-of-type {\n",
       "        vertical-align: middle;\n",
       "    }\n",
       "\n",
       "    .dataframe tbody tr th {\n",
       "        vertical-align: top;\n",
       "    }\n",
       "\n",
       "    .dataframe thead th {\n",
       "        text-align: right;\n",
       "    }\n",
       "</style>\n",
       "<table border=\"1\" class=\"dataframe\">\n",
       "  <thead>\n",
       "    <tr style=\"text-align: right;\">\n",
       "      <th></th>\n",
       "      <th>Hypothesis</th>\n",
       "      <th>Reach</th>\n",
       "      <th>Impact</th>\n",
       "      <th>Confidence</th>\n",
       "      <th>Efforts</th>\n",
       "      <th>ICE</th>\n",
       "    </tr>\n",
       "  </thead>\n",
       "  <tbody>\n",
       "    <tr>\n",
       "      <th>8</th>\n",
       "      <td>Запустить акцию, дающую скидку на товар в день рождения</td>\n",
       "      <td>1</td>\n",
       "      <td>9</td>\n",
       "      <td>9</td>\n",
       "      <td>5</td>\n",
       "      <td>16.2</td>\n",
       "    </tr>\n",
       "    <tr>\n",
       "      <th>0</th>\n",
       "      <td>Добавить два новых канала привлечения трафика, что позволит привлекать на 30% больше пользователей</td>\n",
       "      <td>3</td>\n",
       "      <td>10</td>\n",
       "      <td>8</td>\n",
       "      <td>6</td>\n",
       "      <td>13.3</td>\n",
       "    </tr>\n",
       "    <tr>\n",
       "      <th>7</th>\n",
       "      <td>Добавить форму подписки на все основные страницы, чтобы собрать базу клиентов для email-рассылок</td>\n",
       "      <td>10</td>\n",
       "      <td>7</td>\n",
       "      <td>8</td>\n",
       "      <td>5</td>\n",
       "      <td>11.2</td>\n",
       "    </tr>\n",
       "    <tr>\n",
       "      <th>6</th>\n",
       "      <td>Показать на главной странице баннеры с актуальными акциями и распродажами, чтобы увеличить конверсию</td>\n",
       "      <td>5</td>\n",
       "      <td>3</td>\n",
       "      <td>8</td>\n",
       "      <td>3</td>\n",
       "      <td>8.0</td>\n",
       "    </tr>\n",
       "    <tr>\n",
       "      <th>2</th>\n",
       "      <td>Добавить блоки рекомендаций товаров на сайт интернет магазина, чтобы повысить конверсию и средний чек заказа</td>\n",
       "      <td>8</td>\n",
       "      <td>3</td>\n",
       "      <td>7</td>\n",
       "      <td>3</td>\n",
       "      <td>7.0</td>\n",
       "    </tr>\n",
       "    <tr>\n",
       "      <th>1</th>\n",
       "      <td>Запустить собственную службу доставки, что сократит срок доставки заказов</td>\n",
       "      <td>2</td>\n",
       "      <td>5</td>\n",
       "      <td>4</td>\n",
       "      <td>10</td>\n",
       "      <td>2.0</td>\n",
       "    </tr>\n",
       "    <tr>\n",
       "      <th>5</th>\n",
       "      <td>Добавить страницу отзывов клиентов о магазине, что позволит увеличить количество заказов</td>\n",
       "      <td>3</td>\n",
       "      <td>2</td>\n",
       "      <td>2</td>\n",
       "      <td>3</td>\n",
       "      <td>1.3</td>\n",
       "    </tr>\n",
       "    <tr>\n",
       "      <th>3</th>\n",
       "      <td>Изменить структура категорий, что увеличит конверсию, т.к. пользователи быстрее найдут нужный товар</td>\n",
       "      <td>8</td>\n",
       "      <td>3</td>\n",
       "      <td>3</td>\n",
       "      <td>8</td>\n",
       "      <td>1.1</td>\n",
       "    </tr>\n",
       "    <tr>\n",
       "      <th>4</th>\n",
       "      <td>Изменить цвет фона главной страницы, чтобы увеличить вовлеченность пользователей</td>\n",
       "      <td>3</td>\n",
       "      <td>1</td>\n",
       "      <td>1</td>\n",
       "      <td>1</td>\n",
       "      <td>1.0</td>\n",
       "    </tr>\n",
       "  </tbody>\n",
       "</table>\n",
       "</div>"
      ],
      "text/plain": [
       "                                                                                                     Hypothesis  \\\n",
       "8                                                       Запустить акцию, дающую скидку на товар в день рождения   \n",
       "0            Добавить два новых канала привлечения трафика, что позволит привлекать на 30% больше пользователей   \n",
       "7              Добавить форму подписки на все основные страницы, чтобы собрать базу клиентов для email-рассылок   \n",
       "6          Показать на главной странице баннеры с актуальными акциями и распродажами, чтобы увеличить конверсию   \n",
       "2  Добавить блоки рекомендаций товаров на сайт интернет магазина, чтобы повысить конверсию и средний чек заказа   \n",
       "1                                     Запустить собственную службу доставки, что сократит срок доставки заказов   \n",
       "5                      Добавить страницу отзывов клиентов о магазине, что позволит увеличить количество заказов   \n",
       "3           Изменить структура категорий, что увеличит конверсию, т.к. пользователи быстрее найдут нужный товар   \n",
       "4                              Изменить цвет фона главной страницы, чтобы увеличить вовлеченность пользователей   \n",
       "\n",
       "   Reach  Impact  Confidence  Efforts   ICE  \n",
       "8      1       9           9        5  16.2  \n",
       "0      3      10           8        6  13.3  \n",
       "7     10       7           8        5  11.2  \n",
       "6      5       3           8        3   8.0  \n",
       "2      8       3           7        3   7.0  \n",
       "1      2       5           4       10   2.0  \n",
       "5      3       2           2        3   1.3  \n",
       "3      8       3           3        8   1.1  \n",
       "4      3       1           1        1   1.0  "
      ]
     },
     "execution_count": 25,
     "metadata": {},
     "output_type": "execute_result"
    }
   ],
   "source": [
    "hypothesis['ICE'] = round((hypothesis['Impact']*hypothesis['Confidence'])/hypothesis['Efforts'],1)\n",
    "hypothesis.sort_values(by='ICE', ascending=False)"
   ]
  },
  {
   "cell_type": "code",
   "execution_count": 26,
   "metadata": {},
   "outputs": [
    {
     "data": {
      "text/html": [
       "<div>\n",
       "<style scoped>\n",
       "    .dataframe tbody tr th:only-of-type {\n",
       "        vertical-align: middle;\n",
       "    }\n",
       "\n",
       "    .dataframe tbody tr th {\n",
       "        vertical-align: top;\n",
       "    }\n",
       "\n",
       "    .dataframe thead th {\n",
       "        text-align: right;\n",
       "    }\n",
       "</style>\n",
       "<table border=\"1\" class=\"dataframe\">\n",
       "  <thead>\n",
       "    <tr style=\"text-align: right;\">\n",
       "      <th></th>\n",
       "      <th>Hypothesis</th>\n",
       "      <th>Reach</th>\n",
       "      <th>Impact</th>\n",
       "      <th>Confidence</th>\n",
       "      <th>Efforts</th>\n",
       "      <th>ICE</th>\n",
       "      <th>RICE</th>\n",
       "    </tr>\n",
       "  </thead>\n",
       "  <tbody>\n",
       "    <tr>\n",
       "      <th>7</th>\n",
       "      <td>Добавить форму подписки на все основные страницы, чтобы собрать базу клиентов для email-рассылок</td>\n",
       "      <td>10</td>\n",
       "      <td>7</td>\n",
       "      <td>8</td>\n",
       "      <td>5</td>\n",
       "      <td>11.2</td>\n",
       "      <td>112.0</td>\n",
       "    </tr>\n",
       "    <tr>\n",
       "      <th>2</th>\n",
       "      <td>Добавить блоки рекомендаций товаров на сайт интернет магазина, чтобы повысить конверсию и средний чек заказа</td>\n",
       "      <td>8</td>\n",
       "      <td>3</td>\n",
       "      <td>7</td>\n",
       "      <td>3</td>\n",
       "      <td>7.0</td>\n",
       "      <td>56.0</td>\n",
       "    </tr>\n",
       "    <tr>\n",
       "      <th>0</th>\n",
       "      <td>Добавить два новых канала привлечения трафика, что позволит привлекать на 30% больше пользователей</td>\n",
       "      <td>3</td>\n",
       "      <td>10</td>\n",
       "      <td>8</td>\n",
       "      <td>6</td>\n",
       "      <td>13.3</td>\n",
       "      <td>40.0</td>\n",
       "    </tr>\n",
       "    <tr>\n",
       "      <th>6</th>\n",
       "      <td>Показать на главной странице баннеры с актуальными акциями и распродажами, чтобы увеличить конверсию</td>\n",
       "      <td>5</td>\n",
       "      <td>3</td>\n",
       "      <td>8</td>\n",
       "      <td>3</td>\n",
       "      <td>8.0</td>\n",
       "      <td>40.0</td>\n",
       "    </tr>\n",
       "    <tr>\n",
       "      <th>8</th>\n",
       "      <td>Запустить акцию, дающую скидку на товар в день рождения</td>\n",
       "      <td>1</td>\n",
       "      <td>9</td>\n",
       "      <td>9</td>\n",
       "      <td>5</td>\n",
       "      <td>16.2</td>\n",
       "      <td>16.2</td>\n",
       "    </tr>\n",
       "    <tr>\n",
       "      <th>3</th>\n",
       "      <td>Изменить структура категорий, что увеличит конверсию, т.к. пользователи быстрее найдут нужный товар</td>\n",
       "      <td>8</td>\n",
       "      <td>3</td>\n",
       "      <td>3</td>\n",
       "      <td>8</td>\n",
       "      <td>1.1</td>\n",
       "      <td>9.0</td>\n",
       "    </tr>\n",
       "    <tr>\n",
       "      <th>1</th>\n",
       "      <td>Запустить собственную службу доставки, что сократит срок доставки заказов</td>\n",
       "      <td>2</td>\n",
       "      <td>5</td>\n",
       "      <td>4</td>\n",
       "      <td>10</td>\n",
       "      <td>2.0</td>\n",
       "      <td>4.0</td>\n",
       "    </tr>\n",
       "    <tr>\n",
       "      <th>5</th>\n",
       "      <td>Добавить страницу отзывов клиентов о магазине, что позволит увеличить количество заказов</td>\n",
       "      <td>3</td>\n",
       "      <td>2</td>\n",
       "      <td>2</td>\n",
       "      <td>3</td>\n",
       "      <td>1.3</td>\n",
       "      <td>4.0</td>\n",
       "    </tr>\n",
       "    <tr>\n",
       "      <th>4</th>\n",
       "      <td>Изменить цвет фона главной страницы, чтобы увеличить вовлеченность пользователей</td>\n",
       "      <td>3</td>\n",
       "      <td>1</td>\n",
       "      <td>1</td>\n",
       "      <td>1</td>\n",
       "      <td>1.0</td>\n",
       "      <td>3.0</td>\n",
       "    </tr>\n",
       "  </tbody>\n",
       "</table>\n",
       "</div>"
      ],
      "text/plain": [
       "                                                                                                     Hypothesis  \\\n",
       "7              Добавить форму подписки на все основные страницы, чтобы собрать базу клиентов для email-рассылок   \n",
       "2  Добавить блоки рекомендаций товаров на сайт интернет магазина, чтобы повысить конверсию и средний чек заказа   \n",
       "0            Добавить два новых канала привлечения трафика, что позволит привлекать на 30% больше пользователей   \n",
       "6          Показать на главной странице баннеры с актуальными акциями и распродажами, чтобы увеличить конверсию   \n",
       "8                                                       Запустить акцию, дающую скидку на товар в день рождения   \n",
       "3           Изменить структура категорий, что увеличит конверсию, т.к. пользователи быстрее найдут нужный товар   \n",
       "1                                     Запустить собственную службу доставки, что сократит срок доставки заказов   \n",
       "5                      Добавить страницу отзывов клиентов о магазине, что позволит увеличить количество заказов   \n",
       "4                              Изменить цвет фона главной страницы, чтобы увеличить вовлеченность пользователей   \n",
       "\n",
       "   Reach  Impact  Confidence  Efforts   ICE   RICE  \n",
       "7     10       7           8        5  11.2  112.0  \n",
       "2      8       3           7        3   7.0   56.0  \n",
       "0      3      10           8        6  13.3   40.0  \n",
       "6      5       3           8        3   8.0   40.0  \n",
       "8      1       9           9        5  16.2   16.2  \n",
       "3      8       3           3        8   1.1    9.0  \n",
       "1      2       5           4       10   2.0    4.0  \n",
       "5      3       2           2        3   1.3    4.0  \n",
       "4      3       1           1        1   1.0    3.0  "
      ]
     },
     "execution_count": 26,
     "metadata": {},
     "output_type": "execute_result"
    }
   ],
   "source": [
    "hypothesis['RICE'] = round((hypothesis['Reach']*hypothesis['Impact']*hypothesis['Confidence'])/hypothesis['Efforts'],1)\n",
    "hypothesis.sort_values(by='RICE', ascending=False)"
   ]
  },
  {
   "cell_type": "markdown",
   "metadata": {},
   "source": [
    "### Вывод\n",
    "#### Использование фреймворка ICE выявило  3 наиболее перспективных гипотезы, у которых индексы 8 (16,2 балла), 0 (13,3) и 7 (11,2).  По фреймворку RICE 3 наиболее перспективных гипотезы - с индексами 7 (112 балла), 2 (56) и 0 (40). Видим, что из 3-х перспективных гипотезы, 2 совпадают в обоих фреймворках - \"Добавить форму подписки на все основные страницы\" (7 индекс) и \"Добавить два новых канала привлечения трафика\" (0 индекс).\n",
    "\n",
    "#### При использовании фреймворка RICE приоретизация изменилась за счет введения в расчет дополнительного параметра по охвату гипотезой клиентов.  Т.е., при прочих равных условиях приоритетней стали гипотезы, которые затронут большее количество потенциальных клиентов."
   ]
  },
  {
   "cell_type": "markdown",
   "metadata": {},
   "source": [
    "### Шаг 3. Анализ A/B-теста"
   ]
  },
  {
   "cell_type": "markdown",
   "metadata": {},
   "source": [
    "#### 3.1. Построим график кумулятивной выручки по группам"
   ]
  },
  {
   "cell_type": "code",
   "execution_count": 27,
   "metadata": {},
   "outputs": [
    {
     "data": {
      "text/html": [
       "<div>\n",
       "<style scoped>\n",
       "    .dataframe tbody tr th:only-of-type {\n",
       "        vertical-align: middle;\n",
       "    }\n",
       "\n",
       "    .dataframe tbody tr th {\n",
       "        vertical-align: top;\n",
       "    }\n",
       "\n",
       "    .dataframe thead th {\n",
       "        text-align: right;\n",
       "    }\n",
       "</style>\n",
       "<table border=\"1\" class=\"dataframe\">\n",
       "  <thead>\n",
       "    <tr style=\"text-align: right;\">\n",
       "      <th></th>\n",
       "      <th>date</th>\n",
       "      <th>group</th>\n",
       "      <th>orders</th>\n",
       "      <th>buyers</th>\n",
       "      <th>revenue</th>\n",
       "      <th>visitors</th>\n",
       "    </tr>\n",
       "  </thead>\n",
       "  <tbody>\n",
       "    <tr>\n",
       "      <th>0</th>\n",
       "      <td>2019-08-01</td>\n",
       "      <td>A</td>\n",
       "      <td>24</td>\n",
       "      <td>20</td>\n",
       "      <td>148579</td>\n",
       "      <td>719</td>\n",
       "    </tr>\n",
       "    <tr>\n",
       "      <th>1</th>\n",
       "      <td>2019-08-01</td>\n",
       "      <td>B</td>\n",
       "      <td>21</td>\n",
       "      <td>20</td>\n",
       "      <td>101217</td>\n",
       "      <td>713</td>\n",
       "    </tr>\n",
       "    <tr>\n",
       "      <th>2</th>\n",
       "      <td>2019-08-02</td>\n",
       "      <td>A</td>\n",
       "      <td>44</td>\n",
       "      <td>38</td>\n",
       "      <td>242401</td>\n",
       "      <td>1338</td>\n",
       "    </tr>\n",
       "    <tr>\n",
       "      <th>3</th>\n",
       "      <td>2019-08-02</td>\n",
       "      <td>B</td>\n",
       "      <td>45</td>\n",
       "      <td>43</td>\n",
       "      <td>266748</td>\n",
       "      <td>1294</td>\n",
       "    </tr>\n",
       "    <tr>\n",
       "      <th>4</th>\n",
       "      <td>2019-08-03</td>\n",
       "      <td>A</td>\n",
       "      <td>68</td>\n",
       "      <td>62</td>\n",
       "      <td>354874</td>\n",
       "      <td>1845</td>\n",
       "    </tr>\n",
       "  </tbody>\n",
       "</table>\n",
       "</div>"
      ],
      "text/plain": [
       "        date group  orders  buyers  revenue  visitors\n",
       "0 2019-08-01     A      24      20   148579       719\n",
       "1 2019-08-01     B      21      20   101217       713\n",
       "2 2019-08-02     A      44      38   242401      1338\n",
       "3 2019-08-02     B      45      43   266748      1294\n",
       "4 2019-08-03     A      68      62   354874      1845"
      ]
     },
     "execution_count": 27,
     "metadata": {},
     "output_type": "execute_result"
    }
   ],
   "source": [
    "# создадим таблицу cumulativeData куммулятивных данных по обеим таблицам\n",
    "datesGroups = orders[['date','group']].drop_duplicates()\n",
    "\n",
    "ordersAggregated = datesGroups.apply(lambda x: orders[np.logical_and(orders['date'] <= x['date'], orders['group'] == x['group'])]. \\\n",
    "                                     agg({'date' : 'max', \n",
    "                                          'group' : 'max', \n",
    "                                          'order_id' : pd.Series.nunique, \n",
    "                                          'visitor_id' : pd.Series.nunique, \n",
    "                                          'revenue' : 'sum'}), axis=1).sort_values(by=['date','group'])\n",
    "\n",
    "visitorsAggregated = datesGroups.apply(lambda x: visitors[np.logical_and(visitors['date'] <= x['date'], visitors['group'] == x['group'])]. \\\n",
    "                                       agg({'date' : 'max', \n",
    "                                            'group' : 'max', \n",
    "                                            'visitors' : 'sum'}), axis=1).sort_values(by=['date','group'])\n",
    "\n",
    "cumulativeData = ordersAggregated.merge(visitorsAggregated, left_on=['date', 'group'], right_on=['date', 'group'])\n",
    "cumulativeData.columns = ['date', 'group', 'orders', 'buyers', 'revenue', 'visitors']\n",
    "\n",
    "cumulativeData.head(5)"
   ]
  },
  {
   "cell_type": "code",
   "execution_count": 28,
   "metadata": {},
   "outputs": [
    {
     "data": {
      "text/plain": [
       "count                      62\n",
       "unique                     31\n",
       "top       2019-08-27 00:00:00\n",
       "freq                        2\n",
       "first     2019-08-01 00:00:00\n",
       "last      2019-08-31 00:00:00\n",
       "Name: date, dtype: object"
      ]
     },
     "execution_count": 28,
     "metadata": {},
     "output_type": "execute_result"
    }
   ],
   "source": [
    "cumulativeData[\"date\"].describe()"
   ]
  },
  {
   "cell_type": "code",
   "execution_count": 29,
   "metadata": {},
   "outputs": [
    {
     "data": {
      "image/png": "[encoded data removed]",
      "text/plain": [
       "<Figure size 1080x360 with 1 Axes>"
      ]
     },
     "metadata": {
      "needs_background": "light"
     },
     "output_type": "display_data"
    }
   ],
   "source": [
    "# построим графики кумулятивной выручки по дням по группам\n",
    "cumulativeRevenueA = cumulativeData[cumulativeData['group']=='A'][['date','revenue', 'orders']]\n",
    "cumulativeRevenueB = cumulativeData[cumulativeData['group']=='B'][['date','revenue', 'orders']]\n",
    "\n",
    "plt.figure(figsize=(15,5))\n",
    "# Строим график выручки группы А\n",
    "plt.plot(cumulativeRevenueA['date'], cumulativeRevenueA['revenue'], label='A')\n",
    "\n",
    "# Строим график выручки группы B\n",
    "plt.plot(cumulativeRevenueB['date'], cumulativeRevenueB['revenue'], label='B')\n",
    "plt.title('Кумулятивная выручка')\n",
    "plt.xlabel('Дата')\n",
    "plt.ylabel('Кумулятивная выручка')\n",
    "plt.legend(); "
   ]
  },
  {
   "cell_type": "markdown",
   "metadata": {},
   "source": [
    "#### Как видно из приведенного графика в начале месяца до 5 числа включительно выручка в группах не отличалась. С 5 по примерно 13 августа выручка группы В начала расти более высокими темпами. 13 числа выручки по группам сравнялись, а затем выручка группы В стабильно росла лучше, чем в группе А. \n",
    "\n",
    "Обращает на себя внимание дата 19.08 - резкий рост выручки может свидетельствовать об аномалиях, которые могут искажать результаты A/B-теста."
   ]
  },
  {
   "cell_type": "code",
   "execution_count": 30,
   "metadata": {},
   "outputs": [
    {
     "name": "stdout",
     "output_type": "stream",
     "text": [
      "Медианное значение одного заказа 19 августа = 2630.0\n"
     ]
    },
    {
     "data": {
      "text/html": [
       "<div>\n",
       "<style scoped>\n",
       "    .dataframe tbody tr th:only-of-type {\n",
       "        vertical-align: middle;\n",
       "    }\n",
       "\n",
       "    .dataframe tbody tr th {\n",
       "        vertical-align: top;\n",
       "    }\n",
       "\n",
       "    .dataframe thead th {\n",
       "        text-align: right;\n",
       "    }\n",
       "</style>\n",
       "<table border=\"1\" class=\"dataframe\">\n",
       "  <thead>\n",
       "    <tr style=\"text-align: right;\">\n",
       "      <th></th>\n",
       "      <th>order_id</th>\n",
       "      <th>visitor_id</th>\n",
       "      <th>date</th>\n",
       "      <th>revenue</th>\n",
       "      <th>group</th>\n",
       "    </tr>\n",
       "  </thead>\n",
       "  <tbody>\n",
       "    <tr>\n",
       "      <th>425</th>\n",
       "      <td>590470918</td>\n",
       "      <td>1920142716</td>\n",
       "      <td>2019-08-19</td>\n",
       "      <td>1294500</td>\n",
       "      <td>B</td>\n",
       "    </tr>\n",
       "    <tr>\n",
       "      <th>530</th>\n",
       "      <td>3970235543</td>\n",
       "      <td>2912540959</td>\n",
       "      <td>2019-08-19</td>\n",
       "      <td>43990</td>\n",
       "      <td>A</td>\n",
       "    </tr>\n",
       "    <tr>\n",
       "      <th>527</th>\n",
       "      <td>1570513684</td>\n",
       "      <td>2837914161</td>\n",
       "      <td>2019-08-19</td>\n",
       "      <td>33405</td>\n",
       "      <td>B</td>\n",
       "    </tr>\n",
       "    <tr>\n",
       "      <th>421</th>\n",
       "      <td>3765974140</td>\n",
       "      <td>1357170471</td>\n",
       "      <td>2019-08-19</td>\n",
       "      <td>31680</td>\n",
       "      <td>A</td>\n",
       "    </tr>\n",
       "    <tr>\n",
       "      <th>461</th>\n",
       "      <td>2683113224</td>\n",
       "      <td>154576532</td>\n",
       "      <td>2019-08-19</td>\n",
       "      <td>26550</td>\n",
       "      <td>B</td>\n",
       "    </tr>\n",
       "    <tr>\n",
       "      <th>525</th>\n",
       "      <td>3031564664</td>\n",
       "      <td>393266494</td>\n",
       "      <td>2019-08-19</td>\n",
       "      <td>21550</td>\n",
       "      <td>A</td>\n",
       "    </tr>\n",
       "    <tr>\n",
       "      <th>368</th>\n",
       "      <td>3268879337</td>\n",
       "      <td>2536252163</td>\n",
       "      <td>2019-08-19</td>\n",
       "      <td>20026</td>\n",
       "      <td>B</td>\n",
       "    </tr>\n",
       "    <tr>\n",
       "      <th>366</th>\n",
       "      <td>2037051350</td>\n",
       "      <td>1957949546</td>\n",
       "      <td>2019-08-19</td>\n",
       "      <td>16770</td>\n",
       "      <td>A</td>\n",
       "    </tr>\n",
       "    <tr>\n",
       "      <th>463</th>\n",
       "      <td>4170537404</td>\n",
       "      <td>290022471</td>\n",
       "      <td>2019-08-19</td>\n",
       "      <td>16480</td>\n",
       "      <td>B</td>\n",
       "    </tr>\n",
       "    <tr>\n",
       "      <th>531</th>\n",
       "      <td>4016435970</td>\n",
       "      <td>4017075195</td>\n",
       "      <td>2019-08-19</td>\n",
       "      <td>13390</td>\n",
       "      <td>A</td>\n",
       "    </tr>\n",
       "  </tbody>\n",
       "</table>\n",
       "</div>"
      ],
      "text/plain": [
       "       order_id  visitor_id       date  revenue group\n",
       "425   590470918  1920142716 2019-08-19  1294500     B\n",
       "530  3970235543  2912540959 2019-08-19    43990     A\n",
       "527  1570513684  2837914161 2019-08-19    33405     B\n",
       "421  3765974140  1357170471 2019-08-19    31680     A\n",
       "461  2683113224   154576532 2019-08-19    26550     B\n",
       "525  3031564664   393266494 2019-08-19    21550     A\n",
       "368  3268879337  2536252163 2019-08-19    20026     B\n",
       "366  2037051350  1957949546 2019-08-19    16770     A\n",
       "463  4170537404   290022471 2019-08-19    16480     B\n",
       "531  4016435970  4017075195 2019-08-19    13390     A"
      ]
     },
     "execution_count": 30,
     "metadata": {},
     "output_type": "execute_result"
    }
   ],
   "source": [
    "# проверим выручку за этот день\n",
    "print('Медианное значение одного заказа 19 августа =',orders.query('date == \"2019-08-19\"')['revenue'].median())\n",
    "orders.query('date == \"2019-08-19\"').sort_values(by='revenue', ascending=False).head(10)"
   ]
  },
  {
   "cell_type": "code",
   "execution_count": 31,
   "metadata": {},
   "outputs": [
    {
     "data": {
      "text/html": [
       "<div>\n",
       "<style scoped>\n",
       "    .dataframe tbody tr th:only-of-type {\n",
       "        vertical-align: middle;\n",
       "    }\n",
       "\n",
       "    .dataframe tbody tr th {\n",
       "        vertical-align: top;\n",
       "    }\n",
       "\n",
       "    .dataframe thead th {\n",
       "        text-align: right;\n",
       "    }\n",
       "</style>\n",
       "<table border=\"1\" class=\"dataframe\">\n",
       "  <thead>\n",
       "    <tr style=\"text-align: right;\">\n",
       "      <th></th>\n",
       "      <th>date</th>\n",
       "      <th>revenue</th>\n",
       "      <th>orders</th>\n",
       "    </tr>\n",
       "  </thead>\n",
       "  <tbody>\n",
       "    <tr>\n",
       "      <th>33</th>\n",
       "      <td>2019-08-17</td>\n",
       "      <td>2620790</td>\n",
       "      <td>373</td>\n",
       "    </tr>\n",
       "    <tr>\n",
       "      <th>35</th>\n",
       "      <td>2019-08-18</td>\n",
       "      <td>2686621</td>\n",
       "      <td>382</td>\n",
       "    </tr>\n",
       "    <tr>\n",
       "      <th>37</th>\n",
       "      <td>2019-08-19</td>\n",
       "      <td>4116541</td>\n",
       "      <td>403</td>\n",
       "    </tr>\n",
       "    <tr>\n",
       "      <th>39</th>\n",
       "      <td>2019-08-20</td>\n",
       "      <td>4263815</td>\n",
       "      <td>423</td>\n",
       "    </tr>\n",
       "    <tr>\n",
       "      <th>41</th>\n",
       "      <td>2019-08-21</td>\n",
       "      <td>4426892</td>\n",
       "      <td>437</td>\n",
       "    </tr>\n",
       "  </tbody>\n",
       "</table>\n",
       "</div>"
      ],
      "text/plain": [
       "         date  revenue  orders\n",
       "33 2019-08-17  2620790     373\n",
       "35 2019-08-18  2686621     382\n",
       "37 2019-08-19  4116541     403\n",
       "39 2019-08-20  4263815     423\n",
       "41 2019-08-21  4426892     437"
      ]
     },
     "execution_count": 31,
     "metadata": {},
     "output_type": "execute_result"
    }
   ],
   "source": [
    "# посмотрим кол-во заказов за ближайшие 4 дня\n",
    "cumulativeRevenueB.query(' \"2019-08-17\" <= date <= \"2019-08-21\" ')"
   ]
  },
  {
   "cell_type": "markdown",
   "metadata": {},
   "source": [
    "#### Как можно убедиться в группе В 19.08 один клиент (id 1920142716) закупился  на 1,3 млн. ден.ед. при медианной выручке 1-го заказа за этот день - 2,6 тыс. ден. ед. По количеству заказов всплесков не наблюдается. Таким образом, поскольку этот заказ один, то его в принципе можно считать выбросом и при дальнейшем анализе это надо учитывать."
   ]
  },
  {
   "cell_type": "markdown",
   "metadata": {},
   "source": [
    "#### 3.2. Построим график кумулятивного среднего чека по группам"
   ]
  },
  {
   "cell_type": "code",
   "execution_count": 32,
   "metadata": {},
   "outputs": [
    {
     "data": {
      "image/png": "[encoded data removed]",
      "text/plain": [
       "<Figure size 1080x360 with 1 Axes>"
      ]
     },
     "metadata": {
      "needs_background": "light"
     },
     "output_type": "display_data"
    }
   ],
   "source": [
    "cumulativeRevenueA = cumulativeData[cumulativeData['group'] == 'A'][\n",
    "    ['date', 'revenue', 'orders']\n",
    "]\n",
    "cumulativeRevenueB = cumulativeData[cumulativeData['group'] == 'B'][\n",
    "    ['date', 'revenue', 'orders']\n",
    "]\n",
    "\n",
    "# Строим графики среднего чека по группам\n",
    "plt.figure(figsize=(15,5))\n",
    "plt.plot(cumulativeRevenueA['date'], cumulativeRevenueA['revenue']/cumulativeRevenueA['orders'], label='A')\n",
    "plt.plot(cumulativeRevenueB['date'], cumulativeRevenueB['revenue']/cumulativeRevenueB['orders'], label='B')\n",
    "plt.title('Кумулятивный средний чек')\n",
    "plt.xlabel('Дата')\n",
    "plt.ylabel('Кумулятивный средний чек')\n",
    "plt.legend() ;"
   ]
  },
  {
   "cell_type": "markdown",
   "metadata": {},
   "source": [
    "#### Наблюдаем некую схожесть с предыдущим графиком за периоды с 05.08 по 13.08 и с 15.08 и до конца месяца - средний чек по группе В выше. Также видим всплеск 19.08 по чеку 590470918 в группе В.  И с этой даты средний чек группы В постепенно снижается, а группы А - повышается, хотя на конец месяца между чеками разрыв составляет ~ 2000 ден. ед."
   ]
  },
  {
   "cell_type": "markdown",
   "metadata": {},
   "source": [
    "#### 3.3. Построим график  относительного изменения кумулятивного среднего чека группы B к группе A"
   ]
  },
  {
   "cell_type": "code",
   "execution_count": 33,
   "metadata": {},
   "outputs": [
    {
     "data": {
      "image/png": "[encoded data removed]",
      "text/plain": [
       "<Figure size 1080x360 with 1 Axes>"
      ]
     },
     "metadata": {
      "needs_background": "light"
     },
     "output_type": "display_data"
    }
   ],
   "source": [
    "mergedCumulativeRevenue = cumulativeRevenueA.merge(cumulativeRevenueB, left_on='date', right_on='date', how='left', suffixes=['A', 'B'])\n",
    "mergedCumulativeRevenue.columns = [\n",
    "    'date',\n",
    "    'revenueA',\n",
    "    'ordersA',\n",
    "    'revenueB',\n",
    "    'ordersB',\n",
    "]\n",
    "# cтроим отношение средних чеков\n",
    "plt.figure(figsize=(15,5))\n",
    "plt.title('Относительное изменение кумулятивного среднего чека группы B к группе A')\n",
    "plt.xlabel('Дата')\n",
    "plt.ylabel('Кумулятивный средний чек')\n",
    "plt.plot(mergedCumulativeRevenue['date'], (mergedCumulativeRevenue['revenueB']/mergedCumulativeRevenue['ordersB'])/(mergedCumulativeRevenue['revenueA']/mergedCumulativeRevenue['ordersA'])-1)\n",
    "# добавляем ось X\n",
    "plt.axhline(y=0, color='black', linestyle='--'); "
   ]
  },
  {
   "cell_type": "markdown",
   "metadata": {},
   "source": [
    "#### В нескольких точках график различия между средними чеками резко «скачет» (в т.ч. и 19.08.19). Видимо в эти периоды происходили аномальные заказы "
   ]
  },
  {
   "cell_type": "markdown",
   "metadata": {},
   "source": [
    "#### 3.4. Построим график кумулятивного среднего количества заказов на посетителя по группам"
   ]
  },
  {
   "cell_type": "code",
   "execution_count": 34,
   "metadata": {},
   "outputs": [
    {
     "data": {
      "image/png": "[encoded data removed]",
      "text/plain": [
       "<Figure size 1080x360 with 1 Axes>"
      ]
     },
     "metadata": {
      "needs_background": "light"
     },
     "output_type": "display_data"
    }
   ],
   "source": [
    "# считаем кумулятивную конверсию\n",
    "cumulativeData['conversion'] = cumulativeData['orders']/cumulativeData['visitors']\n",
    "\n",
    "# отделяем данные по группе A\n",
    "cumulativeDataA = cumulativeData[cumulativeData['group']=='A']\n",
    "\n",
    "# отделяем данные по группе B\n",
    "cumulativeDataB = cumulativeData[cumulativeData['group']=='B']\n",
    "\n",
    "# строим графики\n",
    "plt.figure(figsize=(15,5))\n",
    "plt.plot(cumulativeDataA['date'], cumulativeDataA['conversion'], label='A')\n",
    "plt.plot(cumulativeDataB['date'], cumulativeDataB['conversion'], label='B')\n",
    "plt.title('Кумулятивное среднее количество заказов на посетителя по группам')\n",
    "plt.xlabel('Дата')\n",
    "plt.ylabel('Заказы на посетителя по группам')\n",
    "plt.legend();"
   ]
  },
  {
   "cell_type": "markdown",
   "metadata": {},
   "source": [
    "#### Примерно до 06.08.19 конверсия по группе А была повыше. Но затем практически симметрично конверсия группы В вырвалась вперёд, а конверсия группы А просела."
   ]
  },
  {
   "cell_type": "markdown",
   "metadata": {},
   "source": [
    "#### 3.5. Построим график относительного изменения кумулятивного среднего количества заказов на посетителя группы B к группе A"
   ]
  },
  {
   "cell_type": "code",
   "execution_count": 35,
   "metadata": {},
   "outputs": [
    {
     "data": {
      "image/png": "[encoded data removed]",
      "text/plain": [
       "<Figure size 1080x360 with 1 Axes>"
      ]
     },
     "metadata": {
      "needs_background": "light"
     },
     "output_type": "display_data"
    }
   ],
   "source": [
    "mergedCumulativeConversions = cumulativeDataA[['date','conversion']].merge(cumulativeDataB[['date','conversion']], \\\n",
    "                                                    left_on='date', right_on='date', how='left', suffixes=['A', 'B'])\n",
    "plt.figure(figsize=(15,5))\n",
    "plt.grid()\n",
    "plt.plot(mergedCumulativeConversions['date'], mergedCumulativeConversions['conversionB']/mergedCumulativeConversions['conversionA']-1, label=\"Относительный прирост конверсии группы B относительно группы A\")\n",
    "\n",
    "plt.title('Относительное изменение кумулятивной конверсии группы B к группе A')\n",
    "plt.xlabel('Дата')\n",
    "plt.ylabel('Заказы на посетителя по группам')\n",
    "\n",
    "plt.axhline(y=0, color='black', linestyle='--') \n",
    "plt.axhline(y=0.1, color='grey', linestyle='--')\n",
    "plt.axhline(y=0.21, color='grey', linestyle='--')\n",
    "plt.axhline(y=0.057, color='grey', linestyle='--');"
   ]
  },
  {
   "cell_type": "markdown",
   "metadata": {},
   "source": [
    "#### Примерно до 06.08 кумулятивная конверсия группы В то выше, то ниже группы А. Далее конверсия группы В резко двинулась вверх и на пике разница достигала 21%, а в конце теста разница составляет ~14% и продолжает расти"
   ]
  },
  {
   "cell_type": "markdown",
   "metadata": {},
   "source": [
    "#### 3.6. Построим точечный график количества заказов по пользователям"
   ]
  },
  {
   "cell_type": "code",
   "execution_count": 36,
   "metadata": {},
   "outputs": [
    {
     "name": "stdout",
     "output_type": "stream",
     "text": [
      "      visitor_id  orders\n",
      "1023  4256040402      11\n",
      "591   2458001652      11\n",
      "569   2378935119       9\n",
      "487   2038680547       8\n",
      "44     199603092       5\n",
      "744   3062433592       5\n",
      "55     237748145       5\n",
      "917   3803269165       5\n",
      "299   1230306981       5\n",
      "897   3717692402       5\n"
     ]
    },
    {
     "data": {
      "image/png": "[encoded data removed]",
      "text/plain": [
       "<Figure size 1080x360 with 1 Axes>"
      ]
     },
     "metadata": {
      "needs_background": "light"
     },
     "output_type": "display_data"
    }
   ],
   "source": [
    "ordersByUsers = (\n",
    "    orders.groupby('visitor_id', as_index=False)\n",
    "    .agg({'order_id': 'nunique'})\n",
    ")\n",
    "ordersByUsers.columns = ['visitor_id', 'orders']\n",
    "\n",
    "print(ordersByUsers.sort_values(by='orders', ascending=False).head(10))\n",
    "# серия из чисел от 0 до количества наблюдений в ordersByUsers\n",
    "plt.figure(figsize=(15,5))\n",
    "plt.title('Количество заказов по пользователям')\n",
    "plt.xlabel('Количество заказов')\n",
    "plt.ylabel('Пользователи')\n",
    "x_values = pd.Series(range(0, len(ordersByUsers)))\n",
    "plt.scatter(x_values, ordersByUsers['orders']);"
   ]
  },
  {
   "cell_type": "markdown",
   "metadata": {},
   "source": [
    "#### Видим, что заказов больше 2-х немного. Поэтому дальше проверяем, где начинаются аномалии"
   ]
  },
  {
   "cell_type": "markdown",
   "metadata": {},
   "source": [
    "#### 3.7. Посчитаем 95-й и 99-й перцентили количества заказов на пользователя"
   ]
  },
  {
   "cell_type": "code",
   "execution_count": 37,
   "metadata": {},
   "outputs": [
    {
     "name": "stdout",
     "output_type": "stream",
     "text": [
      "[1. 2. 4.]\n"
     ]
    }
   ],
   "source": [
    "print(np.percentile(ordersByUsers['orders'], [90, 95, 99])) "
   ]
  },
  {
   "cell_type": "code",
   "execution_count": 38,
   "metadata": {},
   "outputs": [
    {
     "name": "stdout",
     "output_type": "stream",
     "text": [
      "[2. 2. 3. 4.]\n"
     ]
    }
   ],
   "source": [
    "# детализируем \n",
    "print(np.percentile(ordersByUsers['orders'], [96, 97, 98, 99])) "
   ]
  },
  {
   "cell_type": "markdown",
   "metadata": {},
   "source": [
    "#### не более 2% клиентов совершали 3 покупки, и не более 1% - 4 покупки. Приймем, что 3 и более покупок за аномалии"
   ]
  },
  {
   "cell_type": "markdown",
   "metadata": {},
   "source": [
    "#### 3.8. Построим точечный график стоимостей заказов"
   ]
  },
  {
   "cell_type": "code",
   "execution_count": 39,
   "metadata": {},
   "outputs": [
    {
     "data": {
      "image/png": "[encoded data removed]",
      "text/plain": [
       "<Figure size 1080x360 with 1 Axes>"
      ]
     },
     "metadata": {
      "needs_background": "light"
     },
     "output_type": "display_data"
    }
   ],
   "source": [
    "x_values = pd.Series(range(0, len(orders['revenue'])))\n",
    "plt.figure(figsize=(15,5))\n",
    "plt.grid()\n",
    "plt.title('Стоимость заказов')\n",
    "plt.xlabel('Стоимость заказов')\n",
    "plt.ylabel('Пользователи')\n",
    "plt.scatter(x_values, orders['revenue'], alpha=0.5);"
   ]
  },
  {
   "cell_type": "markdown",
   "metadata": {},
   "source": [
    "#### На графике выделяется 1 абсолютно аномально-элитный заказ на 1,3 млн. и 1 заказ на 200,0 тыс. ден.ед., которые являются выбросами"
   ]
  },
  {
   "cell_type": "code",
   "execution_count": 40,
   "metadata": {},
   "outputs": [
    {
     "data": {
      "image/png": "[encoded data removed]",
      "text/plain": [
       "<Figure size 1080x360 with 1 Axes>"
      ]
     },
     "metadata": {
      "needs_background": "light"
     },
     "output_type": "display_data"
    }
   ],
   "source": [
    "# укрупним график и избавимся от выбросов\n",
    "norm_orders = orders[orders['revenue']<=199000]['revenue']\n",
    "x_values = pd.Series(range(0, len(norm_orders)))\n",
    "plt.figure(figsize=(15,5))\n",
    "plt.title('Стоимость заказов')\n",
    "plt.xlabel('Стоимость заказов')\n",
    "plt.ylabel('Пользователи')\n",
    "plt.grid()\n",
    "plt.scatter(x_values, norm_orders, alpha=0.5);"
   ]
  },
  {
   "cell_type": "markdown",
   "metadata": {},
   "source": [
    "#### Остальные заказы не превышают 100,0 тыс. ден. ед."
   ]
  },
  {
   "cell_type": "markdown",
   "metadata": {},
   "source": [
    "#### 3.9 Посчитаем 95-й и 99-й перцентили стоимости заказов."
   ]
  },
  {
   "cell_type": "code",
   "execution_count": 41,
   "metadata": {},
   "outputs": [
    {
     "name": "stdout",
     "output_type": "stream",
     "text": [
      "[18168.  28000.  58233.2]\n"
     ]
    }
   ],
   "source": [
    "print(np.percentile(orders['revenue'], [90, 95, 99])) "
   ]
  },
  {
   "cell_type": "markdown",
   "metadata": {},
   "source": [
    "#### Не более, чем у 5% чек больше 28000 ден.ед. и не более чем у 1% - больше 58233,2 ден. ед. Превышение 58233,2 и приймем за аномалию."
   ]
  },
  {
   "cell_type": "markdown",
   "metadata": {},
   "source": [
    "#### 3.10. Посчитаем статистическую значимость различий в среднем количестве заказов на посетителя между группами по «сырым» данным"
   ]
  },
  {
   "cell_type": "markdown",
   "metadata": {},
   "source": [
    "#### Сформулируем гипотезы. Нулевая: различий в среднем количестве заказов между группами нет. Альтернативная: различия в среднем между группами есть."
   ]
  },
  {
   "cell_type": "code",
   "execution_count": 42,
   "metadata": {},
   "outputs": [
    {
     "name": "stdout",
     "output_type": "stream",
     "text": [
      "p-value = 0.01679\n",
      "Относительный показатель 'B' и 'A' = 0.138\n"
     ]
    }
   ],
   "source": [
    "# расчет количества пользователей в выбранную дату в группах\n",
    "visitorsADaily = visitors[visitors['group']=='A'][['date', 'visitors']]\n",
    "visitorsADaily.columns = ['date', 'visitorsPerDateA']\n",
    "\n",
    "visitorsACummulative = visitorsADaily.apply(lambda x: visitorsADaily[visitorsADaily['date'] <= x['date']]. \\\n",
    "                                            agg({'date' : 'max', 'visitorsPerDateA' : 'sum'}), axis=1)\n",
    "visitorsACummulative.columns = ['date', 'visitorsCummulativeA']\n",
    "\n",
    "visitorsBDaily = visitors[visitors['group']=='B'][['date', 'visitors']]\n",
    "visitorsBDaily.columns = ['date', 'visitorsPerDateB']\n",
    "\n",
    "visitorsBCummulative = visitorsBDaily.apply(lambda x: visitorsBDaily[visitorsBDaily['date'] <= x['date']]. \\\n",
    "                                            agg({'date' : 'max', 'visitorsPerDateB' : 'sum'}), axis=1)\n",
    "visitorsBCummulative.columns = ['date', 'visitorsCummulativeB']\n",
    "\n",
    "\n",
    "ordersADaily = orders[orders['group']=='A'][['date', 'order_id', 'visitor_id', 'revenue']]\\\n",
    "    .groupby('date', as_index=False)\\\n",
    "    .agg({'order_id' : pd.Series.nunique, 'revenue' : 'sum'})\n",
    "ordersADaily.columns = ['date', 'ordersPerDateA', 'revenuePerDateA']\n",
    "\n",
    "ordersACummulative = ordersADaily.apply(\n",
    "    lambda x: \\\n",
    "        ordersADaily[ordersADaily['date'] <= x['date']]\\\n",
    "            .agg({\n",
    "                'date' : 'max',\n",
    "                'ordersPerDateA' : 'sum',\n",
    "                'revenuePerDateA' : 'sum'}), axis=1).sort_values(by=['date'])\n",
    "ordersACummulative.columns = ['date', 'ordersCummulativeA', 'revenueCummulativeA']\n",
    "\n",
    "ordersBDaily = orders[orders['group']=='B'][['date', 'order_id', 'visitor_id', 'revenue']]\\\n",
    "    .groupby('date', as_index=False)\\\n",
    "    .agg({'order_id' : pd.Series.nunique, 'revenue' : 'sum'})\n",
    "ordersBDaily.columns = ['date', 'ordersPerDateB', 'revenuePerDateB']\n",
    "\n",
    "ordersBCummulative = ordersBDaily.apply(\n",
    "    lambda x: \\\n",
    "        ordersBDaily[ordersBDaily['date'] <= x['date']]\\\n",
    "            .agg({\n",
    "                'date' : 'max',\n",
    "                'ordersPerDateB' : 'sum',\n",
    "                'revenuePerDateB' : 'sum'}), axis=1).sort_values(by=['date'])\n",
    "ordersBCummulative.columns = ['date', 'ordersCummulativeB', 'revenueCummulativeB']\n",
    "\n",
    "data = ordersADaily.merge(ordersBDaily, left_on='date', right_on='date', how='left')\\\n",
    "    .merge(ordersACummulative, left_on='date', right_on='date', how='left')\\\n",
    "    .merge(ordersBCummulative, left_on='date', right_on='date', how='left')\\\n",
    "    .merge(visitorsADaily, left_on='date', right_on='date', how='left')\\\n",
    "    .merge(visitorsBDaily, left_on='date', right_on='date', how='left')\\\n",
    "    .merge(visitorsACummulative, left_on='date', right_on='date', how='left')\\\n",
    "    .merge(visitorsBCummulative, left_on='date', right_on='date', how='left')\n",
    "\n",
    "# Посчитаем статистическую значимость различия в среднем количестве заказов между группами\n",
    "ordersByUsersA = (\n",
    "    orders[orders['group'] == 'A']\n",
    "    .groupby('visitor_id', as_index=False)\n",
    "    .agg({'order_id': pd.Series.nunique})\n",
    ")\n",
    "ordersByUsersA.columns = ['visitor_id', 'orders']\n",
    "\n",
    "ordersByUsersB = (\n",
    "    orders[orders['group'] == 'B']\n",
    "    .groupby('visitor_id', as_index=False)\n",
    "    .agg({'order_id': pd.Series.nunique})\n",
    ")\n",
    "ordersByUsersB.columns = ['visitor_id', 'orders']\n",
    "\n",
    "pd.Series(0, index=np.arange(data['visitorsPerDateA'].sum() - len(ordersByUsersA['orders'])), name='orders')\n",
    "\n",
    "[ordersByUsersA['orders'],pd.Series(0, index=np.arange(data['visitorsPerDateA'].sum() - len(ordersByUsersA['orders'])), name='orders')] \n",
    "\n",
    "sampleA = pd.concat([ordersByUsersA['orders'],pd.Series(0, index=np.arange(data['visitorsPerDateA'].sum() - len(ordersByUsersA['orders'])), name='orders')],axis=0)\n",
    "\n",
    "sampleB = pd.concat([ordersByUsersB['orders'],pd.Series(0, index=np.arange(data['visitorsPerDateB'].sum() - len(ordersByUsersB['orders'])), name='orders')],axis=0)\n",
    "\n",
    "ordersByUsersA = (\n",
    "    orders[orders['group'] == 'A']\n",
    "    .groupby('visitor_id', as_index=False)\n",
    "    .agg({'order_id': pd.Series.nunique})\n",
    ")\n",
    "ordersByUsersA.columns = ['visitor_id', 'orders']\n",
    "\n",
    "ordersByUsersB = (\n",
    "    orders[orders['group'] == 'B']\n",
    "    .groupby('visitor_id', as_index=False)\n",
    "    .agg({'order_id': pd.Series.nunique})\n",
    ")\n",
    "ordersByUsersB.columns = ['visitor_id', 'orders']\n",
    "\n",
    "sampleA = pd.concat(\n",
    "    [\n",
    "        ordersByUsersA['orders'],\n",
    "        pd.Series(\n",
    "            0,\n",
    "            index=np.arange(\n",
    "                data['visitorsPerDateA'].sum() - len(ordersByUsersA['orders'])\n",
    "            ),\n",
    "            name='orders',\n",
    "        ),\n",
    "    ],\n",
    "    axis=0,\n",
    ")\n",
    "\n",
    "sampleB = pd.concat(\n",
    "    [\n",
    "        ordersByUsersB['orders'],\n",
    "        pd.Series(\n",
    "            0,\n",
    "            index=np.arange(\n",
    "                data['visitorsPerDateB'].sum() - len(ordersByUsersB['orders'])\n",
    "            ),\n",
    "            name='orders',\n",
    "        ),\n",
    "    ],\n",
    "    axis=0,\n",
    ")\n",
    "print(\"p-value = {0:.5f}\".format(stats.mannwhitneyu(sampleA, sampleB)[1]))\n",
    "\n",
    "print(\"Относительный показатель 'B' и 'A' = {0:.3f}\".format(sampleB.mean() / sampleA.mean() - 1))\n",
    " "
   ]
  },
  {
   "cell_type": "markdown",
   "metadata": {},
   "source": [
    "#### Первое число — p-value = 0.01679 меньше 0.05. Значит, нулевую гипотезу о том, что статистически значимых различий в среднем числе заказов между группами нет, отвергаем.  \n",
    "\n",
    "Таким образом, анализ \"сырых данных\" показал, что в среднем числе заказов между группами есть статистически значимые различия и нам их нужно найти.\n",
    "\n",
    "Относительный прирост группы B равен 13.8%."
   ]
  },
  {
   "cell_type": "markdown",
   "metadata": {},
   "source": [
    "#### 3.11. Посчитаем статистическую значимость различий в среднем чеке заказа между группами по «сырым» данным"
   ]
  },
  {
   "cell_type": "markdown",
   "metadata": {},
   "source": [
    "#### За нулевую гипотезу возьмём что: \"статистически значимых различий в средних чеках между группами нет\"; тогда альтернативная гипотеза будет гласить - статистически значимые различия есть."
   ]
  },
  {
   "cell_type": "code",
   "execution_count": 43,
   "metadata": {},
   "outputs": [
    {
     "name": "stdout",
     "output_type": "stream",
     "text": [
      "p-value = 0.729\n",
      "Относительный показатель 'B' и 'A' = 0.259\n"
     ]
    }
   ],
   "source": [
    "print('p-value = {0:.3f}'.format(stats.mannwhitneyu(orders[orders['group']=='A']['revenue'], orders[orders['group']=='B']['revenue'])[1]))\n",
    "print(\"Относительный показатель 'B' и 'A' = {0:.3f}\".format(orders[orders['group']=='B']['revenue'].mean()/orders[orders['group']=='A']['revenue'].mean()-1)) "
   ]
  },
  {
   "cell_type": "markdown",
   "metadata": {},
   "source": [
    "#### P-value значительно больше 0.05. Значит, причин отвергать нулевую гипотезу и считать, что в среднем чеке есть различия, нет.\n",
    "\n",
    "Относительное различие среднего чека между сегментами достаточно высокое - 25,9%"
   ]
  },
  {
   "cell_type": "markdown",
   "metadata": {},
   "source": [
    "#### 3.12. Посчитаем статистическую значимость различий в среднем количестве заказов на посетителя между группами по «очищенным» данным"
   ]
  },
  {
   "cell_type": "markdown",
   "metadata": {},
   "source": [
    "#### Как ранее мы установили, аномалиями являются более 2-х покупок и заказы на сумму более 58233 ден. ед. "
   ]
  },
  {
   "cell_type": "code",
   "execution_count": 44,
   "metadata": {},
   "outputs": [
    {
     "name": "stdout",
     "output_type": "stream",
     "text": [
      "1099    148427295\n",
      "18      199603092\n",
      "23      237748145\n",
      "37      249864742\n",
      "68      457167155\n",
      "Name: visitor_id, dtype: int64\n",
      "Всего аномальных пользователей = 31\n"
     ]
    }
   ],
   "source": [
    "# посчитаем аномальных пользователей\n",
    "usersWithManyOrders = pd.concat([ordersByUsersA[ordersByUsersA['orders'] > 2]['visitor_id'], ordersByUsersB[ordersByUsersB['orders'] > 2]['visitor_id']], axis = 0)\n",
    "usersWithExpensiveOrders = orders[orders['revenue'] > 58233]['visitor_id']\n",
    "abnormalUsers = pd.concat([usersWithManyOrders, usersWithExpensiveOrders], axis = 0).drop_duplicates().sort_values()\n",
    "print(abnormalUsers.head(5))\n",
    "print(\"Всего аномальных пользователей =\", len(abnormalUsers)) "
   ]
  },
  {
   "cell_type": "markdown",
   "metadata": {},
   "source": [
    "#### Сформулируем гипотезы. Нулевая: различий в среднем количестве \"очищенных\" заказов между группами нет. Альтернативная: различия в среднем между группами есть."
   ]
  },
  {
   "cell_type": "code",
   "execution_count": 45,
   "metadata": {},
   "outputs": [
    {
     "name": "stdout",
     "output_type": "stream",
     "text": [
      "p-value = 0.01007\n",
      "Относительный показатель 'B' и 'A' = 0.174\n"
     ]
    }
   ],
   "source": [
    "# Создадим переменные, в которых сохраним очищенные данные о заказах — не включая аномальных пользователей\n",
    "sampleAFiltered = pd.concat(\n",
    "    [\n",
    "        ordersByUsersA[\n",
    "            np.logical_not(ordersByUsersA['visitor_id'].isin(abnormalUsers))\n",
    "        ]['orders'],\n",
    "        pd.Series(\n",
    "            0,\n",
    "            index=np.arange(\n",
    "                data['visitorsPerDateA'].sum() - len(ordersByUsersA['orders'])\n",
    "            ),\n",
    "            name='orders',\n",
    "        ),\n",
    "    ],\n",
    "    axis=0,\n",
    ")\n",
    "\n",
    "sampleBFiltered = pd.concat(\n",
    "    [\n",
    "        ordersByUsersB[\n",
    "            np.logical_not(ordersByUsersB['visitor_id'].isin(abnormalUsers))\n",
    "        ]['orders'],\n",
    "        pd.Series(\n",
    "            0,\n",
    "            index=np.arange(\n",
    "                data['visitorsPerDateB'].sum() - len(ordersByUsersB['orders'])\n",
    "            ),\n",
    "            name='orders',\n",
    "        ),\n",
    "    ],\n",
    "    axis=0,\n",
    ") \n",
    "\n",
    "print('p-value = {0:.5f}'.format(stats.mannwhitneyu(sampleAFiltered, sampleBFiltered)[1]))\n",
    "print(\"Относительный показатель 'B' и 'A' = {0:.3f}\".format(sampleBFiltered.mean()/sampleAFiltered.mean()-1))"
   ]
  },
  {
   "cell_type": "markdown",
   "metadata": {},
   "source": [
    "#### Как и в случае с \"сырыми\" данными нулевую гипотезу о том, что статистически значимых различий в среднем числе заказов между группами нет, мы отвергаем.\n",
    "Таким образом, анализ \"очищенных\" данных также показал, что в среднем числе заказов между группами есть статистически значимые различия.\n",
    "\n",
    "Относительный прирост группы B улучшился и равен 17.4%."
   ]
  },
  {
   "cell_type": "markdown",
   "metadata": {},
   "source": [
    "#### 3.13. Посчитаем статистическую значимость различий в среднем чеке заказа между группами по «очищенным» данным"
   ]
  },
  {
   "cell_type": "markdown",
   "metadata": {},
   "source": [
    "#### За нулевую гипотезу приймем: \"статистически значимых различий в средних чеках между группами нет\"; тогда альтернативная гипотеза - статистически значимые различия есть"
   ]
  },
  {
   "cell_type": "code",
   "execution_count": 46,
   "metadata": {},
   "outputs": [
    {
     "name": "stdout",
     "output_type": "stream",
     "text": [
      "p-value = 0.798\n",
      "Относительный показатель 'B' и 'A' = -0.020\n"
     ]
    }
   ],
   "source": [
    "print(\n",
    "    'p-value = {0:.3f}'.format(\n",
    "        stats.mannwhitneyu(\n",
    "            orders[\n",
    "                np.logical_and(\n",
    "                    orders['group'] == 'A',\n",
    "                    np.logical_not(orders['visitor_id'].isin(abnormalUsers)),\n",
    "                )\n",
    "            ]['revenue'],\n",
    "            orders[\n",
    "                np.logical_and(\n",
    "                    orders['group'] == 'B',\n",
    "                    np.logical_not(orders['visitor_id'].isin(abnormalUsers)),\n",
    "                )\n",
    "            ]['revenue'],\n",
    "        )[1]\n",
    "    )\n",
    ")\n",
    "\n",
    "print(\n",
    "    \"Относительный показатель 'B' и 'A' = {0:.3f}\".format(\n",
    "        orders[\n",
    "            np.logical_and(\n",
    "                orders['group'] == 'B',\n",
    "                np.logical_not(orders['visitor_id'].isin(abnormalUsers)),\n",
    "            )\n",
    "        ]['revenue'].mean()\n",
    "        / orders[\n",
    "            np.logical_and(\n",
    "                orders['group'] == 'A',\n",
    "                np.logical_not(orders['visitor_id'].isin(abnormalUsers)),\n",
    "            )\n",
    "        ]['revenue'].mean()\n",
    "        - 1\n",
    "    )\n",
    ") \n"
   ]
  },
  {
   "cell_type": "markdown",
   "metadata": {},
   "source": [
    "#### P-value значительно больше 0.05. Значит, причин отвергать нулевую гипотезу и считать, что в среднем чеке есть различия,тоже нет (как и с \"Сырыми\" данными).\n",
    "\n",
    "Видим, что P-value без аномалий увеличился - с 72,9% до 79,8%.\n",
    "\n",
    "При этом разница по среднему чеку кардинально изменилась - средний чек группы B оказался незначительно (на 2%) ниже среднего чека группы A (сыграли свою роль 2 аномальных заказа - на 1,3 млн. и на 200,0 тыс. ден.ед.)."
   ]
  },
  {
   "cell_type": "markdown",
   "metadata": {},
   "source": [
    "#### 3.13.1. Для полноты картины создадим очищенные от аномальных значений датафреймы и построим по ним графики "
   ]
  },
  {
   "cell_type": "code",
   "execution_count": 47,
   "metadata": {},
   "outputs": [],
   "source": [
    "orders_filtered = orders[np.logical_not(orders['visitor_id'].isin(abnormalUsers))]\n",
    "datesgroupes = orders_filtered[['date', 'group']].drop_duplicates()\n",
    "\n",
    "orders_agg_filtered = datesgroupes.apply(\n",
    "    lambda x: orders_filtered[np.logical_and(orders['date'] <= x['date'], orders['group'] == x['group'])]\n",
    "    .agg({'date':'max', 'group':'max', 'order_id':'nunique', 'visitor_id':'nunique', 'revenue':'sum'}),\n",
    "     axis=1)\\\n",
    "    .sort_values(by=['date', 'group'])\n",
    "\n",
    "visitors_agg_filtered = datesgroupes.apply(\n",
    "    lambda x: visitors[np.logical_and(visitors['date'] <= x['date'], visitors['group'] ==x['group'])]\n",
    "    .agg({'date':'max', 'group':'max', 'visitors':'sum'}),\n",
    "     axis=1)\\\n",
    "    .sort_values(by=['date', 'group'])"
   ]
  },
  {
   "cell_type": "code",
   "execution_count": 48,
   "metadata": {},
   "outputs": [],
   "source": [
    "data_cummulative_filtered = orders_agg_filtered.merge(visitors_agg_filtered, on = ['date', 'group'])\n",
    "data_cummulative_filtered.columns = ['date','group','orders','buyers','revenue','visitors']"
   ]
  },
  {
   "cell_type": "markdown",
   "metadata": {},
   "source": [
    "#### а) График кумулятивной выручки по группам"
   ]
  },
  {
   "cell_type": "code",
   "execution_count": 49,
   "metadata": {},
   "outputs": [
    {
     "data": {
      "image/png": "[encoded data removed]",
      "text/plain": [
       "<Figure size 1080x360 with 1 Axes>"
      ]
     },
     "metadata": {
      "needs_background": "light"
     },
     "output_type": "display_data"
    }
   ],
   "source": [
    "cumulative_group_A_filtered = (\n",
    "    data_cummulative_filtered[data_cummulative_filtered['group'] == 'A'][['date', 'revenue', 'orders']])\n",
    "    \n",
    "cumulative_group_B_filtered = (\n",
    "    data_cummulative_filtered[data_cummulative_filtered['group'] == 'B'][['date', 'revenue', 'orders']])\n",
    "\n",
    "plt.figure(figsize=(15,5))\n",
    "# Строим график 'очищенной' выручки группы А\n",
    "plt.plot(cumulative_group_A_filtered['date'], cumulative_group_A_filtered['revenue'], label='A')\n",
    "\n",
    "# Строим график 'очищенной' выручки группы B\n",
    "plt.plot(cumulative_group_B_filtered['date'], cumulative_group_B_filtered['revenue'], label='B')\n",
    "plt.title('Кумулятивная выручка')\n",
    "plt.xlabel('Дата')\n",
    "plt.ylabel('Кумулятивная выручка')\n",
    "plt.legend(); "
   ]
  },
  {
   "cell_type": "markdown",
   "metadata": {},
   "source": [
    "#### На графике без аномалий видим, что доходы по группе В так и остались выше, но разница существенно снизилась"
   ]
  },
  {
   "cell_type": "markdown",
   "metadata": {},
   "source": [
    "#### б) График кумулятивного среднего чека по группам"
   ]
  },
  {
   "cell_type": "code",
   "execution_count": 50,
   "metadata": {},
   "outputs": [
    {
     "data": {
      "image/png": "[encoded data removed]",
      "text/plain": [
       "<Figure size 1080x360 with 1 Axes>"
      ]
     },
     "metadata": {
      "needs_background": "light"
     },
     "output_type": "display_data"
    }
   ],
   "source": [
    "cumulative_group_A_filtered = data_cummulative_filtered[data_cummulative_filtered['group'] == 'A'][\n",
    "    ['date', 'revenue', 'orders']\n",
    "]\n",
    "cumulative_group_B_filtered = data_cummulative_filtered[data_cummulative_filtered['group'] == 'B'][\n",
    "    ['date', 'revenue', 'orders']\n",
    "]\n",
    "\n",
    "# Строим графики среднего чека по группам\n",
    "plt.figure(figsize=(15,5))\n",
    "plt.plot(cumulative_group_A_filtered['date'], cumulative_group_A_filtered['revenue']/cumulative_group_A_filtered['orders'], label='A')\n",
    "plt.plot(cumulative_group_B_filtered['date'], cumulative_group_B_filtered['revenue']/cumulative_group_B_filtered['orders'], label='B')\n",
    "plt.title('Кумулятивное среднего чека по группам')\n",
    "plt.xlabel('Дата')\n",
    "plt.ylabel('Средний чек по группам')\n",
    "plt.legend(); "
   ]
  },
  {
   "cell_type": "markdown",
   "metadata": {},
   "source": [
    "#### На графике без аномалий видим, что размеры средних чеков по группам постоянно меняются местами"
   ]
  },
  {
   "cell_type": "markdown",
   "metadata": {},
   "source": [
    "#### в) График кумулятивного среднего количества заказов на посетителя по группам"
   ]
  },
  {
   "cell_type": "code",
   "execution_count": 51,
   "metadata": {},
   "outputs": [
    {
     "data": {
      "image/png": "[encoded data removed]",
      "text/plain": [
       "<Figure size 1080x360 with 1 Axes>"
      ]
     },
     "metadata": {
      "needs_background": "light"
     },
     "output_type": "display_data"
    }
   ],
   "source": [
    "# считаем кумулятивную конверсию\n",
    "data_cummulative_filtered['conversion'] = data_cummulative_filtered['orders']/data_cummulative_filtered['visitors']\n",
    "\n",
    "# отделяем данные по группе A\n",
    "cumulative_group_A_filtered = data_cummulative_filtered[data_cummulative_filtered['group']=='A']\n",
    "\n",
    "# отделяем данные по группе B\n",
    "cumulative_group_B_filtered = data_cummulative_filtered[data_cummulative_filtered['group']=='B']\n",
    "\n",
    "# строим графики\n",
    "plt.figure(figsize=(15,5))\n",
    "plt.plot(cumulative_group_A_filtered['date'], cumulative_group_A_filtered['conversion'], label='A')\n",
    "plt.plot(cumulative_group_B_filtered['date'], cumulative_group_B_filtered['conversion'], label='B')\n",
    "plt.title('Кумулятивное среднее количество заказов на посетителя по группам')\n",
    "plt.xlabel('Дата')\n",
    "plt.ylabel('Заказы на посетителя по группам')\n",
    "plt.legend();"
   ]
  },
  {
   "cell_type": "markdown",
   "metadata": {},
   "source": [
    "#### Конверсия также немного сгладилась, но у группы В она лучше"
   ]
  },
  {
   "cell_type": "markdown",
   "metadata": {},
   "source": [
    "#### 3.14. Принимаем решение по результатам теста "
   ]
  },
  {
   "cell_type": "markdown",
   "metadata": {},
   "source": [
    "#### На момент принятия решения мы имеем следующие данные:\n",
    "\n",
    "- Имеем статистически значимые различия по среднему количеству заказов между группами и по «сырым», и по данным после фильтрации аномалий;\n",
    "\n",
    "- И по \"сырым\" и по \"очищенным\" данным различия в конверсии групп A и B есть. Относительный выигрыш группы \"B\" над \"A\" равен 17,3% по \"очищенным\" и ~14% по \"сырым\" данным.\n",
    "\n",
    "- Нет статистически значимого различия по среднему чеку между группами ни по «сырым», ни по данным после фильтрации аномалий. Разница по среднему чеку без учета аномалий кардинально изменилась - средний чек группы B оказался незначительно (на 2%) ниже среднего чека группы A;\n"
   ]
  },
  {
   "cell_type": "markdown",
   "metadata": {},
   "source": [
    "### Принятие решения по результатам теста\n",
    "\n",
    "На основе проведенного исследования можно принять решение об остановке теста и признать его успешным. Между группами наблюдается лучшая конверсия у группы В. И несмотря на то, что значимых отличий по кумулятивному среднему чеку не наблюдается, основная цель гипотез достигнута - получено увеличение выручки. "
   ]
  }
 ],
 "metadata": {
  "ExecuteTimeLog": [
   {
    "duration": 950,
    "start_time": "2023-03-04T13:03:51.336Z"
   },
   {
    "duration": 581,
    "start_time": "2023-03-04T13:08:33.136Z"
   },
   {
    "duration": 199,
    "start_time": "2023-03-04T13:13:41.282Z"
   },
   {
    "duration": 3,
    "start_time": "2023-03-04T13:16:11.763Z"
   },
   {
    "duration": 85,
    "start_time": "2023-03-04T13:16:12.900Z"
   },
   {
    "duration": 103,
    "start_time": "2023-03-04T13:21:52.407Z"
   },
   {
    "duration": 103,
    "start_time": "2023-03-04T13:23:45.901Z"
   },
   {
    "duration": 86,
    "start_time": "2023-03-04T13:24:14.505Z"
   },
   {
    "duration": 9,
    "start_time": "2023-03-04T13:24:48.353Z"
   },
   {
    "duration": 8,
    "start_time": "2023-03-04T13:24:52.549Z"
   },
   {
    "duration": 8,
    "start_time": "2023-03-04T13:24:55.189Z"
   },
   {
    "duration": 1381,
    "start_time": "2023-03-05T06:15:49.763Z"
   },
   {
    "duration": 217,
    "start_time": "2023-03-05T06:15:51.146Z"
   },
   {
    "duration": 12,
    "start_time": "2023-03-05T06:15:51.365Z"
   },
   {
    "duration": 9,
    "start_time": "2023-03-05T06:15:51.379Z"
   },
   {
    "duration": 9,
    "start_time": "2023-03-05T06:15:51.389Z"
   },
   {
    "duration": 108,
    "start_time": "2023-03-05T06:18:11.101Z"
   },
   {
    "duration": 11,
    "start_time": "2023-03-05T06:18:23.495Z"
   },
   {
    "duration": 14,
    "start_time": "2023-03-05T06:22:57.865Z"
   },
   {
    "duration": 12,
    "start_time": "2023-03-05T06:28:47.659Z"
   },
   {
    "duration": 7,
    "start_time": "2023-03-05T06:40:21.960Z"
   },
   {
    "duration": 1175,
    "start_time": "2023-03-05T06:41:50.515Z"
   },
   {
    "duration": 94,
    "start_time": "2023-03-05T06:41:51.692Z"
   },
   {
    "duration": 12,
    "start_time": "2023-03-05T06:41:51.788Z"
   },
   {
    "duration": 13,
    "start_time": "2023-03-05T06:41:51.802Z"
   },
   {
    "duration": 13,
    "start_time": "2023-03-05T06:41:51.817Z"
   },
   {
    "duration": 26,
    "start_time": "2023-03-05T06:41:51.832Z"
   },
   {
    "duration": 19,
    "start_time": "2023-03-05T06:41:51.862Z"
   },
   {
    "duration": 9,
    "start_time": "2023-03-05T06:41:51.883Z"
   },
   {
    "duration": 15,
    "start_time": "2023-03-05T06:41:51.894Z"
   },
   {
    "duration": 12,
    "start_time": "2023-03-05T06:41:51.911Z"
   },
   {
    "duration": 33,
    "start_time": "2023-03-05T06:41:51.924Z"
   },
   {
    "duration": 1240,
    "start_time": "2023-03-05T06:49:13.665Z"
   },
   {
    "duration": 91,
    "start_time": "2023-03-05T06:49:14.908Z"
   },
   {
    "duration": 12,
    "start_time": "2023-03-05T06:49:15.001Z"
   },
   {
    "duration": 34,
    "start_time": "2023-03-05T06:49:15.015Z"
   },
   {
    "duration": 53,
    "start_time": "2023-03-05T06:49:15.052Z"
   },
   {
    "duration": 11,
    "start_time": "2023-03-05T06:49:15.108Z"
   },
   {
    "duration": 16,
    "start_time": "2023-03-05T06:49:15.121Z"
   },
   {
    "duration": 6,
    "start_time": "2023-03-05T06:49:15.139Z"
   },
   {
    "duration": 36,
    "start_time": "2023-03-05T06:49:15.146Z"
   },
   {
    "duration": 30,
    "start_time": "2023-03-05T06:49:15.183Z"
   },
   {
    "duration": 15,
    "start_time": "2023-03-05T06:49:15.216Z"
   },
   {
    "duration": 25,
    "start_time": "2023-03-05T06:49:15.233Z"
   },
   {
    "duration": 41,
    "start_time": "2023-03-05T06:49:15.260Z"
   },
   {
    "duration": 14,
    "start_time": "2023-03-05T06:49:15.305Z"
   },
   {
    "duration": 12,
    "start_time": "2023-03-05T06:49:48.917Z"
   },
   {
    "duration": 1248,
    "start_time": "2023-03-05T06:49:59.978Z"
   },
   {
    "duration": 92,
    "start_time": "2023-03-05T06:50:01.228Z"
   },
   {
    "duration": 17,
    "start_time": "2023-03-05T06:50:01.322Z"
   },
   {
    "duration": 31,
    "start_time": "2023-03-05T06:50:01.341Z"
   },
   {
    "duration": 40,
    "start_time": "2023-03-05T06:50:01.376Z"
   },
   {
    "duration": 44,
    "start_time": "2023-03-05T06:50:01.418Z"
   },
   {
    "duration": 35,
    "start_time": "2023-03-05T06:50:01.468Z"
   },
   {
    "duration": 70,
    "start_time": "2023-03-05T06:50:01.505Z"
   },
   {
    "duration": 60,
    "start_time": "2023-03-05T06:50:01.578Z"
   },
   {
    "duration": 66,
    "start_time": "2023-03-05T06:50:01.639Z"
   },
   {
    "duration": 66,
    "start_time": "2023-03-05T06:50:01.707Z"
   },
   {
    "duration": 31,
    "start_time": "2023-03-05T06:50:01.775Z"
   },
   {
    "duration": 65,
    "start_time": "2023-03-05T06:50:01.808Z"
   },
   {
    "duration": 19,
    "start_time": "2023-03-05T06:50:01.876Z"
   },
   {
    "duration": 13,
    "start_time": "2023-03-05T06:50:24.788Z"
   },
   {
    "duration": 5,
    "start_time": "2023-03-05T06:56:36.559Z"
   },
   {
    "duration": 1086,
    "start_time": "2023-03-05T06:57:20.604Z"
   },
   {
    "duration": 79,
    "start_time": "2023-03-05T06:57:21.692Z"
   },
   {
    "duration": 12,
    "start_time": "2023-03-05T06:57:21.772Z"
   },
   {
    "duration": 43,
    "start_time": "2023-03-05T06:57:21.786Z"
   },
   {
    "duration": 44,
    "start_time": "2023-03-05T06:57:21.830Z"
   },
   {
    "duration": 34,
    "start_time": "2023-03-05T06:57:21.876Z"
   },
   {
    "duration": 30,
    "start_time": "2023-03-05T06:57:21.912Z"
   },
   {
    "duration": 16,
    "start_time": "2023-03-05T06:57:21.944Z"
   },
   {
    "duration": 9,
    "start_time": "2023-03-05T06:57:21.962Z"
   },
   {
    "duration": 10,
    "start_time": "2023-03-05T06:57:21.973Z"
   },
   {
    "duration": 35,
    "start_time": "2023-03-05T06:57:21.984Z"
   },
   {
    "duration": 12,
    "start_time": "2023-03-05T06:57:22.020Z"
   },
   {
    "duration": 17,
    "start_time": "2023-03-05T06:57:22.034Z"
   },
   {
    "duration": 6,
    "start_time": "2023-03-05T06:57:22.053Z"
   },
   {
    "duration": 29,
    "start_time": "2023-03-05T06:57:22.061Z"
   },
   {
    "duration": 6,
    "start_time": "2023-03-05T07:00:48.656Z"
   },
   {
    "duration": 5,
    "start_time": "2023-03-05T07:01:22.830Z"
   },
   {
    "duration": 11,
    "start_time": "2023-03-05T07:01:22.965Z"
   },
   {
    "duration": 4,
    "start_time": "2023-03-05T07:14:34.760Z"
   },
   {
    "duration": 99,
    "start_time": "2023-03-05T07:18:39.679Z"
   },
   {
    "duration": 9,
    "start_time": "2023-03-05T07:19:04.897Z"
   },
   {
    "duration": 3,
    "start_time": "2023-03-05T07:19:48.003Z"
   },
   {
    "duration": 3,
    "start_time": "2023-03-05T07:19:59.210Z"
   },
   {
    "duration": 13,
    "start_time": "2023-03-05T07:20:32.762Z"
   },
   {
    "duration": 11,
    "start_time": "2023-03-05T07:24:30.299Z"
   },
   {
    "duration": 19,
    "start_time": "2023-03-05T07:24:45.270Z"
   },
   {
    "duration": 916,
    "start_time": "2023-03-05T07:25:15.480Z"
   },
   {
    "duration": 13,
    "start_time": "2023-03-05T07:26:59.921Z"
   },
   {
    "duration": 762,
    "start_time": "2023-03-05T07:27:12.345Z"
   },
   {
    "duration": 1133,
    "start_time": "2023-03-05T07:27:21.780Z"
   },
   {
    "duration": 77,
    "start_time": "2023-03-05T07:27:22.915Z"
   },
   {
    "duration": 12,
    "start_time": "2023-03-05T07:27:22.996Z"
   },
   {
    "duration": 11,
    "start_time": "2023-03-05T07:27:23.010Z"
   },
   {
    "duration": 17,
    "start_time": "2023-03-05T07:27:23.022Z"
   },
   {
    "duration": 16,
    "start_time": "2023-03-05T07:27:23.040Z"
   },
   {
    "duration": 23,
    "start_time": "2023-03-05T07:27:23.057Z"
   },
   {
    "duration": 8,
    "start_time": "2023-03-05T07:27:23.082Z"
   },
   {
    "duration": 12,
    "start_time": "2023-03-05T07:27:23.093Z"
   },
   {
    "duration": 9,
    "start_time": "2023-03-05T07:27:23.106Z"
   },
   {
    "duration": 820,
    "start_time": "2023-03-05T07:27:23.117Z"
   },
   {
    "duration": 0,
    "start_time": "2023-03-05T07:27:23.939Z"
   },
   {
    "duration": 0,
    "start_time": "2023-03-05T07:27:23.940Z"
   },
   {
    "duration": 0,
    "start_time": "2023-03-05T07:27:23.942Z"
   },
   {
    "duration": 0,
    "start_time": "2023-03-05T07:27:23.943Z"
   },
   {
    "duration": 0,
    "start_time": "2023-03-05T07:27:23.945Z"
   },
   {
    "duration": 13,
    "start_time": "2023-03-05T07:27:39.799Z"
   },
   {
    "duration": 1328,
    "start_time": "2023-03-05T15:01:00.099Z"
   },
   {
    "duration": 240,
    "start_time": "2023-03-05T15:01:01.429Z"
   },
   {
    "duration": 12,
    "start_time": "2023-03-05T15:01:01.671Z"
   },
   {
    "duration": 38,
    "start_time": "2023-03-05T15:01:01.685Z"
   },
   {
    "duration": 47,
    "start_time": "2023-03-05T15:01:01.726Z"
   },
   {
    "duration": 49,
    "start_time": "2023-03-05T15:01:01.775Z"
   },
   {
    "duration": 22,
    "start_time": "2023-03-05T15:01:01.826Z"
   },
   {
    "duration": 26,
    "start_time": "2023-03-05T15:01:01.849Z"
   },
   {
    "duration": 11,
    "start_time": "2023-03-05T15:01:01.877Z"
   },
   {
    "duration": 17,
    "start_time": "2023-03-05T15:01:01.891Z"
   },
   {
    "duration": 21,
    "start_time": "2023-03-05T15:01:01.909Z"
   },
   {
    "duration": 49,
    "start_time": "2023-03-05T15:01:01.932Z"
   },
   {
    "duration": 29,
    "start_time": "2023-03-05T15:01:01.982Z"
   },
   {
    "duration": 43,
    "start_time": "2023-03-05T15:01:02.013Z"
   },
   {
    "duration": 37,
    "start_time": "2023-03-05T15:01:02.057Z"
   },
   {
    "duration": 33,
    "start_time": "2023-03-05T15:01:02.096Z"
   },
   {
    "duration": 6,
    "start_time": "2023-03-05T15:03:55.251Z"
   },
   {
    "duration": 1131,
    "start_time": "2023-03-05T15:04:33.947Z"
   },
   {
    "duration": 75,
    "start_time": "2023-03-05T15:04:35.080Z"
   },
   {
    "duration": 11,
    "start_time": "2023-03-05T15:04:35.157Z"
   },
   {
    "duration": 10,
    "start_time": "2023-03-05T15:04:35.170Z"
   },
   {
    "duration": 10,
    "start_time": "2023-03-05T15:04:35.181Z"
   },
   {
    "duration": 11,
    "start_time": "2023-03-05T15:04:35.192Z"
   },
   {
    "duration": 15,
    "start_time": "2023-03-05T15:04:35.205Z"
   },
   {
    "duration": 16,
    "start_time": "2023-03-05T15:04:35.222Z"
   },
   {
    "duration": 9,
    "start_time": "2023-03-05T15:04:35.240Z"
   },
   {
    "duration": 15,
    "start_time": "2023-03-05T15:04:35.252Z"
   },
   {
    "duration": 11,
    "start_time": "2023-03-05T15:04:35.269Z"
   },
   {
    "duration": 18,
    "start_time": "2023-03-05T15:04:35.282Z"
   },
   {
    "duration": 6,
    "start_time": "2023-03-05T15:04:35.302Z"
   },
   {
    "duration": 28,
    "start_time": "2023-03-05T15:04:35.310Z"
   },
   {
    "duration": 5,
    "start_time": "2023-03-05T15:05:33.676Z"
   },
   {
    "duration": 7,
    "start_time": "2023-03-05T15:09:26.168Z"
   },
   {
    "duration": 10,
    "start_time": "2023-03-05T15:10:23.115Z"
   },
   {
    "duration": 18,
    "start_time": "2023-03-05T15:11:23.580Z"
   },
   {
    "duration": 11,
    "start_time": "2023-03-05T15:11:49.612Z"
   },
   {
    "duration": 8,
    "start_time": "2023-03-05T15:12:55.980Z"
   },
   {
    "duration": 9,
    "start_time": "2023-03-05T15:13:31.426Z"
   },
   {
    "duration": 1203,
    "start_time": "2023-03-05T15:15:06.990Z"
   },
   {
    "duration": 78,
    "start_time": "2023-03-05T15:15:08.195Z"
   },
   {
    "duration": 13,
    "start_time": "2023-03-05T15:15:08.275Z"
   },
   {
    "duration": 22,
    "start_time": "2023-03-05T15:15:08.290Z"
   },
   {
    "duration": 23,
    "start_time": "2023-03-05T15:15:08.314Z"
   },
   {
    "duration": 46,
    "start_time": "2023-03-05T15:15:08.339Z"
   },
   {
    "duration": 18,
    "start_time": "2023-03-05T15:15:08.387Z"
   },
   {
    "duration": 8,
    "start_time": "2023-03-05T15:15:08.407Z"
   },
   {
    "duration": 14,
    "start_time": "2023-03-05T15:15:08.416Z"
   },
   {
    "duration": 13,
    "start_time": "2023-03-05T15:15:08.432Z"
   },
   {
    "duration": 12,
    "start_time": "2023-03-05T15:15:08.447Z"
   },
   {
    "duration": 9,
    "start_time": "2023-03-05T15:15:08.461Z"
   },
   {
    "duration": 25,
    "start_time": "2023-03-05T15:15:08.472Z"
   },
   {
    "duration": 17,
    "start_time": "2023-03-05T15:15:08.499Z"
   },
   {
    "duration": 22,
    "start_time": "2023-03-05T15:15:08.518Z"
   },
   {
    "duration": 19,
    "start_time": "2023-03-05T15:15:08.542Z"
   },
   {
    "duration": 15,
    "start_time": "2023-03-05T15:15:08.562Z"
   },
   {
    "duration": 10,
    "start_time": "2023-03-05T15:19:38.162Z"
   },
   {
    "duration": 8,
    "start_time": "2023-03-05T15:19:54.468Z"
   },
   {
    "duration": 2406,
    "start_time": "2023-03-05T15:50:02.365Z"
   },
   {
    "duration": 8,
    "start_time": "2023-03-05T15:50:45.415Z"
   },
   {
    "duration": 5,
    "start_time": "2023-03-05T15:51:12.064Z"
   },
   {
    "duration": 684,
    "start_time": "2023-03-05T15:52:08.440Z"
   },
   {
    "duration": 6,
    "start_time": "2023-03-05T15:53:59.598Z"
   },
   {
    "duration": 21,
    "start_time": "2023-03-05T15:58:10.811Z"
   },
   {
    "duration": 12,
    "start_time": "2023-03-05T15:58:18.043Z"
   },
   {
    "duration": 20,
    "start_time": "2023-03-05T16:00:10.937Z"
   },
   {
    "duration": 15,
    "start_time": "2023-03-05T16:00:33.715Z"
   },
   {
    "duration": 1252,
    "start_time": "2023-03-05T16:05:09.414Z"
   },
   {
    "duration": 76,
    "start_time": "2023-03-05T16:05:10.669Z"
   },
   {
    "duration": 14,
    "start_time": "2023-03-05T16:05:10.747Z"
   },
   {
    "duration": 41,
    "start_time": "2023-03-05T16:05:10.764Z"
   },
   {
    "duration": 32,
    "start_time": "2023-03-05T16:05:10.807Z"
   },
   {
    "duration": 20,
    "start_time": "2023-03-05T16:05:10.841Z"
   },
   {
    "duration": 40,
    "start_time": "2023-03-05T16:05:10.863Z"
   },
   {
    "duration": 19,
    "start_time": "2023-03-05T16:05:10.905Z"
   },
   {
    "duration": 29,
    "start_time": "2023-03-05T16:05:10.926Z"
   },
   {
    "duration": 17,
    "start_time": "2023-03-05T16:05:10.957Z"
   },
   {
    "duration": 28,
    "start_time": "2023-03-05T16:05:10.977Z"
   },
   {
    "duration": 26,
    "start_time": "2023-03-05T16:05:11.007Z"
   },
   {
    "duration": 35,
    "start_time": "2023-03-05T16:05:11.034Z"
   },
   {
    "duration": 23,
    "start_time": "2023-03-05T16:05:11.071Z"
   },
   {
    "duration": 53,
    "start_time": "2023-03-05T16:05:11.096Z"
   },
   {
    "duration": 21,
    "start_time": "2023-03-05T16:05:11.151Z"
   },
   {
    "duration": 33,
    "start_time": "2023-03-05T16:05:11.174Z"
   },
   {
    "duration": 23,
    "start_time": "2023-03-05T16:05:11.209Z"
   },
   {
    "duration": 43,
    "start_time": "2023-03-05T16:05:11.234Z"
   },
   {
    "duration": 17,
    "start_time": "2023-03-05T16:05:11.280Z"
   },
   {
    "duration": 1310,
    "start_time": "2023-03-06T06:21:02.798Z"
   },
   {
    "duration": 187,
    "start_time": "2023-03-06T06:21:04.110Z"
   },
   {
    "duration": 12,
    "start_time": "2023-03-06T06:21:04.298Z"
   },
   {
    "duration": 11,
    "start_time": "2023-03-06T06:21:04.312Z"
   },
   {
    "duration": 9,
    "start_time": "2023-03-06T06:21:04.324Z"
   },
   {
    "duration": 10,
    "start_time": "2023-03-06T06:21:04.335Z"
   },
   {
    "duration": 23,
    "start_time": "2023-03-06T06:21:04.347Z"
   },
   {
    "duration": 5,
    "start_time": "2023-03-06T06:21:04.371Z"
   },
   {
    "duration": 8,
    "start_time": "2023-03-06T06:21:04.377Z"
   },
   {
    "duration": 9,
    "start_time": "2023-03-06T06:21:04.387Z"
   },
   {
    "duration": 23,
    "start_time": "2023-03-06T06:21:04.398Z"
   },
   {
    "duration": 100,
    "start_time": "2023-03-06T06:21:04.423Z"
   },
   {
    "duration": 36,
    "start_time": "2023-03-06T06:21:04.525Z"
   },
   {
    "duration": 35,
    "start_time": "2023-03-06T06:21:04.562Z"
   },
   {
    "duration": 29,
    "start_time": "2023-03-06T06:21:04.599Z"
   },
   {
    "duration": 17,
    "start_time": "2023-03-06T06:21:04.630Z"
   },
   {
    "duration": 24,
    "start_time": "2023-03-06T06:21:04.649Z"
   },
   {
    "duration": 33,
    "start_time": "2023-03-06T06:21:04.675Z"
   },
   {
    "duration": 45,
    "start_time": "2023-03-06T06:21:04.710Z"
   },
   {
    "duration": 19,
    "start_time": "2023-03-06T06:21:04.757Z"
   },
   {
    "duration": 1457,
    "start_time": "2023-03-06T13:15:31.006Z"
   },
   {
    "duration": 263,
    "start_time": "2023-03-06T13:15:32.465Z"
   },
   {
    "duration": 14,
    "start_time": "2023-03-06T13:15:32.730Z"
   },
   {
    "duration": 24,
    "start_time": "2023-03-06T13:15:32.747Z"
   },
   {
    "duration": 27,
    "start_time": "2023-03-06T13:15:32.773Z"
   },
   {
    "duration": 21,
    "start_time": "2023-03-06T13:15:32.802Z"
   },
   {
    "duration": 46,
    "start_time": "2023-03-06T13:15:32.825Z"
   },
   {
    "duration": 13,
    "start_time": "2023-03-06T13:15:32.873Z"
   },
   {
    "duration": 11,
    "start_time": "2023-03-06T13:15:32.890Z"
   },
   {
    "duration": 12,
    "start_time": "2023-03-06T13:15:32.904Z"
   },
   {
    "duration": 16,
    "start_time": "2023-03-06T13:15:32.918Z"
   },
   {
    "duration": 31,
    "start_time": "2023-03-06T13:15:32.936Z"
   },
   {
    "duration": 24,
    "start_time": "2023-03-06T13:15:32.969Z"
   },
   {
    "duration": 18,
    "start_time": "2023-03-06T13:15:32.995Z"
   },
   {
    "duration": 38,
    "start_time": "2023-03-06T13:15:33.015Z"
   },
   {
    "duration": 26,
    "start_time": "2023-03-06T13:15:33.056Z"
   },
   {
    "duration": 17,
    "start_time": "2023-03-06T13:15:33.084Z"
   },
   {
    "duration": 10,
    "start_time": "2023-03-06T13:15:33.103Z"
   },
   {
    "duration": 20,
    "start_time": "2023-03-06T13:15:33.115Z"
   },
   {
    "duration": 16,
    "start_time": "2023-03-06T13:15:33.137Z"
   },
   {
    "duration": 6,
    "start_time": "2023-03-06T13:37:40.284Z"
   },
   {
    "duration": 6,
    "start_time": "2023-03-06T13:38:29.896Z"
   },
   {
    "duration": 103,
    "start_time": "2023-03-06T15:15:44.845Z"
   },
   {
    "duration": 10,
    "start_time": "2023-03-06T15:16:15.457Z"
   },
   {
    "duration": 54,
    "start_time": "2023-03-06T15:25:35.379Z"
   },
   {
    "duration": 1333,
    "start_time": "2023-03-06T15:28:33.085Z"
   },
   {
    "duration": 89,
    "start_time": "2023-03-06T15:28:34.422Z"
   },
   {
    "duration": 18,
    "start_time": "2023-03-06T15:28:34.514Z"
   },
   {
    "duration": 18,
    "start_time": "2023-03-06T15:28:34.535Z"
   },
   {
    "duration": 17,
    "start_time": "2023-03-06T15:28:34.555Z"
   },
   {
    "duration": 20,
    "start_time": "2023-03-06T15:28:34.574Z"
   },
   {
    "duration": 25,
    "start_time": "2023-03-06T15:28:34.596Z"
   },
   {
    "duration": 10,
    "start_time": "2023-03-06T15:28:34.624Z"
   },
   {
    "duration": 19,
    "start_time": "2023-03-06T15:28:34.636Z"
   },
   {
    "duration": 16,
    "start_time": "2023-03-06T15:28:34.663Z"
   },
   {
    "duration": 27,
    "start_time": "2023-03-06T15:28:34.682Z"
   },
   {
    "duration": 21,
    "start_time": "2023-03-06T15:28:34.712Z"
   },
   {
    "duration": 20,
    "start_time": "2023-03-06T15:28:34.735Z"
   },
   {
    "duration": 15,
    "start_time": "2023-03-06T15:28:34.757Z"
   },
   {
    "duration": 17,
    "start_time": "2023-03-06T15:28:34.774Z"
   },
   {
    "duration": 10,
    "start_time": "2023-03-06T15:28:34.792Z"
   },
   {
    "duration": 12,
    "start_time": "2023-03-06T15:28:34.804Z"
   },
   {
    "duration": 16,
    "start_time": "2023-03-06T15:28:34.818Z"
   },
   {
    "duration": 36,
    "start_time": "2023-03-06T15:28:34.836Z"
   },
   {
    "duration": 16,
    "start_time": "2023-03-06T15:28:34.873Z"
   },
   {
    "duration": 9,
    "start_time": "2023-03-06T15:28:34.891Z"
   },
   {
    "duration": 8,
    "start_time": "2023-03-06T15:28:34.902Z"
   },
   {
    "duration": 9,
    "start_time": "2023-03-06T15:28:34.912Z"
   },
   {
    "duration": 224,
    "start_time": "2023-03-06T15:28:34.924Z"
   },
   {
    "duration": 15,
    "start_time": "2023-03-06T15:28:35.150Z"
   },
   {
    "duration": 141,
    "start_time": "2023-03-06T15:29:08.383Z"
   },
   {
    "duration": 142,
    "start_time": "2023-03-06T15:29:12.335Z"
   },
   {
    "duration": 8,
    "start_time": "2023-03-06T15:29:16.093Z"
   },
   {
    "duration": 13,
    "start_time": "2023-03-06T15:45:46.842Z"
   },
   {
    "duration": 12,
    "start_time": "2023-03-06T15:46:50.834Z"
   },
   {
    "duration": 34,
    "start_time": "2023-03-06T16:05:26.417Z"
   },
   {
    "duration": 359,
    "start_time": "2023-03-06T16:06:06.513Z"
   },
   {
    "duration": 288,
    "start_time": "2023-03-06T16:09:12.414Z"
   },
   {
    "duration": 218,
    "start_time": "2023-03-06T16:10:42.572Z"
   },
   {
    "duration": 17,
    "start_time": "2023-03-06T17:54:49.913Z"
   },
   {
    "duration": 16,
    "start_time": "2023-03-06T17:55:02.009Z"
   },
   {
    "duration": 10,
    "start_time": "2023-03-06T17:58:31.789Z"
   },
   {
    "duration": 184,
    "start_time": "2023-03-06T18:11:06.069Z"
   },
   {
    "duration": 232,
    "start_time": "2023-03-06T18:11:44.397Z"
   },
   {
    "duration": 176,
    "start_time": "2023-03-06T18:28:52.503Z"
   },
   {
    "duration": 207,
    "start_time": "2023-03-06T18:29:20.359Z"
   },
   {
    "duration": 367,
    "start_time": "2023-03-06T18:30:31.245Z"
   },
   {
    "duration": 1316,
    "start_time": "2023-03-07T06:23:58.064Z"
   },
   {
    "duration": 204,
    "start_time": "2023-03-07T06:23:59.382Z"
   },
   {
    "duration": 15,
    "start_time": "2023-03-07T06:23:59.588Z"
   },
   {
    "duration": 11,
    "start_time": "2023-03-07T06:23:59.606Z"
   },
   {
    "duration": 11,
    "start_time": "2023-03-07T06:23:59.619Z"
   },
   {
    "duration": 14,
    "start_time": "2023-03-07T06:23:59.633Z"
   },
   {
    "duration": 15,
    "start_time": "2023-03-07T06:23:59.649Z"
   },
   {
    "duration": 20,
    "start_time": "2023-03-07T06:23:59.666Z"
   },
   {
    "duration": 9,
    "start_time": "2023-03-07T06:23:59.689Z"
   },
   {
    "duration": 14,
    "start_time": "2023-03-07T06:23:59.702Z"
   },
   {
    "duration": 10,
    "start_time": "2023-03-07T06:23:59.717Z"
   },
   {
    "duration": 8,
    "start_time": "2023-03-07T06:23:59.729Z"
   },
   {
    "duration": 26,
    "start_time": "2023-03-07T06:23:59.739Z"
   },
   {
    "duration": 10,
    "start_time": "2023-03-07T06:23:59.766Z"
   },
   {
    "duration": 12,
    "start_time": "2023-03-07T06:23:59.777Z"
   },
   {
    "duration": 7,
    "start_time": "2023-03-07T06:23:59.791Z"
   },
   {
    "duration": 10,
    "start_time": "2023-03-07T06:23:59.800Z"
   },
   {
    "duration": 9,
    "start_time": "2023-03-07T06:23:59.812Z"
   },
   {
    "duration": 45,
    "start_time": "2023-03-07T06:23:59.823Z"
   },
   {
    "duration": 13,
    "start_time": "2023-03-07T06:23:59.870Z"
   },
   {
    "duration": 8,
    "start_time": "2023-03-07T06:23:59.885Z"
   },
   {
    "duration": 6,
    "start_time": "2023-03-07T06:23:59.895Z"
   },
   {
    "duration": 9,
    "start_time": "2023-03-07T06:23:59.903Z"
   },
   {
    "duration": 351,
    "start_time": "2023-03-07T06:23:59.914Z"
   },
   {
    "duration": 304,
    "start_time": "2023-03-07T06:24:00.266Z"
   },
   {
    "duration": 16,
    "start_time": "2023-03-07T06:24:00.572Z"
   },
   {
    "duration": 48,
    "start_time": "2023-03-07T06:24:00.590Z"
   },
   {
    "duration": 253,
    "start_time": "2023-03-07T06:24:00.641Z"
   },
   {
    "duration": 400,
    "start_time": "2023-03-07T06:24:00.895Z"
   },
   {
    "duration": 3,
    "start_time": "2023-03-07T06:24:01.297Z"
   },
   {
    "duration": 36,
    "start_time": "2023-03-07T06:24:01.302Z"
   },
   {
    "duration": 32,
    "start_time": "2023-03-07T06:24:01.340Z"
   },
   {
    "duration": 2,
    "start_time": "2023-03-07T06:32:20.328Z"
   },
   {
    "duration": 209,
    "start_time": "2023-03-07T06:39:16.161Z"
   },
   {
    "duration": 328,
    "start_time": "2023-03-07T06:50:51.163Z"
   },
   {
    "duration": 105,
    "start_time": "2023-03-07T07:02:39.779Z"
   },
   {
    "duration": 10,
    "start_time": "2023-03-07T07:03:22.969Z"
   },
   {
    "duration": 16,
    "start_time": "2023-03-07T07:03:59.214Z"
   },
   {
    "duration": 14,
    "start_time": "2023-03-07T07:04:36.214Z"
   },
   {
    "duration": 12,
    "start_time": "2023-03-07T07:04:50.202Z"
   },
   {
    "duration": 135,
    "start_time": "2023-03-07T07:05:48.199Z"
   },
   {
    "duration": 133,
    "start_time": "2023-03-07T07:06:20.616Z"
   },
   {
    "duration": 131,
    "start_time": "2023-03-07T07:11:01.242Z"
   },
   {
    "duration": 196,
    "start_time": "2023-03-07T07:11:34.728Z"
   },
   {
    "duration": 1326,
    "start_time": "2023-03-07T13:23:55.391Z"
   },
   {
    "duration": 187,
    "start_time": "2023-03-07T13:23:56.719Z"
   },
   {
    "duration": 11,
    "start_time": "2023-03-07T13:23:56.908Z"
   },
   {
    "duration": 20,
    "start_time": "2023-03-07T13:23:56.920Z"
   },
   {
    "duration": 12,
    "start_time": "2023-03-07T13:23:56.942Z"
   },
   {
    "duration": 21,
    "start_time": "2023-03-07T13:23:56.956Z"
   },
   {
    "duration": 24,
    "start_time": "2023-03-07T13:23:56.978Z"
   },
   {
    "duration": 9,
    "start_time": "2023-03-07T13:23:57.004Z"
   },
   {
    "duration": 18,
    "start_time": "2023-03-07T13:23:57.014Z"
   },
   {
    "duration": 11,
    "start_time": "2023-03-07T13:23:57.033Z"
   },
   {
    "duration": 9,
    "start_time": "2023-03-07T13:23:57.046Z"
   },
   {
    "duration": 19,
    "start_time": "2023-03-07T13:23:57.057Z"
   },
   {
    "duration": 30,
    "start_time": "2023-03-07T13:23:57.077Z"
   },
   {
    "duration": 9,
    "start_time": "2023-03-07T13:23:57.111Z"
   },
   {
    "duration": 13,
    "start_time": "2023-03-07T13:23:57.122Z"
   },
   {
    "duration": 7,
    "start_time": "2023-03-07T13:23:57.136Z"
   },
   {
    "duration": 12,
    "start_time": "2023-03-07T13:23:57.145Z"
   },
   {
    "duration": 10,
    "start_time": "2023-03-07T13:23:57.159Z"
   },
   {
    "duration": 25,
    "start_time": "2023-03-07T13:23:57.171Z"
   },
   {
    "duration": 15,
    "start_time": "2023-03-07T13:23:57.198Z"
   },
   {
    "duration": 17,
    "start_time": "2023-03-07T13:23:57.214Z"
   },
   {
    "duration": 11,
    "start_time": "2023-03-07T13:23:57.233Z"
   },
   {
    "duration": 12,
    "start_time": "2023-03-07T13:23:57.245Z"
   },
   {
    "duration": 322,
    "start_time": "2023-03-07T13:23:57.259Z"
   },
   {
    "duration": 266,
    "start_time": "2023-03-07T13:23:57.586Z"
   },
   {
    "duration": 15,
    "start_time": "2023-03-07T13:23:57.853Z"
   },
   {
    "duration": 20,
    "start_time": "2023-03-07T13:23:57.880Z"
   },
   {
    "duration": 192,
    "start_time": "2023-03-07T13:23:57.902Z"
   },
   {
    "duration": 313,
    "start_time": "2023-03-07T13:23:58.096Z"
   },
   {
    "duration": 206,
    "start_time": "2023-03-07T13:23:58.410Z"
   },
   {
    "duration": 291,
    "start_time": "2023-03-07T13:23:58.618Z"
   },
   {
    "duration": 137,
    "start_time": "2023-03-07T13:23:58.911Z"
   },
   {
    "duration": 3,
    "start_time": "2023-03-07T13:23:59.049Z"
   },
   {
    "duration": 19,
    "start_time": "2023-03-07T13:23:59.053Z"
   },
   {
    "duration": 35,
    "start_time": "2023-03-07T13:23:59.074Z"
   },
   {
    "duration": 6,
    "start_time": "2023-03-07T13:31:07.225Z"
   },
   {
    "duration": 5,
    "start_time": "2023-03-07T13:31:53.617Z"
   },
   {
    "duration": 5,
    "start_time": "2023-03-07T13:32:57.210Z"
   },
   {
    "duration": 113,
    "start_time": "2023-03-07T13:48:03.434Z"
   },
   {
    "duration": 0,
    "start_time": "2023-03-07T13:48:03.549Z"
   },
   {
    "duration": 152,
    "start_time": "2023-03-07T13:50:47.610Z"
   },
   {
    "duration": 98,
    "start_time": "2023-03-07T13:56:46.340Z"
   },
   {
    "duration": 106,
    "start_time": "2023-03-07T13:58:59.098Z"
   },
   {
    "duration": 92,
    "start_time": "2023-03-07T13:59:32.591Z"
   },
   {
    "duration": 218,
    "start_time": "2023-03-07T14:00:10.807Z"
   },
   {
    "duration": 218,
    "start_time": "2023-03-07T14:02:00.230Z"
   },
   {
    "duration": 282,
    "start_time": "2023-03-07T14:04:42.686Z"
   },
   {
    "duration": 23,
    "start_time": "2023-03-07T15:45:49.730Z"
   },
   {
    "duration": 1344,
    "start_time": "2023-03-07T17:15:08.024Z"
   },
   {
    "duration": 1199,
    "start_time": "2023-03-07T17:16:01.361Z"
   },
   {
    "duration": 12,
    "start_time": "2023-03-07T17:16:27.423Z"
   },
   {
    "duration": 13,
    "start_time": "2023-03-07T17:20:18.019Z"
   },
   {
    "duration": 1228,
    "start_time": "2023-03-07T17:21:47.626Z"
   },
   {
    "duration": 1244,
    "start_time": "2023-03-07T17:22:44.909Z"
   },
   {
    "duration": 301,
    "start_time": "2023-03-07T17:22:46.158Z"
   },
   {
    "duration": 12,
    "start_time": "2023-03-07T17:22:46.461Z"
   },
   {
    "duration": 31,
    "start_time": "2023-03-07T17:22:46.474Z"
   },
   {
    "duration": 21,
    "start_time": "2023-03-07T17:22:46.514Z"
   },
   {
    "duration": 17,
    "start_time": "2023-03-07T17:22:46.537Z"
   },
   {
    "duration": 19,
    "start_time": "2023-03-07T17:22:46.556Z"
   },
   {
    "duration": 13,
    "start_time": "2023-03-07T17:22:46.576Z"
   },
   {
    "duration": 44,
    "start_time": "2023-03-07T17:22:46.591Z"
   },
   {
    "duration": 10,
    "start_time": "2023-03-07T17:22:46.636Z"
   },
   {
    "duration": 11,
    "start_time": "2023-03-07T17:22:46.647Z"
   },
   {
    "duration": 8,
    "start_time": "2023-03-07T17:22:46.660Z"
   },
   {
    "duration": 28,
    "start_time": "2023-03-07T17:22:46.669Z"
   },
   {
    "duration": 19,
    "start_time": "2023-03-07T17:22:46.709Z"
   },
   {
    "duration": 13,
    "start_time": "2023-03-07T17:22:46.730Z"
   },
   {
    "duration": 6,
    "start_time": "2023-03-07T17:22:46.745Z"
   },
   {
    "duration": 9,
    "start_time": "2023-03-07T17:22:46.752Z"
   },
   {
    "duration": 15,
    "start_time": "2023-03-07T17:22:46.762Z"
   },
   {
    "duration": 58,
    "start_time": "2023-03-07T17:22:46.778Z"
   },
   {
    "duration": 11,
    "start_time": "2023-03-07T17:22:46.837Z"
   },
   {
    "duration": 9,
    "start_time": "2023-03-07T17:22:46.850Z"
   },
   {
    "duration": 6,
    "start_time": "2023-03-07T17:22:46.861Z"
   },
   {
    "duration": 6,
    "start_time": "2023-03-07T17:22:46.869Z"
   },
   {
    "duration": 337,
    "start_time": "2023-03-07T17:22:46.876Z"
   },
   {
    "duration": 270,
    "start_time": "2023-03-07T17:22:47.214Z"
   },
   {
    "duration": 17,
    "start_time": "2023-03-07T17:22:47.486Z"
   },
   {
    "duration": 35,
    "start_time": "2023-03-07T17:22:47.507Z"
   },
   {
    "duration": 203,
    "start_time": "2023-03-07T17:22:47.543Z"
   },
   {
    "duration": 336,
    "start_time": "2023-03-07T17:22:47.747Z"
   },
   {
    "duration": 213,
    "start_time": "2023-03-07T17:22:48.084Z"
   },
   {
    "duration": 319,
    "start_time": "2023-03-07T17:22:48.298Z"
   },
   {
    "duration": 137,
    "start_time": "2023-03-07T17:22:48.618Z"
   },
   {
    "duration": 4,
    "start_time": "2023-03-07T17:22:48.756Z"
   },
   {
    "duration": 5,
    "start_time": "2023-03-07T17:22:48.761Z"
   },
   {
    "duration": 141,
    "start_time": "2023-03-07T17:22:48.768Z"
   },
   {
    "duration": 0,
    "start_time": "2023-03-07T17:22:48.910Z"
   },
   {
    "duration": 0,
    "start_time": "2023-03-07T17:22:48.911Z"
   },
   {
    "duration": 0,
    "start_time": "2023-03-07T17:22:48.912Z"
   },
   {
    "duration": 0,
    "start_time": "2023-03-07T17:22:48.913Z"
   },
   {
    "duration": 0,
    "start_time": "2023-03-07T17:22:48.913Z"
   },
   {
    "duration": 0,
    "start_time": "2023-03-07T17:22:48.914Z"
   },
   {
    "duration": 9,
    "start_time": "2023-03-07T17:23:45.020Z"
   },
   {
    "duration": 141,
    "start_time": "2023-03-07T17:23:58.914Z"
   },
   {
    "duration": 1202,
    "start_time": "2023-03-07T17:24:20.014Z"
   },
   {
    "duration": 103,
    "start_time": "2023-03-07T17:24:21.226Z"
   },
   {
    "duration": 11,
    "start_time": "2023-03-07T17:24:21.331Z"
   },
   {
    "duration": 10,
    "start_time": "2023-03-07T17:24:21.344Z"
   },
   {
    "duration": 10,
    "start_time": "2023-03-07T17:24:21.355Z"
   },
   {
    "duration": 10,
    "start_time": "2023-03-07T17:24:21.366Z"
   },
   {
    "duration": 51,
    "start_time": "2023-03-07T17:24:21.378Z"
   },
   {
    "duration": 4,
    "start_time": "2023-03-07T17:24:21.431Z"
   },
   {
    "duration": 8,
    "start_time": "2023-03-07T17:24:21.436Z"
   },
   {
    "duration": 10,
    "start_time": "2023-03-07T17:24:21.447Z"
   },
   {
    "duration": 13,
    "start_time": "2023-03-07T17:24:21.458Z"
   },
   {
    "duration": 21,
    "start_time": "2023-03-07T17:24:21.472Z"
   },
   {
    "duration": 43,
    "start_time": "2023-03-07T17:24:21.494Z"
   },
   {
    "duration": 9,
    "start_time": "2023-03-07T17:24:21.539Z"
   },
   {
    "duration": 14,
    "start_time": "2023-03-07T17:24:21.550Z"
   },
   {
    "duration": 6,
    "start_time": "2023-03-07T17:24:21.566Z"
   },
   {
    "duration": 24,
    "start_time": "2023-03-07T17:24:21.573Z"
   },
   {
    "duration": 38,
    "start_time": "2023-03-07T17:24:21.598Z"
   },
   {
    "duration": 24,
    "start_time": "2023-03-07T17:24:21.638Z"
   },
   {
    "duration": 27,
    "start_time": "2023-03-07T17:24:21.664Z"
   },
   {
    "duration": 33,
    "start_time": "2023-03-07T17:24:21.694Z"
   },
   {
    "duration": 6,
    "start_time": "2023-03-07T17:24:21.728Z"
   },
   {
    "duration": 7,
    "start_time": "2023-03-07T17:24:21.735Z"
   },
   {
    "duration": 302,
    "start_time": "2023-03-07T17:24:21.744Z"
   },
   {
    "duration": 298,
    "start_time": "2023-03-07T17:24:22.048Z"
   },
   {
    "duration": 16,
    "start_time": "2023-03-07T17:24:22.348Z"
   },
   {
    "duration": 23,
    "start_time": "2023-03-07T17:24:22.389Z"
   },
   {
    "duration": 216,
    "start_time": "2023-03-07T17:24:22.416Z"
   },
   {
    "duration": 284,
    "start_time": "2023-03-07T17:24:22.633Z"
   },
   {
    "duration": 221,
    "start_time": "2023-03-07T17:24:22.921Z"
   },
   {
    "duration": 307,
    "start_time": "2023-03-07T17:24:23.144Z"
   },
   {
    "duration": 165,
    "start_time": "2023-03-07T17:24:23.452Z"
   },
   {
    "duration": 11,
    "start_time": "2023-03-07T17:24:23.618Z"
   },
   {
    "duration": 7,
    "start_time": "2023-03-07T17:24:23.631Z"
   },
   {
    "duration": 182,
    "start_time": "2023-03-07T17:24:23.639Z"
   },
   {
    "duration": 231,
    "start_time": "2023-03-07T17:24:23.823Z"
   },
   {
    "duration": 312,
    "start_time": "2023-03-07T17:24:24.056Z"
   },
   {
    "duration": 51,
    "start_time": "2023-03-07T17:24:24.369Z"
   },
   {
    "duration": 11,
    "start_time": "2023-03-07T17:24:24.425Z"
   },
   {
    "duration": 3,
    "start_time": "2023-03-07T17:24:24.438Z"
   },
   {
    "duration": 5,
    "start_time": "2023-03-07T17:24:24.442Z"
   },
   {
    "duration": 248,
    "start_time": "2023-03-07T17:25:57.410Z"
   },
   {
    "duration": 150,
    "start_time": "2023-03-07T17:26:23.520Z"
   },
   {
    "duration": 285,
    "start_time": "2023-03-07T17:34:13.064Z"
   },
   {
    "duration": 11,
    "start_time": "2023-03-07T17:34:45.838Z"
   },
   {
    "duration": 196,
    "start_time": "2023-03-07T17:35:35.825Z"
   },
   {
    "duration": 198,
    "start_time": "2023-03-07T17:37:03.336Z"
   },
   {
    "duration": 12,
    "start_time": "2023-03-07T17:37:55.843Z"
   },
   {
    "duration": 154,
    "start_time": "2023-03-07T17:38:18.405Z"
   },
   {
    "duration": 178,
    "start_time": "2023-03-07T17:39:06.405Z"
   },
   {
    "duration": 191,
    "start_time": "2023-03-07T17:40:06.997Z"
   },
   {
    "duration": 7,
    "start_time": "2023-03-07T17:45:52.002Z"
   },
   {
    "duration": 11,
    "start_time": "2023-03-07T17:59:37.510Z"
   },
   {
    "duration": 23,
    "start_time": "2023-03-07T18:00:39.478Z"
   },
   {
    "duration": 49,
    "start_time": "2023-03-07T18:04:22.579Z"
   },
   {
    "duration": 11,
    "start_time": "2023-03-07T18:25:00.904Z"
   },
   {
    "duration": 43,
    "start_time": "2023-03-07T18:25:26.678Z"
   },
   {
    "duration": 15,
    "start_time": "2023-03-07T18:35:36.997Z"
   },
   {
    "duration": 1257,
    "start_time": "2023-03-08T05:58:37.139Z"
   },
   {
    "duration": 186,
    "start_time": "2023-03-08T05:58:38.398Z"
   },
   {
    "duration": 11,
    "start_time": "2023-03-08T05:58:38.585Z"
   },
   {
    "duration": 10,
    "start_time": "2023-03-08T05:58:38.598Z"
   },
   {
    "duration": 11,
    "start_time": "2023-03-08T05:58:38.610Z"
   },
   {
    "duration": 13,
    "start_time": "2023-03-08T05:58:38.622Z"
   },
   {
    "duration": 19,
    "start_time": "2023-03-08T05:58:38.636Z"
   },
   {
    "duration": 11,
    "start_time": "2023-03-08T05:58:38.657Z"
   },
   {
    "duration": 13,
    "start_time": "2023-03-08T05:58:38.669Z"
   },
   {
    "duration": 10,
    "start_time": "2023-03-08T05:58:38.684Z"
   },
   {
    "duration": 10,
    "start_time": "2023-03-08T05:58:38.696Z"
   },
   {
    "duration": 12,
    "start_time": "2023-03-08T05:58:38.708Z"
   },
   {
    "duration": 19,
    "start_time": "2023-03-08T05:58:38.721Z"
   },
   {
    "duration": 10,
    "start_time": "2023-03-08T05:58:38.741Z"
   },
   {
    "duration": 12,
    "start_time": "2023-03-08T05:58:38.752Z"
   },
   {
    "duration": 12,
    "start_time": "2023-03-08T05:58:38.765Z"
   },
   {
    "duration": 7,
    "start_time": "2023-03-08T05:58:38.779Z"
   },
   {
    "duration": 16,
    "start_time": "2023-03-08T05:58:38.787Z"
   },
   {
    "duration": 26,
    "start_time": "2023-03-08T05:58:38.805Z"
   },
   {
    "duration": 12,
    "start_time": "2023-03-08T05:58:38.833Z"
   },
   {
    "duration": 7,
    "start_time": "2023-03-08T05:58:38.847Z"
   },
   {
    "duration": 17,
    "start_time": "2023-03-08T05:58:38.855Z"
   },
   {
    "duration": 12,
    "start_time": "2023-03-08T05:58:38.873Z"
   },
   {
    "duration": 321,
    "start_time": "2023-03-08T05:58:38.887Z"
   },
   {
    "duration": 302,
    "start_time": "2023-03-08T05:58:39.210Z"
   },
   {
    "duration": 24,
    "start_time": "2023-03-08T05:58:39.513Z"
   },
   {
    "duration": 9,
    "start_time": "2023-03-08T05:58:39.539Z"
   },
   {
    "duration": 201,
    "start_time": "2023-03-08T05:58:39.551Z"
   },
   {
    "duration": 337,
    "start_time": "2023-03-08T05:58:39.753Z"
   },
   {
    "duration": 221,
    "start_time": "2023-03-08T05:58:40.092Z"
   },
   {
    "duration": 329,
    "start_time": "2023-03-08T05:58:40.315Z"
   },
   {
    "duration": 148,
    "start_time": "2023-03-08T05:58:40.646Z"
   },
   {
    "duration": 4,
    "start_time": "2023-03-08T05:58:40.796Z"
   },
   {
    "duration": 8,
    "start_time": "2023-03-08T05:58:40.802Z"
   },
   {
    "duration": 161,
    "start_time": "2023-03-08T05:58:40.811Z"
   },
   {
    "duration": 169,
    "start_time": "2023-03-08T05:58:40.973Z"
   },
   {
    "duration": 4,
    "start_time": "2023-03-08T05:58:41.143Z"
   },
   {
    "duration": 307,
    "start_time": "2023-03-08T05:58:41.149Z"
   },
   {
    "duration": 279,
    "start_time": "2023-03-08T05:58:41.458Z"
   },
   {
    "duration": 10,
    "start_time": "2023-03-08T05:58:41.739Z"
   },
   {
    "duration": 8,
    "start_time": "2023-03-08T05:58:41.751Z"
   },
   {
    "duration": 27,
    "start_time": "2023-03-08T05:58:41.760Z"
   },
   {
    "duration": 45,
    "start_time": "2023-03-08T05:58:41.789Z"
   },
   {
    "duration": 3,
    "start_time": "2023-03-08T05:58:41.835Z"
   },
   {
    "duration": 11,
    "start_time": "2023-03-08T05:58:41.839Z"
   },
   {
    "duration": 324,
    "start_time": "2023-03-08T15:42:59.249Z"
   },
   {
    "duration": 16,
    "start_time": "2023-03-08T15:43:03.246Z"
   },
   {
    "duration": 12,
    "start_time": "2023-03-08T15:43:05.151Z"
   },
   {
    "duration": 1232,
    "start_time": "2023-03-08T15:43:19.972Z"
   },
   {
    "duration": 155,
    "start_time": "2023-03-08T15:43:21.206Z"
   },
   {
    "duration": 13,
    "start_time": "2023-03-08T15:43:21.362Z"
   },
   {
    "duration": 12,
    "start_time": "2023-03-08T15:43:21.377Z"
   },
   {
    "duration": 8,
    "start_time": "2023-03-08T15:43:21.393Z"
   },
   {
    "duration": 15,
    "start_time": "2023-03-08T15:43:21.403Z"
   },
   {
    "duration": 30,
    "start_time": "2023-03-08T15:43:21.420Z"
   },
   {
    "duration": 10,
    "start_time": "2023-03-08T15:43:21.452Z"
   },
   {
    "duration": 16,
    "start_time": "2023-03-08T15:43:21.463Z"
   },
   {
    "duration": 15,
    "start_time": "2023-03-08T15:43:21.481Z"
   },
   {
    "duration": 34,
    "start_time": "2023-03-08T15:43:21.498Z"
   },
   {
    "duration": 13,
    "start_time": "2023-03-08T15:43:21.534Z"
   },
   {
    "duration": 22,
    "start_time": "2023-03-08T15:43:21.549Z"
   },
   {
    "duration": 10,
    "start_time": "2023-03-08T15:43:21.574Z"
   },
   {
    "duration": 17,
    "start_time": "2023-03-08T15:43:21.586Z"
   },
   {
    "duration": 9,
    "start_time": "2023-03-08T15:43:21.605Z"
   },
   {
    "duration": 25,
    "start_time": "2023-03-08T15:43:21.616Z"
   },
   {
    "duration": 12,
    "start_time": "2023-03-08T15:43:21.644Z"
   },
   {
    "duration": 23,
    "start_time": "2023-03-08T15:43:21.658Z"
   },
   {
    "duration": 13,
    "start_time": "2023-03-08T15:43:21.683Z"
   },
   {
    "duration": 401,
    "start_time": "2023-03-08T15:43:21.698Z"
   },
   {
    "duration": 305,
    "start_time": "2023-03-08T15:43:22.101Z"
   },
   {
    "duration": 30,
    "start_time": "2023-03-08T15:43:22.408Z"
   },
   {
    "duration": 31,
    "start_time": "2023-03-08T15:43:22.440Z"
   },
   {
    "duration": 195,
    "start_time": "2023-03-08T15:43:22.472Z"
   },
   {
    "duration": 293,
    "start_time": "2023-03-08T15:43:22.668Z"
   },
   {
    "duration": 230,
    "start_time": "2023-03-08T15:43:22.963Z"
   },
   {
    "duration": 358,
    "start_time": "2023-03-08T15:43:23.194Z"
   },
   {
    "duration": 156,
    "start_time": "2023-03-08T15:43:23.554Z"
   },
   {
    "duration": 5,
    "start_time": "2023-03-08T15:43:23.712Z"
   },
   {
    "duration": 6,
    "start_time": "2023-03-08T15:43:23.734Z"
   },
   {
    "duration": 187,
    "start_time": "2023-03-08T15:43:23.741Z"
   },
   {
    "duration": 168,
    "start_time": "2023-03-08T15:43:23.934Z"
   },
   {
    "duration": 4,
    "start_time": "2023-03-08T15:43:24.103Z"
   },
   {
    "duration": 354,
    "start_time": "2023-03-08T15:43:24.109Z"
   },
   {
    "duration": 328,
    "start_time": "2023-03-08T15:43:24.464Z"
   },
   {
    "duration": 12,
    "start_time": "2023-03-08T15:43:24.794Z"
   },
   {
    "duration": 39,
    "start_time": "2023-03-08T15:43:24.807Z"
   },
   {
    "duration": 269,
    "start_time": "2023-03-08T15:43:24.849Z"
   },
   {
    "duration": 39,
    "start_time": "2023-03-08T15:43:25.120Z"
   },
   {
    "duration": 15,
    "start_time": "2023-03-08T15:43:25.162Z"
   },
   {
    "duration": 347,
    "start_time": "2023-03-08T15:43:25.179Z"
   },
   {
    "duration": 15,
    "start_time": "2023-03-08T15:43:25.527Z"
   },
   {
    "duration": 20,
    "start_time": "2023-03-08T15:43:25.544Z"
   },
   {
    "duration": 1208,
    "start_time": "2023-03-08T15:45:28.843Z"
   },
   {
    "duration": 75,
    "start_time": "2023-03-08T15:45:30.053Z"
   },
   {
    "duration": 15,
    "start_time": "2023-03-08T15:45:30.132Z"
   },
   {
    "duration": 19,
    "start_time": "2023-03-08T15:45:30.150Z"
   },
   {
    "duration": 34,
    "start_time": "2023-03-08T15:45:30.171Z"
   },
   {
    "duration": 21,
    "start_time": "2023-03-08T15:45:30.207Z"
   },
   {
    "duration": 37,
    "start_time": "2023-03-08T15:45:30.230Z"
   },
   {
    "duration": 24,
    "start_time": "2023-03-08T15:45:30.268Z"
   },
   {
    "duration": 19,
    "start_time": "2023-03-08T15:45:30.294Z"
   },
   {
    "duration": 32,
    "start_time": "2023-03-08T15:45:30.316Z"
   },
   {
    "duration": 35,
    "start_time": "2023-03-08T15:45:30.351Z"
   },
   {
    "duration": 30,
    "start_time": "2023-03-08T15:45:30.387Z"
   },
   {
    "duration": 33,
    "start_time": "2023-03-08T15:45:30.418Z"
   },
   {
    "duration": 19,
    "start_time": "2023-03-08T15:45:30.453Z"
   },
   {
    "duration": 47,
    "start_time": "2023-03-08T15:45:30.473Z"
   },
   {
    "duration": 30,
    "start_time": "2023-03-08T15:45:30.522Z"
   },
   {
    "duration": 34,
    "start_time": "2023-03-08T15:45:30.554Z"
   },
   {
    "duration": 29,
    "start_time": "2023-03-08T15:45:30.590Z"
   },
   {
    "duration": 31,
    "start_time": "2023-03-08T15:45:30.621Z"
   },
   {
    "duration": 25,
    "start_time": "2023-03-08T15:45:30.654Z"
   },
   {
    "duration": 347,
    "start_time": "2023-03-08T15:45:30.680Z"
   },
   {
    "duration": 330,
    "start_time": "2023-03-08T15:45:31.028Z"
   },
   {
    "duration": 17,
    "start_time": "2023-03-08T15:45:31.360Z"
   },
   {
    "duration": 56,
    "start_time": "2023-03-08T15:45:31.379Z"
   },
   {
    "duration": 224,
    "start_time": "2023-03-08T15:45:31.437Z"
   },
   {
    "duration": 308,
    "start_time": "2023-03-08T15:45:31.662Z"
   },
   {
    "duration": 256,
    "start_time": "2023-03-08T15:45:31.971Z"
   },
   {
    "duration": 337,
    "start_time": "2023-03-08T15:45:32.236Z"
   },
   {
    "duration": 174,
    "start_time": "2023-03-08T15:45:32.575Z"
   },
   {
    "duration": 5,
    "start_time": "2023-03-08T15:45:32.751Z"
   },
   {
    "duration": 27,
    "start_time": "2023-03-08T15:45:32.758Z"
   },
   {
    "duration": 170,
    "start_time": "2023-03-08T15:45:32.787Z"
   },
   {
    "duration": 261,
    "start_time": "2023-03-08T15:45:32.959Z"
   },
   {
    "duration": 5,
    "start_time": "2023-03-08T15:45:33.221Z"
   },
   {
    "duration": 286,
    "start_time": "2023-03-08T15:45:33.231Z"
   },
   {
    "duration": 401,
    "start_time": "2023-03-08T15:45:33.520Z"
   },
   {
    "duration": 19,
    "start_time": "2023-03-08T15:45:33.922Z"
   },
   {
    "duration": 36,
    "start_time": "2023-03-08T15:45:33.943Z"
   },
   {
    "duration": 315,
    "start_time": "2023-03-08T15:45:33.981Z"
   },
   {
    "duration": 56,
    "start_time": "2023-03-08T15:45:34.298Z"
   },
   {
    "duration": 18,
    "start_time": "2023-03-08T15:45:34.357Z"
   },
   {
    "duration": 374,
    "start_time": "2023-03-08T15:45:34.377Z"
   },
   {
    "duration": 13,
    "start_time": "2023-03-08T15:45:34.753Z"
   },
   {
    "duration": 13,
    "start_time": "2023-03-08T15:45:34.767Z"
   },
   {
    "duration": 151,
    "start_time": "2023-03-08T15:46:11.612Z"
   },
   {
    "duration": 10,
    "start_time": "2023-03-08T15:47:53.711Z"
   },
   {
    "duration": 11,
    "start_time": "2023-03-08T15:47:57.879Z"
   },
   {
    "duration": 186,
    "start_time": "2023-03-08T15:49:06.034Z"
   },
   {
    "duration": 140,
    "start_time": "2023-03-08T15:49:45.036Z"
   },
   {
    "duration": 152,
    "start_time": "2023-03-08T15:51:20.103Z"
   },
   {
    "duration": 8,
    "start_time": "2023-03-08T15:53:07.813Z"
   },
   {
    "duration": 11,
    "start_time": "2023-03-08T15:54:16.715Z"
   },
   {
    "duration": 122,
    "start_time": "2023-03-08T15:54:45.569Z"
   },
   {
    "duration": 10,
    "start_time": "2023-03-08T15:56:15.234Z"
   },
   {
    "duration": 113,
    "start_time": "2023-03-08T15:56:27.875Z"
   },
   {
    "duration": 1220,
    "start_time": "2023-03-08T15:58:33.416Z"
   },
   {
    "duration": 74,
    "start_time": "2023-03-08T15:58:34.638Z"
   },
   {
    "duration": 12,
    "start_time": "2023-03-08T15:58:34.714Z"
   },
   {
    "duration": 11,
    "start_time": "2023-03-08T15:58:34.728Z"
   },
   {
    "duration": 18,
    "start_time": "2023-03-08T15:58:34.741Z"
   },
   {
    "duration": 15,
    "start_time": "2023-03-08T15:58:34.761Z"
   },
   {
    "duration": 16,
    "start_time": "2023-03-08T15:58:34.778Z"
   },
   {
    "duration": 15,
    "start_time": "2023-03-08T15:58:34.796Z"
   },
   {
    "duration": 21,
    "start_time": "2023-03-08T15:58:34.812Z"
   },
   {
    "duration": 15,
    "start_time": "2023-03-08T15:58:34.835Z"
   },
   {
    "duration": 20,
    "start_time": "2023-03-08T15:58:34.852Z"
   },
   {
    "duration": 10,
    "start_time": "2023-03-08T15:58:34.874Z"
   },
   {
    "duration": 13,
    "start_time": "2023-03-08T15:58:34.885Z"
   },
   {
    "duration": 30,
    "start_time": "2023-03-08T15:58:34.901Z"
   },
   {
    "duration": 11,
    "start_time": "2023-03-08T15:58:34.932Z"
   },
   {
    "duration": 22,
    "start_time": "2023-03-08T15:58:34.945Z"
   },
   {
    "duration": 25,
    "start_time": "2023-03-08T15:58:34.968Z"
   },
   {
    "duration": 33,
    "start_time": "2023-03-08T15:58:34.994Z"
   },
   {
    "duration": 34,
    "start_time": "2023-03-08T15:58:35.029Z"
   },
   {
    "duration": 28,
    "start_time": "2023-03-08T15:58:35.065Z"
   },
   {
    "duration": 344,
    "start_time": "2023-03-08T15:58:35.095Z"
   },
   {
    "duration": 348,
    "start_time": "2023-03-08T15:58:35.440Z"
   },
   {
    "duration": 18,
    "start_time": "2023-03-08T15:58:35.790Z"
   },
   {
    "duration": 61,
    "start_time": "2023-03-08T15:58:35.830Z"
   },
   {
    "duration": 223,
    "start_time": "2023-03-08T15:58:35.892Z"
   },
   {
    "duration": 328,
    "start_time": "2023-03-08T15:58:36.116Z"
   },
   {
    "duration": 295,
    "start_time": "2023-03-08T15:58:36.445Z"
   },
   {
    "duration": 323,
    "start_time": "2023-03-08T15:58:36.742Z"
   },
   {
    "duration": 167,
    "start_time": "2023-03-08T15:58:37.067Z"
   },
   {
    "duration": 4,
    "start_time": "2023-03-08T15:58:37.236Z"
   },
   {
    "duration": 13,
    "start_time": "2023-03-08T15:58:37.242Z"
   },
   {
    "duration": 231,
    "start_time": "2023-03-08T15:58:37.258Z"
   },
   {
    "duration": 261,
    "start_time": "2023-03-08T15:58:37.491Z"
   },
   {
    "duration": 5,
    "start_time": "2023-03-08T15:58:37.755Z"
   },
   {
    "duration": 270,
    "start_time": "2023-03-08T15:58:37.762Z"
   },
   {
    "duration": 321,
    "start_time": "2023-03-08T15:58:38.034Z"
   },
   {
    "duration": 12,
    "start_time": "2023-03-08T15:58:38.357Z"
   },
   {
    "duration": 12,
    "start_time": "2023-03-08T15:58:38.371Z"
   },
   {
    "duration": 240,
    "start_time": "2023-03-08T15:58:38.384Z"
   },
   {
    "duration": 31,
    "start_time": "2023-03-08T15:58:38.631Z"
   },
   {
    "duration": 20,
    "start_time": "2023-03-08T15:58:38.668Z"
   },
   {
    "duration": 373,
    "start_time": "2023-03-08T15:58:38.690Z"
   },
   {
    "duration": 10,
    "start_time": "2023-03-08T15:58:39.065Z"
   },
   {
    "duration": 15,
    "start_time": "2023-03-08T15:58:39.077Z"
   },
   {
    "duration": 271,
    "start_time": "2023-03-08T15:58:39.094Z"
   },
   {
    "duration": 0,
    "start_time": "2023-03-08T15:58:39.367Z"
   },
   {
    "duration": 1138,
    "start_time": "2023-03-08T15:59:13.587Z"
   },
   {
    "duration": 77,
    "start_time": "2023-03-08T15:59:14.726Z"
   },
   {
    "duration": 14,
    "start_time": "2023-03-08T15:59:14.804Z"
   },
   {
    "duration": 13,
    "start_time": "2023-03-08T15:59:14.821Z"
   },
   {
    "duration": 11,
    "start_time": "2023-03-08T15:59:14.836Z"
   },
   {
    "duration": 12,
    "start_time": "2023-03-08T15:59:14.849Z"
   },
   {
    "duration": 14,
    "start_time": "2023-03-08T15:59:14.863Z"
   },
   {
    "duration": 6,
    "start_time": "2023-03-08T15:59:14.878Z"
   },
   {
    "duration": 8,
    "start_time": "2023-03-08T15:59:14.885Z"
   },
   {
    "duration": 42,
    "start_time": "2023-03-08T15:59:14.896Z"
   },
   {
    "duration": 9,
    "start_time": "2023-03-08T15:59:14.940Z"
   },
   {
    "duration": 14,
    "start_time": "2023-03-08T15:59:14.951Z"
   },
   {
    "duration": 11,
    "start_time": "2023-03-08T15:59:14.967Z"
   },
   {
    "duration": 6,
    "start_time": "2023-03-08T15:59:14.980Z"
   },
   {
    "duration": 51,
    "start_time": "2023-03-08T15:59:14.988Z"
   },
   {
    "duration": 11,
    "start_time": "2023-03-08T15:59:15.041Z"
   },
   {
    "duration": 9,
    "start_time": "2023-03-08T15:59:15.054Z"
   },
   {
    "duration": 15,
    "start_time": "2023-03-08T15:59:15.065Z"
   },
   {
    "duration": 24,
    "start_time": "2023-03-08T15:59:15.082Z"
   },
   {
    "duration": 34,
    "start_time": "2023-03-08T15:59:15.107Z"
   },
   {
    "duration": 311,
    "start_time": "2023-03-08T15:59:15.143Z"
   },
   {
    "duration": 296,
    "start_time": "2023-03-08T15:59:15.457Z"
   },
   {
    "duration": 16,
    "start_time": "2023-03-08T15:59:15.754Z"
   },
   {
    "duration": 44,
    "start_time": "2023-03-08T15:59:15.772Z"
   },
   {
    "duration": 221,
    "start_time": "2023-03-08T15:59:15.818Z"
   },
   {
    "duration": 315,
    "start_time": "2023-03-08T15:59:16.041Z"
   },
   {
    "duration": 225,
    "start_time": "2023-03-08T15:59:16.357Z"
   },
   {
    "duration": 371,
    "start_time": "2023-03-08T15:59:16.586Z"
   },
   {
    "duration": 161,
    "start_time": "2023-03-08T15:59:16.958Z"
   },
   {
    "duration": 12,
    "start_time": "2023-03-08T15:59:17.121Z"
   },
   {
    "duration": 15,
    "start_time": "2023-03-08T15:59:17.135Z"
   },
   {
    "duration": 212,
    "start_time": "2023-03-08T15:59:17.152Z"
   },
   {
    "duration": 237,
    "start_time": "2023-03-08T15:59:17.366Z"
   },
   {
    "duration": 5,
    "start_time": "2023-03-08T15:59:17.604Z"
   },
   {
    "duration": 253,
    "start_time": "2023-03-08T15:59:17.611Z"
   },
   {
    "duration": 312,
    "start_time": "2023-03-08T15:59:17.866Z"
   },
   {
    "duration": 12,
    "start_time": "2023-03-08T15:59:18.180Z"
   },
   {
    "duration": 12,
    "start_time": "2023-03-08T15:59:18.193Z"
   },
   {
    "duration": 226,
    "start_time": "2023-03-08T15:59:18.207Z"
   },
   {
    "duration": 29,
    "start_time": "2023-03-08T15:59:18.435Z"
   },
   {
    "duration": 13,
    "start_time": "2023-03-08T15:59:18.465Z"
   },
   {
    "duration": 317,
    "start_time": "2023-03-08T15:59:18.479Z"
   },
   {
    "duration": 12,
    "start_time": "2023-03-08T15:59:18.798Z"
   },
   {
    "duration": 25,
    "start_time": "2023-03-08T15:59:18.813Z"
   },
   {
    "duration": 263,
    "start_time": "2023-03-08T15:59:18.840Z"
   },
   {
    "duration": 0,
    "start_time": "2023-03-08T15:59:19.105Z"
   },
   {
    "duration": 7,
    "start_time": "2023-03-08T16:02:22.269Z"
   },
   {
    "duration": 16,
    "start_time": "2023-03-08T16:02:25.552Z"
   },
   {
    "duration": 9,
    "start_time": "2023-03-08T16:03:16.214Z"
   },
   {
    "duration": 65,
    "start_time": "2023-03-08T16:03:36.567Z"
   },
   {
    "duration": 206,
    "start_time": "2023-03-08T16:05:29.319Z"
   },
   {
    "duration": 212,
    "start_time": "2023-03-08T16:12:18.010Z"
   },
   {
    "duration": 198,
    "start_time": "2023-03-08T16:13:18.375Z"
   },
   {
    "duration": 201,
    "start_time": "2023-03-08T17:19:56.409Z"
   },
   {
    "duration": 1095,
    "start_time": "2023-03-08T17:52:23.905Z"
   },
   {
    "duration": 72,
    "start_time": "2023-03-08T17:52:25.001Z"
   },
   {
    "duration": 10,
    "start_time": "2023-03-08T17:52:25.075Z"
   },
   {
    "duration": 9,
    "start_time": "2023-03-08T17:52:25.087Z"
   },
   {
    "duration": 7,
    "start_time": "2023-03-08T17:52:25.098Z"
   },
   {
    "duration": 9,
    "start_time": "2023-03-08T17:52:25.107Z"
   },
   {
    "duration": 11,
    "start_time": "2023-03-08T17:52:25.117Z"
   },
   {
    "duration": 27,
    "start_time": "2023-03-08T17:52:25.129Z"
   },
   {
    "duration": 12,
    "start_time": "2023-03-08T17:52:25.157Z"
   },
   {
    "duration": 10,
    "start_time": "2023-03-08T17:52:25.171Z"
   },
   {
    "duration": 9,
    "start_time": "2023-03-08T17:52:25.183Z"
   },
   {
    "duration": 8,
    "start_time": "2023-03-08T17:52:25.194Z"
   },
   {
    "duration": 13,
    "start_time": "2023-03-08T17:52:25.204Z"
   },
   {
    "duration": 4,
    "start_time": "2023-03-08T17:52:25.219Z"
   },
   {
    "duration": 10,
    "start_time": "2023-03-08T17:52:25.233Z"
   },
   {
    "duration": 9,
    "start_time": "2023-03-08T17:52:25.244Z"
   },
   {
    "duration": 10,
    "start_time": "2023-03-08T17:52:25.254Z"
   },
   {
    "duration": 9,
    "start_time": "2023-03-08T17:52:25.266Z"
   },
   {
    "duration": 20,
    "start_time": "2023-03-08T17:52:25.277Z"
   },
   {
    "duration": 13,
    "start_time": "2023-03-08T17:52:25.299Z"
   },
   {
    "duration": 327,
    "start_time": "2023-03-08T17:52:25.333Z"
   },
   {
    "duration": 271,
    "start_time": "2023-03-08T17:52:25.662Z"
   },
   {
    "duration": 14,
    "start_time": "2023-03-08T17:52:25.934Z"
   },
   {
    "duration": 12,
    "start_time": "2023-03-08T17:52:25.949Z"
   },
   {
    "duration": 184,
    "start_time": "2023-03-08T17:52:25.963Z"
   },
   {
    "duration": 287,
    "start_time": "2023-03-08T17:52:26.148Z"
   },
   {
    "duration": 218,
    "start_time": "2023-03-08T17:52:26.436Z"
   },
   {
    "duration": 299,
    "start_time": "2023-03-08T17:52:26.659Z"
   },
   {
    "duration": 138,
    "start_time": "2023-03-08T17:52:26.960Z"
   },
   {
    "duration": 4,
    "start_time": "2023-03-08T17:52:27.099Z"
   },
   {
    "duration": 7,
    "start_time": "2023-03-08T17:52:27.105Z"
   },
   {
    "duration": 166,
    "start_time": "2023-03-08T17:52:27.114Z"
   },
   {
    "duration": 210,
    "start_time": "2023-03-08T17:52:27.281Z"
   },
   {
    "duration": 3,
    "start_time": "2023-03-08T17:52:27.493Z"
   },
   {
    "duration": 213,
    "start_time": "2023-03-08T17:52:27.497Z"
   },
   {
    "duration": 264,
    "start_time": "2023-03-08T17:52:27.711Z"
   },
   {
    "duration": 9,
    "start_time": "2023-03-08T17:52:27.977Z"
   },
   {
    "duration": 9,
    "start_time": "2023-03-08T17:52:27.987Z"
   },
   {
    "duration": 196,
    "start_time": "2023-03-08T17:52:27.998Z"
   },
   {
    "duration": 25,
    "start_time": "2023-03-08T17:52:28.195Z"
   },
   {
    "duration": 11,
    "start_time": "2023-03-08T17:52:28.233Z"
   },
   {
    "duration": 272,
    "start_time": "2023-03-08T17:52:28.245Z"
   },
   {
    "duration": 16,
    "start_time": "2023-03-08T17:52:28.519Z"
   },
   {
    "duration": 185,
    "start_time": "2023-03-08T17:52:28.537Z"
   },
   {
    "duration": 194,
    "start_time": "2023-03-08T17:52:28.724Z"
   },
   {
    "duration": 179,
    "start_time": "2023-03-08T17:52:28.920Z"
   },
   {
    "duration": 1199,
    "start_time": "2023-03-08T18:37:24.740Z"
   },
   {
    "duration": 73,
    "start_time": "2023-03-08T18:37:25.941Z"
   },
   {
    "duration": 11,
    "start_time": "2023-03-08T18:37:26.015Z"
   },
   {
    "duration": 33,
    "start_time": "2023-03-08T18:37:26.027Z"
   },
   {
    "duration": 20,
    "start_time": "2023-03-08T18:37:26.061Z"
   },
   {
    "duration": 27,
    "start_time": "2023-03-08T18:37:26.082Z"
   },
   {
    "duration": 41,
    "start_time": "2023-03-08T18:37:26.111Z"
   },
   {
    "duration": 20,
    "start_time": "2023-03-08T18:37:26.153Z"
   },
   {
    "duration": 26,
    "start_time": "2023-03-08T18:37:26.175Z"
   },
   {
    "duration": 23,
    "start_time": "2023-03-08T18:37:26.204Z"
   },
   {
    "duration": 17,
    "start_time": "2023-03-08T18:37:26.229Z"
   },
   {
    "duration": 28,
    "start_time": "2023-03-08T18:37:26.248Z"
   },
   {
    "duration": 41,
    "start_time": "2023-03-08T18:37:26.278Z"
   },
   {
    "duration": 34,
    "start_time": "2023-03-08T18:37:26.321Z"
   },
   {
    "duration": 28,
    "start_time": "2023-03-08T18:37:26.357Z"
   },
   {
    "duration": 37,
    "start_time": "2023-03-08T18:37:26.387Z"
   },
   {
    "duration": 31,
    "start_time": "2023-03-08T18:37:26.426Z"
   },
   {
    "duration": 21,
    "start_time": "2023-03-08T18:37:26.459Z"
   },
   {
    "duration": 38,
    "start_time": "2023-03-08T18:37:26.481Z"
   },
   {
    "duration": 22,
    "start_time": "2023-03-08T18:37:26.520Z"
   },
   {
    "duration": 295,
    "start_time": "2023-03-08T18:37:26.544Z"
   },
   {
    "duration": 254,
    "start_time": "2023-03-08T18:37:26.840Z"
   },
   {
    "duration": 15,
    "start_time": "2023-03-08T18:37:27.095Z"
   },
   {
    "duration": 54,
    "start_time": "2023-03-08T18:37:27.112Z"
   },
   {
    "duration": 225,
    "start_time": "2023-03-08T18:37:27.168Z"
   },
   {
    "duration": 285,
    "start_time": "2023-03-08T18:37:27.395Z"
   },
   {
    "duration": 195,
    "start_time": "2023-03-08T18:37:27.681Z"
   },
   {
    "duration": 282,
    "start_time": "2023-03-08T18:37:27.880Z"
   },
   {
    "duration": 136,
    "start_time": "2023-03-08T18:37:28.163Z"
   },
   {
    "duration": 4,
    "start_time": "2023-03-08T18:37:28.301Z"
   },
   {
    "duration": 27,
    "start_time": "2023-03-08T18:37:28.307Z"
   },
   {
    "duration": 148,
    "start_time": "2023-03-08T18:37:28.336Z"
   },
   {
    "duration": 213,
    "start_time": "2023-03-08T18:37:28.486Z"
   },
   {
    "duration": 4,
    "start_time": "2023-03-08T18:37:28.701Z"
   },
   {
    "duration": 216,
    "start_time": "2023-03-08T18:37:28.707Z"
   },
   {
    "duration": 254,
    "start_time": "2023-03-08T18:37:28.924Z"
   },
   {
    "duration": 8,
    "start_time": "2023-03-08T18:37:29.180Z"
   },
   {
    "duration": 28,
    "start_time": "2023-03-08T18:37:29.190Z"
   },
   {
    "duration": 199,
    "start_time": "2023-03-08T18:37:29.220Z"
   },
   {
    "duration": 37,
    "start_time": "2023-03-08T18:37:29.421Z"
   },
   {
    "duration": 14,
    "start_time": "2023-03-08T18:37:29.460Z"
   },
   {
    "duration": 275,
    "start_time": "2023-03-08T18:37:29.476Z"
   },
   {
    "duration": 6,
    "start_time": "2023-03-08T18:37:29.752Z"
   },
   {
    "duration": 186,
    "start_time": "2023-03-08T18:37:29.760Z"
   },
   {
    "duration": 194,
    "start_time": "2023-03-08T18:37:29.948Z"
   },
   {
    "duration": 187,
    "start_time": "2023-03-08T18:37:30.143Z"
   },
   {
    "duration": 50,
    "start_time": "2023-03-10T05:31:23.373Z"
   },
   {
    "duration": 6,
    "start_time": "2023-03-10T05:32:08.854Z"
   },
   {
    "duration": 5,
    "start_time": "2023-03-10T05:34:11.162Z"
   },
   {
    "duration": 1227,
    "start_time": "2023-03-10T05:34:20.932Z"
   },
   {
    "duration": 177,
    "start_time": "2023-03-10T05:34:22.161Z"
   },
   {
    "duration": 12,
    "start_time": "2023-03-10T05:34:22.340Z"
   },
   {
    "duration": 10,
    "start_time": "2023-03-10T05:34:22.354Z"
   },
   {
    "duration": 23,
    "start_time": "2023-03-10T05:34:22.366Z"
   },
   {
    "duration": 19,
    "start_time": "2023-03-10T05:34:22.391Z"
   },
   {
    "duration": 20,
    "start_time": "2023-03-10T05:34:22.411Z"
   },
   {
    "duration": 8,
    "start_time": "2023-03-10T05:34:22.433Z"
   },
   {
    "duration": 11,
    "start_time": "2023-03-10T05:34:22.442Z"
   },
   {
    "duration": 10,
    "start_time": "2023-03-10T05:34:22.455Z"
   },
   {
    "duration": 9,
    "start_time": "2023-03-10T05:34:22.467Z"
   },
   {
    "duration": 15,
    "start_time": "2023-03-10T05:34:22.478Z"
   },
   {
    "duration": 12,
    "start_time": "2023-03-10T05:34:22.495Z"
   },
   {
    "duration": 5,
    "start_time": "2023-03-10T05:34:22.509Z"
   },
   {
    "duration": 11,
    "start_time": "2023-03-10T05:34:22.515Z"
   },
   {
    "duration": 6,
    "start_time": "2023-03-10T05:34:22.528Z"
   },
   {
    "duration": 7,
    "start_time": "2023-03-10T05:34:22.535Z"
   },
   {
    "duration": 7,
    "start_time": "2023-03-10T05:34:22.543Z"
   },
   {
    "duration": 31,
    "start_time": "2023-03-10T05:34:22.552Z"
   },
   {
    "duration": 11,
    "start_time": "2023-03-10T05:34:22.584Z"
   },
   {
    "duration": 285,
    "start_time": "2023-03-10T05:34:22.597Z"
   },
   {
    "duration": 254,
    "start_time": "2023-03-10T05:34:22.884Z"
   },
   {
    "duration": 13,
    "start_time": "2023-03-10T05:34:23.139Z"
   },
   {
    "duration": 9,
    "start_time": "2023-03-10T05:34:23.154Z"
   },
   {
    "duration": 193,
    "start_time": "2023-03-10T05:34:23.164Z"
   },
   {
    "duration": 361,
    "start_time": "2023-03-10T05:34:23.359Z"
   },
   {
    "duration": 210,
    "start_time": "2023-03-10T05:34:23.722Z"
   },
   {
    "duration": 305,
    "start_time": "2023-03-10T05:34:23.935Z"
   },
   {
    "duration": 146,
    "start_time": "2023-03-10T05:34:24.242Z"
   },
   {
    "duration": 5,
    "start_time": "2023-03-10T05:34:24.390Z"
   },
   {
    "duration": 6,
    "start_time": "2023-03-10T05:34:24.396Z"
   },
   {
    "duration": 163,
    "start_time": "2023-03-10T05:34:24.403Z"
   },
   {
    "duration": 222,
    "start_time": "2023-03-10T05:34:24.568Z"
   },
   {
    "duration": 5,
    "start_time": "2023-03-10T05:34:24.792Z"
   },
   {
    "duration": 231,
    "start_time": "2023-03-10T05:34:24.799Z"
   },
   {
    "duration": 290,
    "start_time": "2023-03-10T05:34:25.032Z"
   },
   {
    "duration": 11,
    "start_time": "2023-03-10T05:34:25.324Z"
   },
   {
    "duration": 9,
    "start_time": "2023-03-10T05:34:25.336Z"
   },
   {
    "duration": 204,
    "start_time": "2023-03-10T05:34:25.347Z"
   },
   {
    "duration": 36,
    "start_time": "2023-03-10T05:34:25.552Z"
   },
   {
    "duration": 16,
    "start_time": "2023-03-10T05:34:25.589Z"
   },
   {
    "duration": 310,
    "start_time": "2023-03-10T05:34:25.606Z"
   },
   {
    "duration": 7,
    "start_time": "2023-03-10T05:34:25.917Z"
   },
   {
    "duration": 224,
    "start_time": "2023-03-10T05:34:25.925Z"
   },
   {
    "duration": 205,
    "start_time": "2023-03-10T05:34:26.150Z"
   },
   {
    "duration": 209,
    "start_time": "2023-03-10T05:34:26.356Z"
   },
   {
    "duration": 2,
    "start_time": "2023-03-10T05:34:47.419Z"
   },
   {
    "duration": 101,
    "start_time": "2023-03-10T05:35:21.625Z"
   },
   {
    "duration": 3,
    "start_time": "2023-03-10T05:35:48.865Z"
   },
   {
    "duration": 12,
    "start_time": "2023-03-10T05:36:23.479Z"
   },
   {
    "duration": 2,
    "start_time": "2023-03-10T05:39:02.313Z"
   },
   {
    "duration": 45,
    "start_time": "2023-03-10T05:40:34.032Z"
   },
   {
    "duration": 19,
    "start_time": "2023-03-10T05:40:59.734Z"
   },
   {
    "duration": 54,
    "start_time": "2023-03-10T05:48:31.237Z"
   },
   {
    "duration": 11,
    "start_time": "2023-03-10T05:48:42.172Z"
   },
   {
    "duration": 10,
    "start_time": "2023-03-10T05:48:58.128Z"
   },
   {
    "duration": 8,
    "start_time": "2023-03-10T05:50:16.194Z"
   },
   {
    "duration": 3,
    "start_time": "2023-03-10T05:50:50.903Z"
   },
   {
    "duration": 4,
    "start_time": "2023-03-10T05:51:13.823Z"
   },
   {
    "duration": 4,
    "start_time": "2023-03-10T05:51:23.039Z"
   },
   {
    "duration": 11,
    "start_time": "2023-03-10T05:53:52.853Z"
   },
   {
    "duration": 202,
    "start_time": "2023-03-10T06:04:56.662Z"
   },
   {
    "duration": 175,
    "start_time": "2023-03-10T06:05:21.076Z"
   },
   {
    "duration": 182,
    "start_time": "2023-03-10T06:09:30.559Z"
   },
   {
    "duration": 183,
    "start_time": "2023-03-10T06:11:50.097Z"
   },
   {
    "duration": 206,
    "start_time": "2023-03-10T06:12:28.649Z"
   },
   {
    "duration": 331,
    "start_time": "2023-03-10T06:13:01.762Z"
   },
   {
    "duration": 232,
    "start_time": "2023-03-10T06:14:45.417Z"
   },
   {
    "duration": 4,
    "start_time": "2023-03-10T06:17:55.558Z"
   },
   {
    "duration": 266,
    "start_time": "2023-03-10T06:18:52.514Z"
   },
   {
    "duration": 175,
    "start_time": "2023-03-10T06:19:09.759Z"
   },
   {
    "duration": 185,
    "start_time": "2023-03-10T06:19:48.268Z"
   },
   {
    "duration": 200,
    "start_time": "2023-03-10T06:21:12.301Z"
   },
   {
    "duration": 211,
    "start_time": "2023-03-10T06:21:20.947Z"
   },
   {
    "duration": 52,
    "start_time": "2023-03-10T13:02:32.090Z"
   },
   {
    "duration": 1359,
    "start_time": "2023-03-10T13:02:48.849Z"
   },
   {
    "duration": 186,
    "start_time": "2023-03-10T13:02:50.210Z"
   },
   {
    "duration": 11,
    "start_time": "2023-03-10T13:02:50.397Z"
   },
   {
    "duration": 10,
    "start_time": "2023-03-10T13:02:50.410Z"
   },
   {
    "duration": 8,
    "start_time": "2023-03-10T13:02:50.421Z"
   },
   {
    "duration": 13,
    "start_time": "2023-03-10T13:02:50.431Z"
   },
   {
    "duration": 20,
    "start_time": "2023-03-10T13:02:50.445Z"
   },
   {
    "duration": 3,
    "start_time": "2023-03-10T13:02:50.466Z"
   },
   {
    "duration": 6,
    "start_time": "2023-03-10T13:02:50.471Z"
   },
   {
    "duration": 9,
    "start_time": "2023-03-10T13:02:50.479Z"
   },
   {
    "duration": 7,
    "start_time": "2023-03-10T13:02:50.489Z"
   },
   {
    "duration": 7,
    "start_time": "2023-03-10T13:02:50.497Z"
   },
   {
    "duration": 9,
    "start_time": "2023-03-10T13:02:50.505Z"
   },
   {
    "duration": 3,
    "start_time": "2023-03-10T13:02:50.515Z"
   },
   {
    "duration": 41,
    "start_time": "2023-03-10T13:02:50.519Z"
   },
   {
    "duration": 6,
    "start_time": "2023-03-10T13:02:50.565Z"
   },
   {
    "duration": 6,
    "start_time": "2023-03-10T13:02:50.573Z"
   },
   {
    "duration": 70,
    "start_time": "2023-03-10T13:02:50.581Z"
   },
   {
    "duration": 0,
    "start_time": "2023-03-10T13:02:50.653Z"
   },
   {
    "duration": 0,
    "start_time": "2023-03-10T13:02:50.654Z"
   },
   {
    "duration": 0,
    "start_time": "2023-03-10T13:02:50.654Z"
   },
   {
    "duration": 0,
    "start_time": "2023-03-10T13:02:50.655Z"
   },
   {
    "duration": 0,
    "start_time": "2023-03-10T13:02:50.656Z"
   },
   {
    "duration": 0,
    "start_time": "2023-03-10T13:02:50.660Z"
   },
   {
    "duration": 0,
    "start_time": "2023-03-10T13:02:50.661Z"
   },
   {
    "duration": 0,
    "start_time": "2023-03-10T13:02:50.662Z"
   },
   {
    "duration": 0,
    "start_time": "2023-03-10T13:02:50.662Z"
   },
   {
    "duration": 0,
    "start_time": "2023-03-10T13:02:50.663Z"
   },
   {
    "duration": 0,
    "start_time": "2023-03-10T13:02:50.663Z"
   },
   {
    "duration": 0,
    "start_time": "2023-03-10T13:02:50.664Z"
   },
   {
    "duration": 0,
    "start_time": "2023-03-10T13:02:50.665Z"
   },
   {
    "duration": 0,
    "start_time": "2023-03-10T13:02:50.665Z"
   },
   {
    "duration": 0,
    "start_time": "2023-03-10T13:02:50.666Z"
   },
   {
    "duration": 0,
    "start_time": "2023-03-10T13:02:50.667Z"
   },
   {
    "duration": 0,
    "start_time": "2023-03-10T13:02:50.667Z"
   },
   {
    "duration": 0,
    "start_time": "2023-03-10T13:02:50.668Z"
   },
   {
    "duration": 0,
    "start_time": "2023-03-10T13:02:50.670Z"
   },
   {
    "duration": 0,
    "start_time": "2023-03-10T13:02:50.671Z"
   },
   {
    "duration": 0,
    "start_time": "2023-03-10T13:02:50.673Z"
   },
   {
    "duration": 0,
    "start_time": "2023-03-10T13:02:50.674Z"
   },
   {
    "duration": 0,
    "start_time": "2023-03-10T13:02:50.675Z"
   },
   {
    "duration": 0,
    "start_time": "2023-03-10T13:02:50.676Z"
   },
   {
    "duration": 0,
    "start_time": "2023-03-10T13:02:50.677Z"
   },
   {
    "duration": 0,
    "start_time": "2023-03-10T13:02:50.677Z"
   },
   {
    "duration": 1,
    "start_time": "2023-03-10T13:02:50.678Z"
   },
   {
    "duration": 0,
    "start_time": "2023-03-10T13:02:50.680Z"
   },
   {
    "duration": 0,
    "start_time": "2023-03-10T13:02:50.681Z"
   },
   {
    "duration": 0,
    "start_time": "2023-03-10T13:02:50.682Z"
   },
   {
    "duration": 0,
    "start_time": "2023-03-10T13:02:50.682Z"
   },
   {
    "duration": 82,
    "start_time": "2023-03-10T13:03:35.112Z"
   },
   {
    "duration": 1093,
    "start_time": "2023-03-10T13:04:47.980Z"
   },
   {
    "duration": 70,
    "start_time": "2023-03-10T13:04:49.074Z"
   },
   {
    "duration": 20,
    "start_time": "2023-03-10T13:04:49.146Z"
   },
   {
    "duration": 11,
    "start_time": "2023-03-10T13:04:49.168Z"
   },
   {
    "duration": 7,
    "start_time": "2023-03-10T13:04:49.180Z"
   },
   {
    "duration": 9,
    "start_time": "2023-03-10T13:04:49.189Z"
   },
   {
    "duration": 11,
    "start_time": "2023-03-10T13:04:49.200Z"
   },
   {
    "duration": 4,
    "start_time": "2023-03-10T13:04:49.213Z"
   },
   {
    "duration": 7,
    "start_time": "2023-03-10T13:04:49.218Z"
   },
   {
    "duration": 11,
    "start_time": "2023-03-10T13:04:49.261Z"
   },
   {
    "duration": 9,
    "start_time": "2023-03-10T13:04:49.274Z"
   },
   {
    "duration": 7,
    "start_time": "2023-03-10T13:04:49.284Z"
   },
   {
    "duration": 8,
    "start_time": "2023-03-10T13:04:49.293Z"
   },
   {
    "duration": 6,
    "start_time": "2023-03-10T13:04:49.303Z"
   },
   {
    "duration": 11,
    "start_time": "2023-03-10T13:04:49.310Z"
   },
   {
    "duration": 7,
    "start_time": "2023-03-10T13:04:49.364Z"
   },
   {
    "duration": 11,
    "start_time": "2023-03-10T13:04:49.372Z"
   },
   {
    "duration": 18,
    "start_time": "2023-03-10T13:04:49.384Z"
   },
   {
    "duration": 13,
    "start_time": "2023-03-10T13:04:49.403Z"
   },
   {
    "duration": 11,
    "start_time": "2023-03-10T13:04:49.417Z"
   },
   {
    "duration": 303,
    "start_time": "2023-03-10T13:04:49.429Z"
   },
   {
    "duration": 80,
    "start_time": "2023-03-10T13:04:49.734Z"
   },
   {
    "duration": 0,
    "start_time": "2023-03-10T13:04:49.816Z"
   },
   {
    "duration": 0,
    "start_time": "2023-03-10T13:04:49.817Z"
   },
   {
    "duration": 0,
    "start_time": "2023-03-10T13:04:49.818Z"
   },
   {
    "duration": 0,
    "start_time": "2023-03-10T13:04:49.819Z"
   },
   {
    "duration": 0,
    "start_time": "2023-03-10T13:04:49.820Z"
   },
   {
    "duration": 0,
    "start_time": "2023-03-10T13:04:49.820Z"
   },
   {
    "duration": 0,
    "start_time": "2023-03-10T13:04:49.821Z"
   },
   {
    "duration": 0,
    "start_time": "2023-03-10T13:04:49.823Z"
   },
   {
    "duration": 0,
    "start_time": "2023-03-10T13:04:49.824Z"
   },
   {
    "duration": 0,
    "start_time": "2023-03-10T13:04:49.824Z"
   },
   {
    "duration": 0,
    "start_time": "2023-03-10T13:04:49.825Z"
   },
   {
    "duration": 0,
    "start_time": "2023-03-10T13:04:49.826Z"
   },
   {
    "duration": 0,
    "start_time": "2023-03-10T13:04:49.827Z"
   },
   {
    "duration": 0,
    "start_time": "2023-03-10T13:04:49.827Z"
   },
   {
    "duration": 0,
    "start_time": "2023-03-10T13:04:49.829Z"
   },
   {
    "duration": 0,
    "start_time": "2023-03-10T13:04:49.830Z"
   },
   {
    "duration": 0,
    "start_time": "2023-03-10T13:04:49.830Z"
   },
   {
    "duration": 0,
    "start_time": "2023-03-10T13:04:49.831Z"
   },
   {
    "duration": 0,
    "start_time": "2023-03-10T13:04:49.833Z"
   },
   {
    "duration": 0,
    "start_time": "2023-03-10T13:04:49.834Z"
   },
   {
    "duration": 0,
    "start_time": "2023-03-10T13:04:49.835Z"
   },
   {
    "duration": 0,
    "start_time": "2023-03-10T13:04:49.836Z"
   },
   {
    "duration": 0,
    "start_time": "2023-03-10T13:04:49.837Z"
   },
   {
    "duration": 0,
    "start_time": "2023-03-10T13:04:49.837Z"
   },
   {
    "duration": 0,
    "start_time": "2023-03-10T13:04:49.838Z"
   },
   {
    "duration": 0,
    "start_time": "2023-03-10T13:04:49.839Z"
   },
   {
    "duration": 1168,
    "start_time": "2023-03-10T13:06:04.666Z"
   },
   {
    "duration": 80,
    "start_time": "2023-03-10T13:06:05.835Z"
   },
   {
    "duration": 11,
    "start_time": "2023-03-10T13:06:05.916Z"
   },
   {
    "duration": 12,
    "start_time": "2023-03-10T13:06:05.929Z"
   },
   {
    "duration": 7,
    "start_time": "2023-03-10T13:06:05.943Z"
   },
   {
    "duration": 13,
    "start_time": "2023-03-10T13:06:05.952Z"
   },
   {
    "duration": 12,
    "start_time": "2023-03-10T13:06:05.969Z"
   },
   {
    "duration": 7,
    "start_time": "2023-03-10T13:06:05.983Z"
   },
   {
    "duration": 10,
    "start_time": "2023-03-10T13:06:05.992Z"
   },
   {
    "duration": 9,
    "start_time": "2023-03-10T13:06:06.003Z"
   },
   {
    "duration": 14,
    "start_time": "2023-03-10T13:06:06.013Z"
   },
   {
    "duration": 11,
    "start_time": "2023-03-10T13:06:06.029Z"
   },
   {
    "duration": 33,
    "start_time": "2023-03-10T13:06:06.041Z"
   },
   {
    "duration": 4,
    "start_time": "2023-03-10T13:06:06.076Z"
   },
   {
    "duration": 10,
    "start_time": "2023-03-10T13:06:06.082Z"
   },
   {
    "duration": 6,
    "start_time": "2023-03-10T13:06:06.094Z"
   },
   {
    "duration": 7,
    "start_time": "2023-03-10T13:06:06.101Z"
   },
   {
    "duration": 9,
    "start_time": "2023-03-10T13:06:06.109Z"
   },
   {
    "duration": 14,
    "start_time": "2023-03-10T13:06:06.119Z"
   },
   {
    "duration": 35,
    "start_time": "2023-03-10T13:06:06.134Z"
   },
   {
    "duration": 296,
    "start_time": "2023-03-10T13:06:06.171Z"
   },
   {
    "duration": 299,
    "start_time": "2023-03-10T13:06:06.469Z"
   },
   {
    "duration": 15,
    "start_time": "2023-03-10T13:06:06.770Z"
   },
   {
    "duration": 8,
    "start_time": "2023-03-10T13:06:06.787Z"
   },
   {
    "duration": 228,
    "start_time": "2023-03-10T13:06:06.796Z"
   },
   {
    "duration": 309,
    "start_time": "2023-03-10T13:06:07.026Z"
   },
   {
    "duration": 237,
    "start_time": "2023-03-10T13:06:07.337Z"
   },
   {
    "duration": 310,
    "start_time": "2023-03-10T13:06:07.576Z"
   },
   {
    "duration": 156,
    "start_time": "2023-03-10T13:06:07.888Z"
   },
   {
    "duration": 3,
    "start_time": "2023-03-10T13:06:08.046Z"
   },
   {
    "duration": 9,
    "start_time": "2023-03-10T13:06:08.051Z"
   },
   {
    "duration": 147,
    "start_time": "2023-03-10T13:06:08.064Z"
   },
   {
    "duration": 212,
    "start_time": "2023-03-10T13:06:08.212Z"
   },
   {
    "duration": 4,
    "start_time": "2023-03-10T13:06:08.425Z"
   },
   {
    "duration": 214,
    "start_time": "2023-03-10T13:06:08.430Z"
   },
   {
    "duration": 298,
    "start_time": "2023-03-10T13:06:08.645Z"
   },
   {
    "duration": 16,
    "start_time": "2023-03-10T13:06:08.944Z"
   },
   {
    "duration": 11,
    "start_time": "2023-03-10T13:06:08.968Z"
   },
   {
    "duration": 206,
    "start_time": "2023-03-10T13:06:08.980Z"
   },
   {
    "duration": 3,
    "start_time": "2023-03-10T13:06:09.187Z"
   },
   {
    "duration": 24,
    "start_time": "2023-03-10T13:06:09.194Z"
   },
   {
    "duration": 12,
    "start_time": "2023-03-10T13:06:09.220Z"
   },
   {
    "duration": 300,
    "start_time": "2023-03-10T13:06:09.234Z"
   },
   {
    "duration": 6,
    "start_time": "2023-03-10T13:06:09.535Z"
   },
   {
    "duration": 224,
    "start_time": "2023-03-10T13:06:09.543Z"
   },
   {
    "duration": 216,
    "start_time": "2023-03-10T13:06:09.769Z"
   },
   {
    "duration": 211,
    "start_time": "2023-03-10T13:06:09.986Z"
   },
   {
    "duration": 331,
    "start_time": "2023-03-10T13:09:37.433Z"
   },
   {
    "duration": 130,
    "start_time": "2023-03-10T13:10:29.248Z"
   },
   {
    "duration": 142,
    "start_time": "2023-03-10T13:12:32.580Z"
   },
   {
    "duration": 140,
    "start_time": "2023-03-10T13:12:39.775Z"
   },
   {
    "duration": 157,
    "start_time": "2023-03-10T13:13:51.698Z"
   },
   {
    "duration": 152,
    "start_time": "2023-03-10T13:13:56.911Z"
   },
   {
    "duration": 181,
    "start_time": "2023-03-10T13:14:48.120Z"
   },
   {
    "duration": 12,
    "start_time": "2023-03-10T13:24:28.824Z"
   },
   {
    "duration": 1174,
    "start_time": "2023-03-10T13:25:09.351Z"
   },
   {
    "duration": 70,
    "start_time": "2023-03-10T13:25:10.527Z"
   },
   {
    "duration": 10,
    "start_time": "2023-03-10T13:25:10.598Z"
   },
   {
    "duration": 10,
    "start_time": "2023-03-10T13:25:10.610Z"
   },
   {
    "duration": 6,
    "start_time": "2023-03-10T13:25:10.622Z"
   },
   {
    "duration": 9,
    "start_time": "2023-03-10T13:25:10.629Z"
   },
   {
    "duration": 11,
    "start_time": "2023-03-10T13:25:10.640Z"
   },
   {
    "duration": 6,
    "start_time": "2023-03-10T13:25:10.652Z"
   },
   {
    "duration": 5,
    "start_time": "2023-03-10T13:25:10.659Z"
   },
   {
    "duration": 12,
    "start_time": "2023-03-10T13:25:10.666Z"
   },
   {
    "duration": 6,
    "start_time": "2023-03-10T13:25:10.679Z"
   },
   {
    "duration": 6,
    "start_time": "2023-03-10T13:25:10.687Z"
   },
   {
    "duration": 9,
    "start_time": "2023-03-10T13:25:10.694Z"
   },
   {
    "duration": 3,
    "start_time": "2023-03-10T13:25:10.705Z"
   },
   {
    "duration": 46,
    "start_time": "2023-03-10T13:25:10.709Z"
   },
   {
    "duration": 4,
    "start_time": "2023-03-10T13:25:10.757Z"
   },
   {
    "duration": 8,
    "start_time": "2023-03-10T13:25:10.762Z"
   },
   {
    "duration": 12,
    "start_time": "2023-03-10T13:25:10.771Z"
   },
   {
    "duration": 14,
    "start_time": "2023-03-10T13:25:10.784Z"
   },
   {
    "duration": 15,
    "start_time": "2023-03-10T13:25:10.799Z"
   },
   {
    "duration": 310,
    "start_time": "2023-03-10T13:25:10.816Z"
   },
   {
    "duration": 282,
    "start_time": "2023-03-10T13:25:11.128Z"
   },
   {
    "duration": 15,
    "start_time": "2023-03-10T13:25:11.411Z"
   },
   {
    "duration": 28,
    "start_time": "2023-03-10T13:25:11.428Z"
   },
   {
    "duration": 215,
    "start_time": "2023-03-10T13:25:11.457Z"
   },
   {
    "duration": 317,
    "start_time": "2023-03-10T13:25:11.673Z"
   },
   {
    "duration": 221,
    "start_time": "2023-03-10T13:25:11.992Z"
   },
   {
    "duration": 358,
    "start_time": "2023-03-10T13:25:12.216Z"
   },
   {
    "duration": 155,
    "start_time": "2023-03-10T13:25:12.575Z"
   },
   {
    "duration": 4,
    "start_time": "2023-03-10T13:25:12.732Z"
   },
   {
    "duration": 4,
    "start_time": "2023-03-10T13:25:12.737Z"
   },
   {
    "duration": 163,
    "start_time": "2023-03-10T13:25:12.755Z"
   },
   {
    "duration": 250,
    "start_time": "2023-03-10T13:25:12.919Z"
   },
   {
    "duration": 4,
    "start_time": "2023-03-10T13:25:13.171Z"
   },
   {
    "duration": 209,
    "start_time": "2023-03-10T13:25:13.177Z"
   },
   {
    "duration": 290,
    "start_time": "2023-03-10T13:25:13.387Z"
   },
   {
    "duration": 9,
    "start_time": "2023-03-10T13:25:13.678Z"
   },
   {
    "duration": 10,
    "start_time": "2023-03-10T13:25:13.688Z"
   },
   {
    "duration": 217,
    "start_time": "2023-03-10T13:25:13.699Z"
   },
   {
    "duration": 3,
    "start_time": "2023-03-10T13:25:13.917Z"
   },
   {
    "duration": 39,
    "start_time": "2023-03-10T13:25:13.922Z"
   },
   {
    "duration": 13,
    "start_time": "2023-03-10T13:25:13.963Z"
   },
   {
    "duration": 278,
    "start_time": "2023-03-10T13:25:13.977Z"
   },
   {
    "duration": 6,
    "start_time": "2023-03-10T13:25:14.256Z"
   },
   {
    "duration": 209,
    "start_time": "2023-03-10T13:25:14.263Z"
   },
   {
    "duration": 206,
    "start_time": "2023-03-10T13:25:14.474Z"
   },
   {
    "duration": 212,
    "start_time": "2023-03-10T13:25:14.682Z"
   },
   {
    "duration": 280,
    "start_time": "2023-03-10T13:35:50.767Z"
   },
   {
    "duration": 75,
    "start_time": "2023-03-10T13:38:00.620Z"
   },
   {
    "duration": 81,
    "start_time": "2023-03-10T13:38:20.543Z"
   },
   {
    "duration": 10,
    "start_time": "2023-03-10T13:39:46.600Z"
   },
   {
    "duration": 25,
    "start_time": "2023-03-10T13:41:55.934Z"
   },
   {
    "duration": 13,
    "start_time": "2023-03-10T13:44:12.924Z"
   },
   {
    "duration": 65,
    "start_time": "2023-03-10T14:01:59.746Z"
   },
   {
    "duration": 1053,
    "start_time": "2023-03-10T14:02:50.285Z"
   },
   {
    "duration": 70,
    "start_time": "2023-03-10T14:02:51.339Z"
   },
   {
    "duration": 12,
    "start_time": "2023-03-10T14:02:51.410Z"
   },
   {
    "duration": 10,
    "start_time": "2023-03-10T14:02:51.424Z"
   },
   {
    "duration": 8,
    "start_time": "2023-03-10T14:02:51.435Z"
   },
   {
    "duration": 10,
    "start_time": "2023-03-10T14:02:51.445Z"
   },
   {
    "duration": 12,
    "start_time": "2023-03-10T14:02:51.456Z"
   },
   {
    "duration": 3,
    "start_time": "2023-03-10T14:02:51.469Z"
   },
   {
    "duration": 6,
    "start_time": "2023-03-10T14:02:51.474Z"
   },
   {
    "duration": 9,
    "start_time": "2023-03-10T14:02:51.482Z"
   },
   {
    "duration": 7,
    "start_time": "2023-03-10T14:02:51.493Z"
   },
   {
    "duration": 6,
    "start_time": "2023-03-10T14:02:51.501Z"
   },
   {
    "duration": 47,
    "start_time": "2023-03-10T14:02:51.508Z"
   },
   {
    "duration": 4,
    "start_time": "2023-03-10T14:02:51.556Z"
   },
   {
    "duration": 16,
    "start_time": "2023-03-10T14:02:51.562Z"
   },
   {
    "duration": 4,
    "start_time": "2023-03-10T14:02:51.580Z"
   },
   {
    "duration": 13,
    "start_time": "2023-03-10T14:02:51.585Z"
   },
   {
    "duration": 7,
    "start_time": "2023-03-10T14:02:51.599Z"
   },
   {
    "duration": 11,
    "start_time": "2023-03-10T14:02:51.608Z"
   },
   {
    "duration": 40,
    "start_time": "2023-03-10T14:02:51.620Z"
   },
   {
    "duration": 305,
    "start_time": "2023-03-10T14:02:51.662Z"
   },
   {
    "duration": 296,
    "start_time": "2023-03-10T14:02:51.969Z"
   },
   {
    "duration": 15,
    "start_time": "2023-03-10T14:02:52.267Z"
   },
   {
    "duration": 30,
    "start_time": "2023-03-10T14:02:52.284Z"
   },
   {
    "duration": 190,
    "start_time": "2023-03-10T14:02:52.315Z"
   },
   {
    "duration": 291,
    "start_time": "2023-03-10T14:02:52.507Z"
   },
   {
    "duration": 222,
    "start_time": "2023-03-10T14:02:52.800Z"
   },
   {
    "duration": 335,
    "start_time": "2023-03-10T14:02:53.026Z"
   },
   {
    "duration": 151,
    "start_time": "2023-03-10T14:02:53.363Z"
   },
   {
    "duration": 3,
    "start_time": "2023-03-10T14:02:53.516Z"
   },
   {
    "duration": 4,
    "start_time": "2023-03-10T14:02:53.520Z"
   },
   {
    "duration": 168,
    "start_time": "2023-03-10T14:02:53.526Z"
   },
   {
    "duration": 214,
    "start_time": "2023-03-10T14:02:53.695Z"
   },
   {
    "duration": 5,
    "start_time": "2023-03-10T14:02:53.910Z"
   },
   {
    "duration": 222,
    "start_time": "2023-03-10T14:02:53.916Z"
   },
   {
    "duration": 279,
    "start_time": "2023-03-10T14:02:54.140Z"
   },
   {
    "duration": 9,
    "start_time": "2023-03-10T14:02:54.420Z"
   },
   {
    "duration": 9,
    "start_time": "2023-03-10T14:02:54.430Z"
   },
   {
    "duration": 43,
    "start_time": "2023-03-10T14:02:54.440Z"
   },
   {
    "duration": 11,
    "start_time": "2023-03-10T14:02:54.485Z"
   },
   {
    "duration": 272,
    "start_time": "2023-03-10T14:02:54.497Z"
   },
   {
    "duration": 5,
    "start_time": "2023-03-10T14:02:54.771Z"
   },
   {
    "duration": 199,
    "start_time": "2023-03-10T14:02:54.778Z"
   },
   {
    "duration": 202,
    "start_time": "2023-03-10T14:02:54.978Z"
   },
   {
    "duration": 234,
    "start_time": "2023-03-10T14:02:55.181Z"
   },
   {
    "duration": 1085,
    "start_time": "2023-03-10T14:04:35.138Z"
   },
   {
    "duration": 69,
    "start_time": "2023-03-10T14:04:36.225Z"
   },
   {
    "duration": 11,
    "start_time": "2023-03-10T14:04:36.295Z"
   },
   {
    "duration": 12,
    "start_time": "2023-03-10T14:04:36.307Z"
   },
   {
    "duration": 9,
    "start_time": "2023-03-10T14:04:36.320Z"
   },
   {
    "duration": 12,
    "start_time": "2023-03-10T14:04:36.330Z"
   },
   {
    "duration": 11,
    "start_time": "2023-03-10T14:04:36.343Z"
   },
   {
    "duration": 4,
    "start_time": "2023-03-10T14:04:36.356Z"
   },
   {
    "duration": 12,
    "start_time": "2023-03-10T14:04:36.361Z"
   },
   {
    "duration": 10,
    "start_time": "2023-03-10T14:04:36.375Z"
   },
   {
    "duration": 6,
    "start_time": "2023-03-10T14:04:36.386Z"
   },
   {
    "duration": 7,
    "start_time": "2023-03-10T14:04:36.394Z"
   },
   {
    "duration": 10,
    "start_time": "2023-03-10T14:04:36.402Z"
   },
   {
    "duration": 3,
    "start_time": "2023-03-10T14:04:36.414Z"
   },
   {
    "duration": 40,
    "start_time": "2023-03-10T14:04:36.418Z"
   },
   {
    "duration": 6,
    "start_time": "2023-03-10T14:04:36.459Z"
   },
   {
    "duration": 6,
    "start_time": "2023-03-10T14:04:36.467Z"
   },
   {
    "duration": 8,
    "start_time": "2023-03-10T14:04:36.475Z"
   },
   {
    "duration": 11,
    "start_time": "2023-03-10T14:04:36.484Z"
   },
   {
    "duration": 10,
    "start_time": "2023-03-10T14:04:36.496Z"
   },
   {
    "duration": 307,
    "start_time": "2023-03-10T14:04:36.507Z"
   },
   {
    "duration": 290,
    "start_time": "2023-03-10T14:04:36.815Z"
   },
   {
    "duration": 15,
    "start_time": "2023-03-10T14:04:37.106Z"
   },
   {
    "duration": 10,
    "start_time": "2023-03-10T14:04:37.122Z"
   },
   {
    "duration": 210,
    "start_time": "2023-03-10T14:04:37.133Z"
   },
   {
    "duration": 328,
    "start_time": "2023-03-10T14:04:37.345Z"
   },
   {
    "duration": 209,
    "start_time": "2023-03-10T14:04:37.674Z"
   },
   {
    "duration": 279,
    "start_time": "2023-03-10T14:04:37.886Z"
   },
   {
    "duration": 144,
    "start_time": "2023-03-10T14:04:38.166Z"
   },
   {
    "duration": 4,
    "start_time": "2023-03-10T14:04:38.311Z"
   },
   {
    "duration": 8,
    "start_time": "2023-03-10T14:04:38.316Z"
   },
   {
    "duration": 162,
    "start_time": "2023-03-10T14:04:38.325Z"
   },
   {
    "duration": 222,
    "start_time": "2023-03-10T14:04:38.488Z"
   },
   {
    "duration": 4,
    "start_time": "2023-03-10T14:04:38.711Z"
   },
   {
    "duration": 212,
    "start_time": "2023-03-10T14:04:38.716Z"
   },
   {
    "duration": 295,
    "start_time": "2023-03-10T14:04:38.929Z"
   },
   {
    "duration": 8,
    "start_time": "2023-03-10T14:04:39.226Z"
   },
   {
    "duration": 21,
    "start_time": "2023-03-10T14:04:39.235Z"
   },
   {
    "duration": 31,
    "start_time": "2023-03-10T14:04:39.257Z"
   },
   {
    "duration": 11,
    "start_time": "2023-03-10T14:04:39.289Z"
   },
   {
    "duration": 271,
    "start_time": "2023-03-10T14:04:39.301Z"
   },
   {
    "duration": 5,
    "start_time": "2023-03-10T14:04:39.574Z"
   },
   {
    "duration": 202,
    "start_time": "2023-03-10T14:04:39.580Z"
   },
   {
    "duration": 194,
    "start_time": "2023-03-10T14:04:39.783Z"
   },
   {
    "duration": 211,
    "start_time": "2023-03-10T14:04:39.978Z"
   },
   {
    "duration": 1201,
    "start_time": "2023-03-10T14:05:25.118Z"
   },
   {
    "duration": 0,
    "start_time": "2023-03-10T14:05:26.321Z"
   },
   {
    "duration": 0,
    "start_time": "2023-03-10T14:05:26.322Z"
   },
   {
    "duration": 0,
    "start_time": "2023-03-10T14:05:26.324Z"
   },
   {
    "duration": 0,
    "start_time": "2023-03-10T14:05:26.324Z"
   },
   {
    "duration": 0,
    "start_time": "2023-03-10T14:05:26.325Z"
   },
   {
    "duration": 0,
    "start_time": "2023-03-10T14:05:26.326Z"
   },
   {
    "duration": 0,
    "start_time": "2023-03-10T14:05:26.327Z"
   },
   {
    "duration": 0,
    "start_time": "2023-03-10T14:05:26.328Z"
   },
   {
    "duration": 0,
    "start_time": "2023-03-10T14:05:26.329Z"
   },
   {
    "duration": 0,
    "start_time": "2023-03-10T14:05:26.330Z"
   },
   {
    "duration": 0,
    "start_time": "2023-03-10T14:05:26.330Z"
   },
   {
    "duration": 0,
    "start_time": "2023-03-10T14:05:26.331Z"
   },
   {
    "duration": 0,
    "start_time": "2023-03-10T14:05:26.333Z"
   },
   {
    "duration": 0,
    "start_time": "2023-03-10T14:05:26.355Z"
   },
   {
    "duration": 0,
    "start_time": "2023-03-10T14:05:26.355Z"
   },
   {
    "duration": 0,
    "start_time": "2023-03-10T14:05:26.356Z"
   },
   {
    "duration": 0,
    "start_time": "2023-03-10T14:05:26.357Z"
   },
   {
    "duration": 0,
    "start_time": "2023-03-10T14:05:26.357Z"
   },
   {
    "duration": 0,
    "start_time": "2023-03-10T14:05:26.358Z"
   },
   {
    "duration": 0,
    "start_time": "2023-03-10T14:05:26.359Z"
   },
   {
    "duration": 0,
    "start_time": "2023-03-10T14:05:26.359Z"
   },
   {
    "duration": 0,
    "start_time": "2023-03-10T14:05:26.360Z"
   },
   {
    "duration": 0,
    "start_time": "2023-03-10T14:05:26.361Z"
   },
   {
    "duration": 0,
    "start_time": "2023-03-10T14:05:26.361Z"
   },
   {
    "duration": 0,
    "start_time": "2023-03-10T14:05:26.362Z"
   },
   {
    "duration": 0,
    "start_time": "2023-03-10T14:05:26.363Z"
   },
   {
    "duration": 0,
    "start_time": "2023-03-10T14:05:26.364Z"
   },
   {
    "duration": 0,
    "start_time": "2023-03-10T14:05:26.364Z"
   },
   {
    "duration": 0,
    "start_time": "2023-03-10T14:05:26.365Z"
   },
   {
    "duration": 0,
    "start_time": "2023-03-10T14:05:26.366Z"
   },
   {
    "duration": 0,
    "start_time": "2023-03-10T14:05:26.366Z"
   },
   {
    "duration": 0,
    "start_time": "2023-03-10T14:05:26.367Z"
   },
   {
    "duration": 0,
    "start_time": "2023-03-10T14:05:26.368Z"
   },
   {
    "duration": 0,
    "start_time": "2023-03-10T14:05:26.369Z"
   },
   {
    "duration": 0,
    "start_time": "2023-03-10T14:05:26.369Z"
   },
   {
    "duration": 0,
    "start_time": "2023-03-10T14:05:26.370Z"
   },
   {
    "duration": 0,
    "start_time": "2023-03-10T14:05:26.371Z"
   },
   {
    "duration": 1,
    "start_time": "2023-03-10T14:05:26.371Z"
   },
   {
    "duration": 0,
    "start_time": "2023-03-10T14:05:26.372Z"
   },
   {
    "duration": 0,
    "start_time": "2023-03-10T14:05:26.373Z"
   },
   {
    "duration": 0,
    "start_time": "2023-03-10T14:05:26.374Z"
   },
   {
    "duration": 0,
    "start_time": "2023-03-10T14:05:26.375Z"
   },
   {
    "duration": 0,
    "start_time": "2023-03-10T14:05:26.375Z"
   },
   {
    "duration": 0,
    "start_time": "2023-03-10T14:05:26.377Z"
   },
   {
    "duration": 3,
    "start_time": "2023-03-10T15:13:19.119Z"
   },
   {
    "duration": 1194,
    "start_time": "2023-03-10T15:13:31.142Z"
   },
   {
    "duration": 72,
    "start_time": "2023-03-10T15:13:32.338Z"
   },
   {
    "duration": 11,
    "start_time": "2023-03-10T15:13:32.411Z"
   },
   {
    "duration": 22,
    "start_time": "2023-03-10T15:13:32.424Z"
   },
   {
    "duration": 25,
    "start_time": "2023-03-10T15:13:32.447Z"
   },
   {
    "duration": 28,
    "start_time": "2023-03-10T15:13:32.474Z"
   },
   {
    "duration": 31,
    "start_time": "2023-03-10T15:13:32.503Z"
   },
   {
    "duration": 18,
    "start_time": "2023-03-10T15:13:32.536Z"
   },
   {
    "duration": 22,
    "start_time": "2023-03-10T15:13:32.556Z"
   },
   {
    "duration": 31,
    "start_time": "2023-03-10T15:13:32.581Z"
   },
   {
    "duration": 32,
    "start_time": "2023-03-10T15:13:32.614Z"
   },
   {
    "duration": 12,
    "start_time": "2023-03-10T15:13:32.648Z"
   },
   {
    "duration": 27,
    "start_time": "2023-03-10T15:13:32.662Z"
   },
   {
    "duration": 14,
    "start_time": "2023-03-10T15:13:32.691Z"
   },
   {
    "duration": 35,
    "start_time": "2023-03-10T15:13:32.707Z"
   },
   {
    "duration": 18,
    "start_time": "2023-03-10T15:13:32.743Z"
   },
   {
    "duration": 16,
    "start_time": "2023-03-10T15:13:32.762Z"
   },
   {
    "duration": 24,
    "start_time": "2023-03-10T15:13:32.780Z"
   },
   {
    "duration": 25,
    "start_time": "2023-03-10T15:13:32.806Z"
   },
   {
    "duration": 20,
    "start_time": "2023-03-10T15:13:32.833Z"
   },
   {
    "duration": 315,
    "start_time": "2023-03-10T15:13:32.855Z"
   },
   {
    "duration": 277,
    "start_time": "2023-03-10T15:13:33.171Z"
   },
   {
    "duration": 14,
    "start_time": "2023-03-10T15:13:33.450Z"
   },
   {
    "duration": 43,
    "start_time": "2023-03-10T15:13:33.465Z"
   },
   {
    "duration": 201,
    "start_time": "2023-03-10T15:13:33.509Z"
   },
   {
    "duration": 297,
    "start_time": "2023-03-10T15:13:33.711Z"
   },
   {
    "duration": 227,
    "start_time": "2023-03-10T15:13:34.009Z"
   },
   {
    "duration": 325,
    "start_time": "2023-03-10T15:13:34.239Z"
   },
   {
    "duration": 152,
    "start_time": "2023-03-10T15:13:34.566Z"
   },
   {
    "duration": 5,
    "start_time": "2023-03-10T15:13:34.720Z"
   },
   {
    "duration": 21,
    "start_time": "2023-03-10T15:13:34.726Z"
   },
   {
    "duration": 150,
    "start_time": "2023-03-10T15:13:34.755Z"
   },
   {
    "duration": 239,
    "start_time": "2023-03-10T15:13:34.906Z"
   },
   {
    "duration": 10,
    "start_time": "2023-03-10T15:13:35.146Z"
   },
   {
    "duration": 232,
    "start_time": "2023-03-10T15:13:35.158Z"
   },
   {
    "duration": 294,
    "start_time": "2023-03-10T15:13:35.392Z"
   },
   {
    "duration": 9,
    "start_time": "2023-03-10T15:13:35.688Z"
   },
   {
    "duration": 65,
    "start_time": "2023-03-10T15:13:35.699Z"
   },
   {
    "duration": 58,
    "start_time": "2023-03-10T15:13:35.766Z"
   },
   {
    "duration": 16,
    "start_time": "2023-03-10T15:13:35.826Z"
   },
   {
    "duration": 277,
    "start_time": "2023-03-10T15:13:35.843Z"
   },
   {
    "duration": 6,
    "start_time": "2023-03-10T15:13:36.121Z"
   },
   {
    "duration": 227,
    "start_time": "2023-03-10T15:13:36.129Z"
   },
   {
    "duration": 199,
    "start_time": "2023-03-10T15:13:36.357Z"
   },
   {
    "duration": 244,
    "start_time": "2023-03-10T15:13:36.557Z"
   },
   {
    "duration": 1073,
    "start_time": "2023-03-10T15:14:11.899Z"
   },
   {
    "duration": 72,
    "start_time": "2023-03-10T15:14:12.974Z"
   },
   {
    "duration": 11,
    "start_time": "2023-03-10T15:14:13.048Z"
   },
   {
    "duration": 10,
    "start_time": "2023-03-10T15:14:13.061Z"
   },
   {
    "duration": 8,
    "start_time": "2023-03-10T15:14:13.072Z"
   },
   {
    "duration": 13,
    "start_time": "2023-03-10T15:14:13.082Z"
   },
   {
    "duration": 12,
    "start_time": "2023-03-10T15:14:13.096Z"
   },
   {
    "duration": 4,
    "start_time": "2023-03-10T15:14:13.109Z"
   },
   {
    "duration": 8,
    "start_time": "2023-03-10T15:14:13.156Z"
   },
   {
    "duration": 18,
    "start_time": "2023-03-10T15:14:13.166Z"
   },
   {
    "duration": 11,
    "start_time": "2023-03-10T15:14:13.186Z"
   },
   {
    "duration": 10,
    "start_time": "2023-03-10T15:14:13.199Z"
   },
   {
    "duration": 8,
    "start_time": "2023-03-10T15:14:13.211Z"
   },
   {
    "duration": 4,
    "start_time": "2023-03-10T15:14:13.255Z"
   },
   {
    "duration": 11,
    "start_time": "2023-03-10T15:14:13.260Z"
   },
   {
    "duration": 5,
    "start_time": "2023-03-10T15:14:13.272Z"
   },
   {
    "duration": 11,
    "start_time": "2023-03-10T15:14:13.278Z"
   },
   {
    "duration": 9,
    "start_time": "2023-03-10T15:14:13.290Z"
   },
   {
    "duration": 12,
    "start_time": "2023-03-10T15:14:13.300Z"
   },
   {
    "duration": 12,
    "start_time": "2023-03-10T15:14:13.355Z"
   },
   {
    "duration": 302,
    "start_time": "2023-03-10T15:14:13.369Z"
   },
   {
    "duration": 285,
    "start_time": "2023-03-10T15:14:13.672Z"
   },
   {
    "duration": 15,
    "start_time": "2023-03-10T15:14:13.959Z"
   },
   {
    "duration": 48,
    "start_time": "2023-03-10T15:14:13.975Z"
   },
   {
    "duration": 203,
    "start_time": "2023-03-10T15:14:14.025Z"
   },
   {
    "duration": 340,
    "start_time": "2023-03-10T15:14:14.229Z"
   },
   {
    "duration": 234,
    "start_time": "2023-03-10T15:14:14.571Z"
   },
   {
    "duration": 316,
    "start_time": "2023-03-10T15:14:14.808Z"
   },
   {
    "duration": 148,
    "start_time": "2023-03-10T15:14:15.125Z"
   },
   {
    "duration": 4,
    "start_time": "2023-03-10T15:14:15.275Z"
   },
   {
    "duration": 4,
    "start_time": "2023-03-10T15:14:15.280Z"
   },
   {
    "duration": 196,
    "start_time": "2023-03-10T15:14:15.285Z"
   },
   {
    "duration": 234,
    "start_time": "2023-03-10T15:14:15.483Z"
   },
   {
    "duration": 4,
    "start_time": "2023-03-10T15:14:15.718Z"
   },
   {
    "duration": 233,
    "start_time": "2023-03-10T15:14:15.723Z"
   },
   {
    "duration": 293,
    "start_time": "2023-03-10T15:14:15.957Z"
   },
   {
    "duration": 10,
    "start_time": "2023-03-10T15:14:16.252Z"
   },
   {
    "duration": 8,
    "start_time": "2023-03-10T15:14:16.264Z"
   },
   {
    "duration": 26,
    "start_time": "2023-03-10T15:14:16.273Z"
   },
   {
    "duration": 55,
    "start_time": "2023-03-10T15:14:16.301Z"
   },
   {
    "duration": 277,
    "start_time": "2023-03-10T15:14:16.358Z"
   },
   {
    "duration": 7,
    "start_time": "2023-03-10T15:14:16.637Z"
   },
   {
    "duration": 215,
    "start_time": "2023-03-10T15:14:16.645Z"
   },
   {
    "duration": 227,
    "start_time": "2023-03-10T15:14:16.862Z"
   },
   {
    "duration": 230,
    "start_time": "2023-03-10T15:14:17.091Z"
   },
   {
    "duration": 194,
    "start_time": "2023-03-10T15:19:23.962Z"
   },
   {
    "duration": 206,
    "start_time": "2023-03-10T15:19:42.569Z"
   },
   {
    "duration": 92,
    "start_time": "2023-03-10T15:20:31.142Z"
   },
   {
    "duration": 265,
    "start_time": "2023-03-10T15:21:41.677Z"
   },
   {
    "duration": 7,
    "start_time": "2023-03-10T15:26:52.303Z"
   },
   {
    "duration": 6,
    "start_time": "2023-03-10T15:27:16.148Z"
   },
   {
    "duration": 6,
    "start_time": "2023-03-10T17:28:48.867Z"
   },
   {
    "duration": 5,
    "start_time": "2023-03-10T17:29:04.217Z"
   },
   {
    "duration": 5,
    "start_time": "2023-03-10T17:30:07.121Z"
   },
   {
    "duration": 10,
    "start_time": "2023-03-10T17:33:52.971Z"
   },
   {
    "duration": 11,
    "start_time": "2023-03-10T17:33:59.839Z"
   },
   {
    "duration": 12,
    "start_time": "2023-03-10T17:34:15.761Z"
   },
   {
    "duration": 13,
    "start_time": "2023-03-10T17:36:25.133Z"
   },
   {
    "duration": 248,
    "start_time": "2023-03-10T17:43:02.560Z"
   },
   {
    "duration": 12,
    "start_time": "2023-03-10T17:44:52.856Z"
   },
   {
    "duration": 5,
    "start_time": "2023-03-10T17:49:48.110Z"
   },
   {
    "duration": 167,
    "start_time": "2023-03-10T17:51:10.098Z"
   },
   {
    "duration": 162,
    "start_time": "2023-03-10T17:53:29.112Z"
   },
   {
    "duration": 166,
    "start_time": "2023-03-10T17:53:51.939Z"
   },
   {
    "duration": 176,
    "start_time": "2023-03-10T17:54:10.701Z"
   },
   {
    "duration": 197,
    "start_time": "2023-03-10T17:56:01.600Z"
   },
   {
    "duration": 7,
    "start_time": "2023-03-10T18:00:41.343Z"
   },
   {
    "duration": 1090,
    "start_time": "2023-03-10T18:02:50.290Z"
   },
   {
    "duration": 6,
    "start_time": "2023-03-10T18:03:10.620Z"
   },
   {
    "duration": 1347,
    "start_time": "2023-03-10T21:28:20.231Z"
   },
   {
    "duration": 197,
    "start_time": "2023-03-10T21:28:21.581Z"
   },
   {
    "duration": 14,
    "start_time": "2023-03-10T21:28:21.780Z"
   },
   {
    "duration": 19,
    "start_time": "2023-03-10T21:28:21.796Z"
   },
   {
    "duration": 11,
    "start_time": "2023-03-10T21:28:21.816Z"
   },
   {
    "duration": 11,
    "start_time": "2023-03-10T21:28:21.828Z"
   },
   {
    "duration": 14,
    "start_time": "2023-03-10T21:28:21.842Z"
   },
   {
    "duration": 23,
    "start_time": "2023-03-10T21:28:21.859Z"
   },
   {
    "duration": 23,
    "start_time": "2023-03-10T21:28:21.884Z"
   },
   {
    "duration": 11,
    "start_time": "2023-03-10T21:28:21.910Z"
   },
   {
    "duration": 9,
    "start_time": "2023-03-10T21:28:21.922Z"
   },
   {
    "duration": 6,
    "start_time": "2023-03-10T21:28:21.932Z"
   },
   {
    "duration": 10,
    "start_time": "2023-03-10T21:28:21.939Z"
   },
   {
    "duration": 35,
    "start_time": "2023-03-10T21:28:21.951Z"
   },
   {
    "duration": 34,
    "start_time": "2023-03-10T21:28:21.988Z"
   },
   {
    "duration": 6,
    "start_time": "2023-03-10T21:28:22.024Z"
   },
   {
    "duration": 12,
    "start_time": "2023-03-10T21:28:22.032Z"
   },
   {
    "duration": 7,
    "start_time": "2023-03-10T21:28:22.047Z"
   },
   {
    "duration": 27,
    "start_time": "2023-03-10T21:28:22.055Z"
   },
   {
    "duration": 23,
    "start_time": "2023-03-10T21:28:22.083Z"
   },
   {
    "duration": 16,
    "start_time": "2023-03-10T21:28:22.108Z"
   },
   {
    "duration": 6,
    "start_time": "2023-03-10T21:28:22.126Z"
   },
   {
    "duration": 389,
    "start_time": "2023-03-10T21:28:22.133Z"
   },
   {
    "duration": 8,
    "start_time": "2023-03-10T21:28:22.525Z"
   },
   {
    "duration": 20,
    "start_time": "2023-03-10T21:28:22.535Z"
   },
   {
    "duration": 15,
    "start_time": "2023-03-10T21:28:22.557Z"
   },
   {
    "duration": 387,
    "start_time": "2023-03-10T21:28:22.573Z"
   },
   {
    "duration": 16,
    "start_time": "2023-03-10T21:28:22.963Z"
   },
   {
    "duration": 251,
    "start_time": "2023-03-10T21:28:22.981Z"
   },
   {
    "duration": 22,
    "start_time": "2023-03-10T21:28:23.234Z"
   },
   {
    "duration": 30,
    "start_time": "2023-03-10T21:28:23.258Z"
   },
   {
    "duration": 205,
    "start_time": "2023-03-10T21:28:23.290Z"
   },
   {
    "duration": 375,
    "start_time": "2023-03-10T21:28:23.497Z"
   },
   {
    "duration": 272,
    "start_time": "2023-03-10T21:28:23.879Z"
   },
   {
    "duration": 378,
    "start_time": "2023-03-10T21:28:24.153Z"
   },
   {
    "duration": 258,
    "start_time": "2023-03-10T21:28:24.533Z"
   },
   {
    "duration": 4,
    "start_time": "2023-03-10T21:28:24.793Z"
   },
   {
    "duration": 6,
    "start_time": "2023-03-10T21:28:24.800Z"
   },
   {
    "duration": 193,
    "start_time": "2023-03-10T21:28:24.808Z"
   },
   {
    "duration": 208,
    "start_time": "2023-03-10T21:28:25.003Z"
   },
   {
    "duration": 5,
    "start_time": "2023-03-10T21:28:25.214Z"
   },
   {
    "duration": 327,
    "start_time": "2023-03-10T21:28:25.221Z"
   },
   {
    "duration": 0,
    "start_time": "2023-03-10T21:28:25.550Z"
   },
   {
    "duration": 0,
    "start_time": "2023-03-10T21:28:25.551Z"
   },
   {
    "duration": 0,
    "start_time": "2023-03-10T21:28:25.552Z"
   },
   {
    "duration": 0,
    "start_time": "2023-03-10T21:28:25.553Z"
   },
   {
    "duration": 0,
    "start_time": "2023-03-10T21:28:25.555Z"
   },
   {
    "duration": 0,
    "start_time": "2023-03-10T21:28:25.556Z"
   },
   {
    "duration": 0,
    "start_time": "2023-03-10T21:28:25.558Z"
   },
   {
    "duration": 0,
    "start_time": "2023-03-10T21:28:25.559Z"
   },
   {
    "duration": 0,
    "start_time": "2023-03-10T21:28:25.560Z"
   },
   {
    "duration": 148,
    "start_time": "2023-03-10T21:29:06.595Z"
   },
   {
    "duration": 9,
    "start_time": "2023-03-10T21:29:59.643Z"
   },
   {
    "duration": 144,
    "start_time": "2023-03-10T21:30:17.317Z"
   },
   {
    "duration": 1189,
    "start_time": "2023-03-10T21:30:44.998Z"
   },
   {
    "duration": 91,
    "start_time": "2023-03-10T21:30:46.188Z"
   },
   {
    "duration": 19,
    "start_time": "2023-03-10T21:30:46.281Z"
   },
   {
    "duration": 23,
    "start_time": "2023-03-10T21:30:46.302Z"
   },
   {
    "duration": 15,
    "start_time": "2023-03-10T21:30:46.327Z"
   },
   {
    "duration": 18,
    "start_time": "2023-03-10T21:30:46.344Z"
   },
   {
    "duration": 20,
    "start_time": "2023-03-10T21:30:46.364Z"
   },
   {
    "duration": 22,
    "start_time": "2023-03-10T21:30:46.386Z"
   },
   {
    "duration": 7,
    "start_time": "2023-03-10T21:30:46.410Z"
   },
   {
    "duration": 9,
    "start_time": "2023-03-10T21:30:46.420Z"
   },
   {
    "duration": 7,
    "start_time": "2023-03-10T21:30:46.431Z"
   },
   {
    "duration": 4,
    "start_time": "2023-03-10T21:30:46.440Z"
   },
   {
    "duration": 7,
    "start_time": "2023-03-10T21:30:46.446Z"
   },
   {
    "duration": 34,
    "start_time": "2023-03-10T21:30:46.455Z"
   },
   {
    "duration": 15,
    "start_time": "2023-03-10T21:30:46.493Z"
   },
   {
    "duration": 8,
    "start_time": "2023-03-10T21:30:46.510Z"
   },
   {
    "duration": 11,
    "start_time": "2023-03-10T21:30:46.519Z"
   },
   {
    "duration": 6,
    "start_time": "2023-03-10T21:30:46.531Z"
   },
   {
    "duration": 7,
    "start_time": "2023-03-10T21:30:46.538Z"
   },
   {
    "duration": 5,
    "start_time": "2023-03-10T21:30:46.547Z"
   },
   {
    "duration": 32,
    "start_time": "2023-03-10T21:30:46.554Z"
   },
   {
    "duration": 7,
    "start_time": "2023-03-10T21:30:46.587Z"
   },
   {
    "duration": 342,
    "start_time": "2023-03-10T21:30:46.596Z"
   },
   {
    "duration": 8,
    "start_time": "2023-03-10T21:30:46.940Z"
   },
   {
    "duration": 25,
    "start_time": "2023-03-10T21:30:46.950Z"
   },
   {
    "duration": 15,
    "start_time": "2023-03-10T21:30:46.976Z"
   },
   {
    "duration": 321,
    "start_time": "2023-03-10T21:30:46.992Z"
   },
   {
    "duration": 11,
    "start_time": "2023-03-10T21:30:47.315Z"
   },
   {
    "duration": 209,
    "start_time": "2023-03-10T21:30:47.327Z"
   },
   {
    "duration": 14,
    "start_time": "2023-03-10T21:30:47.537Z"
   },
   {
    "duration": 32,
    "start_time": "2023-03-10T21:30:47.553Z"
   },
   {
    "duration": 318,
    "start_time": "2023-03-10T21:30:47.588Z"
   },
   {
    "duration": 294,
    "start_time": "2023-03-10T21:30:47.907Z"
   },
   {
    "duration": 220,
    "start_time": "2023-03-10T21:30:48.202Z"
   },
   {
    "duration": 277,
    "start_time": "2023-03-10T21:30:48.423Z"
   },
   {
    "duration": 210,
    "start_time": "2023-03-10T21:30:48.702Z"
   },
   {
    "duration": 4,
    "start_time": "2023-03-10T21:30:48.913Z"
   },
   {
    "duration": 10,
    "start_time": "2023-03-10T21:30:48.919Z"
   },
   {
    "duration": 174,
    "start_time": "2023-03-10T21:30:48.931Z"
   },
   {
    "duration": 159,
    "start_time": "2023-03-10T21:30:49.107Z"
   },
   {
    "duration": 3,
    "start_time": "2023-03-10T21:30:49.269Z"
   },
   {
    "duration": 260,
    "start_time": "2023-03-10T21:30:49.280Z"
   },
   {
    "duration": 0,
    "start_time": "2023-03-10T21:30:49.541Z"
   },
   {
    "duration": 0,
    "start_time": "2023-03-10T21:30:49.542Z"
   },
   {
    "duration": 0,
    "start_time": "2023-03-10T21:30:49.543Z"
   },
   {
    "duration": 0,
    "start_time": "2023-03-10T21:30:49.545Z"
   },
   {
    "duration": 0,
    "start_time": "2023-03-10T21:30:49.546Z"
   },
   {
    "duration": 0,
    "start_time": "2023-03-10T21:30:49.547Z"
   },
   {
    "duration": 0,
    "start_time": "2023-03-10T21:30:49.548Z"
   },
   {
    "duration": 0,
    "start_time": "2023-03-10T21:30:49.549Z"
   },
   {
    "duration": 0,
    "start_time": "2023-03-10T21:30:49.550Z"
   },
   {
    "duration": 166,
    "start_time": "2023-03-10T21:32:58.259Z"
   },
   {
    "duration": 9,
    "start_time": "2023-03-10T21:34:07.042Z"
   },
   {
    "duration": 11,
    "start_time": "2023-03-10T21:34:14.247Z"
   },
   {
    "duration": 296,
    "start_time": "2023-03-10T21:34:24.592Z"
   },
   {
    "duration": 1498,
    "start_time": "2023-03-11T17:31:46.050Z"
   },
   {
    "duration": 297,
    "start_time": "2023-03-11T17:31:47.550Z"
   },
   {
    "duration": 13,
    "start_time": "2023-03-11T17:31:47.849Z"
   },
   {
    "duration": 11,
    "start_time": "2023-03-11T17:31:47.864Z"
   },
   {
    "duration": 19,
    "start_time": "2023-03-11T17:31:47.877Z"
   },
   {
    "duration": 26,
    "start_time": "2023-03-11T17:31:47.897Z"
   },
   {
    "duration": 24,
    "start_time": "2023-03-11T17:31:47.925Z"
   },
   {
    "duration": 8,
    "start_time": "2023-03-11T17:31:47.950Z"
   },
   {
    "duration": 7,
    "start_time": "2023-03-11T17:31:47.960Z"
   },
   {
    "duration": 16,
    "start_time": "2023-03-11T17:31:47.970Z"
   },
   {
    "duration": 9,
    "start_time": "2023-03-11T17:31:47.988Z"
   },
   {
    "duration": 6,
    "start_time": "2023-03-11T17:31:48.018Z"
   },
   {
    "duration": 9,
    "start_time": "2023-03-11T17:31:48.026Z"
   },
   {
    "duration": 8,
    "start_time": "2023-03-11T17:31:48.037Z"
   },
   {
    "duration": 13,
    "start_time": "2023-03-11T17:31:48.047Z"
   },
   {
    "duration": 6,
    "start_time": "2023-03-11T17:31:48.062Z"
   },
   {
    "duration": 18,
    "start_time": "2023-03-11T17:31:48.070Z"
   },
   {
    "duration": 7,
    "start_time": "2023-03-11T17:31:48.118Z"
   },
   {
    "duration": 11,
    "start_time": "2023-03-11T17:31:48.127Z"
   },
   {
    "duration": 8,
    "start_time": "2023-03-11T17:31:48.139Z"
   },
   {
    "duration": 22,
    "start_time": "2023-03-11T17:31:48.148Z"
   },
   {
    "duration": 8,
    "start_time": "2023-03-11T17:31:48.172Z"
   },
   {
    "duration": 434,
    "start_time": "2023-03-11T17:31:48.215Z"
   },
   {
    "duration": 8,
    "start_time": "2023-03-11T17:31:48.651Z"
   },
   {
    "duration": 13,
    "start_time": "2023-03-11T17:31:48.661Z"
   },
   {
    "duration": 13,
    "start_time": "2023-03-11T17:31:48.675Z"
   },
   {
    "duration": 459,
    "start_time": "2023-03-11T17:31:48.690Z"
   },
   {
    "duration": 10,
    "start_time": "2023-03-11T17:31:49.154Z"
   },
   {
    "duration": 228,
    "start_time": "2023-03-11T17:31:49.165Z"
   },
   {
    "duration": 28,
    "start_time": "2023-03-11T17:31:49.394Z"
   },
   {
    "duration": 22,
    "start_time": "2023-03-11T17:31:49.424Z"
   },
   {
    "duration": 250,
    "start_time": "2023-03-11T17:31:49.448Z"
   },
   {
    "duration": 422,
    "start_time": "2023-03-11T17:31:49.700Z"
   },
   {
    "duration": 264,
    "start_time": "2023-03-11T17:31:50.123Z"
   },
   {
    "duration": 375,
    "start_time": "2023-03-11T17:31:50.389Z"
   },
   {
    "duration": 279,
    "start_time": "2023-03-11T17:31:50.766Z"
   },
   {
    "duration": 9,
    "start_time": "2023-03-11T17:31:51.050Z"
   },
   {
    "duration": 4,
    "start_time": "2023-03-11T17:31:51.062Z"
   },
   {
    "duration": 184,
    "start_time": "2023-03-11T17:31:51.068Z"
   },
   {
    "duration": 200,
    "start_time": "2023-03-11T17:31:51.255Z"
   },
   {
    "duration": 5,
    "start_time": "2023-03-11T17:31:51.457Z"
   },
   {
    "duration": 326,
    "start_time": "2023-03-11T17:31:51.464Z"
   },
   {
    "duration": 0,
    "start_time": "2023-03-11T17:31:51.793Z"
   },
   {
    "duration": 0,
    "start_time": "2023-03-11T17:31:51.794Z"
   },
   {
    "duration": 0,
    "start_time": "2023-03-11T17:31:51.796Z"
   },
   {
    "duration": 0,
    "start_time": "2023-03-11T17:31:51.797Z"
   },
   {
    "duration": 1,
    "start_time": "2023-03-11T17:31:51.799Z"
   },
   {
    "duration": 0,
    "start_time": "2023-03-11T17:31:51.801Z"
   },
   {
    "duration": 0,
    "start_time": "2023-03-11T17:31:51.812Z"
   },
   {
    "duration": 0,
    "start_time": "2023-03-11T17:31:51.814Z"
   },
   {
    "duration": 0,
    "start_time": "2023-03-11T17:31:51.815Z"
   },
   {
    "duration": 10,
    "start_time": "2023-03-11T17:47:50.584Z"
   },
   {
    "duration": 124,
    "start_time": "2023-03-11T17:49:56.047Z"
   },
   {
    "duration": 162,
    "start_time": "2023-03-11T17:51:44.801Z"
   },
   {
    "duration": 589,
    "start_time": "2023-03-11T17:54:16.639Z"
   },
   {
    "duration": 44,
    "start_time": "2023-03-11T17:55:17.395Z"
   },
   {
    "duration": 1289,
    "start_time": "2023-03-11T17:55:59.189Z"
   },
   {
    "duration": 87,
    "start_time": "2023-03-11T17:56:00.480Z"
   },
   {
    "duration": 12,
    "start_time": "2023-03-11T17:56:00.568Z"
   },
   {
    "duration": 34,
    "start_time": "2023-03-11T17:56:00.582Z"
   },
   {
    "duration": 37,
    "start_time": "2023-03-11T17:56:00.622Z"
   },
   {
    "duration": 38,
    "start_time": "2023-03-11T17:56:00.661Z"
   },
   {
    "duration": 41,
    "start_time": "2023-03-11T17:56:00.700Z"
   },
   {
    "duration": 35,
    "start_time": "2023-03-11T17:56:00.743Z"
   },
   {
    "duration": 42,
    "start_time": "2023-03-11T17:56:00.781Z"
   },
   {
    "duration": 35,
    "start_time": "2023-03-11T17:56:00.826Z"
   },
   {
    "duration": 34,
    "start_time": "2023-03-11T17:56:00.862Z"
   },
   {
    "duration": 41,
    "start_time": "2023-03-11T17:56:00.898Z"
   },
   {
    "duration": 28,
    "start_time": "2023-03-11T17:56:00.940Z"
   },
   {
    "duration": 30,
    "start_time": "2023-03-11T17:56:00.970Z"
   },
   {
    "duration": 31,
    "start_time": "2023-03-11T17:56:01.001Z"
   },
   {
    "duration": 18,
    "start_time": "2023-03-11T17:56:01.036Z"
   },
   {
    "duration": 32,
    "start_time": "2023-03-11T17:56:01.056Z"
   },
   {
    "duration": 16,
    "start_time": "2023-03-11T17:56:01.090Z"
   },
   {
    "duration": 37,
    "start_time": "2023-03-11T17:56:01.108Z"
   },
   {
    "duration": 12,
    "start_time": "2023-03-11T17:56:01.147Z"
   },
   {
    "duration": 36,
    "start_time": "2023-03-11T17:56:01.161Z"
   },
   {
    "duration": 11,
    "start_time": "2023-03-11T17:56:01.199Z"
   },
   {
    "duration": 412,
    "start_time": "2023-03-11T17:56:01.212Z"
   },
   {
    "duration": 20,
    "start_time": "2023-03-11T17:56:01.626Z"
   },
   {
    "duration": 18,
    "start_time": "2023-03-11T17:56:01.648Z"
   },
   {
    "duration": 19,
    "start_time": "2023-03-11T17:56:01.669Z"
   },
   {
    "duration": 369,
    "start_time": "2023-03-11T17:56:01.690Z"
   },
   {
    "duration": 8,
    "start_time": "2023-03-11T17:56:02.062Z"
   },
   {
    "duration": 248,
    "start_time": "2023-03-11T17:56:02.072Z"
   },
   {
    "duration": 29,
    "start_time": "2023-03-11T17:56:02.322Z"
   },
   {
    "duration": 10,
    "start_time": "2023-03-11T17:56:02.353Z"
   },
   {
    "duration": 254,
    "start_time": "2023-03-11T17:56:02.365Z"
   },
   {
    "duration": 378,
    "start_time": "2023-03-11T17:56:02.621Z"
   },
   {
    "duration": 271,
    "start_time": "2023-03-11T17:56:03.001Z"
   },
   {
    "duration": 369,
    "start_time": "2023-03-11T17:56:03.273Z"
   },
   {
    "duration": 261,
    "start_time": "2023-03-11T17:56:03.645Z"
   },
   {
    "duration": 14,
    "start_time": "2023-03-11T17:56:03.907Z"
   },
   {
    "duration": 21,
    "start_time": "2023-03-11T17:56:03.923Z"
   },
   {
    "duration": 199,
    "start_time": "2023-03-11T17:56:03.945Z"
   },
   {
    "duration": 242,
    "start_time": "2023-03-11T17:56:04.147Z"
   },
   {
    "duration": 6,
    "start_time": "2023-03-11T17:56:04.391Z"
   },
   {
    "duration": 149,
    "start_time": "2023-03-11T17:56:04.399Z"
   },
   {
    "duration": 1,
    "start_time": "2023-03-11T17:56:04.550Z"
   },
   {
    "duration": 0,
    "start_time": "2023-03-11T17:56:04.552Z"
   },
   {
    "duration": 0,
    "start_time": "2023-03-11T17:56:04.553Z"
   },
   {
    "duration": 0,
    "start_time": "2023-03-11T17:56:04.554Z"
   },
   {
    "duration": 0,
    "start_time": "2023-03-11T17:56:04.555Z"
   },
   {
    "duration": 0,
    "start_time": "2023-03-11T17:56:04.558Z"
   },
   {
    "duration": 0,
    "start_time": "2023-03-11T17:56:04.559Z"
   },
   {
    "duration": 0,
    "start_time": "2023-03-11T17:56:04.560Z"
   },
   {
    "duration": 0,
    "start_time": "2023-03-11T17:56:04.569Z"
   },
   {
    "duration": 683,
    "start_time": "2023-03-11T17:56:23.788Z"
   },
   {
    "duration": 1366,
    "start_time": "2023-03-11T17:56:35.083Z"
   },
   {
    "duration": 114,
    "start_time": "2023-03-11T17:56:36.454Z"
   },
   {
    "duration": 13,
    "start_time": "2023-03-11T17:56:36.569Z"
   },
   {
    "duration": 12,
    "start_time": "2023-03-11T17:56:36.584Z"
   },
   {
    "duration": 9,
    "start_time": "2023-03-11T17:56:36.598Z"
   },
   {
    "duration": 25,
    "start_time": "2023-03-11T17:56:36.609Z"
   },
   {
    "duration": 17,
    "start_time": "2023-03-11T17:56:36.635Z"
   },
   {
    "duration": 5,
    "start_time": "2023-03-11T17:56:36.653Z"
   },
   {
    "duration": 9,
    "start_time": "2023-03-11T17:56:36.659Z"
   },
   {
    "duration": 11,
    "start_time": "2023-03-11T17:56:36.671Z"
   },
   {
    "duration": 10,
    "start_time": "2023-03-11T17:56:36.684Z"
   },
   {
    "duration": 24,
    "start_time": "2023-03-11T17:56:36.695Z"
   },
   {
    "duration": 9,
    "start_time": "2023-03-11T17:56:36.724Z"
   },
   {
    "duration": 10,
    "start_time": "2023-03-11T17:56:36.735Z"
   },
   {
    "duration": 15,
    "start_time": "2023-03-11T17:56:36.747Z"
   },
   {
    "duration": 5,
    "start_time": "2023-03-11T17:56:36.764Z"
   },
   {
    "duration": 47,
    "start_time": "2023-03-11T17:56:36.771Z"
   },
   {
    "duration": 9,
    "start_time": "2023-03-11T17:56:36.820Z"
   },
   {
    "duration": 12,
    "start_time": "2023-03-11T17:56:36.831Z"
   },
   {
    "duration": 11,
    "start_time": "2023-03-11T17:56:36.845Z"
   },
   {
    "duration": 17,
    "start_time": "2023-03-11T17:56:36.858Z"
   },
   {
    "duration": 6,
    "start_time": "2023-03-11T17:56:36.876Z"
   },
   {
    "duration": 389,
    "start_time": "2023-03-11T17:56:36.884Z"
   },
   {
    "duration": 12,
    "start_time": "2023-03-11T17:56:37.275Z"
   },
   {
    "duration": 17,
    "start_time": "2023-03-11T17:56:37.289Z"
   },
   {
    "duration": 17,
    "start_time": "2023-03-11T17:56:37.308Z"
   },
   {
    "duration": 381,
    "start_time": "2023-03-11T17:56:37.327Z"
   },
   {
    "duration": 11,
    "start_time": "2023-03-11T17:56:37.711Z"
   },
   {
    "duration": 273,
    "start_time": "2023-03-11T17:56:37.724Z"
   },
   {
    "duration": 33,
    "start_time": "2023-03-11T17:56:37.999Z"
   },
   {
    "duration": 17,
    "start_time": "2023-03-11T17:56:38.034Z"
   },
   {
    "duration": 273,
    "start_time": "2023-03-11T17:56:38.053Z"
   },
   {
    "duration": 392,
    "start_time": "2023-03-11T17:56:38.329Z"
   },
   {
    "duration": 272,
    "start_time": "2023-03-11T17:56:38.723Z"
   },
   {
    "duration": 368,
    "start_time": "2023-03-11T17:56:38.997Z"
   },
   {
    "duration": 299,
    "start_time": "2023-03-11T17:56:39.367Z"
   },
   {
    "duration": 5,
    "start_time": "2023-03-11T17:56:39.668Z"
   },
   {
    "duration": 9,
    "start_time": "2023-03-11T17:56:39.675Z"
   },
   {
    "duration": 224,
    "start_time": "2023-03-11T17:56:39.686Z"
   },
   {
    "duration": 199,
    "start_time": "2023-03-11T17:56:39.912Z"
   },
   {
    "duration": 11,
    "start_time": "2023-03-11T17:56:40.117Z"
   },
   {
    "duration": 629,
    "start_time": "2023-03-11T17:56:40.130Z"
   },
   {
    "duration": 14,
    "start_time": "2023-03-11T17:56:40.761Z"
   },
   {
    "duration": 11,
    "start_time": "2023-03-11T17:56:40.777Z"
   },
   {
    "duration": 63,
    "start_time": "2023-03-11T17:56:40.790Z"
   },
   {
    "duration": 18,
    "start_time": "2023-03-11T17:56:40.856Z"
   },
   {
    "duration": 351,
    "start_time": "2023-03-11T17:56:40.877Z"
   },
   {
    "duration": 7,
    "start_time": "2023-03-11T17:56:41.230Z"
   },
   {
    "duration": 259,
    "start_time": "2023-03-11T17:56:41.239Z"
   },
   {
    "duration": 267,
    "start_time": "2023-03-11T17:56:41.500Z"
   },
   {
    "duration": 273,
    "start_time": "2023-03-11T17:56:41.769Z"
   }
  ],
  "kernelspec": {
   "display_name": "Python 3 (ipykernel)",
   "language": "python",
   "name": "python3"
  },
  "language_info": {
   "codemirror_mode": {
    "name": "ipython",
    "version": 3
   },
   "file_extension": ".py",
   "mimetype": "text/x-python",
   "name": "python",
   "nbconvert_exporter": "python",
   "pygments_lexer": "ipython3",
   "version": "3.9.5"
  },
  "toc": {
   "base_numbering": 1,
   "nav_menu": {},
   "number_sections": false,
   "sideBar": true,
   "skip_h1_title": true,
   "title_cell": "Table of Contents",
   "title_sidebar": "Contents",
   "toc_cell": false,
   "toc_position": {
    "height": "calc(100% - 180px)",
    "left": "10px",
    "top": "150px",
    "width": "165px"
   },
   "toc_section_display": true,
   "toc_window_display": true
  }
 },
 "nbformat": 4,
 "nbformat_minor": 2
}
